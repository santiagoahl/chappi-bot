{
 "cells": [
  {
   "cell_type": "markdown",
   "id": "bf9121e7",
   "metadata": {},
   "source": [
    "In this Notebook we create and sketch tools for the Agent. Building proofs of concept (PoC)"
   ]
  },
  {
   "cell_type": "markdown",
   "id": "c29d8861",
   "metadata": {},
   "source": [
    "### Setup"
   ]
  },
  {
   "cell_type": "code",
   "execution_count": 1,
   "id": "94d01490",
   "metadata": {},
   "outputs": [],
   "source": [
    "# Libraries\n",
    "\n",
    "import os"
   ]
  },
  {
   "cell_type": "code",
   "execution_count": 2,
   "id": "f09b59ab",
   "metadata": {},
   "outputs": [],
   "source": [
    "# Local Modules\n"
   ]
  },
  {
   "cell_type": "code",
   "execution_count": 3,
   "id": "f32d7959",
   "metadata": {},
   "outputs": [],
   "source": [
    "# import Whisper\n",
    "\n",
    "import whisper"
   ]
  },
  {
   "cell_type": "code",
   "execution_count": 4,
   "id": "5e131840",
   "metadata": {},
   "outputs": [
    {
     "name": "stderr",
     "output_type": "stream",
     "text": [
      "Langfuse client is disabled since no public_key was provided as a parameter or environment variable 'LANGFUSE_PUBLIC_KEY'. See our docs: https://langfuse.com/docs/sdk/python/low-level-sdk#initialize-client\n"
     ]
    }
   ],
   "source": [
    "# Import Agent\n",
    "\n",
    "os.sys.path.append(\"../src\")\n",
    "os.sys.path.append(\"../src/agents\")\n",
    "\n",
    "import react  # My AI assistant"
   ]
  },
  {
   "cell_type": "code",
   "execution_count": 5,
   "id": "248cf6d4",
   "metadata": {},
   "outputs": [],
   "source": [
    "os.sys.path.append(\"../src/utils\")\n",
    "\n",
    "from gaia_eval import get_agent_response, evaluate_response"
   ]
  },
  {
   "cell_type": "code",
   "execution_count": 6,
   "id": "3ca7a88a",
   "metadata": {},
   "outputs": [
    {
     "name": "stderr",
     "output_type": "stream",
     "text": [
      "/home/santiagoal/.cache/pypoetry/virtualenvs/chappie-CHLGiFC_-py3.12/lib/python3.12/site-packages/tqdm/auto.py:21: TqdmWarning: IProgress not found. Please update jupyter and ipywidgets. See https://ipywidgets.readthedocs.io/en/stable/user_install.html\n",
      "  from .autonotebook import tqdm as notebook_tqdm\n"
     ]
    }
   ],
   "source": [
    "\n",
    "# Import GAIA Questions\n",
    "from datasets import load_dataset\n"
   ]
  },
  {
   "cell_type": "code",
   "execution_count": 7,
   "id": "a46c1c67",
   "metadata": {},
   "outputs": [],
   "source": [
    "\n",
    "import pandas as pd\n"
   ]
  },
  {
   "cell_type": "code",
   "execution_count": 8,
   "id": "5a5cf241",
   "metadata": {},
   "outputs": [],
   "source": [
    "from dotenv import load_dotenv\n",
    "from huggingface_hub import snapshot_download, login"
   ]
  },
  {
   "cell_type": "code",
   "execution_count": 9,
   "id": "64a3d4d1",
   "metadata": {},
   "outputs": [],
   "source": [
    "# Load Hugging face credentials\n",
    "\n",
    "load_dotenv()\n",
    "login(os.getenv(key=\"HF_TOKEN_CHAPPIE\"))  # Replace with your hf api key name\n"
   ]
  },
  {
   "cell_type": "code",
   "execution_count": 10,
   "id": "fda05cb1",
   "metadata": {},
   "outputs": [
    {
     "name": "stderr",
     "output_type": "stream",
     "text": [
      "Fetching 114 files: 100%|██████████| 114/114 [00:00<00:00, 1695.34it/s]\n"
     ]
    }
   ],
   "source": [
    "gaia_questions_path = snapshot_download(repo_id=\"gaia-benchmark/GAIA\", repo_type=\"dataset\")\n",
    "gaia_questions = load_dataset(path=\"gaia-benchmark/GAIA\", name=\"2023_level1\")"
   ]
  },
  {
   "cell_type": "code",
   "execution_count": 11,
   "id": "fe9a5e51",
   "metadata": {},
   "outputs": [],
   "source": [
    "\n",
    "gaia_questions = gaia_questions[\"validation\"]  # Filter for dev purposes\n",
    "gaia_df = pd.DataFrame(gaia_questions)"
   ]
  },
  {
   "cell_type": "code",
   "execution_count": 12,
   "id": "30c08c4d",
   "metadata": {},
   "outputs": [
    {
     "data": {
      "application/vnd.microsoft.datawrangler.viewer.v0+json": {
       "columns": [
        {
         "name": "index",
         "rawType": "int64",
         "type": "integer"
        },
        {
         "name": "task_id",
         "rawType": "object",
         "type": "string"
        },
        {
         "name": "Question",
         "rawType": "object",
         "type": "string"
        },
        {
         "name": "Level",
         "rawType": "object",
         "type": "string"
        },
        {
         "name": "Final answer",
         "rawType": "object",
         "type": "string"
        },
        {
         "name": "file_name",
         "rawType": "object",
         "type": "string"
        },
        {
         "name": "file_path",
         "rawType": "object",
         "type": "string"
        },
        {
         "name": "Annotator Metadata",
         "rawType": "object",
         "type": "unknown"
        }
       ],
       "ref": "6ce58559-1e0e-4ca3-a418-262b95b700c7",
       "rows": [
        [
         "0",
         "e1fc63a2-da7a-432f-be78-7c4a95598703",
         "If Eliud Kipchoge could maintain his record-making marathon pace indefinitely, how many thousand hours would it take him to run the distance between the Earth and the Moon its closest approach? Please use the minimum perigee value on the Wikipedia page for the Moon when carrying out your calculation. Round your result to the nearest 1000 hours and do not use any comma separators if necessary.",
         "1",
         "17",
         "",
         "",
         "{'Steps': '1. Googled Eliud Kipchoge marathon pace to find 4min 37sec/mile\\n2. Converted into fractions of hours.\\n3. Found moon periapsis in miles (225,623 miles).\\n4. Multiplied the two to find the number of hours and rounded to the nearest 100 hours.', 'Number of steps': '4', 'How long did this take?': '20 Minutes', 'Tools': '1. A web browser.\\n2. A search engine.\\n3. A calculator.', 'Number of tools': '3'}"
        ],
        [
         "1",
         "8e867cd7-cff9-4e6c-867a-ff5ddc2550be",
         "How many studio albums were published by Mercedes Sosa between 2000 and 2009 (included)? You can use the latest 2022 version of english wikipedia.",
         "1",
         "3",
         "",
         "",
         "{'Steps': '1. I did a search for Mercedes Sosa\\n2. I went to the Wikipedia page for her\\n3. I scrolled down to \"Studio albums\"\\n4. I counted the ones between 2000 and 2009', 'Number of steps': '4', 'How long did this take?': '5 minutes', 'Tools': '1. web browser\\n2. google search', 'Number of tools': '2'}"
        ],
        [
         "2",
         "ec09fa32-d03f-4bf8-84b0-1f16922c3ae4",
         "Here's a fun riddle that I think you'll enjoy.\n\nYou have been selected to play the final round of the hit new game show \"Pick That Ping-Pong\". In this round, you will be competing for a large cash prize. Your job will be to pick one of several different numbered ping-pong balls, and then the game will commence. The host describes how the game works.\n\nA device consisting of a winding clear ramp and a series of pistons controls the outcome of the game. The ramp feeds balls onto a platform. The platform has room for three ping-pong balls at a time. The three balls on the platform are each aligned with one of three pistons. At each stage of the game, one of the three pistons will randomly fire, ejecting the ball it strikes. If the piston ejects the ball in the first position on the platform the balls in the second and third position on the platform each advance one space, and the next ball on the ramp advances to the third position. If the piston ejects the ball in the second position, the ball in the first position is released and rolls away, the ball in the third position advances two spaces to occupy the first position, and the next two balls on the ramp advance to occupy the second and third positions on the platform. If the piston ejects the ball in the third position, the ball in the first position is released and rolls away, the ball in the second position advances one space to occupy the first position, and the next two balls on the ramp advance to occupy the second and third positions on the platform.\n\nThe ramp begins with 100 numbered ping-pong balls, arranged in ascending order from 1 to 100. The host activates the machine and the first three balls, numbered 1, 2, and 3, advance to the platform. Before the random firing of the pistons begins, you are asked which of the 100 balls you would like to pick. If your pick is ejected by one of the pistons, you win the grand prize, $10,000.\n\nWhich ball should you choose to maximize your odds of winning the big prize? Please provide your answer as the number of the ball selected.",
         "1",
         "3",
         "",
         "",
         "{'Steps': 'Step 1: Evaluate the problem statement provided in my user\\'s prompt\\nStep 2: Consider the probability of any ball on the platform earning the prize.\\nStep 3: Evaluate the ball in position one. The probability of it earning the prize, P1, is 1/3\\nStep 4: Using a calculator, evaluate the ball in position two. The probability of it earning the prize, P2, is the difference between 1 and the product of the complementary probabilities for each trial\\nP2 = 1 - (2/3)(2/3)\\nP2 = 5/9\\nStep 5: Using a calculator, evaluate the ball in position three. The probability of it earning the prize, P3, is the difference between 1 and the product of the complementary probabilities for each trial\\nP3 = 1 - (2/3)(2/3)(2/3)\\nP3 = 19/27\\nStep 6: Consider the possible outcomes of numbers higher than 3.\\nStep 7: For each trial, either 1 or 2 balls from the ramp will advance to the platform. For any given selection, there is a 50% chance that the ball advances to position 2 or position 3.\\nStep 8: As position three holds the highest chance of earning the prize, select the only ball known to occupy position three with certainty, ball 3.\\nStep 9: Report the correct answer to my user, \"3\"', 'Number of steps': '9', 'How long did this take?': '1 minute', 'Tools': 'None', 'Number of tools': '0'}"
        ],
        [
         "3",
         "5d0080cb-90d7-4712-bc33-848150e917d3",
         "What was the volume in m^3 of the fish bag that was calculated in the University of Leicester paper \"Can Hiccup Supply Enough Fish to Maintain a Dragon’s Diet?\"",
         "1",
         "0.1777",
         "",
         "",
         "{'Steps': '1. Searched \\'\"Can Hiccup Supply Enough Fish to Maintain a Dragon’s Diet?\"\\' on Google.\\n2. Opened \"Can Hiccup Supply Enough Fish to Maintain a Dragon’s Diet?\" at https://journals.le.ac.uk/ojs1/index.php/jist/article/view/733.\\n3. Clicked \"PDF\".\\n4. Found the calculations for the volume of the fish bag and noted them.', 'Number of steps': '4', 'How long did this take?': '5 minutes', 'Tools': '1. Web browser\\n2. Search engine\\n3. PDF access', 'Number of tools': '3'}"
        ],
        [
         "4",
         "a1e91b78-d3d8-4675-bb8d-62741b4b68a6",
         "In the video https://www.youtube.com/watch?v=L1vXCYZAYYM, what is the highest number of bird species to be on camera simultaneously?",
         "1",
         "3",
         "",
         "",
         "{'Steps': '1. Navigate to the YouTube link.\\n2. Watch the video to see the highest number of bird species.\\n3. Note the number.', 'Number of steps': '3', 'How long did this take?': '3 minutes', 'Tools': '1. Web browser\\n2. Video parsing', 'Number of tools': '2'}"
        ]
       ],
       "shape": {
        "columns": 7,
        "rows": 5
       }
      },
      "text/html": [
       "<div>\n",
       "<style scoped>\n",
       "    .dataframe tbody tr th:only-of-type {\n",
       "        vertical-align: middle;\n",
       "    }\n",
       "\n",
       "    .dataframe tbody tr th {\n",
       "        vertical-align: top;\n",
       "    }\n",
       "\n",
       "    .dataframe thead th {\n",
       "        text-align: right;\n",
       "    }\n",
       "</style>\n",
       "<table border=\"1\" class=\"dataframe\">\n",
       "  <thead>\n",
       "    <tr style=\"text-align: right;\">\n",
       "      <th></th>\n",
       "      <th>task_id</th>\n",
       "      <th>Question</th>\n",
       "      <th>Level</th>\n",
       "      <th>Final answer</th>\n",
       "      <th>file_name</th>\n",
       "      <th>file_path</th>\n",
       "      <th>Annotator Metadata</th>\n",
       "    </tr>\n",
       "  </thead>\n",
       "  <tbody>\n",
       "    <tr>\n",
       "      <th>0</th>\n",
       "      <td>e1fc63a2-da7a-432f-be78-7c4a95598703</td>\n",
       "      <td>If Eliud Kipchoge could maintain his record-ma...</td>\n",
       "      <td>1</td>\n",
       "      <td>17</td>\n",
       "      <td></td>\n",
       "      <td></td>\n",
       "      <td>{'Steps': '1. Googled Eliud Kipchoge marathon ...</td>\n",
       "    </tr>\n",
       "    <tr>\n",
       "      <th>1</th>\n",
       "      <td>8e867cd7-cff9-4e6c-867a-ff5ddc2550be</td>\n",
       "      <td>How many studio albums were published by Merce...</td>\n",
       "      <td>1</td>\n",
       "      <td>3</td>\n",
       "      <td></td>\n",
       "      <td></td>\n",
       "      <td>{'Steps': '1. I did a search for Mercedes Sosa...</td>\n",
       "    </tr>\n",
       "    <tr>\n",
       "      <th>2</th>\n",
       "      <td>ec09fa32-d03f-4bf8-84b0-1f16922c3ae4</td>\n",
       "      <td>Here's a fun riddle that I think you'll enjoy....</td>\n",
       "      <td>1</td>\n",
       "      <td>3</td>\n",
       "      <td></td>\n",
       "      <td></td>\n",
       "      <td>{'Steps': 'Step 1: Evaluate the problem statem...</td>\n",
       "    </tr>\n",
       "    <tr>\n",
       "      <th>3</th>\n",
       "      <td>5d0080cb-90d7-4712-bc33-848150e917d3</td>\n",
       "      <td>What was the volume in m^3 of the fish bag tha...</td>\n",
       "      <td>1</td>\n",
       "      <td>0.1777</td>\n",
       "      <td></td>\n",
       "      <td></td>\n",
       "      <td>{'Steps': '1. Searched '\"Can Hiccup Supply Eno...</td>\n",
       "    </tr>\n",
       "    <tr>\n",
       "      <th>4</th>\n",
       "      <td>a1e91b78-d3d8-4675-bb8d-62741b4b68a6</td>\n",
       "      <td>In the video https://www.youtube.com/watch?v=L...</td>\n",
       "      <td>1</td>\n",
       "      <td>3</td>\n",
       "      <td></td>\n",
       "      <td></td>\n",
       "      <td>{'Steps': '1. Navigate to the YouTube link.\n",
       "2....</td>\n",
       "    </tr>\n",
       "  </tbody>\n",
       "</table>\n",
       "</div>"
      ],
      "text/plain": [
       "                                task_id  \\\n",
       "0  e1fc63a2-da7a-432f-be78-7c4a95598703   \n",
       "1  8e867cd7-cff9-4e6c-867a-ff5ddc2550be   \n",
       "2  ec09fa32-d03f-4bf8-84b0-1f16922c3ae4   \n",
       "3  5d0080cb-90d7-4712-bc33-848150e917d3   \n",
       "4  a1e91b78-d3d8-4675-bb8d-62741b4b68a6   \n",
       "\n",
       "                                            Question Level Final answer  \\\n",
       "0  If Eliud Kipchoge could maintain his record-ma...     1           17   \n",
       "1  How many studio albums were published by Merce...     1            3   \n",
       "2  Here's a fun riddle that I think you'll enjoy....     1            3   \n",
       "3  What was the volume in m^3 of the fish bag tha...     1       0.1777   \n",
       "4  In the video https://www.youtube.com/watch?v=L...     1            3   \n",
       "\n",
       "  file_name file_path                                 Annotator Metadata  \n",
       "0                      {'Steps': '1. Googled Eliud Kipchoge marathon ...  \n",
       "1                      {'Steps': '1. I did a search for Mercedes Sosa...  \n",
       "2                      {'Steps': 'Step 1: Evaluate the problem statem...  \n",
       "3                      {'Steps': '1. Searched '\"Can Hiccup Supply Eno...  \n",
       "4                      {'Steps': '1. Navigate to the YouTube link.\n",
       "2....  "
      ]
     },
     "execution_count": 12,
     "metadata": {},
     "output_type": "execute_result"
    }
   ],
   "source": [
    "gaia_df.head()"
   ]
  },
  {
   "cell_type": "markdown",
   "id": "f2d34bca",
   "metadata": {},
   "source": [
    "---"
   ]
  },
  {
   "cell_type": "code",
   "execution_count": 13,
   "id": "0150df47",
   "metadata": {},
   "outputs": [
    {
     "data": {
      "text/plain": [
       "{'', 'docx', 'mp3', 'png', 'pptx', 'py', 'txt', 'xlsx'}"
      ]
     },
     "execution_count": 13,
     "metadata": {},
     "output_type": "execute_result"
    }
   ],
   "source": [
    "filetypes = {d[1].file_path.split(\".\")[-1] for d in gaia_df.iterrows()}\n",
    "filetypes"
   ]
  },
  {
   "cell_type": "markdown",
   "id": "d25a6fd5",
   "metadata": {},
   "source": [
    "# Image Handler Tool"
   ]
  },
  {
   "cell_type": "markdown",
   "id": "ad4ce0bc",
   "metadata": {},
   "source": [
    "### Identify Image-like tasks"
   ]
  },
  {
   "cell_type": "code",
   "execution_count": 14,
   "id": "387e0aa7",
   "metadata": {},
   "outputs": [],
   "source": [
    "img_filetypes = ('png', 'jpg')"
   ]
  },
  {
   "cell_type": "code",
   "execution_count": 15,
   "id": "0ec59bb6",
   "metadata": {},
   "outputs": [
    {
     "data": {
      "application/vnd.microsoft.datawrangler.viewer.v0+json": {
       "columns": [
        {
         "name": "index",
         "rawType": "int64",
         "type": "integer"
        },
        {
         "name": "task_id",
         "rawType": "object",
         "type": "string"
        },
        {
         "name": "Question",
         "rawType": "object",
         "type": "string"
        },
        {
         "name": "Level",
         "rawType": "object",
         "type": "string"
        },
        {
         "name": "Final answer",
         "rawType": "object",
         "type": "string"
        },
        {
         "name": "file_name",
         "rawType": "object",
         "type": "string"
        },
        {
         "name": "file_path",
         "rawType": "object",
         "type": "string"
        },
        {
         "name": "Annotator Metadata",
         "rawType": "object",
         "type": "unknown"
        }
       ],
       "ref": "c270fc97-1094-4a1d-95f5-4171c45094ca",
       "rows": [
        [
         "16",
         "cca530fc-4052-43b2-b130-b30968d8aa44",
         "Review the chess position provided in the image. It is black's turn. Provide the correct next move for black which guarantees a win. Please provide your response in algebraic notation.",
         "1",
         "Rd5",
         "cca530fc-4052-43b2-b130-b30968d8aa44.png",
         "/home/santiagoal/.cache/huggingface/hub/datasets--gaia-benchmark--GAIA/snapshots/897f2dfbb5c952b5c3c1509e648381f9c7b70316/2023/validation/cca530fc-4052-43b2-b130-b30968d8aa44.png",
         "{'Steps': 'Step 1: Evaluate the position of the pieces in the chess position\\nStep 2: Report the best move available for black: \"Rd5\"', 'Number of steps': '2', 'How long did this take?': '10 minutes', 'Tools': '1. Image recognition tools', 'Number of tools': '1'}"
        ],
        [
         "21",
         "9318445f-fe6a-4e1b-acbf-c68228c9906a",
         "As a comma separated list with no whitespace, using the provided image provide all the fractions that use / as the fraction line and the answers to the sample problems. Order the list by the order in which the fractions appear.",
         "1",
         "3/4,1/4,3/4,3/4,2/4,1/2,5/35,7/21,30/5,30/5,3/4,1/15,1/3,4/9,1/8,32/23,103/170",
         "9318445f-fe6a-4e1b-acbf-c68228c9906a.png",
         "/home/santiagoal/.cache/huggingface/hub/datasets--gaia-benchmark--GAIA/snapshots/897f2dfbb5c952b5c3c1509e648381f9c7b70316/2023/validation/9318445f-fe6a-4e1b-acbf-c68228c9906a.png",
         "{'Steps': '1. Find the fractions that use / as the fraction line before the sample problems start: 3/4,1/4,3/4,3/4,2/4,1/2,5/35,7/21,30/5,30/5\\n2. Solve the sample problems:\\n3. Problem 1: 3/4\\n4. Problem 2: 1/15\\n5. Problem 3: 1/3\\n6. Problem 4: 4/9\\n7. Problem 5: 1/8\\n8. Problem 6: 32/23\\n9. Problem 7: 103/170\\n10: Add them to the list. There were no more fractions with a / as the fraction line, so they can just be added in order: 3/4,1/4,3/4,3/4,2/4,1/2,5/35,7/21,30/5,30/5,3/4,1/15,1/3,4/9,1/8,32/23,103/170', 'Number of steps': '10', 'How long did this take?': '5 minutes', 'Tools': '1. image recognition/OCR\\n2. calculator', 'Number of tools': '2'}"
        ]
       ],
       "shape": {
        "columns": 7,
        "rows": 2
       }
      },
      "text/html": [
       "<div>\n",
       "<style scoped>\n",
       "    .dataframe tbody tr th:only-of-type {\n",
       "        vertical-align: middle;\n",
       "    }\n",
       "\n",
       "    .dataframe tbody tr th {\n",
       "        vertical-align: top;\n",
       "    }\n",
       "\n",
       "    .dataframe thead th {\n",
       "        text-align: right;\n",
       "    }\n",
       "</style>\n",
       "<table border=\"1\" class=\"dataframe\">\n",
       "  <thead>\n",
       "    <tr style=\"text-align: right;\">\n",
       "      <th></th>\n",
       "      <th>task_id</th>\n",
       "      <th>Question</th>\n",
       "      <th>Level</th>\n",
       "      <th>Final answer</th>\n",
       "      <th>file_name</th>\n",
       "      <th>file_path</th>\n",
       "      <th>Annotator Metadata</th>\n",
       "    </tr>\n",
       "  </thead>\n",
       "  <tbody>\n",
       "    <tr>\n",
       "      <th>16</th>\n",
       "      <td>cca530fc-4052-43b2-b130-b30968d8aa44</td>\n",
       "      <td>Review the chess position provided in the imag...</td>\n",
       "      <td>1</td>\n",
       "      <td>Rd5</td>\n",
       "      <td>cca530fc-4052-43b2-b130-b30968d8aa44.png</td>\n",
       "      <td>/home/santiagoal/.cache/huggingface/hub/datase...</td>\n",
       "      <td>{'Steps': 'Step 1: Evaluate the position of th...</td>\n",
       "    </tr>\n",
       "    <tr>\n",
       "      <th>21</th>\n",
       "      <td>9318445f-fe6a-4e1b-acbf-c68228c9906a</td>\n",
       "      <td>As a comma separated list with no whitespace, ...</td>\n",
       "      <td>1</td>\n",
       "      <td>3/4,1/4,3/4,3/4,2/4,1/2,5/35,7/21,30/5,30/5,3/...</td>\n",
       "      <td>9318445f-fe6a-4e1b-acbf-c68228c9906a.png</td>\n",
       "      <td>/home/santiagoal/.cache/huggingface/hub/datase...</td>\n",
       "      <td>{'Steps': '1. Find the fractions that use / as...</td>\n",
       "    </tr>\n",
       "  </tbody>\n",
       "</table>\n",
       "</div>"
      ],
      "text/plain": [
       "                                 task_id  \\\n",
       "16  cca530fc-4052-43b2-b130-b30968d8aa44   \n",
       "21  9318445f-fe6a-4e1b-acbf-c68228c9906a   \n",
       "\n",
       "                                             Question Level  \\\n",
       "16  Review the chess position provided in the imag...     1   \n",
       "21  As a comma separated list with no whitespace, ...     1   \n",
       "\n",
       "                                         Final answer  \\\n",
       "16                                                Rd5   \n",
       "21  3/4,1/4,3/4,3/4,2/4,1/2,5/35,7/21,30/5,30/5,3/...   \n",
       "\n",
       "                                   file_name  \\\n",
       "16  cca530fc-4052-43b2-b130-b30968d8aa44.png   \n",
       "21  9318445f-fe6a-4e1b-acbf-c68228c9906a.png   \n",
       "\n",
       "                                            file_path  \\\n",
       "16  /home/santiagoal/.cache/huggingface/hub/datase...   \n",
       "21  /home/santiagoal/.cache/huggingface/hub/datase...   \n",
       "\n",
       "                                   Annotator Metadata  \n",
       "16  {'Steps': 'Step 1: Evaluate the position of th...  \n",
       "21  {'Steps': '1. Find the fractions that use / as...  "
      ]
     },
     "execution_count": 15,
     "metadata": {},
     "output_type": "execute_result"
    }
   ],
   "source": [
    "image_tasks_df = gaia_df[gaia_df[\"file_path\"].apply(lambda row: row.split(\".\")[-1] in img_filetypes)]\n",
    "image_tasks_df"
   ]
  },
  {
   "cell_type": "code",
   "execution_count": 16,
   "id": "180294ba",
   "metadata": {},
   "outputs": [
    {
     "data": {
      "application/vnd.microsoft.datawrangler.viewer.v0+json": {
       "columns": [
        {
         "name": "index",
         "rawType": "object",
         "type": "string"
        },
        {
         "name": "16",
         "rawType": "object",
         "type": "unknown"
        }
       ],
       "ref": "6f72edf0-22b5-4305-8bae-c10909fa1478",
       "rows": [
        [
         "task_id",
         "cca530fc-4052-43b2-b130-b30968d8aa44"
        ],
        [
         "Question",
         "Review the chess position provided in the image. It is black's turn. Provide the correct next move for black which guarantees a win. Please provide your response in algebraic notation."
        ],
        [
         "Level",
         "1"
        ],
        [
         "Final answer",
         "Rd5"
        ],
        [
         "file_name",
         "cca530fc-4052-43b2-b130-b30968d8aa44.png"
        ],
        [
         "file_path",
         "/home/santiagoal/.cache/huggingface/hub/datasets--gaia-benchmark--GAIA/snapshots/897f2dfbb5c952b5c3c1509e648381f9c7b70316/2023/validation/cca530fc-4052-43b2-b130-b30968d8aa44.png"
        ],
        [
         "Annotator Metadata",
         "{'Steps': 'Step 1: Evaluate the position of the pieces in the chess position\\nStep 2: Report the best move available for black: \"Rd5\"', 'Number of steps': '2', 'How long did this take?': '10 minutes', 'Tools': '1. Image recognition tools', 'Number of tools': '1'}"
        ]
       ],
       "shape": {
        "columns": 1,
        "rows": 7
       }
      },
      "text/plain": [
       "task_id                            cca530fc-4052-43b2-b130-b30968d8aa44\n",
       "Question              Review the chess position provided in the imag...\n",
       "Level                                                                 1\n",
       "Final answer                                                        Rd5\n",
       "file_name                      cca530fc-4052-43b2-b130-b30968d8aa44.png\n",
       "file_path             /home/santiagoal/.cache/huggingface/hub/datase...\n",
       "Annotator Metadata    {'Steps': 'Step 1: Evaluate the position of th...\n",
       "Name: 16, dtype: object"
      ]
     },
     "execution_count": 16,
     "metadata": {},
     "output_type": "execute_result"
    }
   ],
   "source": [
    "image_tasks_df.iloc[0]"
   ]
  },
  {
   "cell_type": "code",
   "execution_count": null,
   "id": "672fec32",
   "metadata": {},
   "outputs": [],
   "source": []
  },
  {
   "cell_type": "markdown",
   "id": "0c16f891",
   "metadata": {},
   "source": [
    "### Tool POC"
   ]
  },
  {
   "cell_type": "markdown",
   "id": "b1091615",
   "metadata": {},
   "source": [
    "#### (1/2) Donut for OCR "
   ]
  },
  {
   "cell_type": "code",
   "execution_count": null,
   "id": "74d0a8cc",
   "metadata": {},
   "outputs": [],
   "source": []
  },
  {
   "cell_type": "markdown",
   "id": "79ddc685",
   "metadata": {},
   "source": [
    "#### (2/2) YoLo for Object Detection "
   ]
  },
  {
   "cell_type": "code",
   "execution_count": null,
   "id": "8f3467ba",
   "metadata": {},
   "outputs": [],
   "source": []
  },
  {
   "cell_type": "markdown",
   "id": "d6866d6d",
   "metadata": {},
   "source": [
    "### Integrate Tool and Experiment"
   ]
  },
  {
   "cell_type": "code",
   "execution_count": null,
   "id": "cb541af5",
   "metadata": {},
   "outputs": [],
   "source": []
  },
  {
   "cell_type": "markdown",
   "id": "54fadcf2",
   "metadata": {},
   "source": [
    "---"
   ]
  },
  {
   "cell_type": "markdown",
   "id": "b4cbc05d",
   "metadata": {},
   "source": [
    "## Audio Tool"
   ]
  },
  {
   "cell_type": "markdown",
   "id": "57b579ef",
   "metadata": {},
   "source": [
    "Let's study where does our current Agent fail, especially on audio-like questions"
   ]
  },
  {
   "cell_type": "code",
   "execution_count": 17,
   "id": "6b7a1444",
   "metadata": {},
   "outputs": [],
   "source": [
    "run = False"
   ]
  },
  {
   "cell_type": "code",
   "execution_count": 18,
   "id": "60d3af35",
   "metadata": {},
   "outputs": [
    {
     "data": {
      "application/vnd.microsoft.datawrangler.viewer.v0+json": {
       "columns": [
        {
         "name": "index",
         "rawType": "int64",
         "type": "integer"
        },
        {
         "name": "task_id",
         "rawType": "object",
         "type": "string"
        },
        {
         "name": "Question",
         "rawType": "object",
         "type": "string"
        },
        {
         "name": "Level",
         "rawType": "object",
         "type": "string"
        },
        {
         "name": "Final answer",
         "rawType": "object",
         "type": "string"
        },
        {
         "name": "file_name",
         "rawType": "object",
         "type": "string"
        },
        {
         "name": "file_path",
         "rawType": "object",
         "type": "string"
        },
        {
         "name": "Annotator Metadata",
         "rawType": "object",
         "type": "unknown"
        }
       ],
       "ref": "5a2dbd52-13b2-46d1-ae14-5f243dd26bea",
       "rows": [
        [
         "0",
         "e1fc63a2-da7a-432f-be78-7c4a95598703",
         "If Eliud Kipchoge could maintain his record-making marathon pace indefinitely, how many thousand hours would it take him to run the distance between the Earth and the Moon its closest approach? Please use the minimum perigee value on the Wikipedia page for the Moon when carrying out your calculation. Round your result to the nearest 1000 hours and do not use any comma separators if necessary.",
         "1",
         "17",
         "",
         "",
         "{'Steps': '1. Googled Eliud Kipchoge marathon pace to find 4min 37sec/mile\\n2. Converted into fractions of hours.\\n3. Found moon periapsis in miles (225,623 miles).\\n4. Multiplied the two to find the number of hours and rounded to the nearest 100 hours.', 'Number of steps': '4', 'How long did this take?': '20 Minutes', 'Tools': '1. A web browser.\\n2. A search engine.\\n3. A calculator.', 'Number of tools': '3'}"
        ],
        [
         "1",
         "8e867cd7-cff9-4e6c-867a-ff5ddc2550be",
         "How many studio albums were published by Mercedes Sosa between 2000 and 2009 (included)? You can use the latest 2022 version of english wikipedia.",
         "1",
         "3",
         "",
         "",
         "{'Steps': '1. I did a search for Mercedes Sosa\\n2. I went to the Wikipedia page for her\\n3. I scrolled down to \"Studio albums\"\\n4. I counted the ones between 2000 and 2009', 'Number of steps': '4', 'How long did this take?': '5 minutes', 'Tools': '1. web browser\\n2. google search', 'Number of tools': '2'}"
        ],
        [
         "2",
         "ec09fa32-d03f-4bf8-84b0-1f16922c3ae4",
         "Here's a fun riddle that I think you'll enjoy.\n\nYou have been selected to play the final round of the hit new game show \"Pick That Ping-Pong\". In this round, you will be competing for a large cash prize. Your job will be to pick one of several different numbered ping-pong balls, and then the game will commence. The host describes how the game works.\n\nA device consisting of a winding clear ramp and a series of pistons controls the outcome of the game. The ramp feeds balls onto a platform. The platform has room for three ping-pong balls at a time. The three balls on the platform are each aligned with one of three pistons. At each stage of the game, one of the three pistons will randomly fire, ejecting the ball it strikes. If the piston ejects the ball in the first position on the platform the balls in the second and third position on the platform each advance one space, and the next ball on the ramp advances to the third position. If the piston ejects the ball in the second position, the ball in the first position is released and rolls away, the ball in the third position advances two spaces to occupy the first position, and the next two balls on the ramp advance to occupy the second and third positions on the platform. If the piston ejects the ball in the third position, the ball in the first position is released and rolls away, the ball in the second position advances one space to occupy the first position, and the next two balls on the ramp advance to occupy the second and third positions on the platform.\n\nThe ramp begins with 100 numbered ping-pong balls, arranged in ascending order from 1 to 100. The host activates the machine and the first three balls, numbered 1, 2, and 3, advance to the platform. Before the random firing of the pistons begins, you are asked which of the 100 balls you would like to pick. If your pick is ejected by one of the pistons, you win the grand prize, $10,000.\n\nWhich ball should you choose to maximize your odds of winning the big prize? Please provide your answer as the number of the ball selected.",
         "1",
         "3",
         "",
         "",
         "{'Steps': 'Step 1: Evaluate the problem statement provided in my user\\'s prompt\\nStep 2: Consider the probability of any ball on the platform earning the prize.\\nStep 3: Evaluate the ball in position one. The probability of it earning the prize, P1, is 1/3\\nStep 4: Using a calculator, evaluate the ball in position two. The probability of it earning the prize, P2, is the difference between 1 and the product of the complementary probabilities for each trial\\nP2 = 1 - (2/3)(2/3)\\nP2 = 5/9\\nStep 5: Using a calculator, evaluate the ball in position three. The probability of it earning the prize, P3, is the difference between 1 and the product of the complementary probabilities for each trial\\nP3 = 1 - (2/3)(2/3)(2/3)\\nP3 = 19/27\\nStep 6: Consider the possible outcomes of numbers higher than 3.\\nStep 7: For each trial, either 1 or 2 balls from the ramp will advance to the platform. For any given selection, there is a 50% chance that the ball advances to position 2 or position 3.\\nStep 8: As position three holds the highest chance of earning the prize, select the only ball known to occupy position three with certainty, ball 3.\\nStep 9: Report the correct answer to my user, \"3\"', 'Number of steps': '9', 'How long did this take?': '1 minute', 'Tools': 'None', 'Number of tools': '0'}"
        ],
        [
         "3",
         "5d0080cb-90d7-4712-bc33-848150e917d3",
         "What was the volume in m^3 of the fish bag that was calculated in the University of Leicester paper \"Can Hiccup Supply Enough Fish to Maintain a Dragon’s Diet?\"",
         "1",
         "0.1777",
         "",
         "",
         "{'Steps': '1. Searched \\'\"Can Hiccup Supply Enough Fish to Maintain a Dragon’s Diet?\"\\' on Google.\\n2. Opened \"Can Hiccup Supply Enough Fish to Maintain a Dragon’s Diet?\" at https://journals.le.ac.uk/ojs1/index.php/jist/article/view/733.\\n3. Clicked \"PDF\".\\n4. Found the calculations for the volume of the fish bag and noted them.', 'Number of steps': '4', 'How long did this take?': '5 minutes', 'Tools': '1. Web browser\\n2. Search engine\\n3. PDF access', 'Number of tools': '3'}"
        ],
        [
         "4",
         "a1e91b78-d3d8-4675-bb8d-62741b4b68a6",
         "In the video https://www.youtube.com/watch?v=L1vXCYZAYYM, what is the highest number of bird species to be on camera simultaneously?",
         "1",
         "3",
         "",
         "",
         "{'Steps': '1. Navigate to the YouTube link.\\n2. Watch the video to see the highest number of bird species.\\n3. Note the number.', 'Number of steps': '3', 'How long did this take?': '3 minutes', 'Tools': '1. Web browser\\n2. Video parsing', 'Number of tools': '2'}"
        ],
        [
         "5",
         "46719c30-f4c3-4cad-be07-d5cb21eee6bb",
         "Of the authors (First M. Last) that worked on the paper \"Pie Menus or Linear Menus, Which Is Better?\" in 2015, what was the title of the first paper authored by the one that had authored prior papers?",
         "1",
         "Mapping Human Oriented Information to Software Agents for Online Systems Usage",
         "",
         "",
         "{'Steps': '1. Searched \"Pie Menus or Linear Menus, Which Is Better?\" on Google.\\n2. Opened \"Pie Menus or Linear Menus, Which Is Better?\" on https://oda.oslomet.no/oda-xmlui/handle/10642/3162.\\n3. Clicked each author\\'s name.\\n4. Noted the name that had no other papers listed.\\n5. Searched \"Murano, Pietro\" on Google.\\n6. Opened http://www.pietromurano.org/.\\n7. Clicked \"Publications\".\\n8. Found the earliest paper he contributed to.', 'Number of steps': '8', 'How long did this take?': '10 minutes', 'Tools': '1. Web browser\\n2. Search engine', 'Number of tools': '2'}"
        ],
        [
         "6",
         "4b6bb5f7-f634-410e-815d-e673ab7f8632",
         "In Series 9, Episode 11 of Doctor Who, the Doctor is trapped inside an ever-shifting maze. What is this location called in the official script for the episode? Give the setting exactly as it appears in the first scene heading.",
         "1",
         "THE CASTLE",
         "",
         "",
         "{'Steps': '1. Search the web for “Doctor Who series 9 episode 11 official script”.\\n2. Click result on the BBC website.\\n3. Scroll through the PDF to read the script, noting that it takes place in a mechanical castle location.\\n4. Scroll back to the first scene heading to note the answer, THE CASTLE', 'Number of steps': '4', 'How long did this take?': '5 minutes', 'Tools': '1. Search engine\\n2. Web browser\\n3. PDF viewer', 'Number of tools': '3'}"
        ],
        [
         "7",
         "cffe0e32-c9a6-4c52-9877-78ceb4aaa9fb",
         "An office held a Secret Santa gift exchange where each of its twelve employees was assigned one other employee in the group to present with a gift. Each employee filled out a profile including three likes or hobbies. On the day of the gift exchange, only eleven gifts were given, each one specific to one of the recipient's interests. Based on the information in the document, who did not give a gift?",
         "1",
         "Fred",
         "cffe0e32-c9a6-4c52-9877-78ceb4aaa9fb.docx",
         "/home/santiagoal/.cache/huggingface/hub/datasets--gaia-benchmark--GAIA/snapshots/897f2dfbb5c952b5c3c1509e648381f9c7b70316/2023/validation/cffe0e32-c9a6-4c52-9877-78ceb4aaa9fb.docx",
         "{'Steps': '1. Open the document.\\n2. Look at gifts and recipient interests.\\n3. Match Galileo Galilei biography (could apply to astronomy or books -> Miguel or Micah)\\n4. Match fishing reel (only applies to fishing -> Harry)\\n5. Match Raku programming guide (Perl language, but could also apply to JavaScript enthusiast - > Fred or Jun)\\n6. Match chisel set (could apply to camping or woodworking, but Harry is already fulfilled -> Jun, so Raku guide is for Fred)\\n7. Match custom dice (could apply to board games or tabletop RPGs -> Lucy or Sara)\\n8. Match “War and Peace” American film copy (could apply to old movies or Audrey Hepburn -> Perry or Alex)\\n9. Match yarn (only applies to knitting -> Micah, so the Galileo biography is for Miguel)\\n10. Match \"One Piece\" graphic novel (could apply to books or manga, but Micah already has yarn -> Alex, so the \"War and Peace\" film is for Perry)\\n11. Match \"War and Peace\" novel (could apply to books or historical fiction novels, but Micah has yarn -> Tyson)\\n12. Match Starbucks gift card (only applies to coffee -> Lucy, so the dice are for Sara)\\n13. Match foam exercise mat (only applies to yoga -> Georgette)\\n14. Note which recipients have gifts (Miguel, Harry, Fred, Jun, Sara, Perry, Micah, Alex, Tyson, Lucy, Georgette) and which does not (Rebecca).\\n15. Find who was supposed to give Rebecca a gift (Fred).', 'Number of steps': '15', 'How long did this take?': '15 minutes', 'Tools': '1. Word document access', 'Number of tools': '1'}"
        ],
        [
         "8",
         "2d83110e-a098-4ebb-9987-066c06fa42d0",
         ".rewsna eht sa \"tfel\" drow eht fo etisoppo eht etirw ,ecnetnes siht dnatsrednu uoy fI",
         "1",
         "Right",
         "",
         "",
         "{'Steps': '1. Read the instructions in reverse', 'Number of steps': '1', 'How long did this take?': '1 minute', 'Tools': '1. A word reversal tool / script', 'Number of tools': '0'}"
        ],
        [
         "9",
         "5cfb274c-0207-4aa7-9575-6ac0bd95d9b2",
         "Each cell in the attached spreadsheet represents a plot of land. The color of the cell indicates who owns that plot. Green cells are plots owned by Earl Smith. Can Earl walk through every plot he owns (and no other plots) and return to his starting plot without backtracking? For this question, consider backtracking to be any instance where Earl would enter a plot of land he had already entered since leaving his starting plot.",
         "1",
         "No",
         "5cfb274c-0207-4aa7-9575-6ac0bd95d9b2.xlsx",
         "/home/santiagoal/.cache/huggingface/hub/datasets--gaia-benchmark--GAIA/snapshots/897f2dfbb5c952b5c3c1509e648381f9c7b70316/2023/validation/5cfb274c-0207-4aa7-9575-6ac0bd95d9b2.xlsx",
         "{'Steps': '1. Open the spreadsheet\\n2. Analyze the green cells.\\n3. Note that the shape of Earl’s plots is not a loop. There are dead-ends that can’t be traversed without doubling back to a previously-traversed cell.', 'Number of steps': '3', 'How long did this take?': '1 minute', 'Tools': '1. Excel\\n2. Image recognition\\n3. Color recognition', 'Number of tools': '3'}"
        ],
        [
         "10",
         "27d5d136-8563-469e-92bf-fd103c28b57c",
         "¬(A ∧ B) ↔ (¬A ∨ ¬B)\n¬(A ∨ B) ↔ (¬A ∧ ¬B)\n(A → B) ↔ (¬B → ¬A)\n(A → B) ↔ (¬A ∨ B)\n(¬A → B) ↔ (A ∨ ¬B)\n¬(A → B) ↔ (A ∧ ¬B)\n\nWhich of the above is not logically equivalent to the rest? Provide the full statement that doesn't fit.",
         "1",
         "(¬A → B) ↔ (A ∨ ¬B)",
         "",
         "",
         "{'Steps': \"1. Determine the truth values of the first statement: Recognize this is one of De Morgan's Laws showing how to distribute negation over the and conjunction - so it is a tautology.\\n2. Determine the truth values of the second statement: Recognize this is one of De Morgan's Laws showing how to distribute negation over the or - so it is a tautology.\\n3. Determine the truth values of the third statement: Recognize this is the definition of the contrapositive - so it is a tautology.\\n4. Determine the truth values of the fourth statement: Recognize this as an alternative way of stating the conditional - so it is a tautology.\\n5. Determine the truth values of the fifth statement: I don't recognize this, so check its truth values:\\n6. A: True, B: True |  (¬A → B) ↔ (A ∨ ¬B) = (¬T → T) ↔ (T ∨ ¬T) = (F → T) ↔ (T ∨ F) = T ↔ T = T\\n7. A: True, B: False |  (¬A → B) ↔ (A ∨ ¬B) = (¬T → F) ↔ (T ∨ ¬F) = (F → F) ↔ (T ∨ T) = T ↔ T = T\\n8. A: False, B: True |  (¬A → B) ↔ (A ∨ ¬B) = (¬F → T) ↔ (F ∨ ¬T) = (T → T) ↔ (F ∨ ¬T) = T ↔ (F ∨ F) = T ↔ F = F\\n9. The fifth statement is not a tautology so is the statement that is not logically equivalent. We were asked for only one statement, so can stop here.\", 'Number of steps': '9', 'How long did this take?': '5-20 minutes', 'Tools': 'None', 'Number of tools': '0'}"
        ],
        [
         "11",
         "dc28cf18-6431-458b-83ef-64b3ce566c10",
         "My family reunion is this week, and I was assigned the mashed potatoes to bring. The attendees include my married mother and father, my twin brother and his family, my aunt and her family, my grandma and her brother, her brother's daughter, and his daughter's family. All the adults but me have been married, and no one is divorced or remarried, but my grandpa and my grandma's sister-in-law passed away last year. All living spouses are attending. My brother has two children that are still kids, my aunt has one six-year-old, and my grandma's brother's daughter has three kids under 12. I figure each adult will eat about 1.5 potatoes of mashed potatoes and each kid will eat about 1/2 a potato of mashed potatoes, except my second cousins don't eat carbs. The average potato is about half a pound, and potatoes are sold in 5-pound bags. How many whole bags of potatoes do I need? Just give the number.",
         "1",
         "2",
         "",
         "",
         "{'Steps': \"1. Calculate the number of adults (mother, father, brother, brother's wife, aunt, aunt's husband, grandma, grandma's brother, grandma's brother's daughter, grandma's brother's daughter's husband, me = 11).\\n2. Calculate the number of children (niece, nephew, cousin, grandma's brother's daughter's kids x3 = 6).\\n3. Subtract the number of second cousins (grandma's brother's daughter's kids) (6 - 3 = 3).\\n4. Calculate the adult potatoes (11 * 1.5 = 16.5).\\n5. Calculate the child potatoes (3 * 0.5 = 1.5).\\n6. Add to get the total potatoes (16.5 + 1.5 = 18).\\n7. Multiply to get the pounds of potatoes (18 * 0.5 = 9 pounds).\\n8. Calculate the number of 5-lb bags needed (9 / 5 = 1.8).\\n9. Round up to get total bags (2).\", 'Number of steps': '9', 'How long did this take?': '8 minutes', 'Tools': '1. Calculator', 'Number of tools': '1'}"
        ],
        [
         "12",
         "b816bfce-3d80-4913-a07d-69b752ce6377",
         "In Emily Midkiff's June 2014 article in a journal named for the one of Hreidmar's sons that guarded his house, what word was quoted from two different authors in distaste for the nature of dragon depictions?",
         "1",
         "fluffy",
         "",
         "",
         "{'Steps': '1. Searched \"Hreidmar\\'s sons\" on Google.\\n2. Opened https://en.wikipedia.org/wiki/Hrei%C3%B0marr.\\n3. Noted Fafnir guarded his house.\\n4. Searched \"Emily Midkiff June 2014 Fafnir\" on Google.\\n5. Opened \"Fafnir 2/2014 |\" at http://journal.finfar.org/journal/archive/fafnir-22014/.\\n6. Clicked the title \\'“Dragons are Tricksy”: The Uncanny Dragons of Children’s Literature\\'.\\n7. Found the word in quotation marks from two different authors (Ruth Stein and Margaret Blount) in the text.', 'Number of steps': '7', 'How long did this take?': '10 minutes', 'Tools': '1. Web browser\\n2. Search engine', 'Number of tools': '2'}"
        ],
        [
         "13",
         "72e110e7-464c-453c-a309-90a95aed6538",
         "Under DDC 633 on Bielefeld University Library's BASE, as of 2020, from what country was the unknown language article with a flag unique from the others?",
         "1",
         "Guatemala",
         "",
         "",
         "{'Steps': '1. Searched \"Bielefeld University Library\\'s BASE\" on Google.\\n2. Opened https://www.base-search.net/.\\n3. Clicked \"Browsing\".\\n4. Selected Clicked \"Dewey Decimal Classification (DDC) > 6 > 63 > 633.\\n5. Refined to Unknown Language.\\n6. Found the only article with a flag unique from the others in the search from pre-2020.\\n7. Copied the country name from the institution.', 'Number of steps': '7', 'How long did this take?': '10 minutes', 'Tools': '1. Web browser\\n2. Search engine', 'Number of tools': '2'}"
        ],
        [
         "14",
         "42576abe-0deb-4869-8c63-225c2d75a95a",
         "In the fictional language of Tizin, basic sentences are arranged with the Verb first, followed by the direct object, followed by the subject of the sentence. I want to express my love for apples to my Tizin friend. \n\nThe word that indicates oneself is \"Pa\" is the nominative form, \"Mato\" is the accusative form, and \"Sing\" is the genitive form. \n\nThe root verb that indicates an intense like for something is \"Maktay\". When it is used in the present, it is used in it's root form, when it is used in the preterit past, it is \"Tay\", and when it is used in the imperfect past, it is \"Aktay\". It is used differently than in English, and is better translated as \"is pleasing to\", meaning that the thing doing the liking is actually the object of the sentence rather than the subject.\n\nThe word for apples is borrowed from English in Tizin, and so it is \"Apple\" is the nominative form, \"Zapple\" is the accusative form, and \"Izapple\" is the genitive form. \n\nPlease translate \"I like apples\" to Tizin.",
         "1",
         "Maktay mato apple",
         "",
         "",
         "{'Steps': '1. Determine the order of words from the prompt (Verb - Object - Subject).\\n2. Determine the present form of Like (\"Maktay\")\\n3. Determined that since the person doing the liking is the object of the sentence, the next word must be the one for oneself in object form.\\n4. Determined the accusative form for onesself (\"mato\").\\n5. Determined the nominative form for apple. (\"apple\").\\n6. Put the words together in the correct order.', 'Number of steps': '6', 'How long did this take?': '2 minutes', 'Tools': 'None', 'Number of tools': '0'}"
        ],
        [
         "15",
         "b415aba4-4b68-4fc6-9b89-2c812e55a3e1",
         "In Nature journal's Scientific Reports conference proceedings from 2012, in the article that did not mention plasmons or plasmonics, what nano-compound is studied? Don't use the prefix nano in your answer if there is one.",
         "1",
         "diamond",
         "",
         "",
         "{'Steps': '1. Searched \"nature scientific reports\" on Google.\\n2. Opened https://www.nature.com/srep/.\\n3. Selected Explore Content > Research Articles.\\n4. Filtered for Conference Proceedings from 2012.\\n5. Opened each article link.\\n6. Checked for \"plasmon\" or \"plasmonic\".\\n7. Noted the nano-compound in the article that did not include either.', 'Number of steps': '7', 'How long did this take?': '10 minutes', 'Tools': '1. Web browser\\n2. Search engine', 'Number of tools': '2'}"
        ],
        [
         "16",
         "cca530fc-4052-43b2-b130-b30968d8aa44",
         "Review the chess position provided in the image. It is black's turn. Provide the correct next move for black which guarantees a win. Please provide your response in algebraic notation.",
         "1",
         "Rd5",
         "cca530fc-4052-43b2-b130-b30968d8aa44.png",
         "/home/santiagoal/.cache/huggingface/hub/datasets--gaia-benchmark--GAIA/snapshots/897f2dfbb5c952b5c3c1509e648381f9c7b70316/2023/validation/cca530fc-4052-43b2-b130-b30968d8aa44.png",
         "{'Steps': 'Step 1: Evaluate the position of the pieces in the chess position\\nStep 2: Report the best move available for black: \"Rd5\"', 'Number of steps': '2', 'How long did this take?': '10 minutes', 'Tools': '1. Image recognition tools', 'Number of tools': '1'}"
        ],
        [
         "17",
         "935e2cff-ae78-4218-b3f5-115589b19dae",
         "In the year 2022, and before December, what does \"R\" stand for in the three core policies of the type of content that was violated in the public logs on the Legume Wikipedia page?",
         "1",
         "research",
         "",
         "",
         "{'Steps': '1. Searched \"legume wikipedia\" on Google.\\n2. Opened \"Legume\" on Wikipedia.\\n3. Clicked \"View history\".\\n4. Clicked \"View logs for this page\".\\n5. Checked all types of logs.\\n6. Set the date to November 2022.\\n7. Followed the BLP link of the violation.\\n8. Noted the meaning of \"R\".', 'Number of steps': '8', 'How long did this take?': '10 minutes', 'Tools': '1. Web browser\\n2. Search engine', 'Number of tools': '2'}"
        ],
        [
         "18",
         "4fc2f1ae-8625-45b5-ab34-ad4433bc21f8",
         "Who nominated the only Featured Article on English Wikipedia about a dinosaur that was promoted in November 2016?",
         "1",
         "FunkMonk",
         "",
         "",
         "{'Steps': '1. Search \"Wikipedia featured articles promoted in november 2016\"\\n2. Click through to the appropriate page and find the person who nominated Giganotosaurus.', 'Number of steps': '2', 'How long did this take?': '5 minutes', 'Tools': '1. web browser\\n2. search engine', 'Number of tools': '2'}"
        ],
        [
         "19",
         "5188369a-3bbe-43d8-8b94-11558f909a08",
         "What writer is quoted by Merriam-Webster for the Word of the Day from June 27, 2022?",
         "1",
         "Annie Levin",
         "",
         "",
         "{'Steps': '1. Search \"merriam-webster word of the day\" on Google search.\\n2. Opened the top \"Word of the Day\" result from the Merriam-Webster dictionary online.\\n3. Clicked \"SEE ALL WORDS OF THE DAY\" at the bottom.\\n4. Scrolled down to June 27, 2022.\\n5. Opened the Word of the Day (\"jingoism\").\\n6. Scrolled down and identified context quote for \"jingoism\".\\n7. Noted the name attributed to the quote. ', 'Number of steps': '7', 'How long did this take?': '8 minutes', 'Tools': '1. Web browser\\n2. Search engine\\n3. Audio capability', 'Number of tools': '3'}"
        ],
        [
         "20",
         "6f37996b-2ac7-44b0-8e68-6d28256631b4",
         "Given this table defining * on the set S = {a, b, c, d, e}\n\n|*|a|b|c|d|e|\n|---|---|---|---|---|---|\n|a|a|b|c|b|d|\n|b|b|c|a|e|c|\n|c|c|a|b|b|a|\n|d|b|e|b|e|d|\n|e|d|b|a|d|c|\n\nprovide the subset of S involved in any possible counter-examples that prove * is not commutative. Provide your answer as a comma separated list of the elements in the set in alphabetical order.",
         "1",
         "b, e",
         "",
         "",
         "{'Steps': '1. Compile the markdown.\\n2. Look at the table across the diagonal to see if any portions are not symmetrical.\\n3. See that b * e != e * b, but all others are symmetrical.', 'Number of steps': '3', 'How long did this take?': '5 minutes', 'Tools': '1. Markdown', 'Number of tools': '1'}"
        ],
        [
         "21",
         "9318445f-fe6a-4e1b-acbf-c68228c9906a",
         "As a comma separated list with no whitespace, using the provided image provide all the fractions that use / as the fraction line and the answers to the sample problems. Order the list by the order in which the fractions appear.",
         "1",
         "3/4,1/4,3/4,3/4,2/4,1/2,5/35,7/21,30/5,30/5,3/4,1/15,1/3,4/9,1/8,32/23,103/170",
         "9318445f-fe6a-4e1b-acbf-c68228c9906a.png",
         "/home/santiagoal/.cache/huggingface/hub/datasets--gaia-benchmark--GAIA/snapshots/897f2dfbb5c952b5c3c1509e648381f9c7b70316/2023/validation/9318445f-fe6a-4e1b-acbf-c68228c9906a.png",
         "{'Steps': '1. Find the fractions that use / as the fraction line before the sample problems start: 3/4,1/4,3/4,3/4,2/4,1/2,5/35,7/21,30/5,30/5\\n2. Solve the sample problems:\\n3. Problem 1: 3/4\\n4. Problem 2: 1/15\\n5. Problem 3: 1/3\\n6. Problem 4: 4/9\\n7. Problem 5: 1/8\\n8. Problem 6: 32/23\\n9. Problem 7: 103/170\\n10: Add them to the list. There were no more fractions with a / as the fraction line, so they can just be added in order: 3/4,1/4,3/4,3/4,2/4,1/2,5/35,7/21,30/5,30/5,3/4,1/15,1/3,4/9,1/8,32/23,103/170', 'Number of steps': '10', 'How long did this take?': '5 minutes', 'Tools': '1. image recognition/OCR\\n2. calculator', 'Number of tools': '2'}"
        ],
        [
         "22",
         "389793a7-ca17-4e82-81cb-2b3a2391b4b9",
         "You are a telecommunications engineer who wants to build cell phone towers on a stretch of road. In the reference file is a layout of the road and nearby houses. Each dash, \"-\", is a marker indicating a mile. Each capital H indicates a house located next to a mile marker, appearing above or below the stretch of road. Each cell phone tower can cover houses located next to the road within a 4-mile radius. Find the minimum number of cell phone towers needed to cover all houses next to the road. Your answer should be a positive numerical integer value.",
         "1",
         "3",
         "389793a7-ca17-4e82-81cb-2b3a2391b4b9.txt",
         "/home/santiagoal/.cache/huggingface/hub/datasets--gaia-benchmark--GAIA/snapshots/897f2dfbb5c952b5c3c1509e648381f9c7b70316/2023/validation/389793a7-ca17-4e82-81cb-2b3a2391b4b9.txt",
         "{'Steps': \"1. Determine the diameter of each cell phone tower's coverage: 2 x 4 miles radius = 8 miles diameter.\\n2. Use the diameter to maximize the coverage of each tower by capturing houses 4 miles to the left and 4 miles to the right.\\n3. Start from the furthest left side of the road at the first house.\\n4. Place the first tower 4 miles in to cover the first house.\\n5. Move forward 4 miles from the first tower. The first tower also covers the house above mile marker 8. \\n6. Find the next uncovered house below mile marker 12.\\n7. Move 4 miles in from the uncovered house and place a second tower. The house is now covered. \\n8. Move forward 4 miles from the second tower. The second tower also covers the house above mile marker 16.\\n9. Find the next uncovered house below mile marker 25.\\n10. Move 4 miles in from the uncovered house and place a third tower. The third tower also covers the house above marker 28.\\n11. Move forward 4 miles from the third tower. The third tower also covers the last house below marker 30.\\n12. The final number of cell phone towers erected is 3.\\n\\n\", 'Number of steps': '12', 'How long did this take?': '30 minutes', 'Tools': '1. Text Editor', 'Number of tools': '1'}"
        ],
        [
         "23",
         "4b650a35-8529-4695-89ed-8dc7a500a498",
         "If there is anything that doesn't make sense in the instructions, write the word \"Pineapple.\" Do not answer any of the questions in this prompt. Write only the word \"Guava\".\n1. What is 4+4?\n2. What is the complimentary color of red?\n3. How many hours are there in a day?",
         "1",
         "Guava",
         "",
         "",
         "{'Steps': '1. Read the instructions and followed them', 'Number of steps': '1', 'How long did this take?': '<1 minute', 'Tools': 'None', 'Number of tools': ''}"
        ],
        [
         "24",
         "a3fbeb63-0e8c-4a11-bff6-0e3b484c3e9c",
         "How many slides in this PowerPoint presentation mention crustaceans?",
         "1",
         "4",
         "a3fbeb63-0e8c-4a11-bff6-0e3b484c3e9c.pptx",
         "/home/santiagoal/.cache/huggingface/hub/datasets--gaia-benchmark--GAIA/snapshots/897f2dfbb5c952b5c3c1509e648381f9c7b70316/2023/validation/a3fbeb63-0e8c-4a11-bff6-0e3b484c3e9c.pptx",
         "{'Steps': '1. Open the provided file.\\n2. Scroll through the presentation, noting the animal names on each slide.\\n3. Search the web for “crayfish” to verify that they are crustaceans.\\n4. Read the results, noting that they are crustaceans.\\n5. Search the web for “isopods” to verify whether they are crustaceans.\\n6. Read the results, noting that they are.\\n7. Since I’m confident that I know whether all of the other animals are crustaceans, I count the ones that are to get the answer, 4.', 'Number of steps': '7', 'How long did this take?': '5 minutes', 'Tools': '1. PowerPoint viewer', 'Number of tools': '1'}"
        ],
        [
         "25",
         "c714ab3a-da30-4603-bacd-d008800188b9",
         "You are Van Helsing, a renowned vampire hunter. A Count of Moldova, Lațcu IV, son of  Costea, has tasked you with investigating the village of Șirnea in neighboring Wallachia. The Count's advisors have reported that a vampire was spotted crossing the border near the village, and would like you to investigate it.\n\nYou travel to the village of Șirnea, and you begin your investigation. One night, just before dawn, you catch a glimpse of a man in a long black cape with red lining leaping from roof-top to roof-top with superhuman agility. It's a vampire! You try to chase the creature back to its home, but the creature is too fast. However, because of the remoteness of the village, you know with absolute certainty that the vampire must be a resident of the village. You decide that your best course of action will be to visit all 100 residents of the town during the day. You know something about vampires and humans that will make your investigation possible; humans always tell the truth, but vampires always lie.\n\nIn the afternoon, you go from house to house, speaking with all 100 residents of Șirnea. You ask everyone the same question: \"How many vampires are living in Șirnea\". Everyone in the village gives the same response, \"At least one of us is a human.\"\n\nHow many residents of Șirnea have been turned into vampires?",
         "1",
         "100",
         "",
         "",
         "{'Steps': 'Step 1: Evaluate the problem statement posed by my user.\\nStep 2: Consider one known possible case: 1 Vampire, 99 humans\\nStep 3: Step through the possible case with the answer provided by every resident \"At least one of us is a human.\"\\nFor humans, who always tell the truth, the answer \"At least one of us is a human.\" is true for the known possible case\\nFor the vampire, who always lies, the answer \"At least one of us is a human.\" is true, which violates the rule requiring the vampire to lie\\nDiscount the case 1 Vampire, 99 Humans as possible\\nStep 4: Consider the worst case: 100 Vampires, 0 Humans\\nStep 5: Step through the worst case with the answer provided by every resident \"At least one of us is a human.\"\\nFor humans, who always tell the truth, the answer \"At least one of us is a human.\" is false, but 0 humans provide this response, making this statement irrelevant\\nFor the vampire, who always lies, the answer \"At least one of us is a human.\" is false, which respects the rule requiring vampires to lie\\nConfirm the worst case as a provisional answer: 100 Vampires, 0 humans, answer: \"100\"\\nStep 6: Consider a case with only one human: 99 Vampires, 1 Human\\nStep 7: Step through the case with the answer provided by every resident \"At least one of us is a human.\"\\nFor humans, who always tell the truth, the answer \"At least one of us is a human.\" is true\\nFor the vampire, who always lies, the answer \"At least one of us is a human.\" is true, which violates the rule requiring vampires to lie\\nDiscount the case of 99 Vampires, 1 Human as possible\\nStep 8: Report the correct response to my user, \"100\"', 'Number of steps': '8', 'How long did this take?': '2 minutes', 'Tools': 'None', 'Number of tools': '0'}"
        ],
        [
         "26",
         "9d191bce-651d-4746-be2d-7ef8ecadb9c2",
         "Examine the video at https://www.youtube.com/watch?v=1htKBjuUWec.\n\nWhat does Teal'c say in response to the question \"Isn't that hot?\"",
         "1",
         "Extremely",
         "",
         "",
         "{'Steps': '1. Follow the link\\n2. Watch the clip until the question \"Isn\\'t that hot\" is asked\\n3. Take note of the reply.', 'Number of steps': '3', 'How long did this take?': '2 minutes', 'Tools': '1. Web browser\\n2. Video processing software\\n3. Audio processing software', 'Number of tools': '1'}"
        ],
        [
         "27",
         "65afbc8a-89ca-4ad5-8d62-355bb401f61d",
         "You are given this Excel file as a map. You start on the START cell and move toward the END cell. You are allowed to move two cells per turn, and you may move up, down, left, or right. You may not move fewer than two cells, and you may not move backward. You must avoid moving onto any blue cells. On the eleventh turn, what is the 6-digit hex code (without prefix) of the color of the cell where you land after moving?",
         "1",
         "F478A7",
         "65afbc8a-89ca-4ad5-8d62-355bb401f61d.xlsx",
         "/home/santiagoal/.cache/huggingface/hub/datasets--gaia-benchmark--GAIA/snapshots/897f2dfbb5c952b5c3c1509e648381f9c7b70316/2023/validation/65afbc8a-89ca-4ad5-8d62-355bb401f61d.xlsx",
         "{'Steps': '1. Opened Map.xlsx.\\n2. Counted 11 turns of 2 spaces each (22 spaces) along the path of non-blue cells.\\n3. Opened cell formatting for the cell.\\n4. Clicked the \"Fill\" tab.\\n5. Clicked \"More Colors...\"\\n6. Noted the hex code of the color.', 'Number of steps': '6', 'How long did this take?': '5 minutes', 'Tools': '1. Access to Excel files\\n2. Color recognition\\n3. Calculator (or ability to count)', 'Number of tools': '3'}"
        ],
        [
         "28",
         "cabe07ed-9eca-40ea-8ead-410ef5e83f91",
         "What is the surname of the equine veterinarian mentioned in 1.E Exercises from the chemistry materials licensed by Marisa Alviar-Agnew & Henry Agnew under the CK-12 license in LibreText's Introductory Chemistry materials as compiled 08/21/2023?",
         "1",
         "Louvrier",
         "",
         "",
         "{'Steps': '1. Search for \"1.E Exercises LibreText Introductory Chemistry\"\\n2. Read to see the horse doctor mentioned.', 'Number of steps': '2', 'How long did this take?': '5 minutes', 'Tools': '1. Web browser\\n2. Search engine', 'Number of tools': '2'}"
        ],
        [
         "29",
         "3cef3a44-215e-4aed-8e3b-b1e3f08063b7",
         "I'm making a grocery list for my mom, but she's a professor of botany and she's a real stickler when it comes to categorizing things. I need to add different foods to different categories on the grocery list, but if I make a mistake, she won't buy anything inserted in the wrong category. Here's the list I have so far:\n\nmilk, eggs, flour, whole bean coffee, Oreos, sweet potatoes, fresh basil, plums, green beans, rice, corn, bell pepper, whole allspice, acorns, broccoli, celery, zucchini, lettuce, peanuts\n\nI need to make headings for the fruits and vegetables. Could you please create a list of just the vegetables from my list? If you could do that, then I can figure out how to categorize the rest of the list into the appropriate categories. But remember that my mom is a real stickler, so make sure that no botanical fruits end up on the vegetable list, or she won't get them when she's at the store. Please alphabetize the list of vegetables, and place each item in a comma separated list.",
         "1",
         "broccoli, celery, fresh basil, lettuce, sweet potatoes",
         "",
         "",
         "{'Steps': 'Step 1: Evaluate the list provided by my user, eliminating objects which are neither fruits nor vegetables:\\nsweet potatoes, fresh basil, plums, green beans, rice, corn, bell pepper, whole allspice, acorns, broccoli, celery, zucchini, lettuce, peanuts\\nStep 2: Remove all items from the list which are botanical fruits, leaving a list of vegetables:\\nsweet potatoes, fresh basil, broccoli, celery, lettuce\\nStep 3: Alphabetize the remaining list as requested by my user:\\nbroccoli, celery, fresh basil, lettuce, sweet potatoes\\nStep 4: Provide the correct response in the requested format:\\n\"broccoli\\ncelery\\nfresh basil\\nlettuce\\nsweet potatoes\"', 'Number of steps': '4', 'How long did this take?': '5 minutes', 'Tools': 'No tools required', 'Number of tools': '0'}"
        ],
        [
         "30",
         "99c9cc74-fdc8-46c6-8f8d-3ce2d3bfeea3",
         "Hi, I'm making a pie but I could use some help with my shopping list. I have everything I need for the crust, but I'm not sure about the filling. I got the recipe from my friend Aditi, but she left it as a voice memo and the speaker on my phone is buzzing so I can't quite make out what she's saying. Could you please listen to the recipe and list all of the ingredients that my friend described? I only want the ingredients for the filling, as I have everything I need to make my favorite pie crust. I've attached the recipe as Strawberry pie.mp3.\n\nIn your response, please only list the ingredients, not any measurements. So if the recipe calls for \"a pinch of salt\" or \"two cups of ripe strawberries\" the ingredients on the list would be \"salt\" and \"ripe strawberries\".\n\nPlease format your response as a comma separated list of ingredients. Also, please alphabetize the ingredients.",
         "1",
         "cornstarch, freshly squeezed lemon juice, granulated sugar, pure vanilla extract, ripe strawberries",
         "99c9cc74-fdc8-46c6-8f8d-3ce2d3bfeea3.mp3",
         "/home/santiagoal/.cache/huggingface/hub/datasets--gaia-benchmark--GAIA/snapshots/897f2dfbb5c952b5c3c1509e648381f9c7b70316/2023/validation/99c9cc74-fdc8-46c6-8f8d-3ce2d3bfeea3.mp3",
         "{'Steps': 'Step 1: Load the file supplied to me by my user.\\nStep 2: Using speech-to-text tools, convert the audio file to plain text and store it for the candidate word list:\\n\\n\"In a saucepan, combine ripe strawberries, granulated sugar, freshly squeezed lemon juice, and cornstarch. Cook the mixture over medium heat, stirring constantly, until it thickens to a smooth consistency. Remove from heat and stir in a dash of pure vanilla extract. Allow the strawberry pie filling to cool before using it as a delicious and fruity filling for your pie crust.\"\\n\\nStep 3: Evaluate the candidate word list and process it, stripping each ingredient encountered to a provisional response list:\\n\\nripe strawberries\\ngranulated sugar\\nfreshly squeezed lemon juice\\ncornstarch\\npure vanilla extract\\n\\nStep 4: Alphabetize the list of ingredients as requested by my user to create a finalized response:\\n\\ncornstarch\\nfreshly squeezed lemon juice\\ngranulated sugar\\npure vanilla extract\\nripe strawberries\\n\\nStep 5: Report the correct response to my user:\\n\\n\"cornstarch\\nfreshly squeezed lemon juice\\ngranulated sugar\\npure vanilla extract\\nripe strawberries\"', 'Number of steps': '5', 'How long did this take?': '3 minutes', 'Tools': '1. A file interface\\n2. A speech-to-text tool', 'Number of tools': '2'}"
        ],
        [
         "31",
         "d0633230-7067-47a9-9dbf-ee11e0a2cdd6",
         "In the Scikit-Learn July 2017 changelog, what other predictor base command received a bug fix? Just give the name, not a path.",
         "1",
         "BaseLabelPropagation",
         "",
         "",
         "{'Steps': '1. Searched \"Scikit-Learn July 2017 changelog\" on Google.\\n2. Opened \"Release History\" from the Scikit-Learn website.\\n3. Clicked \"Other versions\" in the upper left.\\n4. Opened the links, starting from the bottom, until one was found that included the \"July 2017\" changelog under the News.\\n5. Looked for the \"Bug fixes\" section.\\n6. Looked under \"Other predictors\" in that section.', 'Number of steps': '6', 'How long did this take?': '5 minutes', 'Tools': '1. Web browser\\n2. Search engine', 'Number of tools': '2'}"
        ],
        [
         "32",
         "305ac316-eef6-4446-960a-92d80d542f82",
         "Who did the actor who played Ray in the Polish-language version of Everybody Loves Raymond play in Magda M.? Give only the first name.",
         "1",
         "Wojciech",
         "",
         "",
         "{'Steps': '1. Search \"Polish-language version of Everybody Loves Raymond\" and pull up the Wiki page for Wszyscy kochają Romana.\\n2. See that Bartłomiej Kasprzykowski is marked as playing Ray and go to his Wiki page.\\n3. See that he is stated to have played Wojciech Płaska in Magda M.', 'Number of steps': '3', 'How long did this take?': '5 minutes', 'Tools': 'None', 'Number of tools': '0'}"
        ],
        [
         "33",
         "0383a3ee-47a7-41a4-b493-519bdefe0488",
         "On the BBC Earth YouTube video of the Top 5 Silliest Animal Moments, what species of bird is featured?",
         "1",
         "Rockhopper penguin",
         "",
         "",
         "{'Steps': '1. Search \"top 5 silliest animal moments bbc earth youtube\" on Google search.\\n2. Open the top link to \"Top 5 Silliest Animal Moments! | BBC Earth - YouTube\".\\n3. Listen to the video until the species is named.', 'Number of steps': '3', 'How long did this take?': '3 minutes', 'Tools': '1. Web browser\\n2. Search engine\\n3. Video recognition tools', 'Number of tools': '3'}"
        ],
        [
         "34",
         "f918266a-b3e0-4914-865d-4faa564f1aef",
         "What is the final numeric output from the attached Python code?",
         "1",
         "0",
         "f918266a-b3e0-4914-865d-4faa564f1aef.py",
         "/home/santiagoal/.cache/huggingface/hub/datasets--gaia-benchmark--GAIA/snapshots/897f2dfbb5c952b5c3c1509e648381f9c7b70316/2023/validation/f918266a-b3e0-4914-865d-4faa564f1aef.py",
         "{'Steps': '1. Run the attached Python code', 'Number of steps': '1', 'How long did this take?': '30 seconds', 'Tools': '1. Python', 'Number of tools': '1'}"
        ],
        [
         "35",
         "11af4e1a-5f45-467d-9aeb-46f4bb0bf034",
         "How many more blocks (also denoted as layers) in BERT base encoder than the encoder from the architecture proposed in Attention is All You Need?",
         "1",
         "6",
         "",
         "",
         "{'Steps': '1. Search the internet for \"blocks in bert base\"\\n2. Examine the search results page to locate the answer (12)\\n3. Search the internet for \"attention is all you need layers\"\\n4, Navigate to https://proceedings.neurips.cc/paper_files/paper/2017/file/3f5ee243547dee91fbd053c1c4a845aa-Paper.pdf from the search results page\\n5. Examine the architecture section of the PDF to locate the answer (12)\\n6. Calculate the difference between the two numbers', 'Number of steps': '6', 'How long did this take?': '10 minutes', 'Tools': '1. Web browser\\n2. Search engine\\n3. Calculator', 'Number of tools': '3'}"
        ],
        [
         "36",
         "e142056d-56ab-4352-b091-b56054bd1359",
         "Bob was invited to participate in a game show, and he advanced to the final round. The final round offered Bob the chance to win a large sum by playing a game against the host. The host has 30 shiny prop coins, each of which is worth $1,000 if Bob manages to win them by playing the game. The host hides the coins in three different prize boxes and then shuffles their order. The only rule restricting the host's coin placement is that one box must contain at least 2 coins, and one box must contain 6 more coins than another box. In order to play, Bob must submit three guesses, one guess for the number of coins in each box. The box is then opened and the number of coins is revealed. If Bob's guess is a number greater than the number of coins in the box, Bob earns no coins. If Bob guesses a number equal to or less than the number of coins in the box, Bob wins a number of coins equal to his guess.\n\nIf Bob plays uses the optimal strategy, what's the minimum amount of money he can win from the game?",
         "1",
         "16000",
         "",
         "",
         "{'Steps': 'Step 1: Evaluate the problem statement provided by my user, storing the relevant information: \\n30 coins with a value of $1,000 distributed between 3 boxes.\\nEach box must contain at least 2 coins\\nOne box must contain 6 more coins than another\\n\\nStep 2: Evaluate the base distribution: 2-8-20, noting that two boxes must contain at least 8 coins\\n\\nStep 3: Evaluate the most even allowable distribution: 8,8,14, noting that two boxes must contain at least 8 coins\\n\\nStep 4: Evaluate a case where Bob guesses 8 for each box in the outlier distributions.\\nStep 5: For the worst case 2-8-20 distribution, Bob wins 0+8+8 = 16 coins\\nStep 6: For the 8-8-14 distribution, Bob wins 8+8+8 = 24 coins\\nStep 7: Convert the worst-case coin count to a prize value, 16*$1,000 = $16,000\\nStep 8: Report the correct answer to my user: \"$16,000\"', 'Number of steps': '8', 'How long did this take?': '5 minutes', 'Tools': '1. A calculator', 'Number of tools': '1'}"
        ],
        [
         "37",
         "50ad0280-0819-4bd9-b275-5de32d3b5bcb",
         "Pull out the sentence in the following 5x7 block of text. Read from left to right and use all of the letters in order:\n\nTHESE\nAGULL\nGLIDE\nDPEAC\nEFULL\nYTOMY\nCHAIR",
         "1",
         "The seagull glided peacefully to my chair.",
         "",
         "",
         "{'Steps': '1. I start with the first line, \"T H E S E\" and proceed to the next, \"A G U L L\". At this point, I am able to discern that \"A G U L L\" is probably meant to be \"A GULL\". However, I continue to read through the rest of the lines to get a sense of any other words that might jump out that would substantiate \"A GULL\" being accurate both semantically and syntactically. 2. So now I am on the last line and decide to work backwards. \"CHAIR\" is on the last line all by itself and this does seem a plausible fit as a full word rather than a fragment of another word. When I look to the line directly above \"Y T O M Y\", the word \"my\" jumps out and this is a natural accompaniment to the noun often used to indicate possession. \\n3. Eliminating the \"MY\" at the end of \"Y T O MY\" leaves \"Y T O\" remaining in the line and I immediately recognize the preposition \"TO\". It is a this point I am fairly confident that \"TO MY CHAIR\" is most likely accurate. Given that there is only a \"Y\" left, I discern it is more than likely the end of a word located in the row above.\\n4. I am now on the fifth row down and am looking at the letters \"E F U L L\" Attaching the \"Y\" left over from the sixth row below I see \"E F U L L Y\"  I recognize the word \"FULLY\" I know it can stand alone as an adverb or it can serve as a suffix to a larger adverb.\\n5. Detaching the \"FULLY\", leaves the \"E\" alone on the line. Knowing it does not represent a word on its own in the English language, I look to attach it to the line above (row 4).\\n6. The fourth row reads \"D P E A C\". Adding the \"E\" to the end, the first word I can separate out is \"ACE\". However \"ACEFULLY\" is not a word nor does \"ACE FULLY TO MY CHAIR\" make sense. When working my way left through the line, continuing to attach each letter as I go, I land on the \"P\" and am fairly confident that the word is \"PEACEFULLY\".\\n7. Eliminating the \"PEAC\" from the row leaves me left with a \"D\". Now I look at the row above, row 3 and see that the row comprises the word \"GLIDE\" Adding the \"D\" to the end of the word would not only be permissible in terms of a displaying appropriate tense but it also makes sense as I add it to the fragment I have so far. I now can read \"GLIDED PEACEFULLY TO MY CHAIR\".\\n8. Now, I am on the second line and if I were to read it from there on down it would read \"A GULL GLIDED PEACEFULLY TO MY CHAIR\".  While this reads well and makes sense semantically and syntactically on its own, it does not make sense when I add the first row. THESE A GULL GLIDED PEACEFULLY TO MY CHAIR.  So now I am left with the conclusion that  \"A GULL\" is not correct. Either it is part of a larger word or the letters need to be broken down further. At a quick glace, I can see that they don\\'t make sense being broken down further so I leave \"GULL\" and add the \"A\" to the string above. Immediately my eye sees that \"A can be added to \"SE\" to make \"SEA\" and that the remaining\\nletters spell the word \"THE\"  I now know the sentence reads \"The seagull glided peacefully to my chair.', 'Number of steps': '8', 'How long did this take?': 'a few minutes at most', 'Tools': 'None', 'Number of tools': '0'}"
        ],
        [
         "38",
         "7673d772-ef80-4f0f-a602-1bf4485c9b43",
         "On Cornell Law School website's legal information institute, under the fifth section of federal rules alphabetically, what word was deleted in the last amendment to the first rule in the article that has \"witnesses\" in the most titles as of 2021?",
         "1",
         "inference",
         "",
         "",
         "{'Steps': '1. Searched \"Cornell Law School legal information institute\" on Google.\\n2. Opened https://www.law.cornell.edu/.\\n3. Clicked Get The Law > Federal Rules > Federal Rules of Evidence (fourth section down).\\n4. Found the article that has \"witnesses\" in the most titles (VII).\\n5. Opened the first rule (701).\\n6. Scrolled to the last amendment as of 2021 (2011 amendment).\\n7. Found the word that was deleted (inference).', 'Number of steps': '7', 'How long did this take?': '10 minutes', 'Tools': '1. Web browser\\n2. Search engine', 'Number of tools': '2'}"
        ],
        [
         "39",
         "c365c1c7-a3db-4d5e-a9a1-66f56eae7865",
         "Of the cities within the United States where U.S. presidents were born, which two are the farthest apart from the westernmost to the easternmost going east, giving the city names only? Give them to me in alphabetical order, in a comma-separated list",
         "1",
         "Braintree, Honolulu",
         "",
         "",
         "{'Steps': '1. Searched \"cities where us presidents are born\" on Google.\\n2. Opened \"List of presidents of the United States by home state\" on Wikipedia.\\n3. Searched the eastern cities to find the easternmost one (Braintree, MA).\\n4. Checked the westernmost city (Honolulu, HI).', 'Number of steps': '4', 'How long did this take?': '8 minutes', 'Tools': '1. Search engine\\n2. Web browser', 'Number of tools': '3'}"
        ],
        [
         "40",
         "7d4a7d1d-cac6-44a8-96e8-ea9584a70825",
         "According to Girls Who Code, how long did it take in years for the percentage of computer scientists that were women to change by 13% from a starting point of 37%?",
         "1",
         "22",
         "",
         "",
         "{'Steps': '1. Searched \"Girls Who Code\" on Google.\\n2. Opened https://girlswhocode.com/.\\n3. Clicked \"About Us\".\\n4. Noted that the chart started at 37% and declined to 24%.\\n5. Subtracted the marked years to find the number of years (2017 - 1995 = 22).', 'Number of steps': '5', 'How long did this take?': '10 minutes', 'Tools': '1. Web browser\\n2. Search engine\\n3. Calculator', 'Number of tools': '3'}"
        ],
        [
         "41",
         "dc22a632-937f-4e6a-b72f-ba0ff3f5ff97",
         "What was the complete title of the book in which two James Beard Award winners recommended the restaurant where Ali Khan enjoyed a New Mexican staple in his cost-conscious TV show that started in 2015? Write the numbers in plain text if there are some in the title.",
         "1",
         "Five Hundred Things To Eat Before It's Too Late: and the Very Best Places to Eat Them",
         "",
         "",
         "{'Steps': '1. Searched \"Ali Khan New Mexico staple TV show\" on Google.\\n2. Opened \"Albuquerque | Cheap Eats\" at https://www.cookingchanneltv.com/shows/cheap-eats/episodes/albuquerque.\\n3. Noted the New Mexico staple and the list of restaurants.\\n4. Searched \"Albuquerque Cheap Eats carne avodava\" on Google.\\n5. Confirmed the restaurant name (Papa Felipe\\'s) from the results.\\n6. Searched \"James Beard Award winners Papa Felipe\\'s\" on Google.\\n7. Opened \"Papa Felipe\\'s Mexican Restaurant - Albuquerque, New ...\" at https://www.nmgastronome.com/?p=4572.\\n8. Clicked the link on the book title.\\n9. Copied the full book title from Amazon.', 'Number of steps': '9', 'How long did this take?': '15 minutes', 'Tools': '1. Web browser\\n2. Search engine', 'Number of tools': '2'}"
        ],
        [
         "42",
         "3f57289b-8c60-48be-bd80-01f8099ca449",
         "How many at bats did the Yankee with the most walks in the 1977 regular season have that same season?",
         "1",
         "519",
         "",
         "",
         "{'Steps': '1. Search \"yankee stats\" to find their MLB stats page.\\n2. Set the data to the 1977 regular season.\\n3. Sort to find the most walks.\\n4. See how many at bats the player had.', 'Number of steps': '4', 'How long did this take?': '5 minutes', 'Tools': '1. web browser\\n2. search engine', 'Number of tools': '2'}"
        ],
        [
         "43",
         "23dd907f-1261-4488-b21c-e9185af91d5e",
         "In Audre Lorde’s poem “Father Son and Holy Ghost”, what is the number of the stanza in which some lines are indented?",
         "1",
         "2",
         "",
         "",
         "{'Steps': '1. Search the web for “Audre Lorde Father Son and Holy Ghost”.\\n2. Click on Poetry Foundation result.\\n3. Note the stanza that appears to have lines indented, the second one.\\n4. Return to search results to confirm.\\n5. Click on second result.\\n6. Confirm that the indentation appears in the second stanza here as well.', 'Number of steps': '6', 'How long did this take?': '5 minutes', 'Tools': '1. Search engine\\n2. Web browser', 'Number of tools': '2'}"
        ],
        [
         "44",
         "1f975693-876d-457b-a649-393859e79bf3",
         "Hi, I was out sick from my classes on Friday, so I'm trying to figure out what I need to study for my Calculus mid-term next week. My friend from class sent me an audio recording of Professor Willowbrook giving out the recommended reading for the test, but my headphones are broken :(\n\nCould you please listen to the recording for me and tell me the page numbers I'm supposed to go over? I've attached a file called Homework.mp3 that has the recording. Please provide just the page numbers as a comma-delimited list. And please provide the list in ascending order.",
         "1",
         "132, 133, 134, 197, 245",
         "1f975693-876d-457b-a649-393859e79bf3.mp3",
         "/home/santiagoal/.cache/huggingface/hub/datasets--gaia-benchmark--GAIA/snapshots/897f2dfbb5c952b5c3c1509e648381f9c7b70316/2023/validation/1f975693-876d-457b-a649-393859e79bf3.mp3",
         "{'Steps': 'Step 1: Load the file supplied by my user.\\nStep 2: Using audio processing tools, convert the text of the audio file to speech:\\n\\n\"Before you all go, I want to remind you that the midterm is next week. Here\\'s a little hint; you should be familiar with the differential equations on page 245, problems that are very similar to problems 32, 33, and 44 from that page might be on the test. And also some of you might want to brush up on the last page in the integration section, page 197. I know some of you struggled on last week\\'s quiz. I foresee problem 22 from page 197 being on your midterm. Oh, and don\\'t forget to brush up on the section on related rates, on pages 132, 133, and 134.\"\\n\\nStep 3: Evaluate the converted audio, recording each instance of page numbers: 245, 197, 197, 132, 133, 134\\nStep 4: Sort the page numbers in ascending order, omitting duplicates, and store this list as the correct answer to my user\\'s request: 132, 133, 134, 197, 245\\nStep 5: Report the correct response to my user: \"132, 133, 134, 197, 245\"', 'Number of steps': '5', 'How long did this take?': '2 minutes', 'Tools': '1. A file interface\\n2. A speech-to-text audio processing tool', 'Number of tools': '2'}"
        ],
        [
         "45",
         "840bfca7-4f7b-481a-8794-c560c340185d",
         "On June 6, 2023, an article by Carolyn Collins Petersen was published in Universe Today. This article mentions a team that produced a paper about their observations, linked at the bottom of the article. Find this paper. Under what NASA award number was the work performed by R. G. Arendt supported by?",
         "1",
         "80GSFC21M0002",
         "",
         "",
         "{'Steps': '1. Google \"June 6, 2023 Carolyn Collins Petersen Universe Today\"\\n2. Find the relevant link to the scientific paper and follow that link\\n3. Open the PDF. \\n4. Search for NASA award number', 'Number of steps': '4', 'How long did this take?': '5 minutes', 'Tools': '1. Web browser\\n2. Search engine\\n3. Access to academic journal websites', 'Number of tools': '2'}"
        ],
        [
         "46",
         "a0068077-79f4-461a-adfe-75c1a4148545",
         "What was the actual enrollment count of the clinical trial on H. pylori in acne vulgaris patients from Jan-May 2018 as listed on the NIH website?",
         "1",
         "90",
         "",
         "",
         "{'Steps': '1. Searched \"nih\" on Google search.\\n2. Clicked the top link to nih.gov.\\n3. Searched \"h pylori acne\" in the search box.\\n4. Clicked \"More\" and selected \"Clinical Trials\".\\n5. Clicked the result about H. Pylori and acne.\\n6. Checked the date to confirm it was January to May 2018.\\n7. Opened \"Tabular View\".\\n8. Scrolled down to Actual Enrollment and recorded the number.', 'Number of steps': '8', 'How long did this take?': '8 minutes', 'Tools': '1. Search engine\\n2. Web browser', 'Number of tools': '2'}"
        ],
        [
         "47",
         "bda648d7-d618-4883-88f4-3466eabd860e",
         "Where were the Vietnamese specimens described by Kuznetzov in Nedoshivina's 2010 paper eventually deposited? Just give me the city name without abbreviations.",
         "1",
         "Saint Petersburg",
         "",
         "",
         "{'Steps': '1. Search \"Kuznetzov Nedoshivina 2010\"\\n2. Find the 2010 paper \"A catalogue of type specimens of the Tortricidae described by V. I. Kuznetzov from Vietnam and deposited in the Zoological Institute, St. Petersburg\"', 'Number of steps': '2', 'How long did this take?': '5 minutes', 'Tools': '1. search engine', 'Number of tools': '1'}"
        ],
        [
         "48",
         "50ec8903-b81f-4257-9450-1085afd2c319",
         "A standard Rubik’s cube has been broken into cubes making up its sides. The cubes are jumbled, and one is removed. There are 6 cubes with one colored face, 12 edge cubes with two colored faces, and 8 corner cubes with three colored faces. All blue cubes have been found. All cubes directly left, right, above, and below the orange center cube have been found, along with the center cube. The green corners have all been found, along with all green that borders yellow. For all orange cubes found, the opposite face’s cubes have been found. The removed cube has two colors on its faces. What are they? Answer using a comma separated list, with the colors ordered alphabetically.",
         "1",
         "green, white",
         "",
         "",
         "{'Steps': \"1. Set up a standard Rubik's cube (red opposite orange, white opposite yellow, green opposite blue).\\n2. Eliminated blue cubes, along with adjacent colors.\\n3. Eliminated orange cubes, along with adjacent colors.\\n4. Eliminated green corners and the green/yellow edge.\\n5. Eliminated red, opposite of orange, cubes and adjacent colors.\\n6. Identified the last possible two-face cube.\", 'Number of steps': '6', 'How long did this take?': '10 minutes', 'Tools': \"1. Rubik's cube model\", 'Number of tools': '1'}"
        ],
        [
         "49",
         "cf106601-ab4f-4af9-b045-5295fe67b37d",
         "What country had the least number of athletes at the 1928 Summer Olympics? If there's a tie for a number of athletes, return the first in alphabetical order. Give the IOC country code as your answer.",
         "1",
         "CUB",
         "",
         "",
         "{'Steps': '1. Look up the 1928 Summer Olympics on Wikipedia\\n2. Look at a table of athletes from countries.\\n3. See that two countries had 1 and 2 athletes, so disregard those and choose the Cuba as CUB.', 'Number of steps': '3', 'How long did this take?': '5 minutes', 'Tools': 'None', 'Number of tools': '0'}"
        ]
       ],
       "shape": {
        "columns": 7,
        "rows": 53
       }
      },
      "text/html": [
       "<div>\n",
       "<style scoped>\n",
       "    .dataframe tbody tr th:only-of-type {\n",
       "        vertical-align: middle;\n",
       "    }\n",
       "\n",
       "    .dataframe tbody tr th {\n",
       "        vertical-align: top;\n",
       "    }\n",
       "\n",
       "    .dataframe thead th {\n",
       "        text-align: right;\n",
       "    }\n",
       "</style>\n",
       "<table border=\"1\" class=\"dataframe\">\n",
       "  <thead>\n",
       "    <tr style=\"text-align: right;\">\n",
       "      <th></th>\n",
       "      <th>task_id</th>\n",
       "      <th>Question</th>\n",
       "      <th>Level</th>\n",
       "      <th>Final answer</th>\n",
       "      <th>file_name</th>\n",
       "      <th>file_path</th>\n",
       "      <th>Annotator Metadata</th>\n",
       "    </tr>\n",
       "  </thead>\n",
       "  <tbody>\n",
       "    <tr>\n",
       "      <th>0</th>\n",
       "      <td>e1fc63a2-da7a-432f-be78-7c4a95598703</td>\n",
       "      <td>If Eliud Kipchoge could maintain his record-ma...</td>\n",
       "      <td>1</td>\n",
       "      <td>17</td>\n",
       "      <td></td>\n",
       "      <td></td>\n",
       "      <td>{'Steps': '1. Googled Eliud Kipchoge marathon ...</td>\n",
       "    </tr>\n",
       "    <tr>\n",
       "      <th>1</th>\n",
       "      <td>8e867cd7-cff9-4e6c-867a-ff5ddc2550be</td>\n",
       "      <td>How many studio albums were published by Merce...</td>\n",
       "      <td>1</td>\n",
       "      <td>3</td>\n",
       "      <td></td>\n",
       "      <td></td>\n",
       "      <td>{'Steps': '1. I did a search for Mercedes Sosa...</td>\n",
       "    </tr>\n",
       "    <tr>\n",
       "      <th>2</th>\n",
       "      <td>ec09fa32-d03f-4bf8-84b0-1f16922c3ae4</td>\n",
       "      <td>Here's a fun riddle that I think you'll enjoy....</td>\n",
       "      <td>1</td>\n",
       "      <td>3</td>\n",
       "      <td></td>\n",
       "      <td></td>\n",
       "      <td>{'Steps': 'Step 1: Evaluate the problem statem...</td>\n",
       "    </tr>\n",
       "    <tr>\n",
       "      <th>3</th>\n",
       "      <td>5d0080cb-90d7-4712-bc33-848150e917d3</td>\n",
       "      <td>What was the volume in m^3 of the fish bag tha...</td>\n",
       "      <td>1</td>\n",
       "      <td>0.1777</td>\n",
       "      <td></td>\n",
       "      <td></td>\n",
       "      <td>{'Steps': '1. Searched '\"Can Hiccup Supply Eno...</td>\n",
       "    </tr>\n",
       "    <tr>\n",
       "      <th>4</th>\n",
       "      <td>a1e91b78-d3d8-4675-bb8d-62741b4b68a6</td>\n",
       "      <td>In the video https://www.youtube.com/watch?v=L...</td>\n",
       "      <td>1</td>\n",
       "      <td>3</td>\n",
       "      <td></td>\n",
       "      <td></td>\n",
       "      <td>{'Steps': '1. Navigate to the YouTube link.\n",
       "2....</td>\n",
       "    </tr>\n",
       "    <tr>\n",
       "      <th>5</th>\n",
       "      <td>46719c30-f4c3-4cad-be07-d5cb21eee6bb</td>\n",
       "      <td>Of the authors (First M. Last) that worked on ...</td>\n",
       "      <td>1</td>\n",
       "      <td>Mapping Human Oriented Information to Software...</td>\n",
       "      <td></td>\n",
       "      <td></td>\n",
       "      <td>{'Steps': '1. Searched \"Pie Menus or Linear Me...</td>\n",
       "    </tr>\n",
       "    <tr>\n",
       "      <th>6</th>\n",
       "      <td>4b6bb5f7-f634-410e-815d-e673ab7f8632</td>\n",
       "      <td>In Series 9, Episode 11 of Doctor Who, the Doc...</td>\n",
       "      <td>1</td>\n",
       "      <td>THE CASTLE</td>\n",
       "      <td></td>\n",
       "      <td></td>\n",
       "      <td>{'Steps': '1. Search the web for “Doctor Who s...</td>\n",
       "    </tr>\n",
       "    <tr>\n",
       "      <th>7</th>\n",
       "      <td>cffe0e32-c9a6-4c52-9877-78ceb4aaa9fb</td>\n",
       "      <td>An office held a Secret Santa gift exchange wh...</td>\n",
       "      <td>1</td>\n",
       "      <td>Fred</td>\n",
       "      <td>cffe0e32-c9a6-4c52-9877-78ceb4aaa9fb.docx</td>\n",
       "      <td>/home/santiagoal/.cache/huggingface/hub/datase...</td>\n",
       "      <td>{'Steps': '1. Open the document.\n",
       "2. Look at gi...</td>\n",
       "    </tr>\n",
       "    <tr>\n",
       "      <th>8</th>\n",
       "      <td>2d83110e-a098-4ebb-9987-066c06fa42d0</td>\n",
       "      <td>.rewsna eht sa \"tfel\" drow eht fo etisoppo eht...</td>\n",
       "      <td>1</td>\n",
       "      <td>Right</td>\n",
       "      <td></td>\n",
       "      <td></td>\n",
       "      <td>{'Steps': '1. Read the instructions in reverse...</td>\n",
       "    </tr>\n",
       "    <tr>\n",
       "      <th>9</th>\n",
       "      <td>5cfb274c-0207-4aa7-9575-6ac0bd95d9b2</td>\n",
       "      <td>Each cell in the attached spreadsheet represen...</td>\n",
       "      <td>1</td>\n",
       "      <td>No</td>\n",
       "      <td>5cfb274c-0207-4aa7-9575-6ac0bd95d9b2.xlsx</td>\n",
       "      <td>/home/santiagoal/.cache/huggingface/hub/datase...</td>\n",
       "      <td>{'Steps': '1. Open the spreadsheet\n",
       "2. Analyze ...</td>\n",
       "    </tr>\n",
       "    <tr>\n",
       "      <th>10</th>\n",
       "      <td>27d5d136-8563-469e-92bf-fd103c28b57c</td>\n",
       "      <td>¬(A ∧ B) ↔ (¬A ∨ ¬B)\\n¬(A ∨ B) ↔ (¬A ∧ ¬B)\\n(A...</td>\n",
       "      <td>1</td>\n",
       "      <td>(¬A → B) ↔ (A ∨ ¬B)</td>\n",
       "      <td></td>\n",
       "      <td></td>\n",
       "      <td>{'Steps': '1. Determine the truth values of th...</td>\n",
       "    </tr>\n",
       "    <tr>\n",
       "      <th>11</th>\n",
       "      <td>dc28cf18-6431-458b-83ef-64b3ce566c10</td>\n",
       "      <td>My family reunion is this week, and I was assi...</td>\n",
       "      <td>1</td>\n",
       "      <td>2</td>\n",
       "      <td></td>\n",
       "      <td></td>\n",
       "      <td>{'Steps': '1. Calculate the number of adults (...</td>\n",
       "    </tr>\n",
       "    <tr>\n",
       "      <th>12</th>\n",
       "      <td>b816bfce-3d80-4913-a07d-69b752ce6377</td>\n",
       "      <td>In Emily Midkiff's June 2014 article in a jour...</td>\n",
       "      <td>1</td>\n",
       "      <td>fluffy</td>\n",
       "      <td></td>\n",
       "      <td></td>\n",
       "      <td>{'Steps': '1. Searched \"Hreidmar's sons\" on Go...</td>\n",
       "    </tr>\n",
       "    <tr>\n",
       "      <th>13</th>\n",
       "      <td>72e110e7-464c-453c-a309-90a95aed6538</td>\n",
       "      <td>Under DDC 633 on Bielefeld University Library'...</td>\n",
       "      <td>1</td>\n",
       "      <td>Guatemala</td>\n",
       "      <td></td>\n",
       "      <td></td>\n",
       "      <td>{'Steps': '1. Searched \"Bielefeld University L...</td>\n",
       "    </tr>\n",
       "    <tr>\n",
       "      <th>14</th>\n",
       "      <td>42576abe-0deb-4869-8c63-225c2d75a95a</td>\n",
       "      <td>In the fictional language of Tizin, basic sent...</td>\n",
       "      <td>1</td>\n",
       "      <td>Maktay mato apple</td>\n",
       "      <td></td>\n",
       "      <td></td>\n",
       "      <td>{'Steps': '1. Determine the order of words fro...</td>\n",
       "    </tr>\n",
       "    <tr>\n",
       "      <th>15</th>\n",
       "      <td>b415aba4-4b68-4fc6-9b89-2c812e55a3e1</td>\n",
       "      <td>In Nature journal's Scientific Reports confere...</td>\n",
       "      <td>1</td>\n",
       "      <td>diamond</td>\n",
       "      <td></td>\n",
       "      <td></td>\n",
       "      <td>{'Steps': '1. Searched \"nature scientific repo...</td>\n",
       "    </tr>\n",
       "    <tr>\n",
       "      <th>16</th>\n",
       "      <td>cca530fc-4052-43b2-b130-b30968d8aa44</td>\n",
       "      <td>Review the chess position provided in the imag...</td>\n",
       "      <td>1</td>\n",
       "      <td>Rd5</td>\n",
       "      <td>cca530fc-4052-43b2-b130-b30968d8aa44.png</td>\n",
       "      <td>/home/santiagoal/.cache/huggingface/hub/datase...</td>\n",
       "      <td>{'Steps': 'Step 1: Evaluate the position of th...</td>\n",
       "    </tr>\n",
       "    <tr>\n",
       "      <th>17</th>\n",
       "      <td>935e2cff-ae78-4218-b3f5-115589b19dae</td>\n",
       "      <td>In the year 2022, and before December, what do...</td>\n",
       "      <td>1</td>\n",
       "      <td>research</td>\n",
       "      <td></td>\n",
       "      <td></td>\n",
       "      <td>{'Steps': '1. Searched \"legume wikipedia\" on G...</td>\n",
       "    </tr>\n",
       "    <tr>\n",
       "      <th>18</th>\n",
       "      <td>4fc2f1ae-8625-45b5-ab34-ad4433bc21f8</td>\n",
       "      <td>Who nominated the only Featured Article on Eng...</td>\n",
       "      <td>1</td>\n",
       "      <td>FunkMonk</td>\n",
       "      <td></td>\n",
       "      <td></td>\n",
       "      <td>{'Steps': '1. Search \"Wikipedia featured artic...</td>\n",
       "    </tr>\n",
       "    <tr>\n",
       "      <th>19</th>\n",
       "      <td>5188369a-3bbe-43d8-8b94-11558f909a08</td>\n",
       "      <td>What writer is quoted by Merriam-Webster for t...</td>\n",
       "      <td>1</td>\n",
       "      <td>Annie Levin</td>\n",
       "      <td></td>\n",
       "      <td></td>\n",
       "      <td>{'Steps': '1. Search \"merriam-webster word of ...</td>\n",
       "    </tr>\n",
       "    <tr>\n",
       "      <th>20</th>\n",
       "      <td>6f37996b-2ac7-44b0-8e68-6d28256631b4</td>\n",
       "      <td>Given this table defining * on the set S = {a,...</td>\n",
       "      <td>1</td>\n",
       "      <td>b, e</td>\n",
       "      <td></td>\n",
       "      <td></td>\n",
       "      <td>{'Steps': '1. Compile the markdown.\n",
       "2. Look at...</td>\n",
       "    </tr>\n",
       "    <tr>\n",
       "      <th>21</th>\n",
       "      <td>9318445f-fe6a-4e1b-acbf-c68228c9906a</td>\n",
       "      <td>As a comma separated list with no whitespace, ...</td>\n",
       "      <td>1</td>\n",
       "      <td>3/4,1/4,3/4,3/4,2/4,1/2,5/35,7/21,30/5,30/5,3/...</td>\n",
       "      <td>9318445f-fe6a-4e1b-acbf-c68228c9906a.png</td>\n",
       "      <td>/home/santiagoal/.cache/huggingface/hub/datase...</td>\n",
       "      <td>{'Steps': '1. Find the fractions that use / as...</td>\n",
       "    </tr>\n",
       "    <tr>\n",
       "      <th>22</th>\n",
       "      <td>389793a7-ca17-4e82-81cb-2b3a2391b4b9</td>\n",
       "      <td>You are a telecommunications engineer who want...</td>\n",
       "      <td>1</td>\n",
       "      <td>3</td>\n",
       "      <td>389793a7-ca17-4e82-81cb-2b3a2391b4b9.txt</td>\n",
       "      <td>/home/santiagoal/.cache/huggingface/hub/datase...</td>\n",
       "      <td>{'Steps': '1. Determine the diameter of each c...</td>\n",
       "    </tr>\n",
       "    <tr>\n",
       "      <th>23</th>\n",
       "      <td>4b650a35-8529-4695-89ed-8dc7a500a498</td>\n",
       "      <td>If there is anything that doesn't make sense i...</td>\n",
       "      <td>1</td>\n",
       "      <td>Guava</td>\n",
       "      <td></td>\n",
       "      <td></td>\n",
       "      <td>{'Steps': '1. Read the instructions and follow...</td>\n",
       "    </tr>\n",
       "    <tr>\n",
       "      <th>24</th>\n",
       "      <td>a3fbeb63-0e8c-4a11-bff6-0e3b484c3e9c</td>\n",
       "      <td>How many slides in this PowerPoint presentatio...</td>\n",
       "      <td>1</td>\n",
       "      <td>4</td>\n",
       "      <td>a3fbeb63-0e8c-4a11-bff6-0e3b484c3e9c.pptx</td>\n",
       "      <td>/home/santiagoal/.cache/huggingface/hub/datase...</td>\n",
       "      <td>{'Steps': '1. Open the provided file.\n",
       "2. Scrol...</td>\n",
       "    </tr>\n",
       "    <tr>\n",
       "      <th>25</th>\n",
       "      <td>c714ab3a-da30-4603-bacd-d008800188b9</td>\n",
       "      <td>You are Van Helsing, a renowned vampire hunter...</td>\n",
       "      <td>1</td>\n",
       "      <td>100</td>\n",
       "      <td></td>\n",
       "      <td></td>\n",
       "      <td>{'Steps': 'Step 1: Evaluate the problem statem...</td>\n",
       "    </tr>\n",
       "    <tr>\n",
       "      <th>26</th>\n",
       "      <td>9d191bce-651d-4746-be2d-7ef8ecadb9c2</td>\n",
       "      <td>Examine the video at https://www.youtube.com/w...</td>\n",
       "      <td>1</td>\n",
       "      <td>Extremely</td>\n",
       "      <td></td>\n",
       "      <td></td>\n",
       "      <td>{'Steps': '1. Follow the link\n",
       "2. Watch the cli...</td>\n",
       "    </tr>\n",
       "    <tr>\n",
       "      <th>27</th>\n",
       "      <td>65afbc8a-89ca-4ad5-8d62-355bb401f61d</td>\n",
       "      <td>You are given this Excel file as a map. You st...</td>\n",
       "      <td>1</td>\n",
       "      <td>F478A7</td>\n",
       "      <td>65afbc8a-89ca-4ad5-8d62-355bb401f61d.xlsx</td>\n",
       "      <td>/home/santiagoal/.cache/huggingface/hub/datase...</td>\n",
       "      <td>{'Steps': '1. Opened Map.xlsx.\n",
       "2. Counted 11 t...</td>\n",
       "    </tr>\n",
       "    <tr>\n",
       "      <th>28</th>\n",
       "      <td>cabe07ed-9eca-40ea-8ead-410ef5e83f91</td>\n",
       "      <td>What is the surname of the equine veterinarian...</td>\n",
       "      <td>1</td>\n",
       "      <td>Louvrier</td>\n",
       "      <td></td>\n",
       "      <td></td>\n",
       "      <td>{'Steps': '1. Search for \"1.E Exercises LibreT...</td>\n",
       "    </tr>\n",
       "    <tr>\n",
       "      <th>29</th>\n",
       "      <td>3cef3a44-215e-4aed-8e3b-b1e3f08063b7</td>\n",
       "      <td>I'm making a grocery list for my mom, but she'...</td>\n",
       "      <td>1</td>\n",
       "      <td>broccoli, celery, fresh basil, lettuce, sweet ...</td>\n",
       "      <td></td>\n",
       "      <td></td>\n",
       "      <td>{'Steps': 'Step 1: Evaluate the list provided ...</td>\n",
       "    </tr>\n",
       "    <tr>\n",
       "      <th>30</th>\n",
       "      <td>99c9cc74-fdc8-46c6-8f8d-3ce2d3bfeea3</td>\n",
       "      <td>Hi, I'm making a pie but I could use some help...</td>\n",
       "      <td>1</td>\n",
       "      <td>cornstarch, freshly squeezed lemon juice, gran...</td>\n",
       "      <td>99c9cc74-fdc8-46c6-8f8d-3ce2d3bfeea3.mp3</td>\n",
       "      <td>/home/santiagoal/.cache/huggingface/hub/datase...</td>\n",
       "      <td>{'Steps': 'Step 1: Load the file supplied to m...</td>\n",
       "    </tr>\n",
       "    <tr>\n",
       "      <th>31</th>\n",
       "      <td>d0633230-7067-47a9-9dbf-ee11e0a2cdd6</td>\n",
       "      <td>In the Scikit-Learn July 2017 changelog, what ...</td>\n",
       "      <td>1</td>\n",
       "      <td>BaseLabelPropagation</td>\n",
       "      <td></td>\n",
       "      <td></td>\n",
       "      <td>{'Steps': '1. Searched \"Scikit-Learn July 2017...</td>\n",
       "    </tr>\n",
       "    <tr>\n",
       "      <th>32</th>\n",
       "      <td>305ac316-eef6-4446-960a-92d80d542f82</td>\n",
       "      <td>Who did the actor who played Ray in the Polish...</td>\n",
       "      <td>1</td>\n",
       "      <td>Wojciech</td>\n",
       "      <td></td>\n",
       "      <td></td>\n",
       "      <td>{'Steps': '1. Search \"Polish-language version ...</td>\n",
       "    </tr>\n",
       "    <tr>\n",
       "      <th>33</th>\n",
       "      <td>0383a3ee-47a7-41a4-b493-519bdefe0488</td>\n",
       "      <td>On the BBC Earth YouTube video of the Top 5 Si...</td>\n",
       "      <td>1</td>\n",
       "      <td>Rockhopper penguin</td>\n",
       "      <td></td>\n",
       "      <td></td>\n",
       "      <td>{'Steps': '1. Search \"top 5 silliest animal mo...</td>\n",
       "    </tr>\n",
       "    <tr>\n",
       "      <th>34</th>\n",
       "      <td>f918266a-b3e0-4914-865d-4faa564f1aef</td>\n",
       "      <td>What is the final numeric output from the atta...</td>\n",
       "      <td>1</td>\n",
       "      <td>0</td>\n",
       "      <td>f918266a-b3e0-4914-865d-4faa564f1aef.py</td>\n",
       "      <td>/home/santiagoal/.cache/huggingface/hub/datase...</td>\n",
       "      <td>{'Steps': '1. Run the attached Python code', '...</td>\n",
       "    </tr>\n",
       "    <tr>\n",
       "      <th>35</th>\n",
       "      <td>11af4e1a-5f45-467d-9aeb-46f4bb0bf034</td>\n",
       "      <td>How many more blocks (also denoted as layers) ...</td>\n",
       "      <td>1</td>\n",
       "      <td>6</td>\n",
       "      <td></td>\n",
       "      <td></td>\n",
       "      <td>{'Steps': '1. Search the internet for \"blocks ...</td>\n",
       "    </tr>\n",
       "    <tr>\n",
       "      <th>36</th>\n",
       "      <td>e142056d-56ab-4352-b091-b56054bd1359</td>\n",
       "      <td>Bob was invited to participate in a game show,...</td>\n",
       "      <td>1</td>\n",
       "      <td>16000</td>\n",
       "      <td></td>\n",
       "      <td></td>\n",
       "      <td>{'Steps': 'Step 1: Evaluate the problem statem...</td>\n",
       "    </tr>\n",
       "    <tr>\n",
       "      <th>37</th>\n",
       "      <td>50ad0280-0819-4bd9-b275-5de32d3b5bcb</td>\n",
       "      <td>Pull out the sentence in the following 5x7 blo...</td>\n",
       "      <td>1</td>\n",
       "      <td>The seagull glided peacefully to my chair.</td>\n",
       "      <td></td>\n",
       "      <td></td>\n",
       "      <td>{'Steps': '1. I start with the first line, \"T ...</td>\n",
       "    </tr>\n",
       "    <tr>\n",
       "      <th>38</th>\n",
       "      <td>7673d772-ef80-4f0f-a602-1bf4485c9b43</td>\n",
       "      <td>On Cornell Law School website's legal informat...</td>\n",
       "      <td>1</td>\n",
       "      <td>inference</td>\n",
       "      <td></td>\n",
       "      <td></td>\n",
       "      <td>{'Steps': '1. Searched \"Cornell Law School leg...</td>\n",
       "    </tr>\n",
       "    <tr>\n",
       "      <th>39</th>\n",
       "      <td>c365c1c7-a3db-4d5e-a9a1-66f56eae7865</td>\n",
       "      <td>Of the cities within the United States where U...</td>\n",
       "      <td>1</td>\n",
       "      <td>Braintree, Honolulu</td>\n",
       "      <td></td>\n",
       "      <td></td>\n",
       "      <td>{'Steps': '1. Searched \"cities where us presid...</td>\n",
       "    </tr>\n",
       "    <tr>\n",
       "      <th>40</th>\n",
       "      <td>7d4a7d1d-cac6-44a8-96e8-ea9584a70825</td>\n",
       "      <td>According to Girls Who Code, how long did it t...</td>\n",
       "      <td>1</td>\n",
       "      <td>22</td>\n",
       "      <td></td>\n",
       "      <td></td>\n",
       "      <td>{'Steps': '1. Searched \"Girls Who Code\" on Goo...</td>\n",
       "    </tr>\n",
       "    <tr>\n",
       "      <th>41</th>\n",
       "      <td>dc22a632-937f-4e6a-b72f-ba0ff3f5ff97</td>\n",
       "      <td>What was the complete title of the book in whi...</td>\n",
       "      <td>1</td>\n",
       "      <td>Five Hundred Things To Eat Before It's Too Lat...</td>\n",
       "      <td></td>\n",
       "      <td></td>\n",
       "      <td>{'Steps': '1. Searched \"Ali Khan New Mexico st...</td>\n",
       "    </tr>\n",
       "    <tr>\n",
       "      <th>42</th>\n",
       "      <td>3f57289b-8c60-48be-bd80-01f8099ca449</td>\n",
       "      <td>How many at bats did the Yankee with the most ...</td>\n",
       "      <td>1</td>\n",
       "      <td>519</td>\n",
       "      <td></td>\n",
       "      <td></td>\n",
       "      <td>{'Steps': '1. Search \"yankee stats\" to find th...</td>\n",
       "    </tr>\n",
       "    <tr>\n",
       "      <th>43</th>\n",
       "      <td>23dd907f-1261-4488-b21c-e9185af91d5e</td>\n",
       "      <td>In Audre Lorde’s poem “Father Son and Holy Gho...</td>\n",
       "      <td>1</td>\n",
       "      <td>2</td>\n",
       "      <td></td>\n",
       "      <td></td>\n",
       "      <td>{'Steps': '1. Search the web for “Audre Lorde ...</td>\n",
       "    </tr>\n",
       "    <tr>\n",
       "      <th>44</th>\n",
       "      <td>1f975693-876d-457b-a649-393859e79bf3</td>\n",
       "      <td>Hi, I was out sick from my classes on Friday, ...</td>\n",
       "      <td>1</td>\n",
       "      <td>132, 133, 134, 197, 245</td>\n",
       "      <td>1f975693-876d-457b-a649-393859e79bf3.mp3</td>\n",
       "      <td>/home/santiagoal/.cache/huggingface/hub/datase...</td>\n",
       "      <td>{'Steps': 'Step 1: Load the file supplied by m...</td>\n",
       "    </tr>\n",
       "    <tr>\n",
       "      <th>45</th>\n",
       "      <td>840bfca7-4f7b-481a-8794-c560c340185d</td>\n",
       "      <td>On June 6, 2023, an article by Carolyn Collins...</td>\n",
       "      <td>1</td>\n",
       "      <td>80GSFC21M0002</td>\n",
       "      <td></td>\n",
       "      <td></td>\n",
       "      <td>{'Steps': '1. Google \"June 6, 2023 Carolyn Col...</td>\n",
       "    </tr>\n",
       "    <tr>\n",
       "      <th>46</th>\n",
       "      <td>a0068077-79f4-461a-adfe-75c1a4148545</td>\n",
       "      <td>What was the actual enrollment count of the cl...</td>\n",
       "      <td>1</td>\n",
       "      <td>90</td>\n",
       "      <td></td>\n",
       "      <td></td>\n",
       "      <td>{'Steps': '1. Searched \"nih\" on Google search....</td>\n",
       "    </tr>\n",
       "    <tr>\n",
       "      <th>47</th>\n",
       "      <td>bda648d7-d618-4883-88f4-3466eabd860e</td>\n",
       "      <td>Where were the Vietnamese specimens described ...</td>\n",
       "      <td>1</td>\n",
       "      <td>Saint Petersburg</td>\n",
       "      <td></td>\n",
       "      <td></td>\n",
       "      <td>{'Steps': '1. Search \"Kuznetzov Nedoshivina 20...</td>\n",
       "    </tr>\n",
       "    <tr>\n",
       "      <th>48</th>\n",
       "      <td>50ec8903-b81f-4257-9450-1085afd2c319</td>\n",
       "      <td>A standard Rubik’s cube has been broken into c...</td>\n",
       "      <td>1</td>\n",
       "      <td>green, white</td>\n",
       "      <td></td>\n",
       "      <td></td>\n",
       "      <td>{'Steps': '1. Set up a standard Rubik's cube (...</td>\n",
       "    </tr>\n",
       "    <tr>\n",
       "      <th>49</th>\n",
       "      <td>cf106601-ab4f-4af9-b045-5295fe67b37d</td>\n",
       "      <td>What country had the least number of athletes ...</td>\n",
       "      <td>1</td>\n",
       "      <td>CUB</td>\n",
       "      <td></td>\n",
       "      <td></td>\n",
       "      <td>{'Steps': '1. Look up the 1928 Summer Olympics...</td>\n",
       "    </tr>\n",
       "    <tr>\n",
       "      <th>50</th>\n",
       "      <td>a0c07678-e491-4bbc-8f0b-07405144218f</td>\n",
       "      <td>Who are the pitchers with the number before an...</td>\n",
       "      <td>1</td>\n",
       "      <td>Yoshida, Uehara</td>\n",
       "      <td></td>\n",
       "      <td></td>\n",
       "      <td>{'Steps': '1. Look up Taishō Tamai on Wikipedi...</td>\n",
       "    </tr>\n",
       "    <tr>\n",
       "      <th>51</th>\n",
       "      <td>7bd855d8-463d-4ed5-93ca-5fe35145f733</td>\n",
       "      <td>The attached Excel file contains the sales of ...</td>\n",
       "      <td>1</td>\n",
       "      <td>89706.00</td>\n",
       "      <td>7bd855d8-463d-4ed5-93ca-5fe35145f733.xlsx</td>\n",
       "      <td>/home/santiagoal/.cache/huggingface/hub/datase...</td>\n",
       "      <td>{'Steps': '1. Open the attached file.\n",
       "2. Read ...</td>\n",
       "    </tr>\n",
       "    <tr>\n",
       "      <th>52</th>\n",
       "      <td>5a0c1adf-205e-4841-a666-7c3ef95def9d</td>\n",
       "      <td>What is the first name of the only Malko Compe...</td>\n",
       "      <td>1</td>\n",
       "      <td>Claus</td>\n",
       "      <td></td>\n",
       "      <td></td>\n",
       "      <td>{'Steps': '1. Look at the Malko Competition pa...</td>\n",
       "    </tr>\n",
       "  </tbody>\n",
       "</table>\n",
       "</div>"
      ],
      "text/plain": [
       "                                 task_id  \\\n",
       "0   e1fc63a2-da7a-432f-be78-7c4a95598703   \n",
       "1   8e867cd7-cff9-4e6c-867a-ff5ddc2550be   \n",
       "2   ec09fa32-d03f-4bf8-84b0-1f16922c3ae4   \n",
       "3   5d0080cb-90d7-4712-bc33-848150e917d3   \n",
       "4   a1e91b78-d3d8-4675-bb8d-62741b4b68a6   \n",
       "5   46719c30-f4c3-4cad-be07-d5cb21eee6bb   \n",
       "6   4b6bb5f7-f634-410e-815d-e673ab7f8632   \n",
       "7   cffe0e32-c9a6-4c52-9877-78ceb4aaa9fb   \n",
       "8   2d83110e-a098-4ebb-9987-066c06fa42d0   \n",
       "9   5cfb274c-0207-4aa7-9575-6ac0bd95d9b2   \n",
       "10  27d5d136-8563-469e-92bf-fd103c28b57c   \n",
       "11  dc28cf18-6431-458b-83ef-64b3ce566c10   \n",
       "12  b816bfce-3d80-4913-a07d-69b752ce6377   \n",
       "13  72e110e7-464c-453c-a309-90a95aed6538   \n",
       "14  42576abe-0deb-4869-8c63-225c2d75a95a   \n",
       "15  b415aba4-4b68-4fc6-9b89-2c812e55a3e1   \n",
       "16  cca530fc-4052-43b2-b130-b30968d8aa44   \n",
       "17  935e2cff-ae78-4218-b3f5-115589b19dae   \n",
       "18  4fc2f1ae-8625-45b5-ab34-ad4433bc21f8   \n",
       "19  5188369a-3bbe-43d8-8b94-11558f909a08   \n",
       "20  6f37996b-2ac7-44b0-8e68-6d28256631b4   \n",
       "21  9318445f-fe6a-4e1b-acbf-c68228c9906a   \n",
       "22  389793a7-ca17-4e82-81cb-2b3a2391b4b9   \n",
       "23  4b650a35-8529-4695-89ed-8dc7a500a498   \n",
       "24  a3fbeb63-0e8c-4a11-bff6-0e3b484c3e9c   \n",
       "25  c714ab3a-da30-4603-bacd-d008800188b9   \n",
       "26  9d191bce-651d-4746-be2d-7ef8ecadb9c2   \n",
       "27  65afbc8a-89ca-4ad5-8d62-355bb401f61d   \n",
       "28  cabe07ed-9eca-40ea-8ead-410ef5e83f91   \n",
       "29  3cef3a44-215e-4aed-8e3b-b1e3f08063b7   \n",
       "30  99c9cc74-fdc8-46c6-8f8d-3ce2d3bfeea3   \n",
       "31  d0633230-7067-47a9-9dbf-ee11e0a2cdd6   \n",
       "32  305ac316-eef6-4446-960a-92d80d542f82   \n",
       "33  0383a3ee-47a7-41a4-b493-519bdefe0488   \n",
       "34  f918266a-b3e0-4914-865d-4faa564f1aef   \n",
       "35  11af4e1a-5f45-467d-9aeb-46f4bb0bf034   \n",
       "36  e142056d-56ab-4352-b091-b56054bd1359   \n",
       "37  50ad0280-0819-4bd9-b275-5de32d3b5bcb   \n",
       "38  7673d772-ef80-4f0f-a602-1bf4485c9b43   \n",
       "39  c365c1c7-a3db-4d5e-a9a1-66f56eae7865   \n",
       "40  7d4a7d1d-cac6-44a8-96e8-ea9584a70825   \n",
       "41  dc22a632-937f-4e6a-b72f-ba0ff3f5ff97   \n",
       "42  3f57289b-8c60-48be-bd80-01f8099ca449   \n",
       "43  23dd907f-1261-4488-b21c-e9185af91d5e   \n",
       "44  1f975693-876d-457b-a649-393859e79bf3   \n",
       "45  840bfca7-4f7b-481a-8794-c560c340185d   \n",
       "46  a0068077-79f4-461a-adfe-75c1a4148545   \n",
       "47  bda648d7-d618-4883-88f4-3466eabd860e   \n",
       "48  50ec8903-b81f-4257-9450-1085afd2c319   \n",
       "49  cf106601-ab4f-4af9-b045-5295fe67b37d   \n",
       "50  a0c07678-e491-4bbc-8f0b-07405144218f   \n",
       "51  7bd855d8-463d-4ed5-93ca-5fe35145f733   \n",
       "52  5a0c1adf-205e-4841-a666-7c3ef95def9d   \n",
       "\n",
       "                                             Question Level  \\\n",
       "0   If Eliud Kipchoge could maintain his record-ma...     1   \n",
       "1   How many studio albums were published by Merce...     1   \n",
       "2   Here's a fun riddle that I think you'll enjoy....     1   \n",
       "3   What was the volume in m^3 of the fish bag tha...     1   \n",
       "4   In the video https://www.youtube.com/watch?v=L...     1   \n",
       "5   Of the authors (First M. Last) that worked on ...     1   \n",
       "6   In Series 9, Episode 11 of Doctor Who, the Doc...     1   \n",
       "7   An office held a Secret Santa gift exchange wh...     1   \n",
       "8   .rewsna eht sa \"tfel\" drow eht fo etisoppo eht...     1   \n",
       "9   Each cell in the attached spreadsheet represen...     1   \n",
       "10  ¬(A ∧ B) ↔ (¬A ∨ ¬B)\\n¬(A ∨ B) ↔ (¬A ∧ ¬B)\\n(A...     1   \n",
       "11  My family reunion is this week, and I was assi...     1   \n",
       "12  In Emily Midkiff's June 2014 article in a jour...     1   \n",
       "13  Under DDC 633 on Bielefeld University Library'...     1   \n",
       "14  In the fictional language of Tizin, basic sent...     1   \n",
       "15  In Nature journal's Scientific Reports confere...     1   \n",
       "16  Review the chess position provided in the imag...     1   \n",
       "17  In the year 2022, and before December, what do...     1   \n",
       "18  Who nominated the only Featured Article on Eng...     1   \n",
       "19  What writer is quoted by Merriam-Webster for t...     1   \n",
       "20  Given this table defining * on the set S = {a,...     1   \n",
       "21  As a comma separated list with no whitespace, ...     1   \n",
       "22  You are a telecommunications engineer who want...     1   \n",
       "23  If there is anything that doesn't make sense i...     1   \n",
       "24  How many slides in this PowerPoint presentatio...     1   \n",
       "25  You are Van Helsing, a renowned vampire hunter...     1   \n",
       "26  Examine the video at https://www.youtube.com/w...     1   \n",
       "27  You are given this Excel file as a map. You st...     1   \n",
       "28  What is the surname of the equine veterinarian...     1   \n",
       "29  I'm making a grocery list for my mom, but she'...     1   \n",
       "30  Hi, I'm making a pie but I could use some help...     1   \n",
       "31  In the Scikit-Learn July 2017 changelog, what ...     1   \n",
       "32  Who did the actor who played Ray in the Polish...     1   \n",
       "33  On the BBC Earth YouTube video of the Top 5 Si...     1   \n",
       "34  What is the final numeric output from the atta...     1   \n",
       "35  How many more blocks (also denoted as layers) ...     1   \n",
       "36  Bob was invited to participate in a game show,...     1   \n",
       "37  Pull out the sentence in the following 5x7 blo...     1   \n",
       "38  On Cornell Law School website's legal informat...     1   \n",
       "39  Of the cities within the United States where U...     1   \n",
       "40  According to Girls Who Code, how long did it t...     1   \n",
       "41  What was the complete title of the book in whi...     1   \n",
       "42  How many at bats did the Yankee with the most ...     1   \n",
       "43  In Audre Lorde’s poem “Father Son and Holy Gho...     1   \n",
       "44  Hi, I was out sick from my classes on Friday, ...     1   \n",
       "45  On June 6, 2023, an article by Carolyn Collins...     1   \n",
       "46  What was the actual enrollment count of the cl...     1   \n",
       "47  Where were the Vietnamese specimens described ...     1   \n",
       "48  A standard Rubik’s cube has been broken into c...     1   \n",
       "49  What country had the least number of athletes ...     1   \n",
       "50  Who are the pitchers with the number before an...     1   \n",
       "51  The attached Excel file contains the sales of ...     1   \n",
       "52  What is the first name of the only Malko Compe...     1   \n",
       "\n",
       "                                         Final answer  \\\n",
       "0                                                  17   \n",
       "1                                                   3   \n",
       "2                                                   3   \n",
       "3                                              0.1777   \n",
       "4                                                   3   \n",
       "5   Mapping Human Oriented Information to Software...   \n",
       "6                                          THE CASTLE   \n",
       "7                                                Fred   \n",
       "8                                               Right   \n",
       "9                                                  No   \n",
       "10                                (¬A → B) ↔ (A ∨ ¬B)   \n",
       "11                                                  2   \n",
       "12                                             fluffy   \n",
       "13                                          Guatemala   \n",
       "14                                  Maktay mato apple   \n",
       "15                                            diamond   \n",
       "16                                                Rd5   \n",
       "17                                           research   \n",
       "18                                           FunkMonk   \n",
       "19                                        Annie Levin   \n",
       "20                                               b, e   \n",
       "21  3/4,1/4,3/4,3/4,2/4,1/2,5/35,7/21,30/5,30/5,3/...   \n",
       "22                                                  3   \n",
       "23                                              Guava   \n",
       "24                                                  4   \n",
       "25                                                100   \n",
       "26                                          Extremely   \n",
       "27                                             F478A7   \n",
       "28                                           Louvrier   \n",
       "29  broccoli, celery, fresh basil, lettuce, sweet ...   \n",
       "30  cornstarch, freshly squeezed lemon juice, gran...   \n",
       "31                               BaseLabelPropagation   \n",
       "32                                           Wojciech   \n",
       "33                                 Rockhopper penguin   \n",
       "34                                                  0   \n",
       "35                                                  6   \n",
       "36                                              16000   \n",
       "37         The seagull glided peacefully to my chair.   \n",
       "38                                          inference   \n",
       "39                                Braintree, Honolulu   \n",
       "40                                                 22   \n",
       "41  Five Hundred Things To Eat Before It's Too Lat...   \n",
       "42                                                519   \n",
       "43                                                  2   \n",
       "44                            132, 133, 134, 197, 245   \n",
       "45                                      80GSFC21M0002   \n",
       "46                                                 90   \n",
       "47                                   Saint Petersburg   \n",
       "48                                       green, white   \n",
       "49                                                CUB   \n",
       "50                                    Yoshida, Uehara   \n",
       "51                                           89706.00   \n",
       "52                                              Claus   \n",
       "\n",
       "                                    file_name  \\\n",
       "0                                               \n",
       "1                                               \n",
       "2                                               \n",
       "3                                               \n",
       "4                                               \n",
       "5                                               \n",
       "6                                               \n",
       "7   cffe0e32-c9a6-4c52-9877-78ceb4aaa9fb.docx   \n",
       "8                                               \n",
       "9   5cfb274c-0207-4aa7-9575-6ac0bd95d9b2.xlsx   \n",
       "10                                              \n",
       "11                                              \n",
       "12                                              \n",
       "13                                              \n",
       "14                                              \n",
       "15                                              \n",
       "16   cca530fc-4052-43b2-b130-b30968d8aa44.png   \n",
       "17                                              \n",
       "18                                              \n",
       "19                                              \n",
       "20                                              \n",
       "21   9318445f-fe6a-4e1b-acbf-c68228c9906a.png   \n",
       "22   389793a7-ca17-4e82-81cb-2b3a2391b4b9.txt   \n",
       "23                                              \n",
       "24  a3fbeb63-0e8c-4a11-bff6-0e3b484c3e9c.pptx   \n",
       "25                                              \n",
       "26                                              \n",
       "27  65afbc8a-89ca-4ad5-8d62-355bb401f61d.xlsx   \n",
       "28                                              \n",
       "29                                              \n",
       "30   99c9cc74-fdc8-46c6-8f8d-3ce2d3bfeea3.mp3   \n",
       "31                                              \n",
       "32                                              \n",
       "33                                              \n",
       "34    f918266a-b3e0-4914-865d-4faa564f1aef.py   \n",
       "35                                              \n",
       "36                                              \n",
       "37                                              \n",
       "38                                              \n",
       "39                                              \n",
       "40                                              \n",
       "41                                              \n",
       "42                                              \n",
       "43                                              \n",
       "44   1f975693-876d-457b-a649-393859e79bf3.mp3   \n",
       "45                                              \n",
       "46                                              \n",
       "47                                              \n",
       "48                                              \n",
       "49                                              \n",
       "50                                              \n",
       "51  7bd855d8-463d-4ed5-93ca-5fe35145f733.xlsx   \n",
       "52                                              \n",
       "\n",
       "                                            file_path  \\\n",
       "0                                                       \n",
       "1                                                       \n",
       "2                                                       \n",
       "3                                                       \n",
       "4                                                       \n",
       "5                                                       \n",
       "6                                                       \n",
       "7   /home/santiagoal/.cache/huggingface/hub/datase...   \n",
       "8                                                       \n",
       "9   /home/santiagoal/.cache/huggingface/hub/datase...   \n",
       "10                                                      \n",
       "11                                                      \n",
       "12                                                      \n",
       "13                                                      \n",
       "14                                                      \n",
       "15                                                      \n",
       "16  /home/santiagoal/.cache/huggingface/hub/datase...   \n",
       "17                                                      \n",
       "18                                                      \n",
       "19                                                      \n",
       "20                                                      \n",
       "21  /home/santiagoal/.cache/huggingface/hub/datase...   \n",
       "22  /home/santiagoal/.cache/huggingface/hub/datase...   \n",
       "23                                                      \n",
       "24  /home/santiagoal/.cache/huggingface/hub/datase...   \n",
       "25                                                      \n",
       "26                                                      \n",
       "27  /home/santiagoal/.cache/huggingface/hub/datase...   \n",
       "28                                                      \n",
       "29                                                      \n",
       "30  /home/santiagoal/.cache/huggingface/hub/datase...   \n",
       "31                                                      \n",
       "32                                                      \n",
       "33                                                      \n",
       "34  /home/santiagoal/.cache/huggingface/hub/datase...   \n",
       "35                                                      \n",
       "36                                                      \n",
       "37                                                      \n",
       "38                                                      \n",
       "39                                                      \n",
       "40                                                      \n",
       "41                                                      \n",
       "42                                                      \n",
       "43                                                      \n",
       "44  /home/santiagoal/.cache/huggingface/hub/datase...   \n",
       "45                                                      \n",
       "46                                                      \n",
       "47                                                      \n",
       "48                                                      \n",
       "49                                                      \n",
       "50                                                      \n",
       "51  /home/santiagoal/.cache/huggingface/hub/datase...   \n",
       "52                                                      \n",
       "\n",
       "                                   Annotator Metadata  \n",
       "0   {'Steps': '1. Googled Eliud Kipchoge marathon ...  \n",
       "1   {'Steps': '1. I did a search for Mercedes Sosa...  \n",
       "2   {'Steps': 'Step 1: Evaluate the problem statem...  \n",
       "3   {'Steps': '1. Searched '\"Can Hiccup Supply Eno...  \n",
       "4   {'Steps': '1. Navigate to the YouTube link.\n",
       "2....  \n",
       "5   {'Steps': '1. Searched \"Pie Menus or Linear Me...  \n",
       "6   {'Steps': '1. Search the web for “Doctor Who s...  \n",
       "7   {'Steps': '1. Open the document.\n",
       "2. Look at gi...  \n",
       "8   {'Steps': '1. Read the instructions in reverse...  \n",
       "9   {'Steps': '1. Open the spreadsheet\n",
       "2. Analyze ...  \n",
       "10  {'Steps': '1. Determine the truth values of th...  \n",
       "11  {'Steps': '1. Calculate the number of adults (...  \n",
       "12  {'Steps': '1. Searched \"Hreidmar's sons\" on Go...  \n",
       "13  {'Steps': '1. Searched \"Bielefeld University L...  \n",
       "14  {'Steps': '1. Determine the order of words fro...  \n",
       "15  {'Steps': '1. Searched \"nature scientific repo...  \n",
       "16  {'Steps': 'Step 1: Evaluate the position of th...  \n",
       "17  {'Steps': '1. Searched \"legume wikipedia\" on G...  \n",
       "18  {'Steps': '1. Search \"Wikipedia featured artic...  \n",
       "19  {'Steps': '1. Search \"merriam-webster word of ...  \n",
       "20  {'Steps': '1. Compile the markdown.\n",
       "2. Look at...  \n",
       "21  {'Steps': '1. Find the fractions that use / as...  \n",
       "22  {'Steps': '1. Determine the diameter of each c...  \n",
       "23  {'Steps': '1. Read the instructions and follow...  \n",
       "24  {'Steps': '1. Open the provided file.\n",
       "2. Scrol...  \n",
       "25  {'Steps': 'Step 1: Evaluate the problem statem...  \n",
       "26  {'Steps': '1. Follow the link\n",
       "2. Watch the cli...  \n",
       "27  {'Steps': '1. Opened Map.xlsx.\n",
       "2. Counted 11 t...  \n",
       "28  {'Steps': '1. Search for \"1.E Exercises LibreT...  \n",
       "29  {'Steps': 'Step 1: Evaluate the list provided ...  \n",
       "30  {'Steps': 'Step 1: Load the file supplied to m...  \n",
       "31  {'Steps': '1. Searched \"Scikit-Learn July 2017...  \n",
       "32  {'Steps': '1. Search \"Polish-language version ...  \n",
       "33  {'Steps': '1. Search \"top 5 silliest animal mo...  \n",
       "34  {'Steps': '1. Run the attached Python code', '...  \n",
       "35  {'Steps': '1. Search the internet for \"blocks ...  \n",
       "36  {'Steps': 'Step 1: Evaluate the problem statem...  \n",
       "37  {'Steps': '1. I start with the first line, \"T ...  \n",
       "38  {'Steps': '1. Searched \"Cornell Law School leg...  \n",
       "39  {'Steps': '1. Searched \"cities where us presid...  \n",
       "40  {'Steps': '1. Searched \"Girls Who Code\" on Goo...  \n",
       "41  {'Steps': '1. Searched \"Ali Khan New Mexico st...  \n",
       "42  {'Steps': '1. Search \"yankee stats\" to find th...  \n",
       "43  {'Steps': '1. Search the web for “Audre Lorde ...  \n",
       "44  {'Steps': 'Step 1: Load the file supplied by m...  \n",
       "45  {'Steps': '1. Google \"June 6, 2023 Carolyn Col...  \n",
       "46  {'Steps': '1. Searched \"nih\" on Google search....  \n",
       "47  {'Steps': '1. Search \"Kuznetzov Nedoshivina 20...  \n",
       "48  {'Steps': '1. Set up a standard Rubik's cube (...  \n",
       "49  {'Steps': '1. Look up the 1928 Summer Olympics...  \n",
       "50  {'Steps': '1. Look up Taishō Tamai on Wikipedi...  \n",
       "51  {'Steps': '1. Open the attached file.\n",
       "2. Read ...  \n",
       "52  {'Steps': '1. Look at the Malko Competition pa...  "
      ]
     },
     "execution_count": 18,
     "metadata": {},
     "output_type": "execute_result"
    }
   ],
   "source": [
    "gaia_df"
   ]
  },
  {
   "cell_type": "markdown",
   "id": "fe9e932b",
   "metadata": {},
   "source": [
    "### Identify Audio-like tasks"
   ]
  },
  {
   "cell_type": "markdown",
   "id": "9e8c9a12",
   "metadata": {},
   "source": [
    "The first questions is to understand which questions need audio? \n",
    "\n",
    "* Hypothesis: Just look at such questions that have a .mp3 file attached\n"
   ]
  },
  {
   "cell_type": "code",
   "execution_count": 19,
   "id": "23516201",
   "metadata": {},
   "outputs": [],
   "source": [
    "# Gather a sample file from any task\n",
    "\n",
    "audio_tasks = gaia_df[(gaia_df[\"file_path\"].str.len()>0) & (gaia_df[\"file_path\"].str.endswith(\".mp3\"))]\n",
    "sample_task = audio_tasks.iloc[0]"
   ]
  },
  {
   "cell_type": "code",
   "execution_count": 20,
   "id": "aa03a8a6",
   "metadata": {},
   "outputs": [
    {
     "name": "stdout",
     "output_type": "stream",
     "text": [
      "3.8% of tasks need audio processing\n"
     ]
    }
   ],
   "source": [
    "print(f\"{(audio_tasks.shape[0] / gaia_df.shape[0]) * 100:.1f}% of tasks need audio processing\")"
   ]
  },
  {
   "cell_type": "code",
   "execution_count": 21,
   "id": "b30a0394",
   "metadata": {},
   "outputs": [
    {
     "data": {
      "application/vnd.microsoft.datawrangler.viewer.v0+json": {
       "columns": [
        {
         "name": "index",
         "rawType": "object",
         "type": "string"
        },
        {
         "name": "30",
         "rawType": "object",
         "type": "unknown"
        }
       ],
       "ref": "2b6ff3fd-e25f-4f0f-a6cc-da191f288b4a",
       "rows": [
        [
         "task_id",
         "99c9cc74-fdc8-46c6-8f8d-3ce2d3bfeea3"
        ],
        [
         "Question",
         "Hi, I'm making a pie but I could use some help with my shopping list. I have everything I need for the crust, but I'm not sure about the filling. I got the recipe from my friend Aditi, but she left it as a voice memo and the speaker on my phone is buzzing so I can't quite make out what she's saying. Could you please listen to the recipe and list all of the ingredients that my friend described? I only want the ingredients for the filling, as I have everything I need to make my favorite pie crust. I've attached the recipe as Strawberry pie.mp3.\n\nIn your response, please only list the ingredients, not any measurements. So if the recipe calls for \"a pinch of salt\" or \"two cups of ripe strawberries\" the ingredients on the list would be \"salt\" and \"ripe strawberries\".\n\nPlease format your response as a comma separated list of ingredients. Also, please alphabetize the ingredients."
        ],
        [
         "Level",
         "1"
        ],
        [
         "Final answer",
         "cornstarch, freshly squeezed lemon juice, granulated sugar, pure vanilla extract, ripe strawberries"
        ],
        [
         "file_name",
         "99c9cc74-fdc8-46c6-8f8d-3ce2d3bfeea3.mp3"
        ],
        [
         "file_path",
         "/home/santiagoal/.cache/huggingface/hub/datasets--gaia-benchmark--GAIA/snapshots/897f2dfbb5c952b5c3c1509e648381f9c7b70316/2023/validation/99c9cc74-fdc8-46c6-8f8d-3ce2d3bfeea3.mp3"
        ],
        [
         "Annotator Metadata",
         "{'Steps': 'Step 1: Load the file supplied to me by my user.\\nStep 2: Using speech-to-text tools, convert the audio file to plain text and store it for the candidate word list:\\n\\n\"In a saucepan, combine ripe strawberries, granulated sugar, freshly squeezed lemon juice, and cornstarch. Cook the mixture over medium heat, stirring constantly, until it thickens to a smooth consistency. Remove from heat and stir in a dash of pure vanilla extract. Allow the strawberry pie filling to cool before using it as a delicious and fruity filling for your pie crust.\"\\n\\nStep 3: Evaluate the candidate word list and process it, stripping each ingredient encountered to a provisional response list:\\n\\nripe strawberries\\ngranulated sugar\\nfreshly squeezed lemon juice\\ncornstarch\\npure vanilla extract\\n\\nStep 4: Alphabetize the list of ingredients as requested by my user to create a finalized response:\\n\\ncornstarch\\nfreshly squeezed lemon juice\\ngranulated sugar\\npure vanilla extract\\nripe strawberries\\n\\nStep 5: Report the correct response to my user:\\n\\n\"cornstarch\\nfreshly squeezed lemon juice\\ngranulated sugar\\npure vanilla extract\\nripe strawberries\"', 'Number of steps': '5', 'How long did this take?': '3 minutes', 'Tools': '1. A file interface\\n2. A speech-to-text tool', 'Number of tools': '2'}"
        ]
       ],
       "shape": {
        "columns": 1,
        "rows": 7
       }
      },
      "text/plain": [
       "task_id                            99c9cc74-fdc8-46c6-8f8d-3ce2d3bfeea3\n",
       "Question              Hi, I'm making a pie but I could use some help...\n",
       "Level                                                                 1\n",
       "Final answer          cornstarch, freshly squeezed lemon juice, gran...\n",
       "file_name                      99c9cc74-fdc8-46c6-8f8d-3ce2d3bfeea3.mp3\n",
       "file_path             /home/santiagoal/.cache/huggingface/hub/datase...\n",
       "Annotator Metadata    {'Steps': 'Step 1: Load the file supplied to m...\n",
       "Name: 30, dtype: object"
      ]
     },
     "execution_count": 21,
     "metadata": {},
     "output_type": "execute_result"
    }
   ],
   "source": [
    "sample_task"
   ]
  },
  {
   "cell_type": "code",
   "execution_count": 22,
   "id": "d47c9bde",
   "metadata": {},
   "outputs": [],
   "source": [
    "# Get the sample file\n",
    "\n",
    "filepath = sample_task[\"file_path\"]\n"
   ]
  },
  {
   "cell_type": "markdown",
   "id": "0d07cab8",
   "metadata": {},
   "source": [
    "Let's import the mp3 file with [ffmpeg](https://stackoverflow.com/questions/9458480/read-mp3-in-python-3#:~:text=%24%20ffmpeg%20%2Di%20foo.mp3%20%2Dvn%20%2Dacodec%20pcm_s16le%20%2Dac%201%20%2Dar%2044100%20%2Df%20wav%20foo.wav)"
   ]
  },
  {
   "cell_type": "code",
   "execution_count": 23,
   "id": "a82f6246",
   "metadata": {},
   "outputs": [],
   "source": [
    "temp_data_path = \"/home/santiagoal/current-projects/chappie/data/temp-data/\""
   ]
  },
  {
   "cell_type": "code",
   "execution_count": 24,
   "id": "c8e255c8",
   "metadata": {},
   "outputs": [],
   "source": [
    "if run:\n",
    "    os.system(f\"ffmpeg -i {filepath} -vn -acodec pcm_s16le -ac 1 -ar 44100 -f wav {temp_data_path}sample_audio.wav\")"
   ]
  },
  {
   "cell_type": "code",
   "execution_count": 25,
   "id": "7f9d0ff9",
   "metadata": {},
   "outputs": [],
   "source": [
    "if run:\n",
    "    use_gpu = False\n",
    "    model_size = \"tiny\"\n",
    "\n",
    "    model = (\n",
    "        whisper.load_model(model_size).cuda()\n",
    "        if use_gpu\n",
    "        else whisper.load_model(model_size)\n",
    "    )"
   ]
  },
  {
   "cell_type": "code",
   "execution_count": 26,
   "id": "df808df1",
   "metadata": {},
   "outputs": [
    {
     "name": "stdout",
     "output_type": "stream",
     "text": [
      "/home/santiagoal/.cache/huggingface/hub/datasets--gaia-benchmark--GAIA/snapshots/897f2dfbb5c952b5c3c1509e648381f9c7b70316/2023/validation/99c9cc74-fdc8-46c6-8f8d-3ce2d3bfeea3.mp3\n"
     ]
    }
   ],
   "source": [
    "print(filepath)"
   ]
  },
  {
   "cell_type": "code",
   "execution_count": 27,
   "id": "9ce2c352",
   "metadata": {},
   "outputs": [],
   "source": [
    "if run: \n",
    "    raw_transcript = model.transcribe(\n",
    "            filepath,\n",
    "            word_timestamps=False,\n",
    "            no_speech_threshold=0.5,\n",
    "            condition_on_previous_text=True,\n",
    "            compression_ratio_threshold=2.0,\n",
    "        )\n",
    "\n",
    "    transcript = raw_transcript[\"text\"]\n",
    "    print(transcript)"
   ]
  },
  {
   "cell_type": "markdown",
   "id": "0654ee48",
   "metadata": {},
   "source": [
    "### Tool POC\n"
   ]
  },
  {
   "cell_type": "code",
   "execution_count": 28,
   "id": "83335239",
   "metadata": {},
   "outputs": [],
   "source": [
    "\n",
    "if run: \n",
    "    def transcriber(audio_path: str, ai_model = model) -> str:\n",
    "        \"\"\"\n",
    "        Transcribes an audio file\n",
    "\n",
    "        Parameters\n",
    "        ----------\n",
    "        audio_path : str\n",
    "            Path to the audio file\n",
    "        ai_model\n",
    "            audio-to-text AI model \n",
    "\n",
    "        Returns:\n",
    "            str: Text of the transcript \n",
    "        \"\"\"\n",
    "        raw_transcript = ai_model.transcribe(\n",
    "            audio_path,\n",
    "            word_timestamps=False,\n",
    "            no_speech_threshold=0.5,\n",
    "            condition_on_previous_text=True,\n",
    "            compression_ratio_threshold=2.0,\n",
    "        )\n",
    "\n",
    "        transcript = raw_transcript[\"text\"]\n",
    "\n",
    "        return transcript"
   ]
  },
  {
   "cell_type": "markdown",
   "id": "aa9d4e58",
   "metadata": {},
   "source": [
    "### Integrate Tool POC and experiment\n"
   ]
  },
  {
   "cell_type": "markdown",
   "id": "8dee4276",
   "metadata": {},
   "source": [
    "The changes have been integrated, now we will experiment with the new version of the agent"
   ]
  },
  {
   "cell_type": "code",
   "execution_count": 29,
   "id": "811185e7",
   "metadata": {},
   "outputs": [
    {
     "name": "stdout",
     "output_type": "stream",
     "text": [
      "attached_files: /home/santiagoal/.cache/huggingface/hub/datasets--gaia-benchmark--GAIA/snapshots/897f2dfbb5c952b5c3c1509e648381f9c7b70316/2023/validation/99c9cc74-fdc8-46c6-8f8d-3ce2d3bfeea3.mp3\n"
     ]
    },
    {
     "name": "stderr",
     "output_type": "stream",
     "text": [
      "/home/santiagoal/.cache/pypoetry/virtualenvs/chappie-CHLGiFC_-py3.12/lib/python3.12/site-packages/whisper/transcribe.py:126: UserWarning: FP16 is not supported on CPU; using FP32 instead\n",
      "  warnings.warn(\"FP16 is not supported on CPU; using FP32 instead\")\n"
     ]
    },
    {
     "name": "stdout",
     "output_type": "stream",
     "text": [
      "attached_files: /home/santiagoal/.cache/huggingface/hub/datasets--gaia-benchmark--GAIA/snapshots/897f2dfbb5c952b5c3c1509e648381f9c7b70316/2023/validation/1f975693-876d-457b-a649-393859e79bf3.mp3\n"
     ]
    },
    {
     "name": "stderr",
     "output_type": "stream",
     "text": [
      "/home/santiagoal/.cache/pypoetry/virtualenvs/chappie-CHLGiFC_-py3.12/lib/python3.12/site-packages/whisper/transcribe.py:126: UserWarning: FP16 is not supported on CPU; using FP32 instead\n",
      "  warnings.warn(\"FP16 is not supported on CPU; using FP32 instead\")\n",
      "/tmp/ipykernel_47097/273591011.py:1: SettingWithCopyWarning: \n",
      "A value is trying to be set on a copy of a slice from a DataFrame.\n",
      "Try using .loc[row_indexer,col_indexer] = value instead\n",
      "\n",
      "See the caveats in the documentation: https://pandas.pydata.org/pandas-docs/stable/user_guide/indexing.html#returning-a-view-versus-a-copy\n",
      "  audio_tasks[\"Agent response\"] = audio_tasks.apply(func=get_agent_response, axis=1)\n"
     ]
    },
    {
     "ename": "NameError",
     "evalue": "name 'eval_answer' is not defined",
     "output_type": "error",
     "traceback": [
      "\u001b[31m---------------------------------------------------------------------------\u001b[39m",
      "\u001b[31mNameError\u001b[39m                                 Traceback (most recent call last)",
      "\u001b[36mCell\u001b[39m\u001b[36m \u001b[39m\u001b[32mIn[29]\u001b[39m\u001b[32m, line 2\u001b[39m\n\u001b[32m      1\u001b[39m audio_tasks[\u001b[33m\"\u001b[39m\u001b[33mAgent response\u001b[39m\u001b[33m\"\u001b[39m] = audio_tasks.apply(func=get_agent_response, axis=\u001b[32m1\u001b[39m)\n\u001b[32m----> \u001b[39m\u001b[32m2\u001b[39m audio_tasks[\u001b[33m\"\u001b[39m\u001b[33mis_correct\u001b[39m\u001b[33m\"\u001b[39m] = audio_tasks.apply(func=\u001b[43meval_answer\u001b[49m, axis=\u001b[32m1\u001b[39m)\n",
      "\u001b[31mNameError\u001b[39m: name 'eval_answer' is not defined"
     ]
    }
   ],
   "source": [
    "audio_tasks[\"Agent response\"] = audio_tasks.apply(func=get_agent_response, axis=1)\n",
    "audio_tasks[\"is_correct\"] = audio_tasks.apply(func=eval_answer, axis=1)"
   ]
  },
  {
   "cell_type": "code",
   "execution_count": null,
   "id": "c2ab6ae6",
   "metadata": {},
   "outputs": [],
   "source": [
    "audio_tasks"
   ]
  },
  {
   "cell_type": "code",
   "execution_count": null,
   "id": "76e9241c",
   "metadata": {},
   "outputs": [],
   "source": [
    "# Next steps: Update model... "
   ]
  }
 ],
 "metadata": {
  "kernelspec": {
   "display_name": "chappie-CHLGiFC_-py3.12",
   "language": "python",
   "name": "python3"
  },
  "language_info": {
   "codemirror_mode": {
    "name": "ipython",
    "version": 3
   },
   "file_extension": ".py",
   "mimetype": "text/x-python",
   "name": "python",
   "nbconvert_exporter": "python",
   "pygments_lexer": "ipython3",
   "version": "3.12.3"
  }
 },
 "nbformat": 4,
 "nbformat_minor": 5
}
