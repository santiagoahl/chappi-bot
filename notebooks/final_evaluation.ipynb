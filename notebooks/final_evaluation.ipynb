{
 "cells": [
  {
   "cell_type": "markdown",
   "id": "19844e40",
   "metadata": {},
   "source": [
    "### Setup"
   ]
  },
  {
   "cell_type": "code",
   "execution_count": 1,
   "id": "6c5765f5",
   "metadata": {},
   "outputs": [],
   "source": [
    "import requests\n",
    "from bs4 import BeautifulSoup\n",
    "import os\n",
    "import sys\n",
    "import json\n",
    "import pandas as pd\n",
    "\n",
    "sys.path.append(\"src/agents/\")\n",
    "sys.path.append(\"src/tools/\")\n",
    "sys.path.append(\"src//\")"
   ]
  },
  {
   "cell_type": "markdown",
   "id": "802d5adc",
   "metadata": {},
   "source": [
    "### Get GAIA Questions and files\n"
   ]
  },
  {
   "cell_type": "code",
   "execution_count": 2,
   "id": "172d188e",
   "metadata": {},
   "outputs": [],
   "source": [
    "DEFAULT_API_URL = \"https://agents-course-unit4-scoring.hf.space\"\n",
    "api_url = DEFAULT_API_URL\n",
    "questions_url = f\"{api_url}/questions\"\n",
    "file_url_template = f\"{api_url}/files\"\n",
    "submit_url = f\"{api_url}/submit\""
   ]
  },
  {
   "cell_type": "code",
   "execution_count": 3,
   "id": "71817015",
   "metadata": {},
   "outputs": [
    {
     "data": {
      "text/plain": [
       "[{'task_id': '8e867cd7-cff9-4e6c-867a-ff5ddc2550be',\n",
       "  'question': 'How many studio albums were published by Mercedes Sosa between 2000 and 2009 (included)? You can use the latest 2022 version of english wikipedia.',\n",
       "  'Level': '1',\n",
       "  'file_name': ''},\n",
       " {'task_id': 'a1e91b78-d3d8-4675-bb8d-62741b4b68a6',\n",
       "  'question': 'In the video https://www.youtube.com/watch?v=L1vXCYZAYYM, what is the highest number of bird species to be on camera simultaneously?',\n",
       "  'Level': '1',\n",
       "  'file_name': ''},\n",
       " {'task_id': '2d83110e-a098-4ebb-9987-066c06fa42d0',\n",
       "  'question': '.rewsna eht sa \"tfel\" drow eht fo etisoppo eht etirw ,ecnetnes siht dnatsrednu uoy fI',\n",
       "  'Level': '1',\n",
       "  'file_name': ''},\n",
       " {'task_id': 'cca530fc-4052-43b2-b130-b30968d8aa44',\n",
       "  'question': \"Review the chess position provided in the image. It is black's turn. Provide the correct next move for black which guarantees a win. Please provide your response in algebraic notation.\",\n",
       "  'Level': '1',\n",
       "  'file_name': 'cca530fc-4052-43b2-b130-b30968d8aa44.png'},\n",
       " {'task_id': '4fc2f1ae-8625-45b5-ab34-ad4433bc21f8',\n",
       "  'question': 'Who nominated the only Featured Article on English Wikipedia about a dinosaur that was promoted in November 2016?',\n",
       "  'Level': '1',\n",
       "  'file_name': ''},\n",
       " {'task_id': '6f37996b-2ac7-44b0-8e68-6d28256631b4',\n",
       "  'question': 'Given this table defining * on the set S = {a, b, c, d, e}\\n\\n|*|a|b|c|d|e|\\n|---|---|---|---|---|---|\\n|a|a|b|c|b|d|\\n|b|b|c|a|e|c|\\n|c|c|a|b|b|a|\\n|d|b|e|b|e|d|\\n|e|d|b|a|d|c|\\n\\nprovide the subset of S involved in any possible counter-examples that prove * is not commutative. Provide your answer as a comma separated list of the elements in the set in alphabetical order.',\n",
       "  'Level': '1',\n",
       "  'file_name': ''},\n",
       " {'task_id': '9d191bce-651d-4746-be2d-7ef8ecadb9c2',\n",
       "  'question': 'Examine the video at https://www.youtube.com/watch?v=1htKBjuUWec.\\n\\nWhat does Teal\\'c say in response to the question \"Isn\\'t that hot?\"',\n",
       "  'Level': '1',\n",
       "  'file_name': ''},\n",
       " {'task_id': 'cabe07ed-9eca-40ea-8ead-410ef5e83f91',\n",
       "  'question': \"What is the surname of the equine veterinarian mentioned in 1.E Exercises from the chemistry materials licensed by Marisa Alviar-Agnew & Henry Agnew under the CK-12 license in LibreText's Introductory Chemistry materials as compiled 08/21/2023?\",\n",
       "  'Level': '1',\n",
       "  'file_name': ''},\n",
       " {'task_id': '3cef3a44-215e-4aed-8e3b-b1e3f08063b7',\n",
       "  'question': \"I'm making a grocery list for my mom, but she's a professor of botany and she's a real stickler when it comes to categorizing things. I need to add different foods to different categories on the grocery list, but if I make a mistake, she won't buy anything inserted in the wrong category. Here's the list I have so far:\\n\\nmilk, eggs, flour, whole bean coffee, Oreos, sweet potatoes, fresh basil, plums, green beans, rice, corn, bell pepper, whole allspice, acorns, broccoli, celery, zucchini, lettuce, peanuts\\n\\nI need to make headings for the fruits and vegetables. Could you please create a list of just the vegetables from my list? If you could do that, then I can figure out how to categorize the rest of the list into the appropriate categories. But remember that my mom is a real stickler, so make sure that no botanical fruits end up on the vegetable list, or she won't get them when she's at the store. Please alphabetize the list of vegetables, and place each item in a comma separated list.\",\n",
       "  'Level': '1',\n",
       "  'file_name': ''},\n",
       " {'task_id': '99c9cc74-fdc8-46c6-8f8d-3ce2d3bfeea3',\n",
       "  'question': 'Hi, I\\'m making a pie but I could use some help with my shopping list. I have everything I need for the crust, but I\\'m not sure about the filling. I got the recipe from my friend Aditi, but she left it as a voice memo and the speaker on my phone is buzzing so I can\\'t quite make out what she\\'s saying. Could you please listen to the recipe and list all of the ingredients that my friend described? I only want the ingredients for the filling, as I have everything I need to make my favorite pie crust. I\\'ve attached the recipe as Strawberry pie.mp3.\\n\\nIn your response, please only list the ingredients, not any measurements. So if the recipe calls for \"a pinch of salt\" or \"two cups of ripe strawberries\" the ingredients on the list would be \"salt\" and \"ripe strawberries\".\\n\\nPlease format your response as a comma separated list of ingredients. Also, please alphabetize the ingredients.',\n",
       "  'Level': '1',\n",
       "  'file_name': '99c9cc74-fdc8-46c6-8f8d-3ce2d3bfeea3.mp3'},\n",
       " {'task_id': '305ac316-eef6-4446-960a-92d80d542f82',\n",
       "  'question': 'Who did the actor who played Ray in the Polish-language version of Everybody Loves Raymond play in Magda M.? Give only the first name.',\n",
       "  'Level': '1',\n",
       "  'file_name': ''},\n",
       " {'task_id': 'f918266a-b3e0-4914-865d-4faa564f1aef',\n",
       "  'question': 'What is the final numeric output from the attached Python code?',\n",
       "  'Level': '1',\n",
       "  'file_name': 'f918266a-b3e0-4914-865d-4faa564f1aef.py'},\n",
       " {'task_id': '3f57289b-8c60-48be-bd80-01f8099ca449',\n",
       "  'question': 'How many at bats did the Yankee with the most walks in the 1977 regular season have that same season?',\n",
       "  'Level': '1',\n",
       "  'file_name': ''},\n",
       " {'task_id': '1f975693-876d-457b-a649-393859e79bf3',\n",
       "  'question': \"Hi, I was out sick from my classes on Friday, so I'm trying to figure out what I need to study for my Calculus mid-term next week. My friend from class sent me an audio recording of Professor Willowbrook giving out the recommended reading for the test, but my headphones are broken :(\\n\\nCould you please listen to the recording for me and tell me the page numbers I'm supposed to go over? I've attached a file called Homework.mp3 that has the recording. Please provide just the page numbers as a comma-delimited list. And please provide the list in ascending order.\",\n",
       "  'Level': '1',\n",
       "  'file_name': '1f975693-876d-457b-a649-393859e79bf3.mp3'},\n",
       " {'task_id': '840bfca7-4f7b-481a-8794-c560c340185d',\n",
       "  'question': 'On June 6, 2023, an article by Carolyn Collins Petersen was published in Universe Today. This article mentions a team that produced a paper about their observations, linked at the bottom of the article. Find this paper. Under what NASA award number was the work performed by R. G. Arendt supported by?',\n",
       "  'Level': '1',\n",
       "  'file_name': ''},\n",
       " {'task_id': 'bda648d7-d618-4883-88f4-3466eabd860e',\n",
       "  'question': \"Where were the Vietnamese specimens described by Kuznetzov in Nedoshivina's 2010 paper eventually deposited? Just give me the city name without abbreviations.\",\n",
       "  'Level': '1',\n",
       "  'file_name': ''},\n",
       " {'task_id': 'cf106601-ab4f-4af9-b045-5295fe67b37d',\n",
       "  'question': \"What country had the least number of athletes at the 1928 Summer Olympics? If there's a tie for a number of athletes, return the first in alphabetical order. Give the IOC country code as your answer.\",\n",
       "  'Level': '1',\n",
       "  'file_name': ''},\n",
       " {'task_id': 'a0c07678-e491-4bbc-8f0b-07405144218f',\n",
       "  'question': \"Who are the pitchers with the number before and after Taishō Tamai's number as of July 2023? Give them to me in the form Pitcher Before, Pitcher After, use their last names only, in Roman characters.\",\n",
       "  'Level': '1',\n",
       "  'file_name': ''},\n",
       " {'task_id': '7bd855d8-463d-4ed5-93ca-5fe35145f733',\n",
       "  'question': 'The attached Excel file contains the sales of menu items for a local fast-food chain. What were the total sales that the chain made from food (not including drinks)? Express your answer in USD with two decimal places.',\n",
       "  'Level': '1',\n",
       "  'file_name': '7bd855d8-463d-4ed5-93ca-5fe35145f733.xlsx'},\n",
       " {'task_id': '5a0c1adf-205e-4841-a666-7c3ef95def9d',\n",
       "  'question': 'What is the first name of the only Malko Competition recipient from the 20th Century (after 1977) whose nationality on record is a country that no longer exists?',\n",
       "  'Level': '1',\n",
       "  'file_name': ''}]"
      ]
     },
     "execution_count": 3,
     "metadata": {},
     "output_type": "execute_result"
    }
   ],
   "source": [
    "# Run http query\n",
    "response = requests.get(questions_url, timeout=15)\n",
    "soup = BeautifulSoup(markup=response.text, features=\"html.parser\")\n",
    "questions = json.loads(soup.text.strip())\n",
    "\n",
    "questions"
   ]
  },
  {
   "cell_type": "code",
   "execution_count": 4,
   "id": "7beb74a7",
   "metadata": {},
   "outputs": [
    {
     "data": {
      "application/vnd.microsoft.datawrangler.viewer.v0+json": {
       "columns": [
        {
         "name": "index",
         "rawType": "int64",
         "type": "integer"
        },
        {
         "name": "task_id",
         "rawType": "object",
         "type": "string"
        },
        {
         "name": "question",
         "rawType": "object",
         "type": "string"
        },
        {
         "name": "Level",
         "rawType": "object",
         "type": "string"
        },
        {
         "name": "file_name",
         "rawType": "object",
         "type": "string"
        }
       ],
       "ref": "17e02fad-89fa-43df-bdd5-37670c3343ac",
       "rows": [
        [
         "0",
         "8e867cd7-cff9-4e6c-867a-ff5ddc2550be",
         "How many studio albums were published by Mercedes Sosa between 2000 and 2009 (included)? You can use the latest 2022 version of english wikipedia.",
         "1",
         ""
        ],
        [
         "1",
         "a1e91b78-d3d8-4675-bb8d-62741b4b68a6",
         "In the video https://www.youtube.com/watch?v=L1vXCYZAYYM, what is the highest number of bird species to be on camera simultaneously?",
         "1",
         ""
        ],
        [
         "2",
         "2d83110e-a098-4ebb-9987-066c06fa42d0",
         ".rewsna eht sa \"tfel\" drow eht fo etisoppo eht etirw ,ecnetnes siht dnatsrednu uoy fI",
         "1",
         ""
        ],
        [
         "3",
         "cca530fc-4052-43b2-b130-b30968d8aa44",
         "Review the chess position provided in the image. It is black's turn. Provide the correct next move for black which guarantees a win. Please provide your response in algebraic notation.",
         "1",
         "cca530fc-4052-43b2-b130-b30968d8aa44.png"
        ],
        [
         "4",
         "4fc2f1ae-8625-45b5-ab34-ad4433bc21f8",
         "Who nominated the only Featured Article on English Wikipedia about a dinosaur that was promoted in November 2016?",
         "1",
         ""
        ],
        [
         "5",
         "6f37996b-2ac7-44b0-8e68-6d28256631b4",
         "Given this table defining * on the set S = {a, b, c, d, e}\n\n|*|a|b|c|d|e|\n|---|---|---|---|---|---|\n|a|a|b|c|b|d|\n|b|b|c|a|e|c|\n|c|c|a|b|b|a|\n|d|b|e|b|e|d|\n|e|d|b|a|d|c|\n\nprovide the subset of S involved in any possible counter-examples that prove * is not commutative. Provide your answer as a comma separated list of the elements in the set in alphabetical order.",
         "1",
         ""
        ],
        [
         "6",
         "9d191bce-651d-4746-be2d-7ef8ecadb9c2",
         "Examine the video at https://www.youtube.com/watch?v=1htKBjuUWec.\n\nWhat does Teal'c say in response to the question \"Isn't that hot?\"",
         "1",
         ""
        ],
        [
         "7",
         "cabe07ed-9eca-40ea-8ead-410ef5e83f91",
         "What is the surname of the equine veterinarian mentioned in 1.E Exercises from the chemistry materials licensed by Marisa Alviar-Agnew & Henry Agnew under the CK-12 license in LibreText's Introductory Chemistry materials as compiled 08/21/2023?",
         "1",
         ""
        ],
        [
         "8",
         "3cef3a44-215e-4aed-8e3b-b1e3f08063b7",
         "I'm making a grocery list for my mom, but she's a professor of botany and she's a real stickler when it comes to categorizing things. I need to add different foods to different categories on the grocery list, but if I make a mistake, she won't buy anything inserted in the wrong category. Here's the list I have so far:\n\nmilk, eggs, flour, whole bean coffee, Oreos, sweet potatoes, fresh basil, plums, green beans, rice, corn, bell pepper, whole allspice, acorns, broccoli, celery, zucchini, lettuce, peanuts\n\nI need to make headings for the fruits and vegetables. Could you please create a list of just the vegetables from my list? If you could do that, then I can figure out how to categorize the rest of the list into the appropriate categories. But remember that my mom is a real stickler, so make sure that no botanical fruits end up on the vegetable list, or she won't get them when she's at the store. Please alphabetize the list of vegetables, and place each item in a comma separated list.",
         "1",
         ""
        ],
        [
         "9",
         "99c9cc74-fdc8-46c6-8f8d-3ce2d3bfeea3",
         "Hi, I'm making a pie but I could use some help with my shopping list. I have everything I need for the crust, but I'm not sure about the filling. I got the recipe from my friend Aditi, but she left it as a voice memo and the speaker on my phone is buzzing so I can't quite make out what she's saying. Could you please listen to the recipe and list all of the ingredients that my friend described? I only want the ingredients for the filling, as I have everything I need to make my favorite pie crust. I've attached the recipe as Strawberry pie.mp3.\n\nIn your response, please only list the ingredients, not any measurements. So if the recipe calls for \"a pinch of salt\" or \"two cups of ripe strawberries\" the ingredients on the list would be \"salt\" and \"ripe strawberries\".\n\nPlease format your response as a comma separated list of ingredients. Also, please alphabetize the ingredients.",
         "1",
         "99c9cc74-fdc8-46c6-8f8d-3ce2d3bfeea3.mp3"
        ],
        [
         "10",
         "305ac316-eef6-4446-960a-92d80d542f82",
         "Who did the actor who played Ray in the Polish-language version of Everybody Loves Raymond play in Magda M.? Give only the first name.",
         "1",
         ""
        ],
        [
         "11",
         "f918266a-b3e0-4914-865d-4faa564f1aef",
         "What is the final numeric output from the attached Python code?",
         "1",
         "f918266a-b3e0-4914-865d-4faa564f1aef.py"
        ],
        [
         "12",
         "3f57289b-8c60-48be-bd80-01f8099ca449",
         "How many at bats did the Yankee with the most walks in the 1977 regular season have that same season?",
         "1",
         ""
        ],
        [
         "13",
         "1f975693-876d-457b-a649-393859e79bf3",
         "Hi, I was out sick from my classes on Friday, so I'm trying to figure out what I need to study for my Calculus mid-term next week. My friend from class sent me an audio recording of Professor Willowbrook giving out the recommended reading for the test, but my headphones are broken :(\n\nCould you please listen to the recording for me and tell me the page numbers I'm supposed to go over? I've attached a file called Homework.mp3 that has the recording. Please provide just the page numbers as a comma-delimited list. And please provide the list in ascending order.",
         "1",
         "1f975693-876d-457b-a649-393859e79bf3.mp3"
        ],
        [
         "14",
         "840bfca7-4f7b-481a-8794-c560c340185d",
         "On June 6, 2023, an article by Carolyn Collins Petersen was published in Universe Today. This article mentions a team that produced a paper about their observations, linked at the bottom of the article. Find this paper. Under what NASA award number was the work performed by R. G. Arendt supported by?",
         "1",
         ""
        ],
        [
         "15",
         "bda648d7-d618-4883-88f4-3466eabd860e",
         "Where were the Vietnamese specimens described by Kuznetzov in Nedoshivina's 2010 paper eventually deposited? Just give me the city name without abbreviations.",
         "1",
         ""
        ],
        [
         "16",
         "cf106601-ab4f-4af9-b045-5295fe67b37d",
         "What country had the least number of athletes at the 1928 Summer Olympics? If there's a tie for a number of athletes, return the first in alphabetical order. Give the IOC country code as your answer.",
         "1",
         ""
        ],
        [
         "17",
         "a0c07678-e491-4bbc-8f0b-07405144218f",
         "Who are the pitchers with the number before and after Taishō Tamai's number as of July 2023? Give them to me in the form Pitcher Before, Pitcher After, use their last names only, in Roman characters.",
         "1",
         ""
        ],
        [
         "18",
         "7bd855d8-463d-4ed5-93ca-5fe35145f733",
         "The attached Excel file contains the sales of menu items for a local fast-food chain. What were the total sales that the chain made from food (not including drinks)? Express your answer in USD with two decimal places.",
         "1",
         "7bd855d8-463d-4ed5-93ca-5fe35145f733.xlsx"
        ],
        [
         "19",
         "5a0c1adf-205e-4841-a666-7c3ef95def9d",
         "What is the first name of the only Malko Competition recipient from the 20th Century (after 1977) whose nationality on record is a country that no longer exists?",
         "1",
         ""
        ]
       ],
       "shape": {
        "columns": 4,
        "rows": 20
       }
      },
      "text/html": [
       "<div>\n",
       "<style scoped>\n",
       "    .dataframe tbody tr th:only-of-type {\n",
       "        vertical-align: middle;\n",
       "    }\n",
       "\n",
       "    .dataframe tbody tr th {\n",
       "        vertical-align: top;\n",
       "    }\n",
       "\n",
       "    .dataframe thead th {\n",
       "        text-align: right;\n",
       "    }\n",
       "</style>\n",
       "<table border=\"1\" class=\"dataframe\">\n",
       "  <thead>\n",
       "    <tr style=\"text-align: right;\">\n",
       "      <th></th>\n",
       "      <th>task_id</th>\n",
       "      <th>question</th>\n",
       "      <th>Level</th>\n",
       "      <th>file_name</th>\n",
       "    </tr>\n",
       "  </thead>\n",
       "  <tbody>\n",
       "    <tr>\n",
       "      <th>0</th>\n",
       "      <td>8e867cd7-cff9-4e6c-867a-ff5ddc2550be</td>\n",
       "      <td>How many studio albums were published by Merce...</td>\n",
       "      <td>1</td>\n",
       "      <td></td>\n",
       "    </tr>\n",
       "    <tr>\n",
       "      <th>1</th>\n",
       "      <td>a1e91b78-d3d8-4675-bb8d-62741b4b68a6</td>\n",
       "      <td>In the video https://www.youtube.com/watch?v=L...</td>\n",
       "      <td>1</td>\n",
       "      <td></td>\n",
       "    </tr>\n",
       "    <tr>\n",
       "      <th>2</th>\n",
       "      <td>2d83110e-a098-4ebb-9987-066c06fa42d0</td>\n",
       "      <td>.rewsna eht sa \"tfel\" drow eht fo etisoppo eht...</td>\n",
       "      <td>1</td>\n",
       "      <td></td>\n",
       "    </tr>\n",
       "    <tr>\n",
       "      <th>3</th>\n",
       "      <td>cca530fc-4052-43b2-b130-b30968d8aa44</td>\n",
       "      <td>Review the chess position provided in the imag...</td>\n",
       "      <td>1</td>\n",
       "      <td>cca530fc-4052-43b2-b130-b30968d8aa44.png</td>\n",
       "    </tr>\n",
       "    <tr>\n",
       "      <th>4</th>\n",
       "      <td>4fc2f1ae-8625-45b5-ab34-ad4433bc21f8</td>\n",
       "      <td>Who nominated the only Featured Article on Eng...</td>\n",
       "      <td>1</td>\n",
       "      <td></td>\n",
       "    </tr>\n",
       "    <tr>\n",
       "      <th>5</th>\n",
       "      <td>6f37996b-2ac7-44b0-8e68-6d28256631b4</td>\n",
       "      <td>Given this table defining * on the set S = {a,...</td>\n",
       "      <td>1</td>\n",
       "      <td></td>\n",
       "    </tr>\n",
       "    <tr>\n",
       "      <th>6</th>\n",
       "      <td>9d191bce-651d-4746-be2d-7ef8ecadb9c2</td>\n",
       "      <td>Examine the video at https://www.youtube.com/w...</td>\n",
       "      <td>1</td>\n",
       "      <td></td>\n",
       "    </tr>\n",
       "    <tr>\n",
       "      <th>7</th>\n",
       "      <td>cabe07ed-9eca-40ea-8ead-410ef5e83f91</td>\n",
       "      <td>What is the surname of the equine veterinarian...</td>\n",
       "      <td>1</td>\n",
       "      <td></td>\n",
       "    </tr>\n",
       "    <tr>\n",
       "      <th>8</th>\n",
       "      <td>3cef3a44-215e-4aed-8e3b-b1e3f08063b7</td>\n",
       "      <td>I'm making a grocery list for my mom, but she'...</td>\n",
       "      <td>1</td>\n",
       "      <td></td>\n",
       "    </tr>\n",
       "    <tr>\n",
       "      <th>9</th>\n",
       "      <td>99c9cc74-fdc8-46c6-8f8d-3ce2d3bfeea3</td>\n",
       "      <td>Hi, I'm making a pie but I could use some help...</td>\n",
       "      <td>1</td>\n",
       "      <td>99c9cc74-fdc8-46c6-8f8d-3ce2d3bfeea3.mp3</td>\n",
       "    </tr>\n",
       "    <tr>\n",
       "      <th>10</th>\n",
       "      <td>305ac316-eef6-4446-960a-92d80d542f82</td>\n",
       "      <td>Who did the actor who played Ray in the Polish...</td>\n",
       "      <td>1</td>\n",
       "      <td></td>\n",
       "    </tr>\n",
       "    <tr>\n",
       "      <th>11</th>\n",
       "      <td>f918266a-b3e0-4914-865d-4faa564f1aef</td>\n",
       "      <td>What is the final numeric output from the atta...</td>\n",
       "      <td>1</td>\n",
       "      <td>f918266a-b3e0-4914-865d-4faa564f1aef.py</td>\n",
       "    </tr>\n",
       "    <tr>\n",
       "      <th>12</th>\n",
       "      <td>3f57289b-8c60-48be-bd80-01f8099ca449</td>\n",
       "      <td>How many at bats did the Yankee with the most ...</td>\n",
       "      <td>1</td>\n",
       "      <td></td>\n",
       "    </tr>\n",
       "    <tr>\n",
       "      <th>13</th>\n",
       "      <td>1f975693-876d-457b-a649-393859e79bf3</td>\n",
       "      <td>Hi, I was out sick from my classes on Friday, ...</td>\n",
       "      <td>1</td>\n",
       "      <td>1f975693-876d-457b-a649-393859e79bf3.mp3</td>\n",
       "    </tr>\n",
       "    <tr>\n",
       "      <th>14</th>\n",
       "      <td>840bfca7-4f7b-481a-8794-c560c340185d</td>\n",
       "      <td>On June 6, 2023, an article by Carolyn Collins...</td>\n",
       "      <td>1</td>\n",
       "      <td></td>\n",
       "    </tr>\n",
       "    <tr>\n",
       "      <th>15</th>\n",
       "      <td>bda648d7-d618-4883-88f4-3466eabd860e</td>\n",
       "      <td>Where were the Vietnamese specimens described ...</td>\n",
       "      <td>1</td>\n",
       "      <td></td>\n",
       "    </tr>\n",
       "    <tr>\n",
       "      <th>16</th>\n",
       "      <td>cf106601-ab4f-4af9-b045-5295fe67b37d</td>\n",
       "      <td>What country had the least number of athletes ...</td>\n",
       "      <td>1</td>\n",
       "      <td></td>\n",
       "    </tr>\n",
       "    <tr>\n",
       "      <th>17</th>\n",
       "      <td>a0c07678-e491-4bbc-8f0b-07405144218f</td>\n",
       "      <td>Who are the pitchers with the number before an...</td>\n",
       "      <td>1</td>\n",
       "      <td></td>\n",
       "    </tr>\n",
       "    <tr>\n",
       "      <th>18</th>\n",
       "      <td>7bd855d8-463d-4ed5-93ca-5fe35145f733</td>\n",
       "      <td>The attached Excel file contains the sales of ...</td>\n",
       "      <td>1</td>\n",
       "      <td>7bd855d8-463d-4ed5-93ca-5fe35145f733.xlsx</td>\n",
       "    </tr>\n",
       "    <tr>\n",
       "      <th>19</th>\n",
       "      <td>5a0c1adf-205e-4841-a666-7c3ef95def9d</td>\n",
       "      <td>What is the first name of the only Malko Compe...</td>\n",
       "      <td>1</td>\n",
       "      <td></td>\n",
       "    </tr>\n",
       "  </tbody>\n",
       "</table>\n",
       "</div>"
      ],
      "text/plain": [
       "                                 task_id  \\\n",
       "0   8e867cd7-cff9-4e6c-867a-ff5ddc2550be   \n",
       "1   a1e91b78-d3d8-4675-bb8d-62741b4b68a6   \n",
       "2   2d83110e-a098-4ebb-9987-066c06fa42d0   \n",
       "3   cca530fc-4052-43b2-b130-b30968d8aa44   \n",
       "4   4fc2f1ae-8625-45b5-ab34-ad4433bc21f8   \n",
       "5   6f37996b-2ac7-44b0-8e68-6d28256631b4   \n",
       "6   9d191bce-651d-4746-be2d-7ef8ecadb9c2   \n",
       "7   cabe07ed-9eca-40ea-8ead-410ef5e83f91   \n",
       "8   3cef3a44-215e-4aed-8e3b-b1e3f08063b7   \n",
       "9   99c9cc74-fdc8-46c6-8f8d-3ce2d3bfeea3   \n",
       "10  305ac316-eef6-4446-960a-92d80d542f82   \n",
       "11  f918266a-b3e0-4914-865d-4faa564f1aef   \n",
       "12  3f57289b-8c60-48be-bd80-01f8099ca449   \n",
       "13  1f975693-876d-457b-a649-393859e79bf3   \n",
       "14  840bfca7-4f7b-481a-8794-c560c340185d   \n",
       "15  bda648d7-d618-4883-88f4-3466eabd860e   \n",
       "16  cf106601-ab4f-4af9-b045-5295fe67b37d   \n",
       "17  a0c07678-e491-4bbc-8f0b-07405144218f   \n",
       "18  7bd855d8-463d-4ed5-93ca-5fe35145f733   \n",
       "19  5a0c1adf-205e-4841-a666-7c3ef95def9d   \n",
       "\n",
       "                                             question Level  \\\n",
       "0   How many studio albums were published by Merce...     1   \n",
       "1   In the video https://www.youtube.com/watch?v=L...     1   \n",
       "2   .rewsna eht sa \"tfel\" drow eht fo etisoppo eht...     1   \n",
       "3   Review the chess position provided in the imag...     1   \n",
       "4   Who nominated the only Featured Article on Eng...     1   \n",
       "5   Given this table defining * on the set S = {a,...     1   \n",
       "6   Examine the video at https://www.youtube.com/w...     1   \n",
       "7   What is the surname of the equine veterinarian...     1   \n",
       "8   I'm making a grocery list for my mom, but she'...     1   \n",
       "9   Hi, I'm making a pie but I could use some help...     1   \n",
       "10  Who did the actor who played Ray in the Polish...     1   \n",
       "11  What is the final numeric output from the atta...     1   \n",
       "12  How many at bats did the Yankee with the most ...     1   \n",
       "13  Hi, I was out sick from my classes on Friday, ...     1   \n",
       "14  On June 6, 2023, an article by Carolyn Collins...     1   \n",
       "15  Where were the Vietnamese specimens described ...     1   \n",
       "16  What country had the least number of athletes ...     1   \n",
       "17  Who are the pitchers with the number before an...     1   \n",
       "18  The attached Excel file contains the sales of ...     1   \n",
       "19  What is the first name of the only Malko Compe...     1   \n",
       "\n",
       "                                    file_name  \n",
       "0                                              \n",
       "1                                              \n",
       "2                                              \n",
       "3    cca530fc-4052-43b2-b130-b30968d8aa44.png  \n",
       "4                                              \n",
       "5                                              \n",
       "6                                              \n",
       "7                                              \n",
       "8                                              \n",
       "9    99c9cc74-fdc8-46c6-8f8d-3ce2d3bfeea3.mp3  \n",
       "10                                             \n",
       "11    f918266a-b3e0-4914-865d-4faa564f1aef.py  \n",
       "12                                             \n",
       "13   1f975693-876d-457b-a649-393859e79bf3.mp3  \n",
       "14                                             \n",
       "15                                             \n",
       "16                                             \n",
       "17                                             \n",
       "18  7bd855d8-463d-4ed5-93ca-5fe35145f733.xlsx  \n",
       "19                                             "
      ]
     },
     "execution_count": 4,
     "metadata": {},
     "output_type": "execute_result"
    }
   ],
   "source": [
    "questions_df = pd.DataFrame(questions)\n",
    "questions_df"
   ]
  },
  {
   "cell_type": "markdown",
   "id": "17a8da93",
   "metadata": {},
   "source": [
    "How to get those files?"
   ]
  },
  {
   "cell_type": "code",
   "execution_count": 5,
   "id": "74e675bf",
   "metadata": {},
   "outputs": [],
   "source": [
    "task_id = questions_df.iloc[3][\"task_id\"]\n",
    "task_url = file_url_template + f\"/{task_id}\"\n",
    "sample_file = requests.get(url=task_url, timeout=15)\n",
    "sample_soup = BeautifulSoup(markup=sample_file.text, features=\"html.parser\")"
   ]
  },
  {
   "cell_type": "code",
   "execution_count": 6,
   "id": "38c079d3",
   "metadata": {},
   "outputs": [],
   "source": [
    "with open(\"image.png\", \"wb\") as f:\n",
    "    f.write(sample_file.content)"
   ]
  },
  {
   "cell_type": "code",
   "execution_count": 7,
   "id": "0f7d3bc7",
   "metadata": {},
   "outputs": [
    {
     "name": "stderr",
     "output_type": "stream",
     "text": [
      "libpng warning: iCCP: known incorrect sRGB profile\n"
     ]
    },
    {
     "data": {
      "text/plain": [
       "<matplotlib.image.AxesImage at 0x7fc7dea88f90>"
      ]
     },
     "execution_count": 7,
     "metadata": {},
     "output_type": "execute_result"
    },
    {
     "data": {
      "image/png": "[encoded data removed]",
      "text/plain": [
       "<Figure size 640x480 with 1 Axes>"
      ]
     },
     "metadata": {},
     "output_type": "display_data"
    }
   ],
   "source": [
    "import cv2\n",
    "import matplotlib.pyplot as plt\n",
    "\n",
    "img = cv2.imread(\"image.png\")\n",
    "plt.imshow(img)"
   ]
  },
  {
   "cell_type": "markdown",
   "id": "f921f18c",
   "metadata": {},
   "source": [
    "### Save task ids and files\n"
   ]
  },
  {
   "cell_type": "markdown",
   "id": "55a0b59d",
   "metadata": {},
   "source": [
    "### Integrate Tool\n"
   ]
  },
  {
   "cell_type": "markdown",
   "id": "b50825c1",
   "metadata": {},
   "source": [
    "###\n"
   ]
  },
  {
   "cell_type": "markdown",
   "id": "03b8a453",
   "metadata": {},
   "source": [
    "###\n"
   ]
  },
  {
   "cell_type": "markdown",
   "id": "7583e133",
   "metadata": {},
   "source": [
    "###\n"
   ]
  }
 ],
 "metadata": {
  "kernelspec": {
   "display_name": "chappie-CHLGiFC_-py3.11",
   "language": "python",
   "name": "python3"
  },
  "language_info": {
   "codemirror_mode": {
    "name": "ipython",
    "version": 3
   },
   "file_extension": ".py",
   "mimetype": "text/x-python",
   "name": "python",
   "nbconvert_exporter": "python",
   "pygments_lexer": "ipython3",
   "version": "3.11.13"
  }
 },
 "nbformat": 4,
 "nbformat_minor": 5
}
