{
 "cells": [
  {
   "cell_type": "markdown",
   "id": "bf9121e7",
   "metadata": {},
   "source": [
    "In this Notebook we create and sketch tools for the Agent. Building proofs of concept (PoC)"
   ]
  },
  {
   "cell_type": "markdown",
   "id": "c29d8861",
   "metadata": {},
   "source": [
    "### Setup"
   ]
  },
  {
   "cell_type": "code",
   "execution_count": 1,
   "id": "94d01490",
   "metadata": {},
   "outputs": [],
   "source": [
    "# Libraries\n",
    "\n",
    "import os"
   ]
  },
  {
   "cell_type": "code",
   "execution_count": 2,
   "id": "f32d7959",
   "metadata": {},
   "outputs": [],
   "source": [
    "# import Whisper\n",
    "\n",
    "import whisper"
   ]
  },
  {
   "cell_type": "code",
   "execution_count": 3,
   "id": "5e131840",
   "metadata": {},
   "outputs": [
    {
     "name": "stderr",
     "output_type": "stream",
     "text": [
      "Langfuse client is disabled since no public_key was provided as a parameter or environment variable 'LANGFUSE_PUBLIC_KEY'. See our docs: https://langfuse.com/docs/sdk/python/low-level-sdk#initialize-client\n"
     ]
    }
   ],
   "source": [
    "# Import Agent\n",
    "\n",
    "os.sys.path.append(\"../../src\")\n",
    "os.sys.path.append(\"../../src/agents\")\n",
    "\n",
    "import react  # My AI assistant"
   ]
  },
  {
   "cell_type": "code",
   "execution_count": 4,
   "id": "dc02cd0f",
   "metadata": {},
   "outputs": [],
   "source": [
    "# DEBUG\n",
    "\n",
    "os.sys.path.append(\"../../src/tools\")"
   ]
  },
  {
   "cell_type": "code",
   "execution_count": 5,
   "id": "3ca7a88a",
   "metadata": {},
   "outputs": [
    {
     "name": "stderr",
     "output_type": "stream",
     "text": [
      "/home/santiagoal/.cache/pypoetry/virtualenvs/chappie-CHLGiFC_-py3.11/lib/python3.11/site-packages/tqdm/auto.py:21: TqdmWarning: IProgress not found. Please update jupyter and ipywidgets. See https://ipywidgets.readthedocs.io/en/stable/user_install.html\n",
      "  from .autonotebook import tqdm as notebook_tqdm\n"
     ]
    }
   ],
   "source": [
    "\n",
    "# Import GAIA Questions\n",
    "from datasets import load_dataset\n"
   ]
  },
  {
   "cell_type": "code",
   "execution_count": 6,
   "id": "a46c1c67",
   "metadata": {},
   "outputs": [],
   "source": [
    "\n",
    "import pandas as pd\n"
   ]
  },
  {
   "cell_type": "code",
   "execution_count": 7,
   "id": "5a5cf241",
   "metadata": {},
   "outputs": [],
   "source": [
    "from dotenv import load_dotenv\n",
    "from huggingface_hub import snapshot_download, login"
   ]
  },
  {
   "cell_type": "code",
   "execution_count": 8,
   "id": "64a3d4d1",
   "metadata": {},
   "outputs": [],
   "source": [
    "# Load Hugging face credentials\n",
    "\n",
    "#load_dotenv()\n",
    "#login(os.getenv(key=\"HF_TOKEN_CHAPPIE\"))  # Replace with your hf api key name\n"
   ]
  },
  {
   "cell_type": "code",
   "execution_count": 9,
   "id": "fda05cb1",
   "metadata": {},
   "outputs": [],
   "source": [
    "#gaia_questions_path = snapshot_download(repo_id=\"gaia-benchmark/GAIA\", repo_type=\"dataset\")\n",
    "#gaia_questions = load_dataset(path=\"gaia-benchmark/GAIA\", name=\"2023_level1\")"
   ]
  },
  {
   "cell_type": "code",
   "execution_count": 10,
   "id": "e9ebf52c",
   "metadata": {},
   "outputs": [],
   "source": [
    "gaia_index_dir = \"../../../../.cache/huggingface/datasets/gaia-benchmark___gaia/2023_level1/0.0.1/ec492fe4320ee795b1aed6bb46229c5f693226b0f1316347501c24b4baeee005\"\n",
    "#gaia_index_dir = os.path.abspath(gaia_index_dir)\n",
    "gaia_data_path = os.path.join(gaia_index_dir, \"gaia-validation.arrow\")"
   ]
  },
  {
   "cell_type": "code",
   "execution_count": 11,
   "id": "101f8c73",
   "metadata": {},
   "outputs": [],
   "source": [
    "# Temporal cell: wrote because of hugging face api calls limit\n",
    "\n",
    "import pyarrow.ipc as ipc\n",
    "\n",
    "with open(gaia_data_path, \"rb\") as f:\n",
    "    reader = ipc.RecordBatchStreamReader(f)\n",
    "    table = reader.read_all()\n",
    "\n",
    "gaia_df = table.to_pandas()\n"
   ]
  },
  {
   "cell_type": "code",
   "execution_count": 12,
   "id": "fe9a5e51",
   "metadata": {},
   "outputs": [],
   "source": [
    "#gaia_questions = gaia_questions[\"validation\"]  # Filter for dev purposes\n",
    "#gaia_df = pd.DataFrame(gaia_questions)"
   ]
  },
  {
   "cell_type": "code",
   "execution_count": 13,
   "id": "30c08c4d",
   "metadata": {},
   "outputs": [
    {
     "data": {
      "application/vnd.microsoft.datawrangler.viewer.v0+json": {
       "columns": [
        {
         "name": "index",
         "rawType": "int64",
         "type": "integer"
        },
        {
         "name": "task_id",
         "rawType": "object",
         "type": "string"
        },
        {
         "name": "Question",
         "rawType": "object",
         "type": "string"
        },
        {
         "name": "Level",
         "rawType": "object",
         "type": "string"
        },
        {
         "name": "Final answer",
         "rawType": "object",
         "type": "string"
        },
        {
         "name": "file_name",
         "rawType": "object",
         "type": "string"
        },
        {
         "name": "file_path",
         "rawType": "object",
         "type": "string"
        },
        {
         "name": "Annotator Metadata",
         "rawType": "object",
         "type": "unknown"
        }
       ],
       "ref": "5b0fdc04-2ad4-43ac-94c5-7cc3dd9e76d6",
       "rows": [
        [
         "0",
         "e1fc63a2-da7a-432f-be78-7c4a95598703",
         "If Eliud Kipchoge could maintain his record-making marathon pace indefinitely, how many thousand hours would it take him to run the distance between the Earth and the Moon its closest approach? Please use the minimum perigee value on the Wikipedia page for the Moon when carrying out your calculation. Round your result to the nearest 1000 hours and do not use any comma separators if necessary.",
         "1",
         "17",
         "",
         "",
         "{'Steps': '1. Googled Eliud Kipchoge marathon pace to find 4min 37sec/mile\\n2. Converted into fractions of hours.\\n3. Found moon periapsis in miles (225,623 miles).\\n4. Multiplied the two to find the number of hours and rounded to the nearest 100 hours.', 'Number of steps': '4', 'How long did this take?': '20 Minutes', 'Tools': '1. A web browser.\\n2. A search engine.\\n3. A calculator.', 'Number of tools': '3'}"
        ],
        [
         "1",
         "8e867cd7-cff9-4e6c-867a-ff5ddc2550be",
         "How many studio albums were published by Mercedes Sosa between 2000 and 2009 (included)? You can use the latest 2022 version of english wikipedia.",
         "1",
         "3",
         "",
         "",
         "{'Steps': '1. I did a search for Mercedes Sosa\\n2. I went to the Wikipedia page for her\\n3. I scrolled down to \"Studio albums\"\\n4. I counted the ones between 2000 and 2009', 'Number of steps': '4', 'How long did this take?': '5 minutes', 'Tools': '1. web browser\\n2. google search', 'Number of tools': '2'}"
        ],
        [
         "2",
         "ec09fa32-d03f-4bf8-84b0-1f16922c3ae4",
         "Here's a fun riddle that I think you'll enjoy.\n\nYou have been selected to play the final round of the hit new game show \"Pick That Ping-Pong\". In this round, you will be competing for a large cash prize. Your job will be to pick one of several different numbered ping-pong balls, and then the game will commence. The host describes how the game works.\n\nA device consisting of a winding clear ramp and a series of pistons controls the outcome of the game. The ramp feeds balls onto a platform. The platform has room for three ping-pong balls at a time. The three balls on the platform are each aligned with one of three pistons. At each stage of the game, one of the three pistons will randomly fire, ejecting the ball it strikes. If the piston ejects the ball in the first position on the platform the balls in the second and third position on the platform each advance one space, and the next ball on the ramp advances to the third position. If the piston ejects the ball in the second position, the ball in the first position is released and rolls away, the ball in the third position advances two spaces to occupy the first position, and the next two balls on the ramp advance to occupy the second and third positions on the platform. If the piston ejects the ball in the third position, the ball in the first position is released and rolls away, the ball in the second position advances one space to occupy the first position, and the next two balls on the ramp advance to occupy the second and third positions on the platform.\n\nThe ramp begins with 100 numbered ping-pong balls, arranged in ascending order from 1 to 100. The host activates the machine and the first three balls, numbered 1, 2, and 3, advance to the platform. Before the random firing of the pistons begins, you are asked which of the 100 balls you would like to pick. If your pick is ejected by one of the pistons, you win the grand prize, $10,000.\n\nWhich ball should you choose to maximize your odds of winning the big prize? Please provide your answer as the number of the ball selected.",
         "1",
         "3",
         "",
         "",
         "{'Steps': 'Step 1: Evaluate the problem statement provided in my user\\'s prompt\\nStep 2: Consider the probability of any ball on the platform earning the prize.\\nStep 3: Evaluate the ball in position one. The probability of it earning the prize, P1, is 1/3\\nStep 4: Using a calculator, evaluate the ball in position two. The probability of it earning the prize, P2, is the difference between 1 and the product of the complementary probabilities for each trial\\nP2 = 1 - (2/3)(2/3)\\nP2 = 5/9\\nStep 5: Using a calculator, evaluate the ball in position three. The probability of it earning the prize, P3, is the difference between 1 and the product of the complementary probabilities for each trial\\nP3 = 1 - (2/3)(2/3)(2/3)\\nP3 = 19/27\\nStep 6: Consider the possible outcomes of numbers higher than 3.\\nStep 7: For each trial, either 1 or 2 balls from the ramp will advance to the platform. For any given selection, there is a 50% chance that the ball advances to position 2 or position 3.\\nStep 8: As position three holds the highest chance of earning the prize, select the only ball known to occupy position three with certainty, ball 3.\\nStep 9: Report the correct answer to my user, \"3\"', 'Number of steps': '9', 'How long did this take?': '1 minute', 'Tools': 'None', 'Number of tools': '0'}"
        ],
        [
         "3",
         "5d0080cb-90d7-4712-bc33-848150e917d3",
         "What was the volume in m^3 of the fish bag that was calculated in the University of Leicester paper \"Can Hiccup Supply Enough Fish to Maintain a Dragon’s Diet?\"",
         "1",
         "0.1777",
         "",
         "",
         "{'Steps': '1. Searched \\'\"Can Hiccup Supply Enough Fish to Maintain a Dragon’s Diet?\"\\' on Google.\\n2. Opened \"Can Hiccup Supply Enough Fish to Maintain a Dragon’s Diet?\" at https://journals.le.ac.uk/ojs1/index.php/jist/article/view/733.\\n3. Clicked \"PDF\".\\n4. Found the calculations for the volume of the fish bag and noted them.', 'Number of steps': '4', 'How long did this take?': '5 minutes', 'Tools': '1. Web browser\\n2. Search engine\\n3. PDF access', 'Number of tools': '3'}"
        ],
        [
         "4",
         "a1e91b78-d3d8-4675-bb8d-62741b4b68a6",
         "In the video https://www.youtube.com/watch?v=L1vXCYZAYYM, what is the highest number of bird species to be on camera simultaneously?",
         "1",
         "3",
         "",
         "",
         "{'Steps': '1. Navigate to the YouTube link.\\n2. Watch the video to see the highest number of bird species.\\n3. Note the number.', 'Number of steps': '3', 'How long did this take?': '3 minutes', 'Tools': '1. Web browser\\n2. Video parsing', 'Number of tools': '2'}"
        ]
       ],
       "shape": {
        "columns": 7,
        "rows": 5
       }
      },
      "text/html": [
       "<div>\n",
       "<style scoped>\n",
       "    .dataframe tbody tr th:only-of-type {\n",
       "        vertical-align: middle;\n",
       "    }\n",
       "\n",
       "    .dataframe tbody tr th {\n",
       "        vertical-align: top;\n",
       "    }\n",
       "\n",
       "    .dataframe thead th {\n",
       "        text-align: right;\n",
       "    }\n",
       "</style>\n",
       "<table border=\"1\" class=\"dataframe\">\n",
       "  <thead>\n",
       "    <tr style=\"text-align: right;\">\n",
       "      <th></th>\n",
       "      <th>task_id</th>\n",
       "      <th>Question</th>\n",
       "      <th>Level</th>\n",
       "      <th>Final answer</th>\n",
       "      <th>file_name</th>\n",
       "      <th>file_path</th>\n",
       "      <th>Annotator Metadata</th>\n",
       "    </tr>\n",
       "  </thead>\n",
       "  <tbody>\n",
       "    <tr>\n",
       "      <th>0</th>\n",
       "      <td>e1fc63a2-da7a-432f-be78-7c4a95598703</td>\n",
       "      <td>If Eliud Kipchoge could maintain his record-ma...</td>\n",
       "      <td>1</td>\n",
       "      <td>17</td>\n",
       "      <td></td>\n",
       "      <td></td>\n",
       "      <td>{'Steps': '1. Googled Eliud Kipchoge marathon ...</td>\n",
       "    </tr>\n",
       "    <tr>\n",
       "      <th>1</th>\n",
       "      <td>8e867cd7-cff9-4e6c-867a-ff5ddc2550be</td>\n",
       "      <td>How many studio albums were published by Merce...</td>\n",
       "      <td>1</td>\n",
       "      <td>3</td>\n",
       "      <td></td>\n",
       "      <td></td>\n",
       "      <td>{'Steps': '1. I did a search for Mercedes Sosa...</td>\n",
       "    </tr>\n",
       "    <tr>\n",
       "      <th>2</th>\n",
       "      <td>ec09fa32-d03f-4bf8-84b0-1f16922c3ae4</td>\n",
       "      <td>Here's a fun riddle that I think you'll enjoy....</td>\n",
       "      <td>1</td>\n",
       "      <td>3</td>\n",
       "      <td></td>\n",
       "      <td></td>\n",
       "      <td>{'Steps': 'Step 1: Evaluate the problem statem...</td>\n",
       "    </tr>\n",
       "    <tr>\n",
       "      <th>3</th>\n",
       "      <td>5d0080cb-90d7-4712-bc33-848150e917d3</td>\n",
       "      <td>What was the volume in m^3 of the fish bag tha...</td>\n",
       "      <td>1</td>\n",
       "      <td>0.1777</td>\n",
       "      <td></td>\n",
       "      <td></td>\n",
       "      <td>{'Steps': '1. Searched '\"Can Hiccup Supply Eno...</td>\n",
       "    </tr>\n",
       "    <tr>\n",
       "      <th>4</th>\n",
       "      <td>a1e91b78-d3d8-4675-bb8d-62741b4b68a6</td>\n",
       "      <td>In the video https://www.youtube.com/watch?v=L...</td>\n",
       "      <td>1</td>\n",
       "      <td>3</td>\n",
       "      <td></td>\n",
       "      <td></td>\n",
       "      <td>{'Steps': '1. Navigate to the YouTube link.\n",
       "2....</td>\n",
       "    </tr>\n",
       "  </tbody>\n",
       "</table>\n",
       "</div>"
      ],
      "text/plain": [
       "                                task_id  \\\n",
       "0  e1fc63a2-da7a-432f-be78-7c4a95598703   \n",
       "1  8e867cd7-cff9-4e6c-867a-ff5ddc2550be   \n",
       "2  ec09fa32-d03f-4bf8-84b0-1f16922c3ae4   \n",
       "3  5d0080cb-90d7-4712-bc33-848150e917d3   \n",
       "4  a1e91b78-d3d8-4675-bb8d-62741b4b68a6   \n",
       "\n",
       "                                            Question Level Final answer  \\\n",
       "0  If Eliud Kipchoge could maintain his record-ma...     1           17   \n",
       "1  How many studio albums were published by Merce...     1            3   \n",
       "2  Here's a fun riddle that I think you'll enjoy....     1            3   \n",
       "3  What was the volume in m^3 of the fish bag tha...     1       0.1777   \n",
       "4  In the video https://www.youtube.com/watch?v=L...     1            3   \n",
       "\n",
       "  file_name file_path                                 Annotator Metadata  \n",
       "0                      {'Steps': '1. Googled Eliud Kipchoge marathon ...  \n",
       "1                      {'Steps': '1. I did a search for Mercedes Sosa...  \n",
       "2                      {'Steps': 'Step 1: Evaluate the problem statem...  \n",
       "3                      {'Steps': '1. Searched '\"Can Hiccup Supply Eno...  \n",
       "4                      {'Steps': '1. Navigate to the YouTube link.\n",
       "2....  "
      ]
     },
     "execution_count": 13,
     "metadata": {},
     "output_type": "execute_result"
    }
   ],
   "source": [
    "gaia_df.head()"
   ]
  },
  {
   "cell_type": "code",
   "execution_count": 14,
   "id": "4826e755",
   "metadata": {},
   "outputs": [
    {
     "data": {
      "application/vnd.microsoft.datawrangler.viewer.v0+json": {
       "columns": [
        {
         "name": "index",
         "rawType": "int64",
         "type": "integer"
        },
        {
         "name": "task_id",
         "rawType": "object",
         "type": "string"
        },
        {
         "name": "Question",
         "rawType": "object",
         "type": "string"
        },
        {
         "name": "Level",
         "rawType": "object",
         "type": "string"
        },
        {
         "name": "Final answer",
         "rawType": "object",
         "type": "string"
        },
        {
         "name": "file_name",
         "rawType": "object",
         "type": "string"
        },
        {
         "name": "file_path",
         "rawType": "object",
         "type": "string"
        },
        {
         "name": "Annotator Metadata",
         "rawType": "object",
         "type": "unknown"
        }
       ],
       "ref": "e54767b0-7382-42be-9651-9d2d866b1ab6",
       "rows": [
        [
         "16",
         "cca530fc-4052-43b2-b130-b30968d8aa44",
         "Review the chess position provided in the image. It is black's turn. Provide the correct next move for black which guarantees a win. Please provide your response in algebraic notation.",
         "1",
         "Rd5",
         "cca530fc-4052-43b2-b130-b30968d8aa44.png",
         "/home/santiagoal/.cache/huggingface/hub/datasets--gaia-benchmark--GAIA/snapshots/897f2dfbb5c952b5c3c1509e648381f9c7b70316/2023/validation/cca530fc-4052-43b2-b130-b30968d8aa44.png",
         "{'Steps': 'Step 1: Evaluate the position of the pieces in the chess position\\nStep 2: Report the best move available for black: \"Rd5\"', 'Number of steps': '2', 'How long did this take?': '10 minutes', 'Tools': '1. Image recognition tools', 'Number of tools': '1'}"
        ]
       ],
       "shape": {
        "columns": 7,
        "rows": 1
       }
      },
      "text/html": [
       "<div>\n",
       "<style scoped>\n",
       "    .dataframe tbody tr th:only-of-type {\n",
       "        vertical-align: middle;\n",
       "    }\n",
       "\n",
       "    .dataframe tbody tr th {\n",
       "        vertical-align: top;\n",
       "    }\n",
       "\n",
       "    .dataframe thead th {\n",
       "        text-align: right;\n",
       "    }\n",
       "</style>\n",
       "<table border=\"1\" class=\"dataframe\">\n",
       "  <thead>\n",
       "    <tr style=\"text-align: right;\">\n",
       "      <th></th>\n",
       "      <th>task_id</th>\n",
       "      <th>Question</th>\n",
       "      <th>Level</th>\n",
       "      <th>Final answer</th>\n",
       "      <th>file_name</th>\n",
       "      <th>file_path</th>\n",
       "      <th>Annotator Metadata</th>\n",
       "    </tr>\n",
       "  </thead>\n",
       "  <tbody>\n",
       "    <tr>\n",
       "      <th>16</th>\n",
       "      <td>cca530fc-4052-43b2-b130-b30968d8aa44</td>\n",
       "      <td>Review the chess position provided in the imag...</td>\n",
       "      <td>1</td>\n",
       "      <td>Rd5</td>\n",
       "      <td>cca530fc-4052-43b2-b130-b30968d8aa44.png</td>\n",
       "      <td>/home/santiagoal/.cache/huggingface/hub/datase...</td>\n",
       "      <td>{'Steps': 'Step 1: Evaluate the position of th...</td>\n",
       "    </tr>\n",
       "  </tbody>\n",
       "</table>\n",
       "</div>"
      ],
      "text/plain": [
       "                                 task_id  \\\n",
       "16  cca530fc-4052-43b2-b130-b30968d8aa44   \n",
       "\n",
       "                                             Question Level Final answer  \\\n",
       "16  Review the chess position provided in the imag...     1          Rd5   \n",
       "\n",
       "                                   file_name  \\\n",
       "16  cca530fc-4052-43b2-b130-b30968d8aa44.png   \n",
       "\n",
       "                                            file_path  \\\n",
       "16  /home/santiagoal/.cache/huggingface/hub/datase...   \n",
       "\n",
       "                                   Annotator Metadata  \n",
       "16  {'Steps': 'Step 1: Evaluate the position of th...  "
      ]
     },
     "execution_count": 14,
     "metadata": {},
     "output_type": "execute_result"
    }
   ],
   "source": [
    "# DEL\n",
    "# temp filter to get chess images\n",
    "gaia_df[gaia_df[\"file_path\"].map(lambda f: f.endswith(\"44.png\"))]"
   ]
  },
  {
   "cell_type": "markdown",
   "id": "f2d34bca",
   "metadata": {},
   "source": [
    "---"
   ]
  },
  {
   "cell_type": "code",
   "execution_count": 15,
   "id": "0150df47",
   "metadata": {},
   "outputs": [
    {
     "data": {
      "text/plain": [
       "{'', 'docx', 'mp3', 'png', 'pptx', 'py', 'txt', 'xlsx'}"
      ]
     },
     "execution_count": 15,
     "metadata": {},
     "output_type": "execute_result"
    }
   ],
   "source": [
    "filetypes = {d[1].file_path.split(\".\")[-1] for d in gaia_df.iterrows()}\n",
    "filetypes"
   ]
  },
  {
   "cell_type": "markdown",
   "id": "c41c99d7",
   "metadata": {},
   "source": [
    "### Read Historical XPs"
   ]
  },
  {
   "cell_type": "code",
   "execution_count": null,
   "id": "82dd866a",
   "metadata": {},
   "outputs": [],
   "source": [
    "xp_paths = \"../data/agent_experiments/iterations/\""
   ]
  },
  {
   "cell_type": "code",
   "execution_count": null,
   "id": "5649c3c2",
   "metadata": {},
   "outputs": [],
   "source": [
    "# Index all XPs\n",
    "import os\n",
    "import pandas as pd\n",
    "\n",
    "xp_dir = \"../../data/agent_experiments/iterations\"\n",
    "xp_list = []\n",
    "# FIXME: from the 10th XP iteration, the sorted method is unuseful\n",
    "\n",
    "for i, xp_path in enumerate(sorted(os.listdir(xp_dir))):  \n",
    "    xp_path = os.path.join(xp_dir, xp_path)\n",
    "    temp_xp_df = pd.read_csv(xp_path)\n",
    "    xp_list.append((i, temp_xp_df))\n",
    "    del temp_xp_df "
   ]
  },
  {
   "cell_type": "code",
   "execution_count": null,
   "id": "5ca5b1fd",
   "metadata": {},
   "outputs": [],
   "source": [
    "# Join latest XP result to each question\n",
    "\n",
    "index = gaia_df.index.tolist()  # Index for all the questions\n",
    "questions = gaia_df[\"Question\"].tolist()\n",
    "answers = list()\n",
    "\n",
    "\n",
    "def filter_condition(xp_data: list) -> bool:\n",
    "    i, xp = xp_data\n",
    "    for question in questions:\n",
    "        xp_addressed_questions = xp[\"Question\"].tolist()\n",
    "        if question in xp_addressed_questions:\n",
    "            return True\n",
    "    return False\n",
    "\n",
    "filtered_xps = list(filter(filter_condition, xp_list))\n",
    "filtered_xps_reversed = filtered_xps\n",
    "filtered_xps_reversed.reverse()\n",
    "\n",
    "# Join latest answer result (i.e. result of the latest xp)\n",
    "\n",
    "# Join latest answer result (i.e. result of the latest xp)\n",
    "\n",
    "for question in questions:\n",
    "    answer_result = 0  # Assume wrong answer by default\n",
    "    for i, xp in filtered_xps_reversed:\n",
    "        for xp_question in xp[\"Question\"].tolist():\n",
    "            \n",
    "            if question == xp_question:\n",
    "                answer_result_row = list(xp[xp[\"Question\"] == xp_question][\"is_correct\"])#.loc[0]\n",
    "                answer_result_temp = answer_result_row[0]                    \n",
    "                if answer_result_temp >= answer_result:\n",
    "                    answer_result = answer_result_temp\n",
    "        del xp\n",
    "    answers.append(answer_result)\n",
    "\n",
    "# Join answers\n",
    "historical_xp_results = gaia_df.copy()\n",
    "historical_xp_results[\"is_correct\"] = pd.Series(answers)\n",
    "del answers, questions"
   ]
  },
  {
   "cell_type": "code",
   "execution_count": null,
   "id": "ca756f04",
   "metadata": {},
   "outputs": [],
   "source": [
    "historical_xp_results"
   ]
  },
  {
   "cell_type": "code",
   "execution_count": null,
   "id": "fd11615a",
   "metadata": {},
   "outputs": [],
   "source": [
    "historical_xp_results.is_correct.mean()"
   ]
  },
  {
   "cell_type": "markdown",
   "id": "d3ddaede",
   "metadata": {},
   "source": [
    "Let's study first which are the most common wrong tasks. I.e. How can we increase accuracy with a single next step (e.g. implement a new tool, modify sys message, etc.)"
   ]
  },
  {
   "cell_type": "code",
   "execution_count": null,
   "id": "a0613fc4",
   "metadata": {},
   "outputs": [],
   "source": [
    "wrong_ans_df = historical_xp_results[historical_xp_results[\"is_correct\"]==0]\n",
    "wrong_ans_df[\"fp_extension\"] = wrong_ans_df[\"file_path\"].map(lambda path: path.split(\".\")[-1])\n",
    "wrong_ans_df"
   ]
  },
  {
   "cell_type": "code",
   "execution_count": null,
   "id": "43925ec4",
   "metadata": {},
   "outputs": [],
   "source": [
    "# Summary\n",
    "wrong_ans_df.groupby(\"fp_extension\")[\"is_correct\"].count()"
   ]
  },
  {
   "cell_type": "markdown",
   "id": "1f77dabb",
   "metadata": {},
   "source": [
    "The vast majority of remaining tasks do not include files to read. So we sould study them at first"
   ]
  },
  {
   "cell_type": "code",
   "execution_count": null,
   "id": "1379da15",
   "metadata": {},
   "outputs": [],
   "source": [
    "wrong_ans_df_no_extension = wrong_ans_df[wrong_ans_df[\"file_path\"].map(lambda fp: len(fp)==0)]"
   ]
  },
  {
   "cell_type": "code",
   "execution_count": null,
   "id": "5e40e190",
   "metadata": {},
   "outputs": [],
   "source": [
    "wrong_ans_df_no_extension"
   ]
  },
  {
   "cell_type": "markdown",
   "id": "14a8ebcf",
   "metadata": {},
   "source": [
    "### Method\n",
    "\n",
    "We identified three main necessities to cover through web search\n",
    "\n",
    "1. Analize youtube videos (transcription and computer vision)\n",
    "2. Scrap web pages (e.g. journals, pdfs, wikipedia articles)\n",
    "\n",
    "\n",
    "So we decided to modularize the web_search_tool into three main modules\n",
    "\n",
    "1. High-level Web results\n",
    "2. Youtube Video Class: To gather both audio and video\n",
    "3. Web page scrapper: Given a web url, retrieve the text as markdown\n",
    "4. Object detection tool: Ideally coded into handle_image tool\n",
    "\n",
    "So we plan to generate three main tools: `youtube_tool` (Class + Langchain runnable), `web_search` (Expanded) and `handle_images` with an initial module `object_detection` using YoloV4-tiny"
   ]
  },
  {
   "cell_type": "markdown",
   "id": "b63c5f35",
   "metadata": {},
   "source": [
    "### Youtube Tool"
   ]
  },
  {
   "cell_type": "code",
   "execution_count": 16,
   "id": "2141e4ea",
   "metadata": {},
   "outputs": [],
   "source": [
    "import re"
   ]
  },
  {
   "cell_type": "markdown",
   "id": "892f468e",
   "metadata": {},
   "source": [
    "#### 1. FIlter tasks to solve with the tool"
   ]
  },
  {
   "cell_type": "code",
   "execution_count": 17,
   "id": "7e6b3b0c",
   "metadata": {},
   "outputs": [
    {
     "data": {
      "application/vnd.microsoft.datawrangler.viewer.v0+json": {
       "columns": [
        {
         "name": "index",
         "rawType": "int64",
         "type": "integer"
        },
        {
         "name": "task_id",
         "rawType": "object",
         "type": "string"
        },
        {
         "name": "Question",
         "rawType": "object",
         "type": "string"
        },
        {
         "name": "Level",
         "rawType": "object",
         "type": "string"
        },
        {
         "name": "Final answer",
         "rawType": "object",
         "type": "string"
        },
        {
         "name": "file_name",
         "rawType": "object",
         "type": "string"
        },
        {
         "name": "file_path",
         "rawType": "object",
         "type": "string"
        },
        {
         "name": "Annotator Metadata",
         "rawType": "object",
         "type": "unknown"
        }
       ],
       "ref": "033ccb06-6a57-422d-9bd7-a9c4b4181b5f",
       "rows": [
        [
         "4",
         "a1e91b78-d3d8-4675-bb8d-62741b4b68a6",
         "In the video https://www.youtube.com/watch?v=L1vXCYZAYYM, what is the highest number of bird species to be on camera simultaneously?",
         "1",
         "3",
         "",
         "",
         "{'Steps': '1. Navigate to the YouTube link.\\n2. Watch the video to see the highest number of bird species.\\n3. Note the number.', 'Number of steps': '3', 'How long did this take?': '3 minutes', 'Tools': '1. Web browser\\n2. Video parsing', 'Number of tools': '2'}"
        ],
        [
         "26",
         "9d191bce-651d-4746-be2d-7ef8ecadb9c2",
         "Examine the video at https://www.youtube.com/watch?v=1htKBjuUWec.\n\nWhat does Teal'c say in response to the question \"Isn't that hot?\"",
         "1",
         "Extremely",
         "",
         "",
         "{'Steps': '1. Follow the link\\n2. Watch the clip until the question \"Isn\\'t that hot\" is asked\\n3. Take note of the reply.', 'Number of steps': '3', 'How long did this take?': '2 minutes', 'Tools': '1. Web browser\\n2. Video processing software\\n3. Audio processing software', 'Number of tools': '1'}"
        ],
        [
         "33",
         "0383a3ee-47a7-41a4-b493-519bdefe0488",
         "On the BBC Earth YouTube video of the Top 5 Silliest Animal Moments, what species of bird is featured?",
         "1",
         "Rockhopper penguin",
         "",
         "",
         "{'Steps': '1. Search \"top 5 silliest animal moments bbc earth youtube\" on Google search.\\n2. Open the top link to \"Top 5 Silliest Animal Moments! | BBC Earth - YouTube\".\\n3. Listen to the video until the species is named.', 'Number of steps': '3', 'How long did this take?': '3 minutes', 'Tools': '1. Web browser\\n2. Search engine\\n3. Video recognition tools', 'Number of tools': '3'}"
        ]
       ],
       "shape": {
        "columns": 7,
        "rows": 3
       }
      },
      "text/html": [
       "<div>\n",
       "<style scoped>\n",
       "    .dataframe tbody tr th:only-of-type {\n",
       "        vertical-align: middle;\n",
       "    }\n",
       "\n",
       "    .dataframe tbody tr th {\n",
       "        vertical-align: top;\n",
       "    }\n",
       "\n",
       "    .dataframe thead th {\n",
       "        text-align: right;\n",
       "    }\n",
       "</style>\n",
       "<table border=\"1\" class=\"dataframe\">\n",
       "  <thead>\n",
       "    <tr style=\"text-align: right;\">\n",
       "      <th></th>\n",
       "      <th>task_id</th>\n",
       "      <th>Question</th>\n",
       "      <th>Level</th>\n",
       "      <th>Final answer</th>\n",
       "      <th>file_name</th>\n",
       "      <th>file_path</th>\n",
       "      <th>Annotator Metadata</th>\n",
       "    </tr>\n",
       "  </thead>\n",
       "  <tbody>\n",
       "    <tr>\n",
       "      <th>4</th>\n",
       "      <td>a1e91b78-d3d8-4675-bb8d-62741b4b68a6</td>\n",
       "      <td>In the video https://www.youtube.com/watch?v=L...</td>\n",
       "      <td>1</td>\n",
       "      <td>3</td>\n",
       "      <td></td>\n",
       "      <td></td>\n",
       "      <td>{'Steps': '1. Navigate to the YouTube link.\n",
       "2....</td>\n",
       "    </tr>\n",
       "    <tr>\n",
       "      <th>26</th>\n",
       "      <td>9d191bce-651d-4746-be2d-7ef8ecadb9c2</td>\n",
       "      <td>Examine the video at https://www.youtube.com/w...</td>\n",
       "      <td>1</td>\n",
       "      <td>Extremely</td>\n",
       "      <td></td>\n",
       "      <td></td>\n",
       "      <td>{'Steps': '1. Follow the link\n",
       "2. Watch the cli...</td>\n",
       "    </tr>\n",
       "    <tr>\n",
       "      <th>33</th>\n",
       "      <td>0383a3ee-47a7-41a4-b493-519bdefe0488</td>\n",
       "      <td>On the BBC Earth YouTube video of the Top 5 Si...</td>\n",
       "      <td>1</td>\n",
       "      <td>Rockhopper penguin</td>\n",
       "      <td></td>\n",
       "      <td></td>\n",
       "      <td>{'Steps': '1. Search \"top 5 silliest animal mo...</td>\n",
       "    </tr>\n",
       "  </tbody>\n",
       "</table>\n",
       "</div>"
      ],
      "text/plain": [
       "                                 task_id  \\\n",
       "4   a1e91b78-d3d8-4675-bb8d-62741b4b68a6   \n",
       "26  9d191bce-651d-4746-be2d-7ef8ecadb9c2   \n",
       "33  0383a3ee-47a7-41a4-b493-519bdefe0488   \n",
       "\n",
       "                                             Question Level  \\\n",
       "4   In the video https://www.youtube.com/watch?v=L...     1   \n",
       "26  Examine the video at https://www.youtube.com/w...     1   \n",
       "33  On the BBC Earth YouTube video of the Top 5 Si...     1   \n",
       "\n",
       "          Final answer file_name file_path  \\\n",
       "4                    3                       \n",
       "26           Extremely                       \n",
       "33  Rockhopper penguin                       \n",
       "\n",
       "                                   Annotator Metadata  \n",
       "4   {'Steps': '1. Navigate to the YouTube link.\n",
       "2....  \n",
       "26  {'Steps': '1. Follow the link\n",
       "2. Watch the cli...  \n",
       "33  {'Steps': '1. Search \"top 5 silliest animal mo...  "
      ]
     },
     "execution_count": 17,
     "metadata": {},
     "output_type": "execute_result"
    }
   ],
   "source": [
    "pattern = r\".*youtube.*\"\n",
    "yt_tasks = gaia_df.copy()\n",
    "yt_tasks = yt_tasks[yt_tasks[\"Question\"].map(lambda question: bool(re.search(pattern, question, re.IGNORECASE)))]\n",
    "yt_tasks"
   ]
  },
  {
   "cell_type": "markdown",
   "id": "d41b2f29",
   "metadata": {},
   "source": [
    "#### 2. Tool PoC"
   ]
  },
  {
   "cell_type": "code",
   "execution_count": 18,
   "id": "64c2891e",
   "metadata": {},
   "outputs": [],
   "source": [
    "sample_yt_url = \"https://www.youtube.com/watch?v=L1vXCYZAYYM\""
   ]
  },
  {
   "cell_type": "markdown",
   "id": "9b82ace7",
   "metadata": {},
   "source": [
    "Lets import that video"
   ]
  },
  {
   "cell_type": "code",
   "execution_count": 19,
   "id": "f5ad954c",
   "metadata": {},
   "outputs": [],
   "source": [
    "import os"
   ]
  },
  {
   "cell_type": "code",
   "execution_count": 20,
   "id": "5c12ac9f",
   "metadata": {},
   "outputs": [],
   "source": [
    "output_dir = \"../../data/temp/\"\n",
    "\n",
    "yt_audio_filename = \"yt_audio.mp3\"\n",
    "yt_audio_path = os.path.join(output_dir, yt_audio_filename)\n",
    "\n",
    "raw_yt_video_filename = \"raw_yt_video.mp4\"\n",
    "processed_yt_video_filename = \"processed_yt_video.mp4\"\n",
    "\n",
    "raw_yt_video_path = os.path.join(output_dir, raw_yt_video_filename)\n",
    "processed_yt_video_path = os.path.join(output_dir, processed_yt_video_filename)"
   ]
  },
  {
   "cell_type": "code",
   "execution_count": 21,
   "id": "6f1e8a09",
   "metadata": {},
   "outputs": [],
   "source": [
    "from pytubefix import YouTube"
   ]
  },
  {
   "cell_type": "code",
   "execution_count": 22,
   "id": "67f68f09",
   "metadata": {},
   "outputs": [],
   "source": [
    "yt = YouTube(sample_yt_url)\n",
    "#yt_audio = yt.streams.filter(only_audio=True).first()\n",
    "#yt_video = yt.streams.filter(only_video=True).first()"
   ]
  },
  {
   "cell_type": "code",
   "execution_count": 23,
   "id": "2f04e971",
   "metadata": {},
   "outputs": [],
   "source": [
    "yt_audio = yt.streams.filter(only_audio=True).first()\n",
    "yt_audio_filename = \"yt_audio.mp3\"\n",
    "yt_audio_path = os.path.join(output_dir, yt_audio_filename)"
   ]
  },
  {
   "cell_type": "code",
   "execution_count": 24,
   "id": "e4c19f5a",
   "metadata": {},
   "outputs": [],
   "source": [
    "yt_video = yt.streams.filter(only_video=True, fps=25, res=\"144p\").order_by(\"fps\").asc().first()\n",
    "yt_video_filename = \"yt_video.mp4\"\n",
    "yt_video_path = os.path.join(output_dir, raw_yt_video_filename)"
   ]
  },
  {
   "cell_type": "markdown",
   "id": "3e2ee8ec",
   "metadata": {},
   "source": [
    "We imported a binary representation of both YT video and audio. The idea now is to try to pass these objects to a CV model (e.g. YoloV4) and to a Transcriber model (e.g. Whisper)"
   ]
  },
  {
   "cell_type": "markdown",
   "id": "ff5864bc",
   "metadata": {},
   "source": [
    "YoLo"
   ]
  },
  {
   "cell_type": "code",
   "execution_count": null,
   "id": "5fef61e0",
   "metadata": {},
   "outputs": [],
   "source": [
    "yt_video.download(output_path=output_dir, filename=raw_yt_video_filename)"
   ]
  },
  {
   "cell_type": "code",
   "execution_count": null,
   "id": "fd04bfdf",
   "metadata": {},
   "outputs": [],
   "source": [
    "import subprocess\n",
    "\n",
    "new_fps = 1\n",
    "reduce_fps_cmd = f'ffmpeg -y -i {raw_yt_video_path} -filter:v \"fps={new_fps}\" -an {processed_yt_video_path}'\n",
    "subprocess.run(\n",
    "    reduce_fps_cmd, shell=True\n",
    ")"
   ]
  },
  {
   "cell_type": "code",
   "execution_count": null,
   "id": "b0383e2f",
   "metadata": {},
   "outputs": [],
   "source": [
    "from ultralytics import YOLO\n",
    "\n",
    "cv_model = YOLO(model=\"yolov8s.pt\", task=\"detect\")"
   ]
  },
  {
   "cell_type": "code",
   "execution_count": null,
   "id": "8c6851e3",
   "metadata": {},
   "outputs": [],
   "source": [
    "cv_results = cv_model.predict(source=processed_yt_video_path, stream=True)"
   ]
  },
  {
   "cell_type": "code",
   "execution_count": null,
   "id": "04e3ecf3",
   "metadata": {},
   "outputs": [],
   "source": [
    "os.sys.getsizeof(cv_results)"
   ]
  },
  {
   "cell_type": "code",
   "execution_count": null,
   "id": "2ddf175f",
   "metadata": {},
   "outputs": [],
   "source": [
    "def summarize(results):# -> Generator[dict[str, Any], Any, None]:# -> Generator[dict[str, Any], Any, None]:\n",
    "    for i, result in enumerate(results):\n",
    "        yield {\n",
    "            \"frame\": i + 1,\n",
    "            \"result\": [result.names[int(cls)] for cls in result.boxes.cls]\n",
    "           }"
   ]
  },
  {
   "cell_type": "code",
   "execution_count": null,
   "id": "93b55a97",
   "metadata": {},
   "outputs": [],
   "source": [
    "data = list(summarize(cv_results))"
   ]
  },
  {
   "cell_type": "code",
   "execution_count": null,
   "id": "fd51f5b2",
   "metadata": {},
   "outputs": [],
   "source": [
    "# TODO: make this a typed dict to let the agent process this data\n",
    "processed_data = {\n",
    "    \"video_url\": sample_yt_url,\n",
    "    \"detected_objects\": data\n",
    "}"
   ]
  },
  {
   "cell_type": "code",
   "execution_count": null,
   "id": "2595c49b",
   "metadata": {},
   "outputs": [],
   "source": [
    "processed_data"
   ]
  },
  {
   "cell_type": "code",
   "execution_count": null,
   "id": "293a9894",
   "metadata": {},
   "outputs": [],
   "source": [
    "# delete unnecesary stuff\n",
    "import subprocess\n",
    "remove_videos_cmd = f\"rm {raw_yt_video_path} {processed_yt_video_path}\"\n",
    "subprocess.run(remove_videos_cmd, shell=True)"
   ]
  },
  {
   "cell_type": "markdown",
   "id": "6e928c09",
   "metadata": {},
   "source": [
    "Whisper custom tool"
   ]
  },
  {
   "cell_type": "code",
   "execution_count": null,
   "id": "06d786cf",
   "metadata": {},
   "outputs": [],
   "source": [
    "import time\n",
    "yt_audio.download(output_path=output_dir, filename=yt_audio_filename)"
   ]
  },
  {
   "cell_type": "code",
   "execution_count": null,
   "id": "408eae4d",
   "metadata": {},
   "outputs": [],
   "source": [
    "tools_dir = \"../../src/tools\"\n",
    "os.sys.path.append(tools_dir)"
   ]
  },
  {
   "cell_type": "code",
   "execution_count": null,
   "id": "fb62c338",
   "metadata": {},
   "outputs": [],
   "source": [
    "import transcriber"
   ]
  },
  {
   "cell_type": "code",
   "execution_count": null,
   "id": "10ab97b7",
   "metadata": {},
   "outputs": [],
   "source": [
    "transcript = transcriber.transcriber.invoke(input={\"audio_path\": yt_audio_path})"
   ]
  },
  {
   "cell_type": "code",
   "execution_count": null,
   "id": "4729fe7a",
   "metadata": {},
   "outputs": [],
   "source": [
    "transcript"
   ]
  },
  {
   "cell_type": "code",
   "execution_count": null,
   "id": "0d3271ef",
   "metadata": {},
   "outputs": [],
   "source": [
    "import subprocess\n",
    "subprocess.run(cmd=f\"rm {yt_audio_path}\", shell=True)"
   ]
  },
  {
   "cell_type": "markdown",
   "id": "715d48ab",
   "metadata": {},
   "source": [
    "#### 3. Test Tool"
   ]
  },
  {
   "cell_type": "code",
   "execution_count": null,
   "id": "009aba7c",
   "metadata": {},
   "outputs": [],
   "source": [
    "import os\n",
    "os.sys.path.append(\"../../src/\")\n",
    "os.sys.path.append(\"../../src/agents/\")\n",
    "os.sys.path.append(\"../../src/utils/\")\n",
    "\n",
    "import react"
   ]
  },
  {
   "cell_type": "code",
   "execution_count": 26,
   "id": "9194249b",
   "metadata": {},
   "outputs": [
    {
     "data": {
      "application/vnd.microsoft.datawrangler.viewer.v0+json": {
       "columns": [
        {
         "name": "index",
         "rawType": "int64",
         "type": "integer"
        },
        {
         "name": "task_id",
         "rawType": "object",
         "type": "string"
        },
        {
         "name": "Question",
         "rawType": "object",
         "type": "string"
        },
        {
         "name": "Level",
         "rawType": "object",
         "type": "string"
        },
        {
         "name": "Final answer",
         "rawType": "object",
         "type": "string"
        },
        {
         "name": "file_name",
         "rawType": "object",
         "type": "string"
        },
        {
         "name": "file_path",
         "rawType": "object",
         "type": "string"
        },
        {
         "name": "Annotator Metadata",
         "rawType": "object",
         "type": "unknown"
        }
       ],
       "ref": "fefafe69-be08-476c-bd55-7d3c9eded633",
       "rows": [
        [
         "4",
         "a1e91b78-d3d8-4675-bb8d-62741b4b68a6",
         "In the video https://www.youtube.com/watch?v=L1vXCYZAYYM, what is the highest number of bird species to be on camera simultaneously?",
         "1",
         "3",
         "",
         "",
         "{'Steps': '1. Navigate to the YouTube link.\\n2. Watch the video to see the highest number of bird species.\\n3. Note the number.', 'Number of steps': '3', 'How long did this take?': '3 minutes', 'Tools': '1. Web browser\\n2. Video parsing', 'Number of tools': '2'}"
        ],
        [
         "26",
         "9d191bce-651d-4746-be2d-7ef8ecadb9c2",
         "Examine the video at https://www.youtube.com/watch?v=1htKBjuUWec.\n\nWhat does Teal'c say in response to the question \"Isn't that hot?\"",
         "1",
         "Extremely",
         "",
         "",
         "{'Steps': '1. Follow the link\\n2. Watch the clip until the question \"Isn\\'t that hot\" is asked\\n3. Take note of the reply.', 'Number of steps': '3', 'How long did this take?': '2 minutes', 'Tools': '1. Web browser\\n2. Video processing software\\n3. Audio processing software', 'Number of tools': '1'}"
        ],
        [
         "33",
         "0383a3ee-47a7-41a4-b493-519bdefe0488",
         "On the BBC Earth YouTube video of the Top 5 Silliest Animal Moments, what species of bird is featured?",
         "1",
         "Rockhopper penguin",
         "",
         "",
         "{'Steps': '1. Search \"top 5 silliest animal moments bbc earth youtube\" on Google search.\\n2. Open the top link to \"Top 5 Silliest Animal Moments! | BBC Earth - YouTube\".\\n3. Listen to the video until the species is named.', 'Number of steps': '3', 'How long did this take?': '3 minutes', 'Tools': '1. Web browser\\n2. Search engine\\n3. Video recognition tools', 'Number of tools': '3'}"
        ]
       ],
       "shape": {
        "columns": 7,
        "rows": 3
       }
      },
      "text/html": [
       "<div>\n",
       "<style scoped>\n",
       "    .dataframe tbody tr th:only-of-type {\n",
       "        vertical-align: middle;\n",
       "    }\n",
       "\n",
       "    .dataframe tbody tr th {\n",
       "        vertical-align: top;\n",
       "    }\n",
       "\n",
       "    .dataframe thead th {\n",
       "        text-align: right;\n",
       "    }\n",
       "</style>\n",
       "<table border=\"1\" class=\"dataframe\">\n",
       "  <thead>\n",
       "    <tr style=\"text-align: right;\">\n",
       "      <th></th>\n",
       "      <th>task_id</th>\n",
       "      <th>Question</th>\n",
       "      <th>Level</th>\n",
       "      <th>Final answer</th>\n",
       "      <th>file_name</th>\n",
       "      <th>file_path</th>\n",
       "      <th>Annotator Metadata</th>\n",
       "    </tr>\n",
       "  </thead>\n",
       "  <tbody>\n",
       "    <tr>\n",
       "      <th>4</th>\n",
       "      <td>a1e91b78-d3d8-4675-bb8d-62741b4b68a6</td>\n",
       "      <td>In the video https://www.youtube.com/watch?v=L...</td>\n",
       "      <td>1</td>\n",
       "      <td>3</td>\n",
       "      <td></td>\n",
       "      <td></td>\n",
       "      <td>{'Steps': '1. Navigate to the YouTube link.\n",
       "2....</td>\n",
       "    </tr>\n",
       "    <tr>\n",
       "      <th>26</th>\n",
       "      <td>9d191bce-651d-4746-be2d-7ef8ecadb9c2</td>\n",
       "      <td>Examine the video at https://www.youtube.com/w...</td>\n",
       "      <td>1</td>\n",
       "      <td>Extremely</td>\n",
       "      <td></td>\n",
       "      <td></td>\n",
       "      <td>{'Steps': '1. Follow the link\n",
       "2. Watch the cli...</td>\n",
       "    </tr>\n",
       "    <tr>\n",
       "      <th>33</th>\n",
       "      <td>0383a3ee-47a7-41a4-b493-519bdefe0488</td>\n",
       "      <td>On the BBC Earth YouTube video of the Top 5 Si...</td>\n",
       "      <td>1</td>\n",
       "      <td>Rockhopper penguin</td>\n",
       "      <td></td>\n",
       "      <td></td>\n",
       "      <td>{'Steps': '1. Search \"top 5 silliest animal mo...</td>\n",
       "    </tr>\n",
       "  </tbody>\n",
       "</table>\n",
       "</div>"
      ],
      "text/plain": [
       "                                 task_id  \\\n",
       "4   a1e91b78-d3d8-4675-bb8d-62741b4b68a6   \n",
       "26  9d191bce-651d-4746-be2d-7ef8ecadb9c2   \n",
       "33  0383a3ee-47a7-41a4-b493-519bdefe0488   \n",
       "\n",
       "                                             Question Level  \\\n",
       "4   In the video https://www.youtube.com/watch?v=L...     1   \n",
       "26  Examine the video at https://www.youtube.com/w...     1   \n",
       "33  On the BBC Earth YouTube video of the Top 5 Si...     1   \n",
       "\n",
       "          Final answer file_name file_path  \\\n",
       "4                    3                       \n",
       "26           Extremely                       \n",
       "33  Rockhopper penguin                       \n",
       "\n",
       "                                   Annotator Metadata  \n",
       "4   {'Steps': '1. Navigate to the YouTube link.\n",
       "2....  \n",
       "26  {'Steps': '1. Follow the link\n",
       "2. Watch the cli...  \n",
       "33  {'Steps': '1. Search \"top 5 silliest animal mo...  "
      ]
     },
     "execution_count": 26,
     "metadata": {},
     "output_type": "execute_result"
    }
   ],
   "source": [
    "yt_tasks"
   ]
  },
  {
   "cell_type": "code",
   "execution_count": 28,
   "id": "fcc960f6",
   "metadata": {},
   "outputs": [],
   "source": [
    "sample_yt_task = yt_tasks.iloc[0]\n",
    "sample_yt_question = sample_yt_task[\"Question\"]"
   ]
  },
  {
   "cell_type": "code",
   "execution_count": 29,
   "id": "952a70a1",
   "metadata": {},
   "outputs": [
    {
     "data": {
      "text/plain": [
       "'In the video https://www.youtube.com/watch?v=L1vXCYZAYYM, what is the highest number of bird species to be on camera simultaneously?'"
      ]
     },
     "execution_count": 29,
     "metadata": {},
     "output_type": "execute_result"
    }
   ],
   "source": [
    "sample_yt_question"
   ]
  },
  {
   "cell_type": "code",
   "execution_count": null,
   "id": "2e178e9f",
   "metadata": {},
   "outputs": [],
   "source": [
    "react.run_app(user_query=sample_yt_question + \". Just use the pull_youtube_video and the transcriber tools. Try to figure out the number of bird species from the transcript as those are mentioned\")"
   ]
  },
  {
   "cell_type": "markdown",
   "id": "f9712cc9",
   "metadata": {},
   "source": [
    "### Web search Tool (Web scrapping)"
   ]
  },
  {
   "cell_type": "markdown",
   "id": "c06f6e50",
   "metadata": {},
   "source": [
    "#### 1. FIlter tasks to solve with the tool"
   ]
  },
  {
   "cell_type": "code",
   "execution_count": null,
   "id": "4765f8e7",
   "metadata": {},
   "outputs": [],
   "source": []
  },
  {
   "cell_type": "markdown",
   "id": "1b8f4daf",
   "metadata": {},
   "source": [
    "#### 2. Tool PoC"
   ]
  },
  {
   "cell_type": "code",
   "execution_count": null,
   "id": "35333b1e",
   "metadata": {},
   "outputs": [],
   "source": []
  },
  {
   "cell_type": "markdown",
   "id": "0a9abe8b",
   "metadata": {},
   "source": [
    "#### 3. Test Tool"
   ]
  },
  {
   "cell_type": "code",
   "execution_count": null,
   "id": "8974a8ff",
   "metadata": {},
   "outputs": [],
   "source": []
  },
  {
   "cell_type": "markdown",
   "id": "b0e4521f",
   "metadata": {},
   "source": [
    "### Handle Images Tool (Object detection)"
   ]
  },
  {
   "cell_type": "markdown",
   "id": "4cd203e5",
   "metadata": {},
   "source": [
    "#### 1. FIlter tasks to solve with the tool"
   ]
  },
  {
   "cell_type": "code",
   "execution_count": null,
   "id": "109858cf",
   "metadata": {},
   "outputs": [],
   "source": []
  },
  {
   "cell_type": "markdown",
   "id": "f7d03390",
   "metadata": {},
   "source": [
    "#### 2. Tool PoC"
   ]
  },
  {
   "cell_type": "code",
   "execution_count": null,
   "id": "ca297e23",
   "metadata": {},
   "outputs": [],
   "source": []
  },
  {
   "cell_type": "markdown",
   "id": "4b926609",
   "metadata": {},
   "source": [
    "#### 3. Test Tool"
   ]
  },
  {
   "cell_type": "markdown",
   "id": "adc49004",
   "metadata": {},
   "source": []
  },
  {
   "cell_type": "code",
   "execution_count": null,
   "id": "efb50438",
   "metadata": {},
   "outputs": [],
   "source": []
  }
 ],
 "metadata": {
  "kernelspec": {
   "display_name": "chappie-CHLGiFC_-py3.11",
   "language": "python",
   "name": "python3"
  },
  "language_info": {
   "codemirror_mode": {
    "name": "ipython",
    "version": 3
   },
   "file_extension": ".py",
   "mimetype": "text/x-python",
   "name": "python",
   "nbconvert_exporter": "python",
   "pygments_lexer": "ipython3",
   "version": "3.11.13"
  }
 },
 "nbformat": 4,
 "nbformat_minor": 5
}
