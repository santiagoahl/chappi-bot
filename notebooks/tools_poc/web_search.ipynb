{
 "cells": [
  {
   "cell_type": "markdown",
   "id": "bf9121e7",
   "metadata": {},
   "source": [
    "In this Notebook we create and sketch tools for the Agent. Building proofs of concept (PoC)"
   ]
  },
  {
   "cell_type": "markdown",
   "id": "c29d8861",
   "metadata": {},
   "source": [
    "### Setup"
   ]
  },
  {
   "cell_type": "code",
   "execution_count": 1,
   "id": "94d01490",
   "metadata": {},
   "outputs": [],
   "source": [
    "# Libraries\n",
    "\n",
    "import os"
   ]
  },
  {
   "cell_type": "code",
   "execution_count": 2,
   "id": "f32d7959",
   "metadata": {},
   "outputs": [],
   "source": [
    "# import Whisper\n",
    "\n",
    "import whisper"
   ]
  },
  {
   "cell_type": "code",
   "execution_count": 3,
   "id": "5e131840",
   "metadata": {},
   "outputs": [
    {
     "name": "stderr",
     "output_type": "stream",
     "text": [
      "Langfuse client is disabled since no public_key was provided as a parameter or environment variable 'LANGFUSE_PUBLIC_KEY'. See our docs: https://langfuse.com/docs/sdk/python/low-level-sdk#initialize-client\n"
     ]
    }
   ],
   "source": [
    "# Import Agent\n",
    "\n",
    "os.sys.path.append(\"../../src\")\n",
    "os.sys.path.append(\"../../src/agents\")\n",
    "\n",
    "import react  # My AI assistant"
   ]
  },
  {
   "cell_type": "code",
   "execution_count": 4,
   "id": "dc02cd0f",
   "metadata": {},
   "outputs": [],
   "source": [
    "# DEBUG\n",
    "\n",
    "os.sys.path.append(\"../../src/tools\")"
   ]
  },
  {
   "cell_type": "code",
   "execution_count": 5,
   "id": "3ca7a88a",
   "metadata": {},
   "outputs": [
    {
     "name": "stderr",
     "output_type": "stream",
     "text": [
      "/home/santiagoal/.cache/pypoetry/virtualenvs/chappie-CHLGiFC_-py3.11/lib/python3.11/site-packages/tqdm/auto.py:21: TqdmWarning: IProgress not found. Please update jupyter and ipywidgets. See https://ipywidgets.readthedocs.io/en/stable/user_install.html\n",
      "  from .autonotebook import tqdm as notebook_tqdm\n"
     ]
    }
   ],
   "source": [
    "\n",
    "# Import GAIA Questions\n",
    "from datasets import load_dataset\n"
   ]
  },
  {
   "cell_type": "code",
   "execution_count": 6,
   "id": "a46c1c67",
   "metadata": {},
   "outputs": [],
   "source": [
    "\n",
    "import pandas as pd\n"
   ]
  },
  {
   "cell_type": "code",
   "execution_count": 7,
   "id": "5a5cf241",
   "metadata": {},
   "outputs": [],
   "source": [
    "from dotenv import load_dotenv\n",
    "from huggingface_hub import snapshot_download, login"
   ]
  },
  {
   "cell_type": "code",
   "execution_count": 8,
   "id": "64a3d4d1",
   "metadata": {},
   "outputs": [],
   "source": [
    "# Load Hugging face credentials\n",
    "\n",
    "#load_dotenv()\n",
    "#login(os.getenv(key=\"HF_TOKEN_CHAPPIE\"))  # Replace with your hf api key name\n"
   ]
  },
  {
   "cell_type": "code",
   "execution_count": 9,
   "id": "fda05cb1",
   "metadata": {},
   "outputs": [],
   "source": [
    "#gaia_questions_path = snapshot_download(repo_id=\"gaia-benchmark/GAIA\", repo_type=\"dataset\")\n",
    "#gaia_questions = load_dataset(path=\"gaia-benchmark/GAIA\", name=\"2023_level1\")"
   ]
  },
  {
   "cell_type": "code",
   "execution_count": 10,
   "id": "e9ebf52c",
   "metadata": {},
   "outputs": [],
   "source": [
    "gaia_index_dir = \"../../../../.cache/huggingface/datasets/gaia-benchmark___gaia/2023_level1/0.0.1/ec492fe4320ee795b1aed6bb46229c5f693226b0f1316347501c24b4baeee005\"\n",
    "#gaia_index_dir = os.path.abspath(gaia_index_dir)\n",
    "gaia_data_path = os.path.join(gaia_index_dir, \"gaia-validation.arrow\")"
   ]
  },
  {
   "cell_type": "code",
   "execution_count": 11,
   "id": "101f8c73",
   "metadata": {},
   "outputs": [],
   "source": [
    "# Temporal cell: wrote because of hugging face api calls limit\n",
    "\n",
    "import pyarrow.ipc as ipc\n",
    "\n",
    "with open(gaia_data_path, \"rb\") as f:\n",
    "    reader = ipc.RecordBatchStreamReader(f)\n",
    "    table = reader.read_all()\n",
    "\n",
    "gaia_df = table.to_pandas()\n"
   ]
  },
  {
   "cell_type": "code",
   "execution_count": 12,
   "id": "fe9a5e51",
   "metadata": {},
   "outputs": [],
   "source": [
    "#gaia_questions = gaia_questions[\"validation\"]  # Filter for dev purposes\n",
    "#gaia_df = pd.DataFrame(gaia_questions)"
   ]
  },
  {
   "cell_type": "code",
   "execution_count": 13,
   "id": "30c08c4d",
   "metadata": {},
   "outputs": [
    {
     "data": {
      "application/vnd.microsoft.datawrangler.viewer.v0+json": {
       "columns": [
        {
         "name": "index",
         "rawType": "int64",
         "type": "integer"
        },
        {
         "name": "task_id",
         "rawType": "object",
         "type": "string"
        },
        {
         "name": "Question",
         "rawType": "object",
         "type": "string"
        },
        {
         "name": "Level",
         "rawType": "object",
         "type": "string"
        },
        {
         "name": "Final answer",
         "rawType": "object",
         "type": "string"
        },
        {
         "name": "file_name",
         "rawType": "object",
         "type": "string"
        },
        {
         "name": "file_path",
         "rawType": "object",
         "type": "string"
        },
        {
         "name": "Annotator Metadata",
         "rawType": "object",
         "type": "unknown"
        }
       ],
       "ref": "27460738-8735-4d5c-abfd-a03fc380814d",
       "rows": [
        [
         "0",
         "e1fc63a2-da7a-432f-be78-7c4a95598703",
         "If Eliud Kipchoge could maintain his record-making marathon pace indefinitely, how many thousand hours would it take him to run the distance between the Earth and the Moon its closest approach? Please use the minimum perigee value on the Wikipedia page for the Moon when carrying out your calculation. Round your result to the nearest 1000 hours and do not use any comma separators if necessary.",
         "1",
         "17",
         "",
         "",
         "{'Steps': '1. Googled Eliud Kipchoge marathon pace to find 4min 37sec/mile\\n2. Converted into fractions of hours.\\n3. Found moon periapsis in miles (225,623 miles).\\n4. Multiplied the two to find the number of hours and rounded to the nearest 100 hours.', 'Number of steps': '4', 'How long did this take?': '20 Minutes', 'Tools': '1. A web browser.\\n2. A search engine.\\n3. A calculator.', 'Number of tools': '3'}"
        ],
        [
         "1",
         "8e867cd7-cff9-4e6c-867a-ff5ddc2550be",
         "How many studio albums were published by Mercedes Sosa between 2000 and 2009 (included)? You can use the latest 2022 version of english wikipedia.",
         "1",
         "3",
         "",
         "",
         "{'Steps': '1. I did a search for Mercedes Sosa\\n2. I went to the Wikipedia page for her\\n3. I scrolled down to \"Studio albums\"\\n4. I counted the ones between 2000 and 2009', 'Number of steps': '4', 'How long did this take?': '5 minutes', 'Tools': '1. web browser\\n2. google search', 'Number of tools': '2'}"
        ],
        [
         "2",
         "ec09fa32-d03f-4bf8-84b0-1f16922c3ae4",
         "Here's a fun riddle that I think you'll enjoy.\n\nYou have been selected to play the final round of the hit new game show \"Pick That Ping-Pong\". In this round, you will be competing for a large cash prize. Your job will be to pick one of several different numbered ping-pong balls, and then the game will commence. The host describes how the game works.\n\nA device consisting of a winding clear ramp and a series of pistons controls the outcome of the game. The ramp feeds balls onto a platform. The platform has room for three ping-pong balls at a time. The three balls on the platform are each aligned with one of three pistons. At each stage of the game, one of the three pistons will randomly fire, ejecting the ball it strikes. If the piston ejects the ball in the first position on the platform the balls in the second and third position on the platform each advance one space, and the next ball on the ramp advances to the third position. If the piston ejects the ball in the second position, the ball in the first position is released and rolls away, the ball in the third position advances two spaces to occupy the first position, and the next two balls on the ramp advance to occupy the second and third positions on the platform. If the piston ejects the ball in the third position, the ball in the first position is released and rolls away, the ball in the second position advances one space to occupy the first position, and the next two balls on the ramp advance to occupy the second and third positions on the platform.\n\nThe ramp begins with 100 numbered ping-pong balls, arranged in ascending order from 1 to 100. The host activates the machine and the first three balls, numbered 1, 2, and 3, advance to the platform. Before the random firing of the pistons begins, you are asked which of the 100 balls you would like to pick. If your pick is ejected by one of the pistons, you win the grand prize, $10,000.\n\nWhich ball should you choose to maximize your odds of winning the big prize? Please provide your answer as the number of the ball selected.",
         "1",
         "3",
         "",
         "",
         "{'Steps': 'Step 1: Evaluate the problem statement provided in my user\\'s prompt\\nStep 2: Consider the probability of any ball on the platform earning the prize.\\nStep 3: Evaluate the ball in position one. The probability of it earning the prize, P1, is 1/3\\nStep 4: Using a calculator, evaluate the ball in position two. The probability of it earning the prize, P2, is the difference between 1 and the product of the complementary probabilities for each trial\\nP2 = 1 - (2/3)(2/3)\\nP2 = 5/9\\nStep 5: Using a calculator, evaluate the ball in position three. The probability of it earning the prize, P3, is the difference between 1 and the product of the complementary probabilities for each trial\\nP3 = 1 - (2/3)(2/3)(2/3)\\nP3 = 19/27\\nStep 6: Consider the possible outcomes of numbers higher than 3.\\nStep 7: For each trial, either 1 or 2 balls from the ramp will advance to the platform. For any given selection, there is a 50% chance that the ball advances to position 2 or position 3.\\nStep 8: As position three holds the highest chance of earning the prize, select the only ball known to occupy position three with certainty, ball 3.\\nStep 9: Report the correct answer to my user, \"3\"', 'Number of steps': '9', 'How long did this take?': '1 minute', 'Tools': 'None', 'Number of tools': '0'}"
        ],
        [
         "3",
         "5d0080cb-90d7-4712-bc33-848150e917d3",
         "What was the volume in m^3 of the fish bag that was calculated in the University of Leicester paper \"Can Hiccup Supply Enough Fish to Maintain a Dragon’s Diet?\"",
         "1",
         "0.1777",
         "",
         "",
         "{'Steps': '1. Searched \\'\"Can Hiccup Supply Enough Fish to Maintain a Dragon’s Diet?\"\\' on Google.\\n2. Opened \"Can Hiccup Supply Enough Fish to Maintain a Dragon’s Diet?\" at https://journals.le.ac.uk/ojs1/index.php/jist/article/view/733.\\n3. Clicked \"PDF\".\\n4. Found the calculations for the volume of the fish bag and noted them.', 'Number of steps': '4', 'How long did this take?': '5 minutes', 'Tools': '1. Web browser\\n2. Search engine\\n3. PDF access', 'Number of tools': '3'}"
        ],
        [
         "4",
         "a1e91b78-d3d8-4675-bb8d-62741b4b68a6",
         "In the video https://www.youtube.com/watch?v=L1vXCYZAYYM, what is the highest number of bird species to be on camera simultaneously?",
         "1",
         "3",
         "",
         "",
         "{'Steps': '1. Navigate to the YouTube link.\\n2. Watch the video to see the highest number of bird species.\\n3. Note the number.', 'Number of steps': '3', 'How long did this take?': '3 minutes', 'Tools': '1. Web browser\\n2. Video parsing', 'Number of tools': '2'}"
        ]
       ],
       "shape": {
        "columns": 7,
        "rows": 5
       }
      },
      "text/html": [
       "<div>\n",
       "<style scoped>\n",
       "    .dataframe tbody tr th:only-of-type {\n",
       "        vertical-align: middle;\n",
       "    }\n",
       "\n",
       "    .dataframe tbody tr th {\n",
       "        vertical-align: top;\n",
       "    }\n",
       "\n",
       "    .dataframe thead th {\n",
       "        text-align: right;\n",
       "    }\n",
       "</style>\n",
       "<table border=\"1\" class=\"dataframe\">\n",
       "  <thead>\n",
       "    <tr style=\"text-align: right;\">\n",
       "      <th></th>\n",
       "      <th>task_id</th>\n",
       "      <th>Question</th>\n",
       "      <th>Level</th>\n",
       "      <th>Final answer</th>\n",
       "      <th>file_name</th>\n",
       "      <th>file_path</th>\n",
       "      <th>Annotator Metadata</th>\n",
       "    </tr>\n",
       "  </thead>\n",
       "  <tbody>\n",
       "    <tr>\n",
       "      <th>0</th>\n",
       "      <td>e1fc63a2-da7a-432f-be78-7c4a95598703</td>\n",
       "      <td>If Eliud Kipchoge could maintain his record-ma...</td>\n",
       "      <td>1</td>\n",
       "      <td>17</td>\n",
       "      <td></td>\n",
       "      <td></td>\n",
       "      <td>{'Steps': '1. Googled Eliud Kipchoge marathon ...</td>\n",
       "    </tr>\n",
       "    <tr>\n",
       "      <th>1</th>\n",
       "      <td>8e867cd7-cff9-4e6c-867a-ff5ddc2550be</td>\n",
       "      <td>How many studio albums were published by Merce...</td>\n",
       "      <td>1</td>\n",
       "      <td>3</td>\n",
       "      <td></td>\n",
       "      <td></td>\n",
       "      <td>{'Steps': '1. I did a search for Mercedes Sosa...</td>\n",
       "    </tr>\n",
       "    <tr>\n",
       "      <th>2</th>\n",
       "      <td>ec09fa32-d03f-4bf8-84b0-1f16922c3ae4</td>\n",
       "      <td>Here's a fun riddle that I think you'll enjoy....</td>\n",
       "      <td>1</td>\n",
       "      <td>3</td>\n",
       "      <td></td>\n",
       "      <td></td>\n",
       "      <td>{'Steps': 'Step 1: Evaluate the problem statem...</td>\n",
       "    </tr>\n",
       "    <tr>\n",
       "      <th>3</th>\n",
       "      <td>5d0080cb-90d7-4712-bc33-848150e917d3</td>\n",
       "      <td>What was the volume in m^3 of the fish bag tha...</td>\n",
       "      <td>1</td>\n",
       "      <td>0.1777</td>\n",
       "      <td></td>\n",
       "      <td></td>\n",
       "      <td>{'Steps': '1. Searched '\"Can Hiccup Supply Eno...</td>\n",
       "    </tr>\n",
       "    <tr>\n",
       "      <th>4</th>\n",
       "      <td>a1e91b78-d3d8-4675-bb8d-62741b4b68a6</td>\n",
       "      <td>In the video https://www.youtube.com/watch?v=L...</td>\n",
       "      <td>1</td>\n",
       "      <td>3</td>\n",
       "      <td></td>\n",
       "      <td></td>\n",
       "      <td>{'Steps': '1. Navigate to the YouTube link.\n",
       "2....</td>\n",
       "    </tr>\n",
       "  </tbody>\n",
       "</table>\n",
       "</div>"
      ],
      "text/plain": [
       "                                task_id  \\\n",
       "0  e1fc63a2-da7a-432f-be78-7c4a95598703   \n",
       "1  8e867cd7-cff9-4e6c-867a-ff5ddc2550be   \n",
       "2  ec09fa32-d03f-4bf8-84b0-1f16922c3ae4   \n",
       "3  5d0080cb-90d7-4712-bc33-848150e917d3   \n",
       "4  a1e91b78-d3d8-4675-bb8d-62741b4b68a6   \n",
       "\n",
       "                                            Question Level Final answer  \\\n",
       "0  If Eliud Kipchoge could maintain his record-ma...     1           17   \n",
       "1  How many studio albums were published by Merce...     1            3   \n",
       "2  Here's a fun riddle that I think you'll enjoy....     1            3   \n",
       "3  What was the volume in m^3 of the fish bag tha...     1       0.1777   \n",
       "4  In the video https://www.youtube.com/watch?v=L...     1            3   \n",
       "\n",
       "  file_name file_path                                 Annotator Metadata  \n",
       "0                      {'Steps': '1. Googled Eliud Kipchoge marathon ...  \n",
       "1                      {'Steps': '1. I did a search for Mercedes Sosa...  \n",
       "2                      {'Steps': 'Step 1: Evaluate the problem statem...  \n",
       "3                      {'Steps': '1. Searched '\"Can Hiccup Supply Eno...  \n",
       "4                      {'Steps': '1. Navigate to the YouTube link.\n",
       "2....  "
      ]
     },
     "execution_count": 13,
     "metadata": {},
     "output_type": "execute_result"
    }
   ],
   "source": [
    "gaia_df.head()"
   ]
  },
  {
   "cell_type": "code",
   "execution_count": 14,
   "id": "4826e755",
   "metadata": {},
   "outputs": [
    {
     "data": {
      "application/vnd.microsoft.datawrangler.viewer.v0+json": {
       "columns": [
        {
         "name": "index",
         "rawType": "int64",
         "type": "integer"
        },
        {
         "name": "task_id",
         "rawType": "object",
         "type": "string"
        },
        {
         "name": "Question",
         "rawType": "object",
         "type": "string"
        },
        {
         "name": "Level",
         "rawType": "object",
         "type": "string"
        },
        {
         "name": "Final answer",
         "rawType": "object",
         "type": "string"
        },
        {
         "name": "file_name",
         "rawType": "object",
         "type": "string"
        },
        {
         "name": "file_path",
         "rawType": "object",
         "type": "string"
        },
        {
         "name": "Annotator Metadata",
         "rawType": "object",
         "type": "unknown"
        }
       ],
       "ref": "b6ea8ac4-6f84-447f-8e14-23ba9f4529e3",
       "rows": [
        [
         "16",
         "cca530fc-4052-43b2-b130-b30968d8aa44",
         "Review the chess position provided in the image. It is black's turn. Provide the correct next move for black which guarantees a win. Please provide your response in algebraic notation.",
         "1",
         "Rd5",
         "cca530fc-4052-43b2-b130-b30968d8aa44.png",
         "/home/santiagoal/.cache/huggingface/hub/datasets--gaia-benchmark--GAIA/snapshots/897f2dfbb5c952b5c3c1509e648381f9c7b70316/2023/validation/cca530fc-4052-43b2-b130-b30968d8aa44.png",
         "{'Steps': 'Step 1: Evaluate the position of the pieces in the chess position\\nStep 2: Report the best move available for black: \"Rd5\"', 'Number of steps': '2', 'How long did this take?': '10 minutes', 'Tools': '1. Image recognition tools', 'Number of tools': '1'}"
        ]
       ],
       "shape": {
        "columns": 7,
        "rows": 1
       }
      },
      "text/html": [
       "<div>\n",
       "<style scoped>\n",
       "    .dataframe tbody tr th:only-of-type {\n",
       "        vertical-align: middle;\n",
       "    }\n",
       "\n",
       "    .dataframe tbody tr th {\n",
       "        vertical-align: top;\n",
       "    }\n",
       "\n",
       "    .dataframe thead th {\n",
       "        text-align: right;\n",
       "    }\n",
       "</style>\n",
       "<table border=\"1\" class=\"dataframe\">\n",
       "  <thead>\n",
       "    <tr style=\"text-align: right;\">\n",
       "      <th></th>\n",
       "      <th>task_id</th>\n",
       "      <th>Question</th>\n",
       "      <th>Level</th>\n",
       "      <th>Final answer</th>\n",
       "      <th>file_name</th>\n",
       "      <th>file_path</th>\n",
       "      <th>Annotator Metadata</th>\n",
       "    </tr>\n",
       "  </thead>\n",
       "  <tbody>\n",
       "    <tr>\n",
       "      <th>16</th>\n",
       "      <td>cca530fc-4052-43b2-b130-b30968d8aa44</td>\n",
       "      <td>Review the chess position provided in the imag...</td>\n",
       "      <td>1</td>\n",
       "      <td>Rd5</td>\n",
       "      <td>cca530fc-4052-43b2-b130-b30968d8aa44.png</td>\n",
       "      <td>/home/santiagoal/.cache/huggingface/hub/datase...</td>\n",
       "      <td>{'Steps': 'Step 1: Evaluate the position of th...</td>\n",
       "    </tr>\n",
       "  </tbody>\n",
       "</table>\n",
       "</div>"
      ],
      "text/plain": [
       "                                 task_id  \\\n",
       "16  cca530fc-4052-43b2-b130-b30968d8aa44   \n",
       "\n",
       "                                             Question Level Final answer  \\\n",
       "16  Review the chess position provided in the imag...     1          Rd5   \n",
       "\n",
       "                                   file_name  \\\n",
       "16  cca530fc-4052-43b2-b130-b30968d8aa44.png   \n",
       "\n",
       "                                            file_path  \\\n",
       "16  /home/santiagoal/.cache/huggingface/hub/datase...   \n",
       "\n",
       "                                   Annotator Metadata  \n",
       "16  {'Steps': 'Step 1: Evaluate the position of th...  "
      ]
     },
     "execution_count": 14,
     "metadata": {},
     "output_type": "execute_result"
    }
   ],
   "source": [
    "# DEL\n",
    "# temp filter to get chess images\n",
    "gaia_df[gaia_df[\"file_path\"].map(lambda f: f.endswith(\"44.png\"))]"
   ]
  },
  {
   "cell_type": "markdown",
   "id": "f2d34bca",
   "metadata": {},
   "source": [
    "---"
   ]
  },
  {
   "cell_type": "code",
   "execution_count": 15,
   "id": "0150df47",
   "metadata": {},
   "outputs": [
    {
     "data": {
      "text/plain": [
       "{'', 'docx', 'mp3', 'png', 'pptx', 'py', 'txt', 'xlsx'}"
      ]
     },
     "execution_count": 15,
     "metadata": {},
     "output_type": "execute_result"
    }
   ],
   "source": [
    "filetypes = {d[1].file_path.split(\".\")[-1] for d in gaia_df.iterrows()}\n",
    "filetypes"
   ]
  },
  {
   "cell_type": "markdown",
   "id": "c41c99d7",
   "metadata": {},
   "source": [
    "### Read Historical XPs"
   ]
  },
  {
   "cell_type": "code",
   "execution_count": null,
   "id": "82dd866a",
   "metadata": {},
   "outputs": [],
   "source": [
    "xp_paths = \"../data/agent_experiments/iterations/\""
   ]
  },
  {
   "cell_type": "code",
   "execution_count": null,
   "id": "5649c3c2",
   "metadata": {},
   "outputs": [],
   "source": [
    "# Index all XPs\n",
    "import os\n",
    "import pandas as pd\n",
    "\n",
    "xp_dir = \"../../data/agent_experiments/iterations\"\n",
    "xp_list = []\n",
    "# FIXME: from the 10th XP iteration, the sorted method is unuseful\n",
    "\n",
    "for i, xp_path in enumerate(sorted(os.listdir(xp_dir))):  \n",
    "    xp_path = os.path.join(xp_dir, xp_path)\n",
    "    temp_xp_df = pd.read_csv(xp_path)\n",
    "    xp_list.append((i, temp_xp_df))\n",
    "    del temp_xp_df "
   ]
  },
  {
   "cell_type": "code",
   "execution_count": null,
   "id": "5ca5b1fd",
   "metadata": {},
   "outputs": [],
   "source": [
    "# Join latest XP result to each question\n",
    "\n",
    "index = gaia_df.index.tolist()  # Index for all the questions\n",
    "questions = gaia_df[\"Question\"].tolist()\n",
    "answers = list()\n",
    "\n",
    "\n",
    "def filter_condition(xp_data: list) -> bool:\n",
    "    i, xp = xp_data\n",
    "    for question in questions:\n",
    "        xp_addressed_questions = xp[\"Question\"].tolist()\n",
    "        if question in xp_addressed_questions:\n",
    "            return True\n",
    "    return False\n",
    "\n",
    "filtered_xps = list(filter(filter_condition, xp_list))\n",
    "filtered_xps_reversed = filtered_xps\n",
    "filtered_xps_reversed.reverse()\n",
    "\n",
    "# Join latest answer result (i.e. result of the latest xp)\n",
    "\n",
    "# Join latest answer result (i.e. result of the latest xp)\n",
    "\n",
    "for question in questions:\n",
    "    answer_result = 0  # Assume wrong answer by default\n",
    "    for i, xp in filtered_xps_reversed:\n",
    "        for xp_question in xp[\"Question\"].tolist():\n",
    "            \n",
    "            if question == xp_question:\n",
    "                answer_result_row = list(xp[xp[\"Question\"] == xp_question][\"is_correct\"])#.loc[0]\n",
    "                answer_result_temp = answer_result_row[0]                    \n",
    "                if answer_result_temp >= answer_result:\n",
    "                    answer_result = answer_result_temp\n",
    "        del xp\n",
    "    answers.append(answer_result)\n",
    "\n",
    "# Join answers\n",
    "historical_xp_results = gaia_df.copy()\n",
    "historical_xp_results[\"is_correct\"] = pd.Series(answers)\n",
    "del answers, questions"
   ]
  },
  {
   "cell_type": "code",
   "execution_count": null,
   "id": "ca756f04",
   "metadata": {},
   "outputs": [],
   "source": [
    "historical_xp_results"
   ]
  },
  {
   "cell_type": "code",
   "execution_count": null,
   "id": "fd11615a",
   "metadata": {},
   "outputs": [],
   "source": [
    "historical_xp_results.is_correct.mean()"
   ]
  },
  {
   "cell_type": "markdown",
   "id": "d3ddaede",
   "metadata": {},
   "source": [
    "Let's study first which are the most common wrong tasks. I.e. How can we increase accuracy with a single next step (e.g. implement a new tool, modify sys message, etc.)"
   ]
  },
  {
   "cell_type": "code",
   "execution_count": null,
   "id": "a0613fc4",
   "metadata": {},
   "outputs": [],
   "source": [
    "wrong_ans_df = historical_xp_results[historical_xp_results[\"is_correct\"]==0]\n",
    "wrong_ans_df[\"fp_extension\"] = wrong_ans_df[\"file_path\"].map(lambda path: path.split(\".\")[-1])\n",
    "wrong_ans_df"
   ]
  },
  {
   "cell_type": "code",
   "execution_count": null,
   "id": "43925ec4",
   "metadata": {},
   "outputs": [],
   "source": [
    "# Summary\n",
    "wrong_ans_df.groupby(\"fp_extension\")[\"is_correct\"].count()"
   ]
  },
  {
   "cell_type": "markdown",
   "id": "1f77dabb",
   "metadata": {},
   "source": [
    "The vast majority of remaining tasks do not include files to read. So we sould study them at first"
   ]
  },
  {
   "cell_type": "code",
   "execution_count": null,
   "id": "1379da15",
   "metadata": {},
   "outputs": [],
   "source": [
    "wrong_ans_df_no_extension = wrong_ans_df[wrong_ans_df[\"file_path\"].map(lambda fp: len(fp)==0)]"
   ]
  },
  {
   "cell_type": "code",
   "execution_count": null,
   "id": "5e40e190",
   "metadata": {},
   "outputs": [],
   "source": [
    "wrong_ans_df_no_extension"
   ]
  },
  {
   "cell_type": "markdown",
   "id": "14a8ebcf",
   "metadata": {},
   "source": [
    "### Method\n",
    "\n",
    "We identified three main necessities to cover through web search\n",
    "\n",
    "1. Analize youtube videos (transcription and computer vision)\n",
    "2. Scrap web pages (e.g. journals, pdfs, wikipedia articles)\n",
    "\n",
    "\n",
    "So we decided to modularize the web_search_tool into three main modules\n",
    "\n",
    "1. High-level Web results\n",
    "2. Youtube Video Class: To gather both audio and video\n",
    "3. Web page scrapper: Given a web url, retrieve the text as markdown\n",
    "4. Object detection tool: Ideally coded into handle_image tool\n",
    "\n",
    "So we plan to generate three main tools: `youtube_tool` (Class + Langchain runnable), `web_search` (Expanded) and `handle_images` with an initial module `object_detection` using YoloV4-tiny"
   ]
  },
  {
   "cell_type": "markdown",
   "id": "b63c5f35",
   "metadata": {},
   "source": [
    "### Youtube Tool"
   ]
  },
  {
   "cell_type": "code",
   "execution_count": null,
   "id": "2141e4ea",
   "metadata": {},
   "outputs": [],
   "source": [
    "import re"
   ]
  },
  {
   "cell_type": "markdown",
   "id": "892f468e",
   "metadata": {},
   "source": [
    "#### 1. FIlter tasks to solve with the tool"
   ]
  },
  {
   "cell_type": "code",
   "execution_count": null,
   "id": "7e6b3b0c",
   "metadata": {},
   "outputs": [],
   "source": [
    "pattern = r\".*youtube.*\"\n",
    "yt_tasks = gaia_df.copy()\n",
    "yt_tasks = yt_tasks[yt_tasks[\"Question\"].map(lambda question: bool(re.search(pattern, question, re.IGNORECASE)))]\n",
    "yt_tasks"
   ]
  },
  {
   "cell_type": "markdown",
   "id": "d41b2f29",
   "metadata": {},
   "source": [
    "#### 2. Tool PoC"
   ]
  },
  {
   "cell_type": "code",
   "execution_count": null,
   "id": "64c2891e",
   "metadata": {},
   "outputs": [],
   "source": [
    "sample_yt_url = \"https://www.youtube.com/watch?v=L1vXCYZAYYM\""
   ]
  },
  {
   "cell_type": "markdown",
   "id": "9b82ace7",
   "metadata": {},
   "source": [
    "Lets import that video"
   ]
  },
  {
   "cell_type": "code",
   "execution_count": null,
   "id": "f5ad954c",
   "metadata": {},
   "outputs": [],
   "source": [
    "import os"
   ]
  },
  {
   "cell_type": "code",
   "execution_count": null,
   "id": "5c12ac9f",
   "metadata": {},
   "outputs": [],
   "source": [
    "output_dir = \"../../data/temp/\"\n",
    "\n",
    "yt_audio_filename = \"yt_audio.mp3\"\n",
    "yt_audio_path = os.path.join(output_dir, yt_audio_filename)\n",
    "\n",
    "raw_yt_video_filename = \"raw_yt_video.mp4\"\n",
    "processed_yt_video_filename = \"processed_yt_video.mp4\"\n",
    "\n",
    "raw_yt_video_path = os.path.join(output_dir, raw_yt_video_filename)\n",
    "processed_yt_video_path = os.path.join(output_dir, processed_yt_video_filename)"
   ]
  },
  {
   "cell_type": "code",
   "execution_count": null,
   "id": "6f1e8a09",
   "metadata": {},
   "outputs": [],
   "source": [
    "from pytubefix import YouTube"
   ]
  },
  {
   "cell_type": "code",
   "execution_count": null,
   "id": "67f68f09",
   "metadata": {},
   "outputs": [],
   "source": [
    "yt = YouTube(sample_yt_url)\n",
    "#yt_audio = yt.streams.filter(only_audio=True).first()\n",
    "#yt_video = yt.streams.filter(only_video=True).first()"
   ]
  },
  {
   "cell_type": "code",
   "execution_count": null,
   "id": "2f04e971",
   "metadata": {},
   "outputs": [],
   "source": [
    "yt_audio = yt.streams.filter(only_audio=True).first()\n",
    "yt_audio_filename = \"yt_audio.mp3\"\n",
    "yt_audio_path = os.path.join(output_dir, yt_audio_filename)"
   ]
  },
  {
   "cell_type": "code",
   "execution_count": null,
   "id": "e4c19f5a",
   "metadata": {},
   "outputs": [],
   "source": [
    "yt_video = yt.streams.filter(only_video=True, fps=25, res=\"144p\").order_by(\"fps\").asc().first()\n",
    "yt_video_filename = \"yt_video.mp4\"\n",
    "yt_video_path = os.path.join(output_dir, raw_yt_video_filename)"
   ]
  },
  {
   "cell_type": "markdown",
   "id": "3e2ee8ec",
   "metadata": {},
   "source": [
    "We imported a binary representation of both YT video and audio. The idea now is to try to pass these objects to a CV model (e.g. YoloV4) and to a Transcriber model (e.g. Whisper)"
   ]
  },
  {
   "cell_type": "markdown",
   "id": "ff5864bc",
   "metadata": {},
   "source": [
    "YoLo"
   ]
  },
  {
   "cell_type": "code",
   "execution_count": null,
   "id": "5fef61e0",
   "metadata": {},
   "outputs": [],
   "source": [
    "yt_video.download(output_path=output_dir, filename=raw_yt_video_filename)"
   ]
  },
  {
   "cell_type": "code",
   "execution_count": null,
   "id": "fd04bfdf",
   "metadata": {},
   "outputs": [],
   "source": [
    "import subprocess\n",
    "\n",
    "new_fps = 1\n",
    "reduce_fps_cmd = f'ffmpeg -y -i {raw_yt_video_path} -filter:v \"fps={new_fps}\" -an {processed_yt_video_path}'\n",
    "subprocess.run(\n",
    "    reduce_fps_cmd, shell=True\n",
    ")"
   ]
  },
  {
   "cell_type": "code",
   "execution_count": null,
   "id": "b0383e2f",
   "metadata": {},
   "outputs": [],
   "source": [
    "from ultralytics import YOLO\n",
    "\n",
    "cv_model = YOLO(model=\"yolov8s.pt\", task=\"detect\")"
   ]
  },
  {
   "cell_type": "code",
   "execution_count": null,
   "id": "8c6851e3",
   "metadata": {},
   "outputs": [],
   "source": [
    "cv_results = cv_model.predict(source=processed_yt_video_path, stream=True)"
   ]
  },
  {
   "cell_type": "code",
   "execution_count": null,
   "id": "04e3ecf3",
   "metadata": {},
   "outputs": [],
   "source": [
    "os.sys.getsizeof(cv_results)"
   ]
  },
  {
   "cell_type": "code",
   "execution_count": null,
   "id": "2ddf175f",
   "metadata": {},
   "outputs": [],
   "source": [
    "def summarize(results):# -> Generator[dict[str, Any], Any, None]:# -> Generator[dict[str, Any], Any, None]:\n",
    "    for i, result in enumerate(results):\n",
    "        yield {\n",
    "            \"frame\": i + 1,\n",
    "            \"result\": [result.names[int(cls)] for cls in result.boxes.cls]\n",
    "           }"
   ]
  },
  {
   "cell_type": "code",
   "execution_count": null,
   "id": "93b55a97",
   "metadata": {},
   "outputs": [],
   "source": [
    "data = list(summarize(cv_results))"
   ]
  },
  {
   "cell_type": "code",
   "execution_count": null,
   "id": "fd51f5b2",
   "metadata": {},
   "outputs": [],
   "source": [
    "# TODO: make this a typed dict to let the agent process this data\n",
    "processed_data = {\n",
    "    \"video_url\": sample_yt_url,\n",
    "    \"detected_objects\": data\n",
    "}"
   ]
  },
  {
   "cell_type": "code",
   "execution_count": null,
   "id": "2595c49b",
   "metadata": {},
   "outputs": [],
   "source": [
    "processed_data"
   ]
  },
  {
   "cell_type": "code",
   "execution_count": null,
   "id": "293a9894",
   "metadata": {},
   "outputs": [],
   "source": [
    "# delete unnecesary stuff\n",
    "import subprocess\n",
    "remove_videos_cmd = f\"rm {raw_yt_video_path} {processed_yt_video_path}\"\n",
    "subprocess.run(remove_videos_cmd, shell=True)"
   ]
  },
  {
   "cell_type": "markdown",
   "id": "6e928c09",
   "metadata": {},
   "source": [
    "Whisper custom tool"
   ]
  },
  {
   "cell_type": "code",
   "execution_count": null,
   "id": "06d786cf",
   "metadata": {},
   "outputs": [],
   "source": [
    "import time\n",
    "yt_audio.download(output_path=output_dir, filename=yt_audio_filename)"
   ]
  },
  {
   "cell_type": "code",
   "execution_count": null,
   "id": "408eae4d",
   "metadata": {},
   "outputs": [],
   "source": [
    "tools_dir = \"../../src/tools\"\n",
    "os.sys.path.append(tools_dir)"
   ]
  },
  {
   "cell_type": "code",
   "execution_count": null,
   "id": "fb62c338",
   "metadata": {},
   "outputs": [],
   "source": [
    "import transcriber"
   ]
  },
  {
   "cell_type": "code",
   "execution_count": null,
   "id": "10ab97b7",
   "metadata": {},
   "outputs": [],
   "source": [
    "transcript = transcriber.transcriber.invoke(input={\"audio_path\": yt_audio_path})"
   ]
  },
  {
   "cell_type": "code",
   "execution_count": null,
   "id": "4729fe7a",
   "metadata": {},
   "outputs": [],
   "source": [
    "transcript"
   ]
  },
  {
   "cell_type": "code",
   "execution_count": null,
   "id": "0d3271ef",
   "metadata": {},
   "outputs": [],
   "source": [
    "import subprocess\n",
    "subprocess.run(cmd=f\"rm {yt_audio_path}\", shell=True)"
   ]
  },
  {
   "cell_type": "markdown",
   "id": "715d48ab",
   "metadata": {},
   "source": [
    "#### 3. Test Tool"
   ]
  },
  {
   "cell_type": "code",
   "execution_count": null,
   "id": "009aba7c",
   "metadata": {},
   "outputs": [],
   "source": [
    "import os\n",
    "os.sys.path.append(\"../../src/\")\n",
    "os.sys.path.append(\"../../src/agents/\")\n",
    "os.sys.path.append(\"../../src/utils/\")\n",
    "\n",
    "import react"
   ]
  },
  {
   "cell_type": "code",
   "execution_count": null,
   "id": "9194249b",
   "metadata": {},
   "outputs": [],
   "source": [
    "yt_tasks"
   ]
  },
  {
   "cell_type": "code",
   "execution_count": null,
   "id": "fcc960f6",
   "metadata": {},
   "outputs": [],
   "source": [
    "sample_yt_task = yt_tasks.iloc[0]\n",
    "sample_yt_question = sample_yt_task[\"Question\"]"
   ]
  },
  {
   "cell_type": "code",
   "execution_count": null,
   "id": "952a70a1",
   "metadata": {},
   "outputs": [],
   "source": [
    "sample_yt_question"
   ]
  },
  {
   "cell_type": "code",
   "execution_count": null,
   "id": "2e178e9f",
   "metadata": {},
   "outputs": [],
   "source": [
    "react.run_app(user_query=sample_yt_question + \". Just use the pull_youtube_video and the transcriber tools. Try to figure out the number of bird species from the transcript as those are mentioned\")"
   ]
  },
  {
   "cell_type": "markdown",
   "id": "f9712cc9",
   "metadata": {},
   "source": [
    "### Web search Tool (Web scrapping)"
   ]
  },
  {
   "cell_type": "code",
   "execution_count": null,
   "id": "2fc6c389",
   "metadata": {},
   "outputs": [],
   "source": []
  },
  {
   "cell_type": "markdown",
   "id": "c06f6e50",
   "metadata": {},
   "source": [
    "#### 1. FIlter tasks to solve with the tool"
   ]
  },
  {
   "cell_type": "code",
   "execution_count": 18,
   "id": "4765f8e7",
   "metadata": {},
   "outputs": [],
   "source": [
    "sample_task_ids = [\n",
    "    \"5d0080cb-90d7-4712-bc33-848150e917d3\",\n",
    "    \"46719c30-f4c3-4cad-be07-d5cb21eee6bb\",\n",
    "    \"b816bfce-3d80-4913-a07d-69b752ce6377\",\n",
    "    \"b415aba4-4b68-4fc6-9b89-2c812e55a3e1\",\n",
    "    \"935e2cff-ae78-4218-b3f5-115589b19dae\",\n",
    "    \"5188369a-3bbe-43d8-8b94-11558f909a08\",\n",
    "    \"7673d772-ef80-4f0f-a602-1bf4485c9b43\",\n",
    "    \"c365c1c7-a3db-4d5e-a9a1-66f56eae7865\",\n",
    "    \"7d4a7d1d-cac6-44a8-96e8-ea9584a70825\",\n",
    "    \"3f57289b-8c60-48be-bd80-01f8099ca449\",\n",
    "    \"23dd907f-1261-4488-b21c-e9185af91d5e\",\n",
    "    \"840bfca7-4f7b-481a-8794-c560c340185d\",\n",
    "    \"a0068077-79f4-461a-adfe-75c1a4148545\",\n",
    "    \"a0c07678-e491-4bbc-8f0b-07405144218f\"\n",
    "]"
   ]
  },
  {
   "cell_type": "code",
   "execution_count": 20,
   "id": "ef998b32",
   "metadata": {},
   "outputs": [
    {
     "data": {
      "text/plain": [
       "True"
      ]
     },
     "execution_count": 20,
     "metadata": {},
     "output_type": "execute_result"
    }
   ],
   "source": [
    "l = [\"a\", \"b\", \"c\"]\n",
    "b = \"a\"\n",
    "\n",
    "b in l"
   ]
  },
  {
   "cell_type": "code",
   "execution_count": 24,
   "id": "d318749c",
   "metadata": {},
   "outputs": [
    {
     "data": {
      "application/vnd.microsoft.datawrangler.viewer.v0+json": {
       "columns": [
        {
         "name": "index",
         "rawType": "int64",
         "type": "integer"
        },
        {
         "name": "index",
         "rawType": "int64",
         "type": "integer"
        },
        {
         "name": "task_id",
         "rawType": "object",
         "type": "string"
        },
        {
         "name": "Question",
         "rawType": "object",
         "type": "string"
        },
        {
         "name": "Level",
         "rawType": "object",
         "type": "string"
        },
        {
         "name": "Final answer",
         "rawType": "object",
         "type": "string"
        },
        {
         "name": "file_name",
         "rawType": "object",
         "type": "string"
        },
        {
         "name": "file_path",
         "rawType": "object",
         "type": "string"
        },
        {
         "name": "Annotator Metadata",
         "rawType": "object",
         "type": "unknown"
        }
       ],
       "ref": "96056a33-922b-4e2b-92fe-2e6ac83f0fb5",
       "rows": [
        [
         "0",
         "3",
         "5d0080cb-90d7-4712-bc33-848150e917d3",
         "What was the volume in m^3 of the fish bag that was calculated in the University of Leicester paper \"Can Hiccup Supply Enough Fish to Maintain a Dragon’s Diet?\"",
         "1",
         "0.1777",
         "",
         "",
         "{'Steps': '1. Searched \\'\"Can Hiccup Supply Enough Fish to Maintain a Dragon’s Diet?\"\\' on Google.\\n2. Opened \"Can Hiccup Supply Enough Fish to Maintain a Dragon’s Diet?\" at https://journals.le.ac.uk/ojs1/index.php/jist/article/view/733.\\n3. Clicked \"PDF\".\\n4. Found the calculations for the volume of the fish bag and noted them.', 'Number of steps': '4', 'How long did this take?': '5 minutes', 'Tools': '1. Web browser\\n2. Search engine\\n3. PDF access', 'Number of tools': '3'}"
        ],
        [
         "1",
         "5",
         "46719c30-f4c3-4cad-be07-d5cb21eee6bb",
         "Of the authors (First M. Last) that worked on the paper \"Pie Menus or Linear Menus, Which Is Better?\" in 2015, what was the title of the first paper authored by the one that had authored prior papers?",
         "1",
         "Mapping Human Oriented Information to Software Agents for Online Systems Usage",
         "",
         "",
         "{'Steps': '1. Searched \"Pie Menus or Linear Menus, Which Is Better?\" on Google.\\n2. Opened \"Pie Menus or Linear Menus, Which Is Better?\" on https://oda.oslomet.no/oda-xmlui/handle/10642/3162.\\n3. Clicked each author\\'s name.\\n4. Noted the name that had no other papers listed.\\n5. Searched \"Murano, Pietro\" on Google.\\n6. Opened http://www.pietromurano.org/.\\n7. Clicked \"Publications\".\\n8. Found the earliest paper he contributed to.', 'Number of steps': '8', 'How long did this take?': '10 minutes', 'Tools': '1. Web browser\\n2. Search engine', 'Number of tools': '2'}"
        ],
        [
         "2",
         "12",
         "b816bfce-3d80-4913-a07d-69b752ce6377",
         "In Emily Midkiff's June 2014 article in a journal named for the one of Hreidmar's sons that guarded his house, what word was quoted from two different authors in distaste for the nature of dragon depictions?",
         "1",
         "fluffy",
         "",
         "",
         "{'Steps': '1. Searched \"Hreidmar\\'s sons\" on Google.\\n2. Opened https://en.wikipedia.org/wiki/Hrei%C3%B0marr.\\n3. Noted Fafnir guarded his house.\\n4. Searched \"Emily Midkiff June 2014 Fafnir\" on Google.\\n5. Opened \"Fafnir 2/2014 |\" at http://journal.finfar.org/journal/archive/fafnir-22014/.\\n6. Clicked the title \\'“Dragons are Tricksy”: The Uncanny Dragons of Children’s Literature\\'.\\n7. Found the word in quotation marks from two different authors (Ruth Stein and Margaret Blount) in the text.', 'Number of steps': '7', 'How long did this take?': '10 minutes', 'Tools': '1. Web browser\\n2. Search engine', 'Number of tools': '2'}"
        ],
        [
         "3",
         "15",
         "b415aba4-4b68-4fc6-9b89-2c812e55a3e1",
         "In Nature journal's Scientific Reports conference proceedings from 2012, in the article that did not mention plasmons or plasmonics, what nano-compound is studied? Don't use the prefix nano in your answer if there is one.",
         "1",
         "diamond",
         "",
         "",
         "{'Steps': '1. Searched \"nature scientific reports\" on Google.\\n2. Opened https://www.nature.com/srep/.\\n3. Selected Explore Content > Research Articles.\\n4. Filtered for Conference Proceedings from 2012.\\n5. Opened each article link.\\n6. Checked for \"plasmon\" or \"plasmonic\".\\n7. Noted the nano-compound in the article that did not include either.', 'Number of steps': '7', 'How long did this take?': '10 minutes', 'Tools': '1. Web browser\\n2. Search engine', 'Number of tools': '2'}"
        ],
        [
         "4",
         "17",
         "935e2cff-ae78-4218-b3f5-115589b19dae",
         "In the year 2022, and before December, what does \"R\" stand for in the three core policies of the type of content that was violated in the public logs on the Legume Wikipedia page?",
         "1",
         "research",
         "",
         "",
         "{'Steps': '1. Searched \"legume wikipedia\" on Google.\\n2. Opened \"Legume\" on Wikipedia.\\n3. Clicked \"View history\".\\n4. Clicked \"View logs for this page\".\\n5. Checked all types of logs.\\n6. Set the date to November 2022.\\n7. Followed the BLP link of the violation.\\n8. Noted the meaning of \"R\".', 'Number of steps': '8', 'How long did this take?': '10 minutes', 'Tools': '1. Web browser\\n2. Search engine', 'Number of tools': '2'}"
        ],
        [
         "5",
         "19",
         "5188369a-3bbe-43d8-8b94-11558f909a08",
         "What writer is quoted by Merriam-Webster for the Word of the Day from June 27, 2022?",
         "1",
         "Annie Levin",
         "",
         "",
         "{'Steps': '1. Search \"merriam-webster word of the day\" on Google search.\\n2. Opened the top \"Word of the Day\" result from the Merriam-Webster dictionary online.\\n3. Clicked \"SEE ALL WORDS OF THE DAY\" at the bottom.\\n4. Scrolled down to June 27, 2022.\\n5. Opened the Word of the Day (\"jingoism\").\\n6. Scrolled down and identified context quote for \"jingoism\".\\n7. Noted the name attributed to the quote. ', 'Number of steps': '7', 'How long did this take?': '8 minutes', 'Tools': '1. Web browser\\n2. Search engine\\n3. Audio capability', 'Number of tools': '3'}"
        ],
        [
         "6",
         "38",
         "7673d772-ef80-4f0f-a602-1bf4485c9b43",
         "On Cornell Law School website's legal information institute, under the fifth section of federal rules alphabetically, what word was deleted in the last amendment to the first rule in the article that has \"witnesses\" in the most titles as of 2021?",
         "1",
         "inference",
         "",
         "",
         "{'Steps': '1. Searched \"Cornell Law School legal information institute\" on Google.\\n2. Opened https://www.law.cornell.edu/.\\n3. Clicked Get The Law > Federal Rules > Federal Rules of Evidence (fourth section down).\\n4. Found the article that has \"witnesses\" in the most titles (VII).\\n5. Opened the first rule (701).\\n6. Scrolled to the last amendment as of 2021 (2011 amendment).\\n7. Found the word that was deleted (inference).', 'Number of steps': '7', 'How long did this take?': '10 minutes', 'Tools': '1. Web browser\\n2. Search engine', 'Number of tools': '2'}"
        ],
        [
         "7",
         "39",
         "c365c1c7-a3db-4d5e-a9a1-66f56eae7865",
         "Of the cities within the United States where U.S. presidents were born, which two are the farthest apart from the westernmost to the easternmost going east, giving the city names only? Give them to me in alphabetical order, in a comma-separated list",
         "1",
         "Braintree, Honolulu",
         "",
         "",
         "{'Steps': '1. Searched \"cities where us presidents are born\" on Google.\\n2. Opened \"List of presidents of the United States by home state\" on Wikipedia.\\n3. Searched the eastern cities to find the easternmost one (Braintree, MA).\\n4. Checked the westernmost city (Honolulu, HI).', 'Number of steps': '4', 'How long did this take?': '8 minutes', 'Tools': '1. Search engine\\n2. Web browser', 'Number of tools': '3'}"
        ],
        [
         "8",
         "40",
         "7d4a7d1d-cac6-44a8-96e8-ea9584a70825",
         "According to Girls Who Code, how long did it take in years for the percentage of computer scientists that were women to change by 13% from a starting point of 37%?",
         "1",
         "22",
         "",
         "",
         "{'Steps': '1. Searched \"Girls Who Code\" on Google.\\n2. Opened https://girlswhocode.com/.\\n3. Clicked \"About Us\".\\n4. Noted that the chart started at 37% and declined to 24%.\\n5. Subtracted the marked years to find the number of years (2017 - 1995 = 22).', 'Number of steps': '5', 'How long did this take?': '10 minutes', 'Tools': '1. Web browser\\n2. Search engine\\n3. Calculator', 'Number of tools': '3'}"
        ],
        [
         "9",
         "42",
         "3f57289b-8c60-48be-bd80-01f8099ca449",
         "How many at bats did the Yankee with the most walks in the 1977 regular season have that same season?",
         "1",
         "519",
         "",
         "",
         "{'Steps': '1. Search \"yankee stats\" to find their MLB stats page.\\n2. Set the data to the 1977 regular season.\\n3. Sort to find the most walks.\\n4. See how many at bats the player had.', 'Number of steps': '4', 'How long did this take?': '5 minutes', 'Tools': '1. web browser\\n2. search engine', 'Number of tools': '2'}"
        ],
        [
         "10",
         "43",
         "23dd907f-1261-4488-b21c-e9185af91d5e",
         "In Audre Lorde’s poem “Father Son and Holy Ghost”, what is the number of the stanza in which some lines are indented?",
         "1",
         "2",
         "",
         "",
         "{'Steps': '1. Search the web for “Audre Lorde Father Son and Holy Ghost”.\\n2. Click on Poetry Foundation result.\\n3. Note the stanza that appears to have lines indented, the second one.\\n4. Return to search results to confirm.\\n5. Click on second result.\\n6. Confirm that the indentation appears in the second stanza here as well.', 'Number of steps': '6', 'How long did this take?': '5 minutes', 'Tools': '1. Search engine\\n2. Web browser', 'Number of tools': '2'}"
        ],
        [
         "11",
         "45",
         "840bfca7-4f7b-481a-8794-c560c340185d",
         "On June 6, 2023, an article by Carolyn Collins Petersen was published in Universe Today. This article mentions a team that produced a paper about their observations, linked at the bottom of the article. Find this paper. Under what NASA award number was the work performed by R. G. Arendt supported by?",
         "1",
         "80GSFC21M0002",
         "",
         "",
         "{'Steps': '1. Google \"June 6, 2023 Carolyn Collins Petersen Universe Today\"\\n2. Find the relevant link to the scientific paper and follow that link\\n3. Open the PDF. \\n4. Search for NASA award number', 'Number of steps': '4', 'How long did this take?': '5 minutes', 'Tools': '1. Web browser\\n2. Search engine\\n3. Access to academic journal websites', 'Number of tools': '2'}"
        ],
        [
         "12",
         "46",
         "a0068077-79f4-461a-adfe-75c1a4148545",
         "What was the actual enrollment count of the clinical trial on H. pylori in acne vulgaris patients from Jan-May 2018 as listed on the NIH website?",
         "1",
         "90",
         "",
         "",
         "{'Steps': '1. Searched \"nih\" on Google search.\\n2. Clicked the top link to nih.gov.\\n3. Searched \"h pylori acne\" in the search box.\\n4. Clicked \"More\" and selected \"Clinical Trials\".\\n5. Clicked the result about H. Pylori and acne.\\n6. Checked the date to confirm it was January to May 2018.\\n7. Opened \"Tabular View\".\\n8. Scrolled down to Actual Enrollment and recorded the number.', 'Number of steps': '8', 'How long did this take?': '8 minutes', 'Tools': '1. Search engine\\n2. Web browser', 'Number of tools': '2'}"
        ],
        [
         "13",
         "50",
         "a0c07678-e491-4bbc-8f0b-07405144218f",
         "Who are the pitchers with the number before and after Taishō Tamai's number as of July 2023? Give them to me in the form Pitcher Before, Pitcher After, use their last names only, in Roman characters.",
         "1",
         "Yoshida, Uehara",
         "",
         "",
         "{'Steps': '1. Look up Taishō Tamai on Wikipedia\\n2. See the pitcher with the number 18 (before) is Kōsei Yoshida and number 20 (after) is Kenta Uehara', 'Number of steps': '2', 'How long did this take?': '5 minutes', 'Tools': '1. Wikipedia', 'Number of tools': '1'}"
        ]
       ],
       "shape": {
        "columns": 8,
        "rows": 14
       }
      },
      "text/html": [
       "<div>\n",
       "<style scoped>\n",
       "    .dataframe tbody tr th:only-of-type {\n",
       "        vertical-align: middle;\n",
       "    }\n",
       "\n",
       "    .dataframe tbody tr th {\n",
       "        vertical-align: top;\n",
       "    }\n",
       "\n",
       "    .dataframe thead th {\n",
       "        text-align: right;\n",
       "    }\n",
       "</style>\n",
       "<table border=\"1\" class=\"dataframe\">\n",
       "  <thead>\n",
       "    <tr style=\"text-align: right;\">\n",
       "      <th></th>\n",
       "      <th>index</th>\n",
       "      <th>task_id</th>\n",
       "      <th>Question</th>\n",
       "      <th>Level</th>\n",
       "      <th>Final answer</th>\n",
       "      <th>file_name</th>\n",
       "      <th>file_path</th>\n",
       "      <th>Annotator Metadata</th>\n",
       "    </tr>\n",
       "  </thead>\n",
       "  <tbody>\n",
       "    <tr>\n",
       "      <th>0</th>\n",
       "      <td>3</td>\n",
       "      <td>5d0080cb-90d7-4712-bc33-848150e917d3</td>\n",
       "      <td>What was the volume in m^3 of the fish bag tha...</td>\n",
       "      <td>1</td>\n",
       "      <td>0.1777</td>\n",
       "      <td></td>\n",
       "      <td></td>\n",
       "      <td>{'Steps': '1. Searched '\"Can Hiccup Supply Eno...</td>\n",
       "    </tr>\n",
       "    <tr>\n",
       "      <th>1</th>\n",
       "      <td>5</td>\n",
       "      <td>46719c30-f4c3-4cad-be07-d5cb21eee6bb</td>\n",
       "      <td>Of the authors (First M. Last) that worked on ...</td>\n",
       "      <td>1</td>\n",
       "      <td>Mapping Human Oriented Information to Software...</td>\n",
       "      <td></td>\n",
       "      <td></td>\n",
       "      <td>{'Steps': '1. Searched \"Pie Menus or Linear Me...</td>\n",
       "    </tr>\n",
       "    <tr>\n",
       "      <th>2</th>\n",
       "      <td>12</td>\n",
       "      <td>b816bfce-3d80-4913-a07d-69b752ce6377</td>\n",
       "      <td>In Emily Midkiff's June 2014 article in a jour...</td>\n",
       "      <td>1</td>\n",
       "      <td>fluffy</td>\n",
       "      <td></td>\n",
       "      <td></td>\n",
       "      <td>{'Steps': '1. Searched \"Hreidmar's sons\" on Go...</td>\n",
       "    </tr>\n",
       "    <tr>\n",
       "      <th>3</th>\n",
       "      <td>15</td>\n",
       "      <td>b415aba4-4b68-4fc6-9b89-2c812e55a3e1</td>\n",
       "      <td>In Nature journal's Scientific Reports confere...</td>\n",
       "      <td>1</td>\n",
       "      <td>diamond</td>\n",
       "      <td></td>\n",
       "      <td></td>\n",
       "      <td>{'Steps': '1. Searched \"nature scientific repo...</td>\n",
       "    </tr>\n",
       "    <tr>\n",
       "      <th>4</th>\n",
       "      <td>17</td>\n",
       "      <td>935e2cff-ae78-4218-b3f5-115589b19dae</td>\n",
       "      <td>In the year 2022, and before December, what do...</td>\n",
       "      <td>1</td>\n",
       "      <td>research</td>\n",
       "      <td></td>\n",
       "      <td></td>\n",
       "      <td>{'Steps': '1. Searched \"legume wikipedia\" on G...</td>\n",
       "    </tr>\n",
       "    <tr>\n",
       "      <th>5</th>\n",
       "      <td>19</td>\n",
       "      <td>5188369a-3bbe-43d8-8b94-11558f909a08</td>\n",
       "      <td>What writer is quoted by Merriam-Webster for t...</td>\n",
       "      <td>1</td>\n",
       "      <td>Annie Levin</td>\n",
       "      <td></td>\n",
       "      <td></td>\n",
       "      <td>{'Steps': '1. Search \"merriam-webster word of ...</td>\n",
       "    </tr>\n",
       "    <tr>\n",
       "      <th>6</th>\n",
       "      <td>38</td>\n",
       "      <td>7673d772-ef80-4f0f-a602-1bf4485c9b43</td>\n",
       "      <td>On Cornell Law School website's legal informat...</td>\n",
       "      <td>1</td>\n",
       "      <td>inference</td>\n",
       "      <td></td>\n",
       "      <td></td>\n",
       "      <td>{'Steps': '1. Searched \"Cornell Law School leg...</td>\n",
       "    </tr>\n",
       "    <tr>\n",
       "      <th>7</th>\n",
       "      <td>39</td>\n",
       "      <td>c365c1c7-a3db-4d5e-a9a1-66f56eae7865</td>\n",
       "      <td>Of the cities within the United States where U...</td>\n",
       "      <td>1</td>\n",
       "      <td>Braintree, Honolulu</td>\n",
       "      <td></td>\n",
       "      <td></td>\n",
       "      <td>{'Steps': '1. Searched \"cities where us presid...</td>\n",
       "    </tr>\n",
       "    <tr>\n",
       "      <th>8</th>\n",
       "      <td>40</td>\n",
       "      <td>7d4a7d1d-cac6-44a8-96e8-ea9584a70825</td>\n",
       "      <td>According to Girls Who Code, how long did it t...</td>\n",
       "      <td>1</td>\n",
       "      <td>22</td>\n",
       "      <td></td>\n",
       "      <td></td>\n",
       "      <td>{'Steps': '1. Searched \"Girls Who Code\" on Goo...</td>\n",
       "    </tr>\n",
       "    <tr>\n",
       "      <th>9</th>\n",
       "      <td>42</td>\n",
       "      <td>3f57289b-8c60-48be-bd80-01f8099ca449</td>\n",
       "      <td>How many at bats did the Yankee with the most ...</td>\n",
       "      <td>1</td>\n",
       "      <td>519</td>\n",
       "      <td></td>\n",
       "      <td></td>\n",
       "      <td>{'Steps': '1. Search \"yankee stats\" to find th...</td>\n",
       "    </tr>\n",
       "    <tr>\n",
       "      <th>10</th>\n",
       "      <td>43</td>\n",
       "      <td>23dd907f-1261-4488-b21c-e9185af91d5e</td>\n",
       "      <td>In Audre Lorde’s poem “Father Son and Holy Gho...</td>\n",
       "      <td>1</td>\n",
       "      <td>2</td>\n",
       "      <td></td>\n",
       "      <td></td>\n",
       "      <td>{'Steps': '1. Search the web for “Audre Lorde ...</td>\n",
       "    </tr>\n",
       "    <tr>\n",
       "      <th>11</th>\n",
       "      <td>45</td>\n",
       "      <td>840bfca7-4f7b-481a-8794-c560c340185d</td>\n",
       "      <td>On June 6, 2023, an article by Carolyn Collins...</td>\n",
       "      <td>1</td>\n",
       "      <td>80GSFC21M0002</td>\n",
       "      <td></td>\n",
       "      <td></td>\n",
       "      <td>{'Steps': '1. Google \"June 6, 2023 Carolyn Col...</td>\n",
       "    </tr>\n",
       "    <tr>\n",
       "      <th>12</th>\n",
       "      <td>46</td>\n",
       "      <td>a0068077-79f4-461a-adfe-75c1a4148545</td>\n",
       "      <td>What was the actual enrollment count of the cl...</td>\n",
       "      <td>1</td>\n",
       "      <td>90</td>\n",
       "      <td></td>\n",
       "      <td></td>\n",
       "      <td>{'Steps': '1. Searched \"nih\" on Google search....</td>\n",
       "    </tr>\n",
       "    <tr>\n",
       "      <th>13</th>\n",
       "      <td>50</td>\n",
       "      <td>a0c07678-e491-4bbc-8f0b-07405144218f</td>\n",
       "      <td>Who are the pitchers with the number before an...</td>\n",
       "      <td>1</td>\n",
       "      <td>Yoshida, Uehara</td>\n",
       "      <td></td>\n",
       "      <td></td>\n",
       "      <td>{'Steps': '1. Look up Taishō Tamai on Wikipedi...</td>\n",
       "    </tr>\n",
       "  </tbody>\n",
       "</table>\n",
       "</div>"
      ],
      "text/plain": [
       "    index                               task_id  \\\n",
       "0       3  5d0080cb-90d7-4712-bc33-848150e917d3   \n",
       "1       5  46719c30-f4c3-4cad-be07-d5cb21eee6bb   \n",
       "2      12  b816bfce-3d80-4913-a07d-69b752ce6377   \n",
       "3      15  b415aba4-4b68-4fc6-9b89-2c812e55a3e1   \n",
       "4      17  935e2cff-ae78-4218-b3f5-115589b19dae   \n",
       "5      19  5188369a-3bbe-43d8-8b94-11558f909a08   \n",
       "6      38  7673d772-ef80-4f0f-a602-1bf4485c9b43   \n",
       "7      39  c365c1c7-a3db-4d5e-a9a1-66f56eae7865   \n",
       "8      40  7d4a7d1d-cac6-44a8-96e8-ea9584a70825   \n",
       "9      42  3f57289b-8c60-48be-bd80-01f8099ca449   \n",
       "10     43  23dd907f-1261-4488-b21c-e9185af91d5e   \n",
       "11     45  840bfca7-4f7b-481a-8794-c560c340185d   \n",
       "12     46  a0068077-79f4-461a-adfe-75c1a4148545   \n",
       "13     50  a0c07678-e491-4bbc-8f0b-07405144218f   \n",
       "\n",
       "                                             Question Level  \\\n",
       "0   What was the volume in m^3 of the fish bag tha...     1   \n",
       "1   Of the authors (First M. Last) that worked on ...     1   \n",
       "2   In Emily Midkiff's June 2014 article in a jour...     1   \n",
       "3   In Nature journal's Scientific Reports confere...     1   \n",
       "4   In the year 2022, and before December, what do...     1   \n",
       "5   What writer is quoted by Merriam-Webster for t...     1   \n",
       "6   On Cornell Law School website's legal informat...     1   \n",
       "7   Of the cities within the United States where U...     1   \n",
       "8   According to Girls Who Code, how long did it t...     1   \n",
       "9   How many at bats did the Yankee with the most ...     1   \n",
       "10  In Audre Lorde’s poem “Father Son and Holy Gho...     1   \n",
       "11  On June 6, 2023, an article by Carolyn Collins...     1   \n",
       "12  What was the actual enrollment count of the cl...     1   \n",
       "13  Who are the pitchers with the number before an...     1   \n",
       "\n",
       "                                         Final answer file_name file_path  \\\n",
       "0                                              0.1777                       \n",
       "1   Mapping Human Oriented Information to Software...                       \n",
       "2                                              fluffy                       \n",
       "3                                             diamond                       \n",
       "4                                            research                       \n",
       "5                                         Annie Levin                       \n",
       "6                                           inference                       \n",
       "7                                 Braintree, Honolulu                       \n",
       "8                                                  22                       \n",
       "9                                                 519                       \n",
       "10                                                  2                       \n",
       "11                                      80GSFC21M0002                       \n",
       "12                                                 90                       \n",
       "13                                    Yoshida, Uehara                       \n",
       "\n",
       "                                   Annotator Metadata  \n",
       "0   {'Steps': '1. Searched '\"Can Hiccup Supply Eno...  \n",
       "1   {'Steps': '1. Searched \"Pie Menus or Linear Me...  \n",
       "2   {'Steps': '1. Searched \"Hreidmar's sons\" on Go...  \n",
       "3   {'Steps': '1. Searched \"nature scientific repo...  \n",
       "4   {'Steps': '1. Searched \"legume wikipedia\" on G...  \n",
       "5   {'Steps': '1. Search \"merriam-webster word of ...  \n",
       "6   {'Steps': '1. Searched \"Cornell Law School leg...  \n",
       "7   {'Steps': '1. Searched \"cities where us presid...  \n",
       "8   {'Steps': '1. Searched \"Girls Who Code\" on Goo...  \n",
       "9   {'Steps': '1. Search \"yankee stats\" to find th...  \n",
       "10  {'Steps': '1. Search the web for “Audre Lorde ...  \n",
       "11  {'Steps': '1. Google \"June 6, 2023 Carolyn Col...  \n",
       "12  {'Steps': '1. Searched \"nih\" on Google search....  \n",
       "13  {'Steps': '1. Look up Taishō Tamai on Wikipedi...  "
      ]
     },
     "execution_count": 24,
     "metadata": {},
     "output_type": "execute_result"
    }
   ],
   "source": [
    "sample_tasks = gaia_df[gaia_df[\"task_id\"].map(lambda row: row in sample_task_ids)]\n",
    "sample_tasks.reset_index(inplace=True)\n",
    "sample_tasks"
   ]
  },
  {
   "cell_type": "markdown",
   "id": "1b8f4daf",
   "metadata": {},
   "source": [
    "#### 2. Tool PoC"
   ]
  },
  {
   "cell_type": "code",
   "execution_count": 31,
   "id": "66478316",
   "metadata": {},
   "outputs": [],
   "source": [
    "from langchain_community.tools import playwright"
   ]
  },
  {
   "cell_type": "code",
   "execution_count": null,
   "id": "35333b1e",
   "metadata": {},
   "outputs": [],
   "source": [
    "from langgraph.prebuilt import create_react_agent\n",
    "from langchain_openai import ChatOpenAI\n",
    "\n",
    "llm = ChatOpenAI(model=\"gpt-4o\", temperature=0.0)\n",
    "agent = create_react_agent(model=llm, tools=tools)"
   ]
  },
  {
   "cell_type": "markdown",
   "id": "0a9abe8b",
   "metadata": {},
   "source": [
    "#### 3. Test Tool"
   ]
  },
  {
   "cell_type": "code",
   "execution_count": null,
   "id": "8974a8ff",
   "metadata": {},
   "outputs": [],
   "source": []
  },
  {
   "cell_type": "markdown",
   "id": "b0e4521f",
   "metadata": {},
   "source": [
    "### Handle Images Tool (Object detection)"
   ]
  },
  {
   "cell_type": "markdown",
   "id": "4cd203e5",
   "metadata": {},
   "source": [
    "#### 1. FIlter tasks to solve with the tool"
   ]
  },
  {
   "cell_type": "code",
   "execution_count": null,
   "id": "109858cf",
   "metadata": {},
   "outputs": [],
   "source": []
  },
  {
   "cell_type": "markdown",
   "id": "f7d03390",
   "metadata": {},
   "source": [
    "#### 2. Tool PoC"
   ]
  },
  {
   "cell_type": "code",
   "execution_count": null,
   "id": "ca297e23",
   "metadata": {},
   "outputs": [],
   "source": []
  },
  {
   "cell_type": "markdown",
   "id": "4b926609",
   "metadata": {},
   "source": [
    "#### 3. Test Tool"
   ]
  },
  {
   "cell_type": "markdown",
   "id": "adc49004",
   "metadata": {},
   "source": []
  },
  {
   "cell_type": "code",
   "execution_count": null,
   "id": "efb50438",
   "metadata": {},
   "outputs": [],
   "source": []
  }
 ],
 "metadata": {
  "kernelspec": {
   "display_name": "chappie-CHLGiFC_-py3.11",
   "language": "python",
   "name": "python3"
  },
  "language_info": {
   "codemirror_mode": {
    "name": "ipython",
    "version": 3
   },
   "file_extension": ".py",
   "mimetype": "text/x-python",
   "name": "python",
   "nbconvert_exporter": "python",
   "pygments_lexer": "ipython3",
   "version": "3.11.13"
  }
 },
 "nbformat": 4,
 "nbformat_minor": 5
}
