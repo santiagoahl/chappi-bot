{
 "cells": [
  {
   "cell_type": "markdown",
   "id": "a9bbf8e8",
   "metadata": {},
   "source": [
    "### Setup"
   ]
  },
  {
   "cell_type": "code",
   "execution_count": null,
   "id": "0ce6fb6a",
   "metadata": {
    "vscode": {
     "languageId": "plaintext"
    }
   },
   "outputs": [],
   "source": [
    "# Imports\n",
    "\n",
    "\n",
    "# Local modules\n",
    "\n"
   ]
  },
  {
   "cell_type": "code",
   "execution_count": null,
   "id": "747d91b7",
   "metadata": {
    "vscode": {
     "languageId": "plaintext"
    }
   },
   "outputs": [],
   "source": [
    "# HF settings"
   ]
  },
  {
   "cell_type": "markdown",
   "id": "049ae61d",
   "metadata": {
    "vscode": {
     "languageId": "plaintext"
    }
   },
   "source": [
    "### Get GAIA test questions"
   ]
  },
  {
   "cell_type": "markdown",
   "id": "a7ca1548",
   "metadata": {},
   "source": [
    "### Make inferences on test questions"
   ]
  },
  {
   "cell_type": "markdown",
   "id": "bd0bd958",
   "metadata": {},
   "source": [
    "### Submit results"
   ]
  }
 ],
 "metadata": {
  "language_info": {
   "name": "python"
  }
 },
 "nbformat": 4,
 "nbformat_minor": 5
}
