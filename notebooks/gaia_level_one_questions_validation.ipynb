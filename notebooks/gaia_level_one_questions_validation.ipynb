{
 "cells": [
  {
   "cell_type": "markdown",
   "id": "c545435f",
   "metadata": {},
   "source": [
    "This Notebook is made for experimentation purposes, so we can track the changes vs performance of our agent"
   ]
  },
  {
   "cell_type": "markdown",
   "id": "8a78bd29",
   "metadata": {},
   "source": [
    "### Setup"
   ]
  },
  {
   "cell_type": "markdown",
   "id": "ce03df90",
   "metadata": {},
   "source": [
    "### Explore GAIA Lvl. 1 Questions"
   ]
  },
  {
   "cell_type": "markdown",
   "id": "ef5f9a65",
   "metadata": {},
   "source": [
    "### Experiment and Track performance on dev set"
   ]
  },
  {
   "cell_type": "markdown",
   "id": "c826fde0",
   "metadata": {},
   "source": [
    "### Save Results"
   ]
  },
  {
   "cell_type": "code",
   "execution_count": null,
   "id": "74c990e7",
   "metadata": {},
   "outputs": [],
   "source": []
  },
  {
   "cell_type": "code",
   "execution_count": null,
   "id": "fdac30f4",
   "metadata": {},
   "outputs": [],
   "source": []
  },
  {
   "cell_type": "code",
   "execution_count": null,
   "id": "0823e8dd",
   "metadata": {},
   "outputs": [],
   "source": []
  },
  {
   "cell_type": "code",
   "execution_count": null,
   "id": "4fca0433",
   "metadata": {},
   "outputs": [],
   "source": []
  },
  {
   "cell_type": "code",
   "execution_count": null,
   "id": "8b85ce97",
   "metadata": {},
   "outputs": [],
   "source": []
  },
  {
   "cell_type": "code",
   "execution_count": null,
   "id": "13241978",
   "metadata": {},
   "outputs": [],
   "source": []
  },
  {
   "cell_type": "code",
   "execution_count": null,
   "id": "7a7b6a18",
   "metadata": {},
   "outputs": [],
   "source": []
  },
  {
   "cell_type": "code",
   "execution_count": null,
   "id": "5dbe957e",
   "metadata": {},
   "outputs": [],
   "source": []
  },
  {
   "cell_type": "code",
   "execution_count": null,
   "id": "f799133b",
   "metadata": {},
   "outputs": [],
   "source": []
  },
  {
   "cell_type": "code",
   "execution_count": 1,
   "id": "cccba3a0",
   "metadata": {},
   "outputs": [
    {
     "name": "stderr",
     "output_type": "stream",
     "text": [
      "/home/santi/current-projects/chappie/.venv/lib/python3.11/site-packages/tqdm/auto.py:21: TqdmWarning: IProgress not found. Please update jupyter and ipywidgets. See https://ipywidgets.readthedocs.io/en/stable/user_install.html\n",
      "  from .autonotebook import tqdm as notebook_tqdm\n"
     ]
    }
   ],
   "source": [
    "from datasets import load_dataset\n",
    "from typing import Literal"
   ]
  },
  {
   "cell_type": "code",
   "execution_count": 2,
   "id": "6811dcb6",
   "metadata": {},
   "outputs": [],
   "source": [
    "output_results_path = \"/home/santi/current-projects/chappie/data/agent_experiments/\""
   ]
  },
  {
   "cell_type": "code",
   "execution_count": 3,
   "id": "f65cad89",
   "metadata": {},
   "outputs": [],
   "source": [
    "gaia_dataset = load_dataset(\"gaia-benchmark/GAIA\", \"2023_level1\")"
   ]
  },
  {
   "cell_type": "markdown",
   "id": "7abb5c32",
   "metadata": {},
   "source": [
    "Docs suggest to focus on validation set for dev purposes, let's explore it"
   ]
  },
  {
   "cell_type": "code",
   "execution_count": 4,
   "id": "d815dea9",
   "metadata": {},
   "outputs": [],
   "source": [
    "dev_set = gaia_dataset[\"validation\"]"
   ]
  },
  {
   "cell_type": "code",
   "execution_count": 5,
   "id": "2d2b081e",
   "metadata": {},
   "outputs": [
    {
     "data": {
      "text/plain": [
       "Dataset({\n",
       "    features: ['task_id', 'Question', 'Level', 'Final answer', 'file_name', 'file_path', 'Annotator Metadata'],\n",
       "    num_rows: 53\n",
       "})"
      ]
     },
     "execution_count": 5,
     "metadata": {},
     "output_type": "execute_result"
    }
   ],
   "source": [
    "dev_set"
   ]
  },
  {
   "cell_type": "markdown",
   "id": "cbd23161",
   "metadata": {},
   "source": [
    "### Gather Level 1 Dev Questions"
   ]
  },
  {
   "cell_type": "code",
   "execution_count": 6,
   "id": "7d6526cd",
   "metadata": {},
   "outputs": [],
   "source": [
    "import pandas as pd"
   ]
  },
  {
   "cell_type": "code",
   "execution_count": 7,
   "id": "c38c796e",
   "metadata": {},
   "outputs": [],
   "source": [
    "df_dev = pd.DataFrame(dev_set)"
   ]
  },
  {
   "cell_type": "code",
   "execution_count": 8,
   "id": "ac8cd926",
   "metadata": {},
   "outputs": [
    {
     "data": {
      "application/vnd.microsoft.datawrangler.viewer.v0+json": {
       "columns": [
        {
         "name": "index",
         "rawType": "int64",
         "type": "integer"
        },
        {
         "name": "task_id",
         "rawType": "object",
         "type": "string"
        },
        {
         "name": "Question",
         "rawType": "object",
         "type": "string"
        },
        {
         "name": "Level",
         "rawType": "object",
         "type": "string"
        },
        {
         "name": "Final answer",
         "rawType": "object",
         "type": "string"
        },
        {
         "name": "file_name",
         "rawType": "object",
         "type": "string"
        },
        {
         "name": "file_path",
         "rawType": "object",
         "type": "string"
        },
        {
         "name": "Annotator Metadata",
         "rawType": "object",
         "type": "unknown"
        }
       ],
       "conversionMethod": "pd.DataFrame",
       "ref": "068f8f53-6bdc-45ea-9224-1a7e3d3ef806",
       "rows": [
        [
         "0",
         "e1fc63a2-da7a-432f-be78-7c4a95598703",
         "If Eliud Kipchoge could maintain his record-making marathon pace indefinitely, how many thousand hours would it take him to run the distance between the Earth and the Moon its closest approach? Please use the minimum perigee value on the Wikipedia page for the Moon when carrying out your calculation. Round your result to the nearest 1000 hours and do not use any comma separators if necessary.",
         "1",
         "17",
         "",
         "",
         "{'Steps': '1. Googled Eliud Kipchoge marathon pace to find 4min 37sec/mile\\n2. Converted into fractions of hours.\\n3. Found moon periapsis in miles (225,623 miles).\\n4. Multiplied the two to find the number of hours and rounded to the nearest 100 hours.', 'Number of steps': '4', 'How long did this take?': '20 Minutes', 'Tools': '1. A web browser.\\n2. A search engine.\\n3. A calculator.', 'Number of tools': '3'}"
        ],
        [
         "1",
         "8e867cd7-cff9-4e6c-867a-ff5ddc2550be",
         "How many studio albums were published by Mercedes Sosa between 2000 and 2009 (included)? You can use the latest 2022 version of english wikipedia.",
         "1",
         "3",
         "",
         "",
         "{'Steps': '1. I did a search for Mercedes Sosa\\n2. I went to the Wikipedia page for her\\n3. I scrolled down to \"Studio albums\"\\n4. I counted the ones between 2000 and 2009', 'Number of steps': '4', 'How long did this take?': '5 minutes', 'Tools': '1. web browser\\n2. google search', 'Number of tools': '2'}"
        ],
        [
         "2",
         "ec09fa32-d03f-4bf8-84b0-1f16922c3ae4",
         "Here's a fun riddle that I think you'll enjoy.\n\nYou have been selected to play the final round of the hit new game show \"Pick That Ping-Pong\". In this round, you will be competing for a large cash prize. Your job will be to pick one of several different numbered ping-pong balls, and then the game will commence. The host describes how the game works.\n\nA device consisting of a winding clear ramp and a series of pistons controls the outcome of the game. The ramp feeds balls onto a platform. The platform has room for three ping-pong balls at a time. The three balls on the platform are each aligned with one of three pistons. At each stage of the game, one of the three pistons will randomly fire, ejecting the ball it strikes. If the piston ejects the ball in the first position on the platform the balls in the second and third position on the platform each advance one space, and the next ball on the ramp advances to the third position. If the piston ejects the ball in the second position, the ball in the first position is released and rolls away, the ball in the third position advances two spaces to occupy the first position, and the next two balls on the ramp advance to occupy the second and third positions on the platform. If the piston ejects the ball in the third position, the ball in the first position is released and rolls away, the ball in the second position advances one space to occupy the first position, and the next two balls on the ramp advance to occupy the second and third positions on the platform.\n\nThe ramp begins with 100 numbered ping-pong balls, arranged in ascending order from 1 to 100. The host activates the machine and the first three balls, numbered 1, 2, and 3, advance to the platform. Before the random firing of the pistons begins, you are asked which of the 100 balls you would like to pick. If your pick is ejected by one of the pistons, you win the grand prize, $10,000.\n\nWhich ball should you choose to maximize your odds of winning the big prize? Please provide your answer as the number of the ball selected.",
         "1",
         "3",
         "",
         "",
         "{'Steps': 'Step 1: Evaluate the problem statement provided in my user\\'s prompt\\nStep 2: Consider the probability of any ball on the platform earning the prize.\\nStep 3: Evaluate the ball in position one. The probability of it earning the prize, P1, is 1/3\\nStep 4: Using a calculator, evaluate the ball in position two. The probability of it earning the prize, P2, is the difference between 1 and the product of the complementary probabilities for each trial\\nP2 = 1 - (2/3)(2/3)\\nP2 = 5/9\\nStep 5: Using a calculator, evaluate the ball in position three. The probability of it earning the prize, P3, is the difference between 1 and the product of the complementary probabilities for each trial\\nP3 = 1 - (2/3)(2/3)(2/3)\\nP3 = 19/27\\nStep 6: Consider the possible outcomes of numbers higher than 3.\\nStep 7: For each trial, either 1 or 2 balls from the ramp will advance to the platform. For any given selection, there is a 50% chance that the ball advances to position 2 or position 3.\\nStep 8: As position three holds the highest chance of earning the prize, select the only ball known to occupy position three with certainty, ball 3.\\nStep 9: Report the correct answer to my user, \"3\"', 'Number of steps': '9', 'How long did this take?': '1 minute', 'Tools': 'None', 'Number of tools': '0'}"
        ],
        [
         "3",
         "5d0080cb-90d7-4712-bc33-848150e917d3",
         "What was the volume in m^3 of the fish bag that was calculated in the University of Leicester paper \"Can Hiccup Supply Enough Fish to Maintain a Dragon’s Diet?\"",
         "1",
         "0.1777",
         "",
         "",
         "{'Steps': '1. Searched \\'\"Can Hiccup Supply Enough Fish to Maintain a Dragon’s Diet?\"\\' on Google.\\n2. Opened \"Can Hiccup Supply Enough Fish to Maintain a Dragon’s Diet?\" at https://journals.le.ac.uk/ojs1/index.php/jist/article/view/733.\\n3. Clicked \"PDF\".\\n4. Found the calculations for the volume of the fish bag and noted them.', 'Number of steps': '4', 'How long did this take?': '5 minutes', 'Tools': '1. Web browser\\n2. Search engine\\n3. PDF access', 'Number of tools': '3'}"
        ],
        [
         "4",
         "a1e91b78-d3d8-4675-bb8d-62741b4b68a6",
         "In the video https://www.youtube.com/watch?v=L1vXCYZAYYM, what is the highest number of bird species to be on camera simultaneously?",
         "1",
         "3",
         "",
         "",
         "{'Steps': '1. Navigate to the YouTube link.\\n2. Watch the video to see the highest number of bird species.\\n3. Note the number.', 'Number of steps': '3', 'How long did this take?': '3 minutes', 'Tools': '1. Web browser\\n2. Video parsing', 'Number of tools': '2'}"
        ]
       ],
       "shape": {
        "columns": 7,
        "rows": 5
       }
      },
      "text/html": [
       "<div>\n",
       "<style scoped>\n",
       "    .dataframe tbody tr th:only-of-type {\n",
       "        vertical-align: middle;\n",
       "    }\n",
       "\n",
       "    .dataframe tbody tr th {\n",
       "        vertical-align: top;\n",
       "    }\n",
       "\n",
       "    .dataframe thead th {\n",
       "        text-align: right;\n",
       "    }\n",
       "</style>\n",
       "<table border=\"1\" class=\"dataframe\">\n",
       "  <thead>\n",
       "    <tr style=\"text-align: right;\">\n",
       "      <th></th>\n",
       "      <th>task_id</th>\n",
       "      <th>Question</th>\n",
       "      <th>Level</th>\n",
       "      <th>Final answer</th>\n",
       "      <th>file_name</th>\n",
       "      <th>file_path</th>\n",
       "      <th>Annotator Metadata</th>\n",
       "    </tr>\n",
       "  </thead>\n",
       "  <tbody>\n",
       "    <tr>\n",
       "      <th>0</th>\n",
       "      <td>e1fc63a2-da7a-432f-be78-7c4a95598703</td>\n",
       "      <td>If Eliud Kipchoge could maintain his record-ma...</td>\n",
       "      <td>1</td>\n",
       "      <td>17</td>\n",
       "      <td></td>\n",
       "      <td></td>\n",
       "      <td>{'Steps': '1. Googled Eliud Kipchoge marathon ...</td>\n",
       "    </tr>\n",
       "    <tr>\n",
       "      <th>1</th>\n",
       "      <td>8e867cd7-cff9-4e6c-867a-ff5ddc2550be</td>\n",
       "      <td>How many studio albums were published by Merce...</td>\n",
       "      <td>1</td>\n",
       "      <td>3</td>\n",
       "      <td></td>\n",
       "      <td></td>\n",
       "      <td>{'Steps': '1. I did a search for Mercedes Sosa...</td>\n",
       "    </tr>\n",
       "    <tr>\n",
       "      <th>2</th>\n",
       "      <td>ec09fa32-d03f-4bf8-84b0-1f16922c3ae4</td>\n",
       "      <td>Here's a fun riddle that I think you'll enjoy....</td>\n",
       "      <td>1</td>\n",
       "      <td>3</td>\n",
       "      <td></td>\n",
       "      <td></td>\n",
       "      <td>{'Steps': 'Step 1: Evaluate the problem statem...</td>\n",
       "    </tr>\n",
       "    <tr>\n",
       "      <th>3</th>\n",
       "      <td>5d0080cb-90d7-4712-bc33-848150e917d3</td>\n",
       "      <td>What was the volume in m^3 of the fish bag tha...</td>\n",
       "      <td>1</td>\n",
       "      <td>0.1777</td>\n",
       "      <td></td>\n",
       "      <td></td>\n",
       "      <td>{'Steps': '1. Searched '\"Can Hiccup Supply Eno...</td>\n",
       "    </tr>\n",
       "    <tr>\n",
       "      <th>4</th>\n",
       "      <td>a1e91b78-d3d8-4675-bb8d-62741b4b68a6</td>\n",
       "      <td>In the video https://www.youtube.com/watch?v=L...</td>\n",
       "      <td>1</td>\n",
       "      <td>3</td>\n",
       "      <td></td>\n",
       "      <td></td>\n",
       "      <td>{'Steps': '1. Navigate to the YouTube link.\n",
       "2....</td>\n",
       "    </tr>\n",
       "  </tbody>\n",
       "</table>\n",
       "</div>"
      ],
      "text/plain": [
       "                                task_id  \\\n",
       "0  e1fc63a2-da7a-432f-be78-7c4a95598703   \n",
       "1  8e867cd7-cff9-4e6c-867a-ff5ddc2550be   \n",
       "2  ec09fa32-d03f-4bf8-84b0-1f16922c3ae4   \n",
       "3  5d0080cb-90d7-4712-bc33-848150e917d3   \n",
       "4  a1e91b78-d3d8-4675-bb8d-62741b4b68a6   \n",
       "\n",
       "                                            Question Level Final answer  \\\n",
       "0  If Eliud Kipchoge could maintain his record-ma...     1           17   \n",
       "1  How many studio albums were published by Merce...     1            3   \n",
       "2  Here's a fun riddle that I think you'll enjoy....     1            3   \n",
       "3  What was the volume in m^3 of the fish bag tha...     1       0.1777   \n",
       "4  In the video https://www.youtube.com/watch?v=L...     1            3   \n",
       "\n",
       "  file_name file_path                                 Annotator Metadata  \n",
       "0                      {'Steps': '1. Googled Eliud Kipchoge marathon ...  \n",
       "1                      {'Steps': '1. I did a search for Mercedes Sosa...  \n",
       "2                      {'Steps': 'Step 1: Evaluate the problem statem...  \n",
       "3                      {'Steps': '1. Searched '\"Can Hiccup Supply Eno...  \n",
       "4                      {'Steps': '1. Navigate to the YouTube link.\n",
       "2....  "
      ]
     },
     "execution_count": 8,
     "metadata": {},
     "output_type": "execute_result"
    }
   ],
   "source": [
    "df_dev.head()"
   ]
  },
  {
   "cell_type": "markdown",
   "id": "57d0345e",
   "metadata": {},
   "source": [
    "In order to start our dev phase, let's observe how does our React Agent perform of a single question"
   ]
  },
  {
   "cell_type": "code",
   "execution_count": 9,
   "id": "debeee93",
   "metadata": {},
   "outputs": [],
   "source": [
    "sample_questions = df_dev.sample(12)"
   ]
  },
  {
   "cell_type": "code",
   "execution_count": 10,
   "id": "47ea65f7",
   "metadata": {},
   "outputs": [],
   "source": [
    "# Dataset copy just for eval\n",
    "\n",
    "results_df = sample_questions.copy()[[\"Question\", \"Final answer\"]]\n",
    "results_df[\"Agent response\"] = None\n",
    "results_df[\"is_correct\"] = None  # 1 if it is correct, 0 otherwise\n",
    "\n",
    "results_df = results_df[[\"Question\", \"Agent response\", \"Final answer\", \"is_correct\"]]"
   ]
  },
  {
   "cell_type": "code",
   "execution_count": 11,
   "id": "056b7dde",
   "metadata": {},
   "outputs": [
    {
     "data": {
      "application/vnd.microsoft.datawrangler.viewer.v0+json": {
       "columns": [
        {
         "name": "index",
         "rawType": "int64",
         "type": "integer"
        },
        {
         "name": "Question",
         "rawType": "object",
         "type": "string"
        },
        {
         "name": "Agent response",
         "rawType": "object",
         "type": "unknown"
        },
        {
         "name": "Final answer",
         "rawType": "object",
         "type": "string"
        },
        {
         "name": "is_correct",
         "rawType": "object",
         "type": "unknown"
        }
       ],
       "conversionMethod": "pd.DataFrame",
       "ref": "9e252026-bc60-46d5-8b06-a9687c287c9b",
       "rows": [
        [
         "17",
         "In the year 2022, and before December, what does \"R\" stand for in the three core policies of the type of content that was violated in the public logs on the Legume Wikipedia page?",
         null,
         "research",
         null
        ],
        [
         "43",
         "In Audre Lorde’s poem “Father Son and Holy Ghost”, what is the number of the stanza in which some lines are indented?",
         null,
         "2",
         null
        ],
        [
         "31",
         "In the Scikit-Learn July 2017 changelog, what other predictor base command received a bug fix? Just give the name, not a path.",
         null,
         "BaseLabelPropagation",
         null
        ],
        [
         "1",
         "How many studio albums were published by Mercedes Sosa between 2000 and 2009 (included)? You can use the latest 2022 version of english wikipedia.",
         null,
         "3",
         null
        ],
        [
         "12",
         "In Emily Midkiff's June 2014 article in a journal named for the one of Hreidmar's sons that guarded his house, what word was quoted from two different authors in distaste for the nature of dragon depictions?",
         null,
         "fluffy",
         null
        ],
        [
         "7",
         "An office held a Secret Santa gift exchange where each of its twelve employees was assigned one other employee in the group to present with a gift. Each employee filled out a profile including three likes or hobbies. On the day of the gift exchange, only eleven gifts were given, each one specific to one of the recipient's interests. Based on the information in the document, who did not give a gift?",
         null,
         "Fred",
         null
        ],
        [
         "36",
         "Bob was invited to participate in a game show, and he advanced to the final round. The final round offered Bob the chance to win a large sum by playing a game against the host. The host has 30 shiny prop coins, each of which is worth $1,000 if Bob manages to win them by playing the game. The host hides the coins in three different prize boxes and then shuffles their order. The only rule restricting the host's coin placement is that one box must contain at least 2 coins, and one box must contain 6 more coins than another box. In order to play, Bob must submit three guesses, one guess for the number of coins in each box. The box is then opened and the number of coins is revealed. If Bob's guess is a number greater than the number of coins in the box, Bob earns no coins. If Bob guesses a number equal to or less than the number of coins in the box, Bob wins a number of coins equal to his guess.\n\nIf Bob plays uses the optimal strategy, what's the minimum amount of money he can win from the game?",
         null,
         "16000",
         null
        ],
        [
         "51",
         "The attached Excel file contains the sales of menu items for a local fast-food chain. What were the total sales that the chain made from food (not including drinks)? Express your answer in USD with two decimal places.",
         null,
         "89706.00",
         null
        ],
        [
         "47",
         "Where were the Vietnamese specimens described by Kuznetzov in Nedoshivina's 2010 paper eventually deposited? Just give me the city name without abbreviations.",
         null,
         "Saint Petersburg",
         null
        ],
        [
         "8",
         ".rewsna eht sa \"tfel\" drow eht fo etisoppo eht etirw ,ecnetnes siht dnatsrednu uoy fI",
         null,
         "Right",
         null
        ],
        [
         "30",
         "Hi, I'm making a pie but I could use some help with my shopping list. I have everything I need for the crust, but I'm not sure about the filling. I got the recipe from my friend Aditi, but she left it as a voice memo and the speaker on my phone is buzzing so I can't quite make out what she's saying. Could you please listen to the recipe and list all of the ingredients that my friend described? I only want the ingredients for the filling, as I have everything I need to make my favorite pie crust. I've attached the recipe as Strawberry pie.mp3.\n\nIn your response, please only list the ingredients, not any measurements. So if the recipe calls for \"a pinch of salt\" or \"two cups of ripe strawberries\" the ingredients on the list would be \"salt\" and \"ripe strawberries\".\n\nPlease format your response as a comma separated list of ingredients. Also, please alphabetize the ingredients.",
         null,
         "cornstarch, freshly squeezed lemon juice, granulated sugar, pure vanilla extract, ripe strawberries",
         null
        ],
        [
         "15",
         "In Nature journal's Scientific Reports conference proceedings from 2012, in the article that did not mention plasmons or plasmonics, what nano-compound is studied? Don't use the prefix nano in your answer if there is one.",
         null,
         "diamond",
         null
        ]
       ],
       "shape": {
        "columns": 4,
        "rows": 12
       }
      },
      "text/html": [
       "<div>\n",
       "<style scoped>\n",
       "    .dataframe tbody tr th:only-of-type {\n",
       "        vertical-align: middle;\n",
       "    }\n",
       "\n",
       "    .dataframe tbody tr th {\n",
       "        vertical-align: top;\n",
       "    }\n",
       "\n",
       "    .dataframe thead th {\n",
       "        text-align: right;\n",
       "    }\n",
       "</style>\n",
       "<table border=\"1\" class=\"dataframe\">\n",
       "  <thead>\n",
       "    <tr style=\"text-align: right;\">\n",
       "      <th></th>\n",
       "      <th>Question</th>\n",
       "      <th>Agent response</th>\n",
       "      <th>Final answer</th>\n",
       "      <th>is_correct</th>\n",
       "    </tr>\n",
       "  </thead>\n",
       "  <tbody>\n",
       "    <tr>\n",
       "      <th>17</th>\n",
       "      <td>In the year 2022, and before December, what do...</td>\n",
       "      <td>None</td>\n",
       "      <td>research</td>\n",
       "      <td>None</td>\n",
       "    </tr>\n",
       "    <tr>\n",
       "      <th>43</th>\n",
       "      <td>In Audre Lorde’s poem “Father Son and Holy Gho...</td>\n",
       "      <td>None</td>\n",
       "      <td>2</td>\n",
       "      <td>None</td>\n",
       "    </tr>\n",
       "    <tr>\n",
       "      <th>31</th>\n",
       "      <td>In the Scikit-Learn July 2017 changelog, what ...</td>\n",
       "      <td>None</td>\n",
       "      <td>BaseLabelPropagation</td>\n",
       "      <td>None</td>\n",
       "    </tr>\n",
       "    <tr>\n",
       "      <th>1</th>\n",
       "      <td>How many studio albums were published by Merce...</td>\n",
       "      <td>None</td>\n",
       "      <td>3</td>\n",
       "      <td>None</td>\n",
       "    </tr>\n",
       "    <tr>\n",
       "      <th>12</th>\n",
       "      <td>In Emily Midkiff's June 2014 article in a jour...</td>\n",
       "      <td>None</td>\n",
       "      <td>fluffy</td>\n",
       "      <td>None</td>\n",
       "    </tr>\n",
       "    <tr>\n",
       "      <th>7</th>\n",
       "      <td>An office held a Secret Santa gift exchange wh...</td>\n",
       "      <td>None</td>\n",
       "      <td>Fred</td>\n",
       "      <td>None</td>\n",
       "    </tr>\n",
       "    <tr>\n",
       "      <th>36</th>\n",
       "      <td>Bob was invited to participate in a game show,...</td>\n",
       "      <td>None</td>\n",
       "      <td>16000</td>\n",
       "      <td>None</td>\n",
       "    </tr>\n",
       "    <tr>\n",
       "      <th>51</th>\n",
       "      <td>The attached Excel file contains the sales of ...</td>\n",
       "      <td>None</td>\n",
       "      <td>89706.00</td>\n",
       "      <td>None</td>\n",
       "    </tr>\n",
       "    <tr>\n",
       "      <th>47</th>\n",
       "      <td>Where were the Vietnamese specimens described ...</td>\n",
       "      <td>None</td>\n",
       "      <td>Saint Petersburg</td>\n",
       "      <td>None</td>\n",
       "    </tr>\n",
       "    <tr>\n",
       "      <th>8</th>\n",
       "      <td>.rewsna eht sa \"tfel\" drow eht fo etisoppo eht...</td>\n",
       "      <td>None</td>\n",
       "      <td>Right</td>\n",
       "      <td>None</td>\n",
       "    </tr>\n",
       "    <tr>\n",
       "      <th>30</th>\n",
       "      <td>Hi, I'm making a pie but I could use some help...</td>\n",
       "      <td>None</td>\n",
       "      <td>cornstarch, freshly squeezed lemon juice, gran...</td>\n",
       "      <td>None</td>\n",
       "    </tr>\n",
       "    <tr>\n",
       "      <th>15</th>\n",
       "      <td>In Nature journal's Scientific Reports confere...</td>\n",
       "      <td>None</td>\n",
       "      <td>diamond</td>\n",
       "      <td>None</td>\n",
       "    </tr>\n",
       "  </tbody>\n",
       "</table>\n",
       "</div>"
      ],
      "text/plain": [
       "                                             Question Agent response  \\\n",
       "17  In the year 2022, and before December, what do...           None   \n",
       "43  In Audre Lorde’s poem “Father Son and Holy Gho...           None   \n",
       "31  In the Scikit-Learn July 2017 changelog, what ...           None   \n",
       "1   How many studio albums were published by Merce...           None   \n",
       "12  In Emily Midkiff's June 2014 article in a jour...           None   \n",
       "7   An office held a Secret Santa gift exchange wh...           None   \n",
       "36  Bob was invited to participate in a game show,...           None   \n",
       "51  The attached Excel file contains the sales of ...           None   \n",
       "47  Where were the Vietnamese specimens described ...           None   \n",
       "8   .rewsna eht sa \"tfel\" drow eht fo etisoppo eht...           None   \n",
       "30  Hi, I'm making a pie but I could use some help...           None   \n",
       "15  In Nature journal's Scientific Reports confere...           None   \n",
       "\n",
       "                                         Final answer is_correct  \n",
       "17                                           research       None  \n",
       "43                                                  2       None  \n",
       "31                               BaseLabelPropagation       None  \n",
       "1                                                   3       None  \n",
       "12                                             fluffy       None  \n",
       "7                                                Fred       None  \n",
       "36                                              16000       None  \n",
       "51                                           89706.00       None  \n",
       "47                                   Saint Petersburg       None  \n",
       "8                                               Right       None  \n",
       "30  cornstarch, freshly squeezed lemon juice, gran...       None  \n",
       "15                                            diamond       None  "
      ]
     },
     "execution_count": 11,
     "metadata": {},
     "output_type": "execute_result"
    }
   ],
   "source": [
    "results_df"
   ]
  },
  {
   "cell_type": "markdown",
   "id": "60bba64d",
   "metadata": {},
   "source": [
    "### React Agent Developing"
   ]
  },
  {
   "cell_type": "code",
   "execution_count": null,
   "id": "fd095993",
   "metadata": {},
   "outputs": [],
   "source": [
    "import os\n",
    "from random import sample\n",
    "\n",
    "os.sys.path.append(\"../src/\")\n",
    "os.sys.path.append(\"../src/agents/\")\n",
    "os.sys.path.append(\"../src/utils/\")\n",
    "\n",
    "import react  # My AI assistant"
   ]
  },
  {
   "cell_type": "code",
   "execution_count": 12,
   "id": "50a3db66",
   "metadata": {},
   "outputs": [],
   "source": [
    "#react.run_app(user_query=\"Calculate the result of: (12 multiplied by 3) minus (15 divided by 5) plus (8 added to 2).\")"
   ]
  },
  {
   "cell_type": "markdown",
   "id": "dd1ce956",
   "metadata": {},
   "source": [
    "Can I create a column agent_answer in order to evaluate? (i.e. running multiple questions in parallel)"
   ]
  },
  {
   "cell_type": "code",
   "execution_count": null,
   "id": "815cf713",
   "metadata": {},
   "outputs": [],
   "source": [
    "# TODO: move to utils\n",
    "\n",
    "def eval_answer(row: pd.Series) -> Literal[0, 1]:   \n",
    "    # DEPRECATED\n",
    "    \"\"\"\n",
    "    Evaluate Agent responses of GAIA-like answers. Exact match is mandatory for good responses\n",
    "\n",
    "    Parameters\n",
    "    ----------\n",
    "    model_response: str\n",
    "        Model response to the question\n",
    "    gt_answer: str\n",
    "        Ground truth answer to the question\n",
    "    \n",
    "    Returns:\n",
    "        Literal[0, 1]: 0 if the answer is not correct, 1 otherwise \n",
    "    \n",
    "    Example:\n",
    "        >>> eval_answer(32.0, 32.1)\n",
    "        '0'\n",
    "    \"\"\"\n",
    "    model_response = row[\"Agent response\"]\n",
    "    gt_answer = row[\"Final answer\"]\n",
    "    return 1 if (model_response == gt_answer) else 0\n",
    "\n",
    "\n"
   ]
  },
  {
   "cell_type": "code",
   "execution_count": 18,
   "id": "c5643695",
   "metadata": {},
   "outputs": [],
   "source": [
    "import gaia_scorer"
   ]
  },
  {
   "cell_type": "code",
   "execution_count": 24,
   "id": "774441e9",
   "metadata": {},
   "outputs": [],
   "source": [
    "# TODO: move to utils\n",
    "# TODO: docstring\n",
    "\n",
    "def evaluate_response(row):\n",
    "    model_res = row[\"Agent response\"]\n",
    "    gt_ans = row[\"Final answer\"]\n",
    "    score = gaia_scorer.question_scorer(\n",
    "        model_answer=model_res, \n",
    "        ground_truth=gt_ans\n",
    "    )\n",
    "    return int(score)    \n",
    "\n",
    "def get_agent_response(row) -> str:\n",
    "    user_query = row[\"Question\"]\n",
    "    agent_response = react.run_app(user_query=user_query)\n",
    "    agent_response = str(agent_response)\n",
    "    return agent_response"
   ]
  },
  {
   "cell_type": "code",
   "execution_count": 25,
   "id": "7c13a750",
   "metadata": {},
   "outputs": [],
   "source": [
    "# Save agent responses and their evaluation\n",
    "\n",
    "results_df[\"Agent response\"] = results_df.apply(func=get_agent_response, axis=1)\n"
   ]
  },
  {
   "cell_type": "code",
   "execution_count": 26,
   "id": "34889687",
   "metadata": {},
   "outputs": [
    {
     "name": "stdout",
     "output_type": "stream",
     "text": [
      "String I couldn't find the specific number of studio albums published by Mercedes Sosa between 2000 and 2009 from the search. Please check the latest version of English Wikipedia for detailed discography information. cannot be normalized to number str.\n",
      "String To solve this problem we need to determine the distribution of coins in the boxes that satisfies the given conditions and then find Bob's optimal strategy to maximize his winnings.\n",
      "\n",
      "### Conditions:\n",
      "1. Total coins = 30\n",
      "2. One box must contain at least 2 coins.\n",
      "3. One box must contain 6 more coins than another box.\n",
      "\n",
      "### Analysis:\n",
      "Let's denote the number of coins in the three boxes as \\( x \\) \\( y \\) and \\( z \\) such that \\( x + y + z = 30 \\).\n",
      "\n",
      "- Without loss of generality assume \\( x \\leq y \\leq z \\).\n",
      "- From the conditions we have:\n",
      "  - \\( x \\geq 2 \\)\n",
      "  - \\( z = x + 6 \\)\n",
      "\n",
      "### Solving the Equations:\n",
      "Substitute \\( z = x + 6 \\) into the total:\n",
      "\\[ x + y + (x + 6) = 30 \\]\n",
      "\\[ 2x + y + 6 = 30 \\]\n",
      "\\[ 2x + y = 24 \\]\n",
      "\\[ y = 24 - 2x \\]\n",
      "\n",
      "Since \\( x \\leq y \\) we have:\n",
      "\\[ x \\leq 24 - 2x \\]\n",
      "\\[ 3x \\leq 24 \\]\n",
      "\\[ x \\leq 8 \\]\n",
      "\n",
      "### Possible Values for \\( x \\):\n",
      "- \\( x \\) can be 2 3 4 5 6 7 or 8.\n",
      "\n",
      "### Calculate \\( y \\) and \\( z \\) for each \\( x \\):\n",
      "- For \\( x = 2 \\): \\( y = 20 \\) \\( z = 8 \\) (invalid as \\( y \\geq z \\))\n",
      "- For \\( x = 3 \\): \\( y = 18 \\) \\( z = 9 \\) (invalid as \\( y \\geq z \\))\n",
      "- For \\( x = 4 \\): \\( y = 16 \\) \\( z = 10 \\) (invalid as \\( y \\geq z \\))\n",
      "- For \\( x = 5 \\): \\( y = 14 \\) \\( z = 11 \\) (valid)\n",
      "- For \\( x = 6 \\): \\( y = 12 \\) \\( z = 12 \\) (valid)\n",
      "- For \\( x = 7 \\): \\( y = 10 \\) \\( z = 13 \\) (valid)\n",
      "- For \\( x = 8 \\): \\( y = 8 \\) \\( z = 14 \\) (valid)\n",
      "\n",
      "### Optimal Strategy:\n",
      "Bob should guess the minimum number of coins in each box to ensure he wins at least that many coins. The optimal strategy is to guess the minimum number of coins in each box configuration.\n",
      "\n",
      "### Minimum Winnings:\n",
      "- For \\( (x y z) = (5 14 11) \\) Bob guesses 5 11 11 → Wins 5 + 11 + 11 = 27 coins\n",
      "- For \\( (x y z) = (6 12 12) \\) Bob guesses 6 12 12 → Wins 6 + 12 + 12 = 30 coins\n",
      "- For \\( (x y z) = (7 10 13) \\) Bob guesses 7 10 10 → Wins 7 + 10 + 10 = 27 coins\n",
      "- For \\( (x y z) = (8 8 14) \\) Bob guesses 8 8 8 → Wins 8 + 8 + 8 = 24 coins\n",
      "\n",
      "The minimum amount of money Bob can win using the optimal strategy is when the distribution is \\( (8 8 14) \\) and he wins 24 coins.\n",
      "\n",
      "### Conclusion:\n",
      "The minimum amount of money Bob can win is \\( 24000 \\) dollars. cannot be normalized to number str.\n",
      "String I currently don't have the capability to access or analyze files directly. Please provide the relevant data or details from the Excel file and I can assist you with the calculations. cannot be normalized to number str.\n"
     ]
    },
    {
     "name": "stderr",
     "output_type": "stream",
     "text": [
      "/home/santi/current-projects/chappie/notebooks/../src/utils/gaia_scorer.py:56: UserWarning: Answer lists have different lengths, returning False.\n",
      "  warnings.warn(\n"
     ]
    }
   ],
   "source": [
    "\n",
    "results_df[\"is_correct\"] = results_df.apply(func=evaluate_response, axis=1)"
   ]
  },
  {
   "cell_type": "code",
   "execution_count": 27,
   "id": "50bbd7b2",
   "metadata": {},
   "outputs": [],
   "source": [
    "# issue: Ground truth answers have str type "
   ]
  },
  {
   "cell_type": "code",
   "execution_count": 40,
   "id": "4aa51337",
   "metadata": {},
   "outputs": [],
   "source": [
    "results_df.to_csv(\"search_and_code_tools_integrated.csv\", index=False)"
   ]
  },
  {
   "cell_type": "code",
   "execution_count": null,
   "id": "d34f402b",
   "metadata": {},
   "outputs": [],
   "source": [
    "xp_name = \"search and code tools integrated\"\n",
    "results_df.to_csv(output_results_path + xp_name + \".csv\", index=False)"
   ]
  },
  {
   "cell_type": "code",
   "execution_count": 31,
   "id": "338c1040",
   "metadata": {},
   "outputs": [],
   "source": [
    "accuracy = results_df[\"is_correct\"].mean()"
   ]
  },
  {
   "cell_type": "code",
   "execution_count": 32,
   "id": "ed64ed60",
   "metadata": {},
   "outputs": [
    {
     "data": {
      "text/plain": [
       "'16. %'"
      ]
     },
     "execution_count": 32,
     "metadata": {},
     "output_type": "execute_result"
    }
   ],
   "source": [
    "(100 * accuracy).astype(\"str\")[:3] + \" %\""
   ]
  },
  {
   "cell_type": "code",
   "execution_count": 38,
   "id": "40908832",
   "metadata": {},
   "outputs": [],
   "source": [
    "path = output_results_path + \"historical.csv\"\n",
    "\n",
    "performance_df = pd.read_csv(path)\n",
    "\n",
    "results = {\n",
    "    \"iteration\": 2,\n",
    "    \"agent\": \"React agent\",\n",
    "    \"tools\": \"Aritmetic, Search, Code\",\n",
    "    \"accuracy\": round(results_df.copy()[\"is_correct\"].mean(), 2),\n",
    "}\n",
    "\n",
    "performance_df = pd.concat([performance_df, pd.DataFrame([results])], ignore_index=True)\n",
    "performance_df.drop_duplicates(inplace=True)\n",
    "performance_df.to_csv(path, index=False)"
   ]
  },
  {
   "cell_type": "code",
   "execution_count": 39,
   "id": "bcddbe4b",
   "metadata": {},
   "outputs": [
    {
     "data": {
      "application/vnd.microsoft.datawrangler.viewer.v0+json": {
       "columns": [
        {
         "name": "index",
         "rawType": "int64",
         "type": "integer"
        },
        {
         "name": "iteration",
         "rawType": "int64",
         "type": "integer"
        },
        {
         "name": "agent",
         "rawType": "object",
         "type": "string"
        },
        {
         "name": "tools",
         "rawType": "object",
         "type": "string"
        },
        {
         "name": "accuracy",
         "rawType": "float64",
         "type": "float"
        }
       ],
       "conversionMethod": "pd.DataFrame",
       "ref": "cb24dfef-9d47-43b3-b7de-452fc700f3ae",
       "rows": [
        [
         "0",
         "1",
         "React agent",
         "Aritmetic",
         "0.0"
        ],
        [
         "1",
         "2",
         "React agent",
         "Aritmetic, Search, Code",
         "0.17"
        ]
       ],
       "shape": {
        "columns": 4,
        "rows": 2
       }
      },
      "text/html": [
       "<div>\n",
       "<style scoped>\n",
       "    .dataframe tbody tr th:only-of-type {\n",
       "        vertical-align: middle;\n",
       "    }\n",
       "\n",
       "    .dataframe tbody tr th {\n",
       "        vertical-align: top;\n",
       "    }\n",
       "\n",
       "    .dataframe thead th {\n",
       "        text-align: right;\n",
       "    }\n",
       "</style>\n",
       "<table border=\"1\" class=\"dataframe\">\n",
       "  <thead>\n",
       "    <tr style=\"text-align: right;\">\n",
       "      <th></th>\n",
       "      <th>iteration</th>\n",
       "      <th>agent</th>\n",
       "      <th>tools</th>\n",
       "      <th>accuracy</th>\n",
       "    </tr>\n",
       "  </thead>\n",
       "  <tbody>\n",
       "    <tr>\n",
       "      <th>0</th>\n",
       "      <td>1</td>\n",
       "      <td>React agent</td>\n",
       "      <td>Aritmetic</td>\n",
       "      <td>0.00</td>\n",
       "    </tr>\n",
       "    <tr>\n",
       "      <th>1</th>\n",
       "      <td>2</td>\n",
       "      <td>React agent</td>\n",
       "      <td>Aritmetic, Search, Code</td>\n",
       "      <td>0.17</td>\n",
       "    </tr>\n",
       "  </tbody>\n",
       "</table>\n",
       "</div>"
      ],
      "text/plain": [
       "   iteration        agent                    tools  accuracy\n",
       "0          1  React agent                Aritmetic      0.00\n",
       "1          2  React agent  Aritmetic, Search, Code      0.17"
      ]
     },
     "execution_count": 39,
     "metadata": {},
     "output_type": "execute_result"
    }
   ],
   "source": [
    "performance_df"
   ]
  },
  {
   "cell_type": "markdown",
   "id": "f360a020",
   "metadata": {},
   "source": [
    "How to access and handle this dataset?"
   ]
  },
  {
   "cell_type": "markdown",
   "id": "9e69ee21",
   "metadata": {},
   "source": [
    "### Main Questions to solve\n",
    "\n",
    "$\\square$ Which are the core tools for each level of questions \n",
    "  - Level 1:\n",
    "  - Level 2:\n",
    "  - Level 3:\n",
    "\n"
   ]
  }
 ],
 "metadata": {
  "kernelspec": {
   "display_name": ".venv",
   "language": "python",
   "name": "python3"
  },
  "language_info": {
   "codemirror_mode": {
    "name": "ipython",
    "version": 3
   },
   "file_extension": ".py",
   "mimetype": "text/x-python",
   "name": "python",
   "nbconvert_exporter": "python",
   "pygments_lexer": "ipython3",
   "version": "3.11.11"
  }
 },
 "nbformat": 4,
 "nbformat_minor": 5
}
