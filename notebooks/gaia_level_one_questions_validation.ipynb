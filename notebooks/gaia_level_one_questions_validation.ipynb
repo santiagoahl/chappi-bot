{
 "cells": [
  {
   "cell_type": "markdown",
   "id": "c545435f",
   "metadata": {},
   "source": [
    "This Notebook is made for experimentation purposes, so we can track the changes vs performance of our agent"
   ]
  },
  {
   "cell_type": "markdown",
   "id": "8a78bd29",
   "metadata": {},
   "source": [
    "### Setup"
   ]
  },
  {
   "cell_type": "code",
   "execution_count": 1,
   "id": "f7c489ed",
   "metadata": {},
   "outputs": [
    {
     "name": "stderr",
     "output_type": "stream",
     "text": [
      "/home/santiagoal/.cache/pypoetry/virtualenvs/chappie-CHLGiFC_-py3.12/lib/python3.12/site-packages/tqdm/auto.py:21: TqdmWarning: IProgress not found. Please update jupyter and ipywidgets. See https://ipywidgets.readthedocs.io/en/stable/user_install.html\n",
      "  from .autonotebook import tqdm as notebook_tqdm\n"
     ]
    }
   ],
   "source": [
    "# Libraries\n",
    "from typing import Literal\n",
    "from datasets import load_dataset\n",
    "import pandas as pd\n",
    "import os\n",
    "from random import sample\n",
    "from dotenv import load_dotenv\n",
    "from huggingface_hub import snapshot_download, login"
   ]
  },
  {
   "cell_type": "code",
   "execution_count": 2,
   "id": "585346bc",
   "metadata": {},
   "outputs": [
    {
     "name": "stderr",
     "output_type": "stream",
     "text": [
      "Fetching 114 files: 100%|██████████| 114/114 [00:00<00:00, 2508.45it/s]"
     ]
    },
    {
     "name": "stdout",
     "output_type": "stream",
     "text": [
      "/home/santiagoal/.cache/huggingface/hub/datasets--gaia-benchmark--GAIA/snapshots/897f2dfbb5c952b5c3c1509e648381f9c7b70316\n"
     ]
    },
    {
     "name": "stderr",
     "output_type": "stream",
     "text": [
      "\n"
     ]
    }
   ],
   "source": [
    "# Import GAIA files\n",
    "load_dotenv()\n",
    "login(token=os.getenv(key=\"HF_TOKEN_CHAPPIE\"))\n",
    "gaia_repo_dir = snapshot_download(repo_id=\"gaia-benchmark/GAIA\", repo_type=\"dataset\")\n",
    "print(gaia_repo_dir)"
   ]
  },
  {
   "cell_type": "code",
   "execution_count": 3,
   "id": "2fbda084",
   "metadata": {},
   "outputs": [
    {
     "name": "stderr",
     "output_type": "stream",
     "text": [
      "Langfuse client is disabled since no public_key was provided as a parameter or environment variable 'LANGFUSE_PUBLIC_KEY'. See our docs: https://langfuse.com/docs/sdk/python/low-level-sdk#initialize-client\n"
     ]
    }
   ],
   "source": [
    "# Local Modules\n",
    "os.sys.path.append(\"../src/\")\n",
    "os.sys.path.append(\"../src/agents/\")\n",
    "os.sys.path.append(\"../src/utils/\")\n",
    "\n",
    "import react  # My AI assistant\n",
    "import gaia_eval"
   ]
  },
  {
   "cell_type": "code",
   "execution_count": 4,
   "id": "73bcdc75",
   "metadata": {},
   "outputs": [],
   "source": [
    "# Paths\n",
    "output_results_path = \"/home/santiagoal/current-projects/chappie/data/agent_experiments/\"\n",
    "experiment_iterations_path = os.path.join(output_results_path, \"iterations/\")\n",
    "summary_experiments_path = os.path.join(output_results_path, \"summary.csv\")"
   ]
  },
  {
   "cell_type": "code",
   "execution_count": 5,
   "id": "53df192e",
   "metadata": {},
   "outputs": [],
   "source": [
    "# GAIA dataset\n",
    "gaia_dataset = load_dataset(\"gaia-benchmark/GAIA\", \"2023_level1\")"
   ]
  },
  {
   "cell_type": "markdown",
   "id": "c4faa863",
   "metadata": {},
   "source": [
    "Docs suggest to focus on validation set for dev purposes, let's explore it"
   ]
  },
  {
   "cell_type": "code",
   "execution_count": 6,
   "id": "6fed73d9",
   "metadata": {},
   "outputs": [
    {
     "data": {
      "text/plain": [
       "Dataset({\n",
       "    features: ['task_id', 'Question', 'Level', 'Final answer', 'file_name', 'file_path', 'Annotator Metadata'],\n",
       "    num_rows: 53\n",
       "})"
      ]
     },
     "execution_count": 6,
     "metadata": {},
     "output_type": "execute_result"
    }
   ],
   "source": [
    "dev_set = gaia_dataset[\"validation\"]\n",
    "dev_set"
   ]
  },
  {
   "cell_type": "markdown",
   "id": "ce03df90",
   "metadata": {},
   "source": [
    "### Explore GAIA Lvl. 1 Questions"
   ]
  },
  {
   "cell_type": "code",
   "execution_count": 7,
   "id": "540838d8",
   "metadata": {},
   "outputs": [],
   "source": [
    "df_dev = pd.DataFrame(dev_set)"
   ]
  },
  {
   "cell_type": "code",
   "execution_count": 8,
   "id": "70dcbd6a",
   "metadata": {},
   "outputs": [
    {
     "data": {
      "application/vnd.microsoft.datawrangler.viewer.v0+json": {
       "columns": [
        {
         "name": "index",
         "rawType": "int64",
         "type": "integer"
        },
        {
         "name": "task_id",
         "rawType": "object",
         "type": "string"
        },
        {
         "name": "Question",
         "rawType": "object",
         "type": "string"
        },
        {
         "name": "Level",
         "rawType": "object",
         "type": "string"
        },
        {
         "name": "Final answer",
         "rawType": "object",
         "type": "string"
        },
        {
         "name": "file_name",
         "rawType": "object",
         "type": "string"
        },
        {
         "name": "file_path",
         "rawType": "object",
         "type": "string"
        },
        {
         "name": "Annotator Metadata",
         "rawType": "object",
         "type": "unknown"
        }
       ],
       "ref": "67e71ba7-dcc2-4454-9eae-2c7cbe858dfb",
       "rows": [
        [
         "0",
         "e1fc63a2-da7a-432f-be78-7c4a95598703",
         "If Eliud Kipchoge could maintain his record-making marathon pace indefinitely, how many thousand hours would it take him to run the distance between the Earth and the Moon its closest approach? Please use the minimum perigee value on the Wikipedia page for the Moon when carrying out your calculation. Round your result to the nearest 1000 hours and do not use any comma separators if necessary.",
         "1",
         "17",
         "",
         "",
         "{'Steps': '1. Googled Eliud Kipchoge marathon pace to find 4min 37sec/mile\\n2. Converted into fractions of hours.\\n3. Found moon periapsis in miles (225,623 miles).\\n4. Multiplied the two to find the number of hours and rounded to the nearest 100 hours.', 'Number of steps': '4', 'How long did this take?': '20 Minutes', 'Tools': '1. A web browser.\\n2. A search engine.\\n3. A calculator.', 'Number of tools': '3'}"
        ],
        [
         "1",
         "8e867cd7-cff9-4e6c-867a-ff5ddc2550be",
         "How many studio albums were published by Mercedes Sosa between 2000 and 2009 (included)? You can use the latest 2022 version of english wikipedia.",
         "1",
         "3",
         "",
         "",
         "{'Steps': '1. I did a search for Mercedes Sosa\\n2. I went to the Wikipedia page for her\\n3. I scrolled down to \"Studio albums\"\\n4. I counted the ones between 2000 and 2009', 'Number of steps': '4', 'How long did this take?': '5 minutes', 'Tools': '1. web browser\\n2. google search', 'Number of tools': '2'}"
        ],
        [
         "2",
         "ec09fa32-d03f-4bf8-84b0-1f16922c3ae4",
         "Here's a fun riddle that I think you'll enjoy.\n\nYou have been selected to play the final round of the hit new game show \"Pick That Ping-Pong\". In this round, you will be competing for a large cash prize. Your job will be to pick one of several different numbered ping-pong balls, and then the game will commence. The host describes how the game works.\n\nA device consisting of a winding clear ramp and a series of pistons controls the outcome of the game. The ramp feeds balls onto a platform. The platform has room for three ping-pong balls at a time. The three balls on the platform are each aligned with one of three pistons. At each stage of the game, one of the three pistons will randomly fire, ejecting the ball it strikes. If the piston ejects the ball in the first position on the platform the balls in the second and third position on the platform each advance one space, and the next ball on the ramp advances to the third position. If the piston ejects the ball in the second position, the ball in the first position is released and rolls away, the ball in the third position advances two spaces to occupy the first position, and the next two balls on the ramp advance to occupy the second and third positions on the platform. If the piston ejects the ball in the third position, the ball in the first position is released and rolls away, the ball in the second position advances one space to occupy the first position, and the next two balls on the ramp advance to occupy the second and third positions on the platform.\n\nThe ramp begins with 100 numbered ping-pong balls, arranged in ascending order from 1 to 100. The host activates the machine and the first three balls, numbered 1, 2, and 3, advance to the platform. Before the random firing of the pistons begins, you are asked which of the 100 balls you would like to pick. If your pick is ejected by one of the pistons, you win the grand prize, $10,000.\n\nWhich ball should you choose to maximize your odds of winning the big prize? Please provide your answer as the number of the ball selected.",
         "1",
         "3",
         "",
         "",
         "{'Steps': 'Step 1: Evaluate the problem statement provided in my user\\'s prompt\\nStep 2: Consider the probability of any ball on the platform earning the prize.\\nStep 3: Evaluate the ball in position one. The probability of it earning the prize, P1, is 1/3\\nStep 4: Using a calculator, evaluate the ball in position two. The probability of it earning the prize, P2, is the difference between 1 and the product of the complementary probabilities for each trial\\nP2 = 1 - (2/3)(2/3)\\nP2 = 5/9\\nStep 5: Using a calculator, evaluate the ball in position three. The probability of it earning the prize, P3, is the difference between 1 and the product of the complementary probabilities for each trial\\nP3 = 1 - (2/3)(2/3)(2/3)\\nP3 = 19/27\\nStep 6: Consider the possible outcomes of numbers higher than 3.\\nStep 7: For each trial, either 1 or 2 balls from the ramp will advance to the platform. For any given selection, there is a 50% chance that the ball advances to position 2 or position 3.\\nStep 8: As position three holds the highest chance of earning the prize, select the only ball known to occupy position three with certainty, ball 3.\\nStep 9: Report the correct answer to my user, \"3\"', 'Number of steps': '9', 'How long did this take?': '1 minute', 'Tools': 'None', 'Number of tools': '0'}"
        ],
        [
         "3",
         "5d0080cb-90d7-4712-bc33-848150e917d3",
         "What was the volume in m^3 of the fish bag that was calculated in the University of Leicester paper \"Can Hiccup Supply Enough Fish to Maintain a Dragon’s Diet?\"",
         "1",
         "0.1777",
         "",
         "",
         "{'Steps': '1. Searched \\'\"Can Hiccup Supply Enough Fish to Maintain a Dragon’s Diet?\"\\' on Google.\\n2. Opened \"Can Hiccup Supply Enough Fish to Maintain a Dragon’s Diet?\" at https://journals.le.ac.uk/ojs1/index.php/jist/article/view/733.\\n3. Clicked \"PDF\".\\n4. Found the calculations for the volume of the fish bag and noted them.', 'Number of steps': '4', 'How long did this take?': '5 minutes', 'Tools': '1. Web browser\\n2. Search engine\\n3. PDF access', 'Number of tools': '3'}"
        ],
        [
         "4",
         "a1e91b78-d3d8-4675-bb8d-62741b4b68a6",
         "In the video https://www.youtube.com/watch?v=L1vXCYZAYYM, what is the highest number of bird species to be on camera simultaneously?",
         "1",
         "3",
         "",
         "",
         "{'Steps': '1. Navigate to the YouTube link.\\n2. Watch the video to see the highest number of bird species.\\n3. Note the number.', 'Number of steps': '3', 'How long did this take?': '3 minutes', 'Tools': '1. Web browser\\n2. Video parsing', 'Number of tools': '2'}"
        ]
       ],
       "shape": {
        "columns": 7,
        "rows": 5
       }
      },
      "text/html": [
       "<div>\n",
       "<style scoped>\n",
       "    .dataframe tbody tr th:only-of-type {\n",
       "        vertical-align: middle;\n",
       "    }\n",
       "\n",
       "    .dataframe tbody tr th {\n",
       "        vertical-align: top;\n",
       "    }\n",
       "\n",
       "    .dataframe thead th {\n",
       "        text-align: right;\n",
       "    }\n",
       "</style>\n",
       "<table border=\"1\" class=\"dataframe\">\n",
       "  <thead>\n",
       "    <tr style=\"text-align: right;\">\n",
       "      <th></th>\n",
       "      <th>task_id</th>\n",
       "      <th>Question</th>\n",
       "      <th>Level</th>\n",
       "      <th>Final answer</th>\n",
       "      <th>file_name</th>\n",
       "      <th>file_path</th>\n",
       "      <th>Annotator Metadata</th>\n",
       "    </tr>\n",
       "  </thead>\n",
       "  <tbody>\n",
       "    <tr>\n",
       "      <th>0</th>\n",
       "      <td>e1fc63a2-da7a-432f-be78-7c4a95598703</td>\n",
       "      <td>If Eliud Kipchoge could maintain his record-ma...</td>\n",
       "      <td>1</td>\n",
       "      <td>17</td>\n",
       "      <td></td>\n",
       "      <td></td>\n",
       "      <td>{'Steps': '1. Googled Eliud Kipchoge marathon ...</td>\n",
       "    </tr>\n",
       "    <tr>\n",
       "      <th>1</th>\n",
       "      <td>8e867cd7-cff9-4e6c-867a-ff5ddc2550be</td>\n",
       "      <td>How many studio albums were published by Merce...</td>\n",
       "      <td>1</td>\n",
       "      <td>3</td>\n",
       "      <td></td>\n",
       "      <td></td>\n",
       "      <td>{'Steps': '1. I did a search for Mercedes Sosa...</td>\n",
       "    </tr>\n",
       "    <tr>\n",
       "      <th>2</th>\n",
       "      <td>ec09fa32-d03f-4bf8-84b0-1f16922c3ae4</td>\n",
       "      <td>Here's a fun riddle that I think you'll enjoy....</td>\n",
       "      <td>1</td>\n",
       "      <td>3</td>\n",
       "      <td></td>\n",
       "      <td></td>\n",
       "      <td>{'Steps': 'Step 1: Evaluate the problem statem...</td>\n",
       "    </tr>\n",
       "    <tr>\n",
       "      <th>3</th>\n",
       "      <td>5d0080cb-90d7-4712-bc33-848150e917d3</td>\n",
       "      <td>What was the volume in m^3 of the fish bag tha...</td>\n",
       "      <td>1</td>\n",
       "      <td>0.1777</td>\n",
       "      <td></td>\n",
       "      <td></td>\n",
       "      <td>{'Steps': '1. Searched '\"Can Hiccup Supply Eno...</td>\n",
       "    </tr>\n",
       "    <tr>\n",
       "      <th>4</th>\n",
       "      <td>a1e91b78-d3d8-4675-bb8d-62741b4b68a6</td>\n",
       "      <td>In the video https://www.youtube.com/watch?v=L...</td>\n",
       "      <td>1</td>\n",
       "      <td>3</td>\n",
       "      <td></td>\n",
       "      <td></td>\n",
       "      <td>{'Steps': '1. Navigate to the YouTube link.\n",
       "2....</td>\n",
       "    </tr>\n",
       "  </tbody>\n",
       "</table>\n",
       "</div>"
      ],
      "text/plain": [
       "                                task_id  \\\n",
       "0  e1fc63a2-da7a-432f-be78-7c4a95598703   \n",
       "1  8e867cd7-cff9-4e6c-867a-ff5ddc2550be   \n",
       "2  ec09fa32-d03f-4bf8-84b0-1f16922c3ae4   \n",
       "3  5d0080cb-90d7-4712-bc33-848150e917d3   \n",
       "4  a1e91b78-d3d8-4675-bb8d-62741b4b68a6   \n",
       "\n",
       "                                            Question Level Final answer  \\\n",
       "0  If Eliud Kipchoge could maintain his record-ma...     1           17   \n",
       "1  How many studio albums were published by Merce...     1            3   \n",
       "2  Here's a fun riddle that I think you'll enjoy....     1            3   \n",
       "3  What was the volume in m^3 of the fish bag tha...     1       0.1777   \n",
       "4  In the video https://www.youtube.com/watch?v=L...     1            3   \n",
       "\n",
       "  file_name file_path                                 Annotator Metadata  \n",
       "0                      {'Steps': '1. Googled Eliud Kipchoge marathon ...  \n",
       "1                      {'Steps': '1. I did a search for Mercedes Sosa...  \n",
       "2                      {'Steps': 'Step 1: Evaluate the problem statem...  \n",
       "3                      {'Steps': '1. Searched '\"Can Hiccup Supply Eno...  \n",
       "4                      {'Steps': '1. Navigate to the YouTube link.\n",
       "2....  "
      ]
     },
     "execution_count": 8,
     "metadata": {},
     "output_type": "execute_result"
    }
   ],
   "source": [
    "df_dev.head()"
   ]
  },
  {
   "cell_type": "markdown",
   "id": "5eef07a0",
   "metadata": {},
   "source": [
    "In order to start our dev phase, let's observe how does our React Agent perform of a single question"
   ]
  },
  {
   "cell_type": "code",
   "execution_count": 9,
   "id": "b3632592",
   "metadata": {},
   "outputs": [],
   "source": [
    "n_samples = 20\n",
    "sample_questions = df_dev.sample(n_samples)"
   ]
  },
  {
   "cell_type": "code",
   "execution_count": 10,
   "id": "0d10258b",
   "metadata": {},
   "outputs": [],
   "source": [
    "# Dataset copy just for eval\n",
    "\n",
    "results_df = sample_questions.copy()[[\"Question\", \"Final answer\", \"file_path\"]]\n",
    "results_df[\"Agent response\"] = None\n",
    "results_df[\"is_correct\"] = None  # 1 if it is correct, 0 otherwise\n",
    "\n",
    "results_df = results_df[[\"Question\", \"file_path\", \"Agent response\", \"Final answer\", \"is_correct\"]]"
   ]
  },
  {
   "cell_type": "code",
   "execution_count": 11,
   "id": "fc179f86",
   "metadata": {},
   "outputs": [
    {
     "data": {
      "application/vnd.microsoft.datawrangler.viewer.v0+json": {
       "columns": [
        {
         "name": "index",
         "rawType": "int64",
         "type": "integer"
        },
        {
         "name": "Question",
         "rawType": "object",
         "type": "string"
        },
        {
         "name": "file_path",
         "rawType": "object",
         "type": "string"
        },
        {
         "name": "Agent response",
         "rawType": "object",
         "type": "unknown"
        },
        {
         "name": "Final answer",
         "rawType": "object",
         "type": "string"
        },
        {
         "name": "is_correct",
         "rawType": "object",
         "type": "unknown"
        }
       ],
       "ref": "b067479f-56f9-4845-b6d3-8da5b8572ab1",
       "rows": [
        [
         "29",
         "I'm making a grocery list for my mom, but she's a professor of botany and she's a real stickler when it comes to categorizing things. I need to add different foods to different categories on the grocery list, but if I make a mistake, she won't buy anything inserted in the wrong category. Here's the list I have so far:\n\nmilk, eggs, flour, whole bean coffee, Oreos, sweet potatoes, fresh basil, plums, green beans, rice, corn, bell pepper, whole allspice, acorns, broccoli, celery, zucchini, lettuce, peanuts\n\nI need to make headings for the fruits and vegetables. Could you please create a list of just the vegetables from my list? If you could do that, then I can figure out how to categorize the rest of the list into the appropriate categories. But remember that my mom is a real stickler, so make sure that no botanical fruits end up on the vegetable list, or she won't get them when she's at the store. Please alphabetize the list of vegetables, and place each item in a comma separated list.",
         "",
         null,
         "broccoli, celery, fresh basil, lettuce, sweet potatoes",
         null
        ],
        [
         "43",
         "In Audre Lorde’s poem “Father Son and Holy Ghost”, what is the number of the stanza in which some lines are indented?",
         "",
         null,
         "2",
         null
        ],
        [
         "28",
         "What is the surname of the equine veterinarian mentioned in 1.E Exercises from the chemistry materials licensed by Marisa Alviar-Agnew & Henry Agnew under the CK-12 license in LibreText's Introductory Chemistry materials as compiled 08/21/2023?",
         "",
         null,
         "Louvrier",
         null
        ],
        [
         "14",
         "In the fictional language of Tizin, basic sentences are arranged with the Verb first, followed by the direct object, followed by the subject of the sentence. I want to express my love for apples to my Tizin friend. \n\nThe word that indicates oneself is \"Pa\" is the nominative form, \"Mato\" is the accusative form, and \"Sing\" is the genitive form. \n\nThe root verb that indicates an intense like for something is \"Maktay\". When it is used in the present, it is used in it's root form, when it is used in the preterit past, it is \"Tay\", and when it is used in the imperfect past, it is \"Aktay\". It is used differently than in English, and is better translated as \"is pleasing to\", meaning that the thing doing the liking is actually the object of the sentence rather than the subject.\n\nThe word for apples is borrowed from English in Tizin, and so it is \"Apple\" is the nominative form, \"Zapple\" is the accusative form, and \"Izapple\" is the genitive form. \n\nPlease translate \"I like apples\" to Tizin.",
         "",
         null,
         "Maktay mato apple",
         null
        ],
        [
         "27",
         "You are given this Excel file as a map. You start on the START cell and move toward the END cell. You are allowed to move two cells per turn, and you may move up, down, left, or right. You may not move fewer than two cells, and you may not move backward. You must avoid moving onto any blue cells. On the eleventh turn, what is the 6-digit hex code (without prefix) of the color of the cell where you land after moving?",
         "/home/santiagoal/.cache/huggingface/hub/datasets--gaia-benchmark--GAIA/snapshots/897f2dfbb5c952b5c3c1509e648381f9c7b70316/2023/validation/65afbc8a-89ca-4ad5-8d62-355bb401f61d.xlsx",
         null,
         "F478A7",
         null
        ],
        [
         "41",
         "What was the complete title of the book in which two James Beard Award winners recommended the restaurant where Ali Khan enjoyed a New Mexican staple in his cost-conscious TV show that started in 2015? Write the numbers in plain text if there are some in the title.",
         "",
         null,
         "Five Hundred Things To Eat Before It's Too Late: and the Very Best Places to Eat Them",
         null
        ],
        [
         "39",
         "Of the cities within the United States where U.S. presidents were born, which two are the farthest apart from the westernmost to the easternmost going east, giving the city names only? Give them to me in alphabetical order, in a comma-separated list",
         "",
         null,
         "Braintree, Honolulu",
         null
        ],
        [
         "24",
         "How many slides in this PowerPoint presentation mention crustaceans?",
         "/home/santiagoal/.cache/huggingface/hub/datasets--gaia-benchmark--GAIA/snapshots/897f2dfbb5c952b5c3c1509e648381f9c7b70316/2023/validation/a3fbeb63-0e8c-4a11-bff6-0e3b484c3e9c.pptx",
         null,
         "4",
         null
        ],
        [
         "15",
         "In Nature journal's Scientific Reports conference proceedings from 2012, in the article that did not mention plasmons or plasmonics, what nano-compound is studied? Don't use the prefix nano in your answer if there is one.",
         "",
         null,
         "diamond",
         null
        ],
        [
         "49",
         "What country had the least number of athletes at the 1928 Summer Olympics? If there's a tie for a number of athletes, return the first in alphabetical order. Give the IOC country code as your answer.",
         "",
         null,
         "CUB",
         null
        ],
        [
         "35",
         "How many more blocks (also denoted as layers) in BERT base encoder than the encoder from the architecture proposed in Attention is All You Need?",
         "",
         null,
         "6",
         null
        ],
        [
         "42",
         "How many at bats did the Yankee with the most walks in the 1977 regular season have that same season?",
         "",
         null,
         "519",
         null
        ],
        [
         "20",
         "Given this table defining * on the set S = {a, b, c, d, e}\n\n|*|a|b|c|d|e|\n|---|---|---|---|---|---|\n|a|a|b|c|b|d|\n|b|b|c|a|e|c|\n|c|c|a|b|b|a|\n|d|b|e|b|e|d|\n|e|d|b|a|d|c|\n\nprovide the subset of S involved in any possible counter-examples that prove * is not commutative. Provide your answer as a comma separated list of the elements in the set in alphabetical order.",
         "",
         null,
         "b, e",
         null
        ],
        [
         "48",
         "A standard Rubik’s cube has been broken into cubes making up its sides. The cubes are jumbled, and one is removed. There are 6 cubes with one colored face, 12 edge cubes with two colored faces, and 8 corner cubes with three colored faces. All blue cubes have been found. All cubes directly left, right, above, and below the orange center cube have been found, along with the center cube. The green corners have all been found, along with all green that borders yellow. For all orange cubes found, the opposite face’s cubes have been found. The removed cube has two colors on its faces. What are they? Answer using a comma separated list, with the colors ordered alphabetically.",
         "",
         null,
         "green, white",
         null
        ],
        [
         "11",
         "My family reunion is this week, and I was assigned the mashed potatoes to bring. The attendees include my married mother and father, my twin brother and his family, my aunt and her family, my grandma and her brother, her brother's daughter, and his daughter's family. All the adults but me have been married, and no one is divorced or remarried, but my grandpa and my grandma's sister-in-law passed away last year. All living spouses are attending. My brother has two children that are still kids, my aunt has one six-year-old, and my grandma's brother's daughter has three kids under 12. I figure each adult will eat about 1.5 potatoes of mashed potatoes and each kid will eat about 1/2 a potato of mashed potatoes, except my second cousins don't eat carbs. The average potato is about half a pound, and potatoes are sold in 5-pound bags. How many whole bags of potatoes do I need? Just give the number.",
         "",
         null,
         "2",
         null
        ],
        [
         "47",
         "Where were the Vietnamese specimens described by Kuznetzov in Nedoshivina's 2010 paper eventually deposited? Just give me the city name without abbreviations.",
         "",
         null,
         "Saint Petersburg",
         null
        ],
        [
         "1",
         "How many studio albums were published by Mercedes Sosa between 2000 and 2009 (included)? You can use the latest 2022 version of english wikipedia.",
         "",
         null,
         "3",
         null
        ],
        [
         "8",
         ".rewsna eht sa \"tfel\" drow eht fo etisoppo eht etirw ,ecnetnes siht dnatsrednu uoy fI",
         "",
         null,
         "Right",
         null
        ],
        [
         "26",
         "Examine the video at https://www.youtube.com/watch?v=1htKBjuUWec.\n\nWhat does Teal'c say in response to the question \"Isn't that hot?\"",
         "",
         null,
         "Extremely",
         null
        ],
        [
         "34",
         "What is the final numeric output from the attached Python code?",
         "/home/santiagoal/.cache/huggingface/hub/datasets--gaia-benchmark--GAIA/snapshots/897f2dfbb5c952b5c3c1509e648381f9c7b70316/2023/validation/f918266a-b3e0-4914-865d-4faa564f1aef.py",
         null,
         "0",
         null
        ]
       ],
       "shape": {
        "columns": 5,
        "rows": 20
       }
      },
      "text/html": [
       "<div>\n",
       "<style scoped>\n",
       "    .dataframe tbody tr th:only-of-type {\n",
       "        vertical-align: middle;\n",
       "    }\n",
       "\n",
       "    .dataframe tbody tr th {\n",
       "        vertical-align: top;\n",
       "    }\n",
       "\n",
       "    .dataframe thead th {\n",
       "        text-align: right;\n",
       "    }\n",
       "</style>\n",
       "<table border=\"1\" class=\"dataframe\">\n",
       "  <thead>\n",
       "    <tr style=\"text-align: right;\">\n",
       "      <th></th>\n",
       "      <th>Question</th>\n",
       "      <th>file_path</th>\n",
       "      <th>Agent response</th>\n",
       "      <th>Final answer</th>\n",
       "      <th>is_correct</th>\n",
       "    </tr>\n",
       "  </thead>\n",
       "  <tbody>\n",
       "    <tr>\n",
       "      <th>29</th>\n",
       "      <td>I'm making a grocery list for my mom, but she'...</td>\n",
       "      <td></td>\n",
       "      <td>None</td>\n",
       "      <td>broccoli, celery, fresh basil, lettuce, sweet ...</td>\n",
       "      <td>None</td>\n",
       "    </tr>\n",
       "    <tr>\n",
       "      <th>43</th>\n",
       "      <td>In Audre Lorde’s poem “Father Son and Holy Gho...</td>\n",
       "      <td></td>\n",
       "      <td>None</td>\n",
       "      <td>2</td>\n",
       "      <td>None</td>\n",
       "    </tr>\n",
       "    <tr>\n",
       "      <th>28</th>\n",
       "      <td>What is the surname of the equine veterinarian...</td>\n",
       "      <td></td>\n",
       "      <td>None</td>\n",
       "      <td>Louvrier</td>\n",
       "      <td>None</td>\n",
       "    </tr>\n",
       "    <tr>\n",
       "      <th>14</th>\n",
       "      <td>In the fictional language of Tizin, basic sent...</td>\n",
       "      <td></td>\n",
       "      <td>None</td>\n",
       "      <td>Maktay mato apple</td>\n",
       "      <td>None</td>\n",
       "    </tr>\n",
       "    <tr>\n",
       "      <th>27</th>\n",
       "      <td>You are given this Excel file as a map. You st...</td>\n",
       "      <td>/home/santiagoal/.cache/huggingface/hub/datase...</td>\n",
       "      <td>None</td>\n",
       "      <td>F478A7</td>\n",
       "      <td>None</td>\n",
       "    </tr>\n",
       "    <tr>\n",
       "      <th>41</th>\n",
       "      <td>What was the complete title of the book in whi...</td>\n",
       "      <td></td>\n",
       "      <td>None</td>\n",
       "      <td>Five Hundred Things To Eat Before It's Too Lat...</td>\n",
       "      <td>None</td>\n",
       "    </tr>\n",
       "    <tr>\n",
       "      <th>39</th>\n",
       "      <td>Of the cities within the United States where U...</td>\n",
       "      <td></td>\n",
       "      <td>None</td>\n",
       "      <td>Braintree, Honolulu</td>\n",
       "      <td>None</td>\n",
       "    </tr>\n",
       "    <tr>\n",
       "      <th>24</th>\n",
       "      <td>How many slides in this PowerPoint presentatio...</td>\n",
       "      <td>/home/santiagoal/.cache/huggingface/hub/datase...</td>\n",
       "      <td>None</td>\n",
       "      <td>4</td>\n",
       "      <td>None</td>\n",
       "    </tr>\n",
       "    <tr>\n",
       "      <th>15</th>\n",
       "      <td>In Nature journal's Scientific Reports confere...</td>\n",
       "      <td></td>\n",
       "      <td>None</td>\n",
       "      <td>diamond</td>\n",
       "      <td>None</td>\n",
       "    </tr>\n",
       "    <tr>\n",
       "      <th>49</th>\n",
       "      <td>What country had the least number of athletes ...</td>\n",
       "      <td></td>\n",
       "      <td>None</td>\n",
       "      <td>CUB</td>\n",
       "      <td>None</td>\n",
       "    </tr>\n",
       "    <tr>\n",
       "      <th>35</th>\n",
       "      <td>How many more blocks (also denoted as layers) ...</td>\n",
       "      <td></td>\n",
       "      <td>None</td>\n",
       "      <td>6</td>\n",
       "      <td>None</td>\n",
       "    </tr>\n",
       "    <tr>\n",
       "      <th>42</th>\n",
       "      <td>How many at bats did the Yankee with the most ...</td>\n",
       "      <td></td>\n",
       "      <td>None</td>\n",
       "      <td>519</td>\n",
       "      <td>None</td>\n",
       "    </tr>\n",
       "    <tr>\n",
       "      <th>20</th>\n",
       "      <td>Given this table defining * on the set S = {a,...</td>\n",
       "      <td></td>\n",
       "      <td>None</td>\n",
       "      <td>b, e</td>\n",
       "      <td>None</td>\n",
       "    </tr>\n",
       "    <tr>\n",
       "      <th>48</th>\n",
       "      <td>A standard Rubik’s cube has been broken into c...</td>\n",
       "      <td></td>\n",
       "      <td>None</td>\n",
       "      <td>green, white</td>\n",
       "      <td>None</td>\n",
       "    </tr>\n",
       "    <tr>\n",
       "      <th>11</th>\n",
       "      <td>My family reunion is this week, and I was assi...</td>\n",
       "      <td></td>\n",
       "      <td>None</td>\n",
       "      <td>2</td>\n",
       "      <td>None</td>\n",
       "    </tr>\n",
       "    <tr>\n",
       "      <th>47</th>\n",
       "      <td>Where were the Vietnamese specimens described ...</td>\n",
       "      <td></td>\n",
       "      <td>None</td>\n",
       "      <td>Saint Petersburg</td>\n",
       "      <td>None</td>\n",
       "    </tr>\n",
       "    <tr>\n",
       "      <th>1</th>\n",
       "      <td>How many studio albums were published by Merce...</td>\n",
       "      <td></td>\n",
       "      <td>None</td>\n",
       "      <td>3</td>\n",
       "      <td>None</td>\n",
       "    </tr>\n",
       "    <tr>\n",
       "      <th>8</th>\n",
       "      <td>.rewsna eht sa \"tfel\" drow eht fo etisoppo eht...</td>\n",
       "      <td></td>\n",
       "      <td>None</td>\n",
       "      <td>Right</td>\n",
       "      <td>None</td>\n",
       "    </tr>\n",
       "    <tr>\n",
       "      <th>26</th>\n",
       "      <td>Examine the video at https://www.youtube.com/w...</td>\n",
       "      <td></td>\n",
       "      <td>None</td>\n",
       "      <td>Extremely</td>\n",
       "      <td>None</td>\n",
       "    </tr>\n",
       "    <tr>\n",
       "      <th>34</th>\n",
       "      <td>What is the final numeric output from the atta...</td>\n",
       "      <td>/home/santiagoal/.cache/huggingface/hub/datase...</td>\n",
       "      <td>None</td>\n",
       "      <td>0</td>\n",
       "      <td>None</td>\n",
       "    </tr>\n",
       "  </tbody>\n",
       "</table>\n",
       "</div>"
      ],
      "text/plain": [
       "                                             Question  \\\n",
       "29  I'm making a grocery list for my mom, but she'...   \n",
       "43  In Audre Lorde’s poem “Father Son and Holy Gho...   \n",
       "28  What is the surname of the equine veterinarian...   \n",
       "14  In the fictional language of Tizin, basic sent...   \n",
       "27  You are given this Excel file as a map. You st...   \n",
       "41  What was the complete title of the book in whi...   \n",
       "39  Of the cities within the United States where U...   \n",
       "24  How many slides in this PowerPoint presentatio...   \n",
       "15  In Nature journal's Scientific Reports confere...   \n",
       "49  What country had the least number of athletes ...   \n",
       "35  How many more blocks (also denoted as layers) ...   \n",
       "42  How many at bats did the Yankee with the most ...   \n",
       "20  Given this table defining * on the set S = {a,...   \n",
       "48  A standard Rubik’s cube has been broken into c...   \n",
       "11  My family reunion is this week, and I was assi...   \n",
       "47  Where were the Vietnamese specimens described ...   \n",
       "1   How many studio albums were published by Merce...   \n",
       "8   .rewsna eht sa \"tfel\" drow eht fo etisoppo eht...   \n",
       "26  Examine the video at https://www.youtube.com/w...   \n",
       "34  What is the final numeric output from the atta...   \n",
       "\n",
       "                                            file_path Agent response  \\\n",
       "29                                                              None   \n",
       "43                                                              None   \n",
       "28                                                              None   \n",
       "14                                                              None   \n",
       "27  /home/santiagoal/.cache/huggingface/hub/datase...           None   \n",
       "41                                                              None   \n",
       "39                                                              None   \n",
       "24  /home/santiagoal/.cache/huggingface/hub/datase...           None   \n",
       "15                                                              None   \n",
       "49                                                              None   \n",
       "35                                                              None   \n",
       "42                                                              None   \n",
       "20                                                              None   \n",
       "48                                                              None   \n",
       "11                                                              None   \n",
       "47                                                              None   \n",
       "1                                                               None   \n",
       "8                                                               None   \n",
       "26                                                              None   \n",
       "34  /home/santiagoal/.cache/huggingface/hub/datase...           None   \n",
       "\n",
       "                                         Final answer is_correct  \n",
       "29  broccoli, celery, fresh basil, lettuce, sweet ...       None  \n",
       "43                                                  2       None  \n",
       "28                                           Louvrier       None  \n",
       "14                                  Maktay mato apple       None  \n",
       "27                                             F478A7       None  \n",
       "41  Five Hundred Things To Eat Before It's Too Lat...       None  \n",
       "39                                Braintree, Honolulu       None  \n",
       "24                                                  4       None  \n",
       "15                                            diamond       None  \n",
       "49                                                CUB       None  \n",
       "35                                                  6       None  \n",
       "42                                                519       None  \n",
       "20                                               b, e       None  \n",
       "48                                       green, white       None  \n",
       "11                                                  2       None  \n",
       "47                                   Saint Petersburg       None  \n",
       "1                                                   3       None  \n",
       "8                                               Right       None  \n",
       "26                                          Extremely       None  \n",
       "34                                                  0       None  "
      ]
     },
     "execution_count": 11,
     "metadata": {},
     "output_type": "execute_result"
    }
   ],
   "source": [
    "results_df"
   ]
  },
  {
   "cell_type": "markdown",
   "id": "ef5f9a65",
   "metadata": {},
   "source": [
    "### Experiment and Track performance on dev set"
   ]
  },
  {
   "cell_type": "code",
   "execution_count": 12,
   "id": "ef1a21ec",
   "metadata": {},
   "outputs": [],
   "source": [
    "# Get XP history\n",
    "old_experiments_data = pd.read_csv(summary_experiments_path)"
   ]
  },
  {
   "cell_type": "code",
   "execution_count": 13,
   "id": "58541f5c",
   "metadata": {},
   "outputs": [],
   "source": [
    "# Form\n",
    "\n",
    "# Get last information \n",
    "latest_experiment = old_experiments_data.iloc[-1]\n",
    "#latest_xp_name = latest_experiment[\"experiment\"]\n",
    "latest_agent = latest_experiment[\"agent\"]\n",
    "latest_tools = latest_experiment[\"tools\"]\n",
    "latest_iteration = latest_experiment[\"iteration\"]\n",
    "current_iteration = latest_iteration + 1\n",
    "\n",
    "# Get XP name\n",
    "msg = \"Type the experiment name (E.g. Integrate Whisper Transcriber)\"\n",
    "usr_response = \"\"\n",
    "while usr_response.lower() == \"\":\n",
    "    usr_response = input(msg + \": \")\n",
    "xp_name = usr_response\n",
    "\n",
    "\n",
    "# Get Agent Archictecure\n",
    "usr_response = \"\"\n",
    "msg = f\"Is your agent different from '{latest_agent}'? [y/N]\"\n",
    "usr_response = input(msg + \": \")\n",
    "warning_msg = f\"Oops! '{usr_response}' is not a valid response, pls try again. \"\n",
    "while usr_response.lower() not in (\"y\", \"n\"):\n",
    "    usr_response = input(warning_msg.format(usr_response) + msg + \": \")\n",
    "\n",
    "if usr_response.lower() == \"n\":\n",
    "    agent_architecture = latest_agent\n",
    "elif usr_response.lower() == \"y\":\n",
    "    agent_architecture = input(\"Please type the new agent architecture to track\" + \": \")\n",
    "\n",
    "# Get Tools\n",
    "usr_response = \"\"\n",
    "msg = \"Are there new tools to track? [y/N]\"\n",
    "usr_response = input(msg + \": \")\n",
    "while usr_response.lower() not in (\"y\", \"n\"):\n",
    "    usr_response = input(warning_msg.format(usr_response) + msg + \": \")\n",
    "\n",
    "if usr_response.lower() == \"n\":\n",
    "    new_tools = \"\"\n",
    "elif usr_response.lower() == \"y\":\n",
    "    new_tools = input(\"Please type the new tools list to track (comma separated)\" + \": \")\n",
    "\n",
    "new_tools_list = latest_tools + \", \" + new_tools\n",
    "\n",
    "# Format xp name and path\n",
    "xp_name_snake = str(current_iteration) + \"_\" + xp_name.replace(\" \", \"_\").replace(\",\", \"\").lower()\n",
    "xp_path = os.path.join(experiment_iterations_path, xp_name_snake + \".csv\")"
   ]
  },
  {
   "cell_type": "code",
   "execution_count": null,
   "id": "f41bf04f",
   "metadata": {},
   "outputs": [],
   "source": []
  },
  {
   "cell_type": "code",
   "execution_count": null,
   "id": "27f03037",
   "metadata": {},
   "outputs": [],
   "source": []
  },
  {
   "cell_type": "code",
   "execution_count": null,
   "id": "5f686624",
   "metadata": {},
   "outputs": [],
   "source": [
    "\n"
   ]
  },
  {
   "cell_type": "code",
   "execution_count": 28,
   "id": "7977ed7c",
   "metadata": {},
   "outputs": [],
   "source": [
    "temp_df = df_dev.copy()\n",
    "temp_df = temp_df[temp_df[\"file_path\"].map(lambda row: row.endswith(\"cffe0e32-c9a6-4c52-9877-78ceb4aaa9fb.docx\"))]"
   ]
  },
  {
   "cell_type": "code",
   "execution_count": 30,
   "id": "e544a129",
   "metadata": {},
   "outputs": [],
   "source": [
    "temp_response = gaia_eval.get_agent_response(temp_df)"
   ]
  },
  {
   "cell_type": "code",
   "execution_count": 31,
   "id": "d372ea12",
   "metadata": {},
   "outputs": [
    {
     "data": {
      "text/plain": [
       "\"It seems like you're trying to transcribe an audio file related to a Secret Santa gift exchange. Please provide the complete file path or confirm if the provided path is correct, so I can proceed with the transcription.\""
      ]
     },
     "execution_count": 31,
     "metadata": {},
     "output_type": "execute_result"
    }
   ],
   "source": [
    "temp_response"
   ]
  },
  {
   "cell_type": "code",
   "execution_count": 29,
   "id": "5ca64bac",
   "metadata": {},
   "outputs": [
    {
     "data": {
      "application/vnd.microsoft.datawrangler.viewer.v0+json": {
       "columns": [
        {
         "name": "index",
         "rawType": "int64",
         "type": "integer"
        },
        {
         "name": "task_id",
         "rawType": "object",
         "type": "string"
        },
        {
         "name": "Question",
         "rawType": "object",
         "type": "string"
        },
        {
         "name": "Level",
         "rawType": "object",
         "type": "string"
        },
        {
         "name": "Final answer",
         "rawType": "object",
         "type": "string"
        },
        {
         "name": "file_name",
         "rawType": "object",
         "type": "string"
        },
        {
         "name": "file_path",
         "rawType": "object",
         "type": "string"
        },
        {
         "name": "Annotator Metadata",
         "rawType": "object",
         "type": "unknown"
        }
       ],
       "ref": "fef41802-361c-46a6-862b-aa4492daa2ec",
       "rows": [
        [
         "7",
         "cffe0e32-c9a6-4c52-9877-78ceb4aaa9fb",
         "An office held a Secret Santa gift exchange where each of its twelve employees was assigned one other employee in the group to present with a gift. Each employee filled out a profile including three likes or hobbies. On the day of the gift exchange, only eleven gifts were given, each one specific to one of the recipient's interests. Based on the information in the document, who did not give a gift?",
         "1",
         "Fred",
         "cffe0e32-c9a6-4c52-9877-78ceb4aaa9fb.docx",
         "/home/santiagoal/.cache/huggingface/hub/datasets--gaia-benchmark--GAIA/snapshots/897f2dfbb5c952b5c3c1509e648381f9c7b70316/2023/validation/cffe0e32-c9a6-4c52-9877-78ceb4aaa9fb.docx",
         "{'Steps': '1. Open the document.\\n2. Look at gifts and recipient interests.\\n3. Match Galileo Galilei biography (could apply to astronomy or books -> Miguel or Micah)\\n4. Match fishing reel (only applies to fishing -> Harry)\\n5. Match Raku programming guide (Perl language, but could also apply to JavaScript enthusiast - > Fred or Jun)\\n6. Match chisel set (could apply to camping or woodworking, but Harry is already fulfilled -> Jun, so Raku guide is for Fred)\\n7. Match custom dice (could apply to board games or tabletop RPGs -> Lucy or Sara)\\n8. Match “War and Peace” American film copy (could apply to old movies or Audrey Hepburn -> Perry or Alex)\\n9. Match yarn (only applies to knitting -> Micah, so the Galileo biography is for Miguel)\\n10. Match \"One Piece\" graphic novel (could apply to books or manga, but Micah already has yarn -> Alex, so the \"War and Peace\" film is for Perry)\\n11. Match \"War and Peace\" novel (could apply to books or historical fiction novels, but Micah has yarn -> Tyson)\\n12. Match Starbucks gift card (only applies to coffee -> Lucy, so the dice are for Sara)\\n13. Match foam exercise mat (only applies to yoga -> Georgette)\\n14. Note which recipients have gifts (Miguel, Harry, Fred, Jun, Sara, Perry, Micah, Alex, Tyson, Lucy, Georgette) and which does not (Rebecca).\\n15. Find who was supposed to give Rebecca a gift (Fred).', 'Number of steps': '15', 'How long did this take?': '15 minutes', 'Tools': '1. Word document access', 'Number of tools': '1'}"
        ]
       ],
       "shape": {
        "columns": 7,
        "rows": 1
       }
      },
      "text/html": [
       "<div>\n",
       "<style scoped>\n",
       "    .dataframe tbody tr th:only-of-type {\n",
       "        vertical-align: middle;\n",
       "    }\n",
       "\n",
       "    .dataframe tbody tr th {\n",
       "        vertical-align: top;\n",
       "    }\n",
       "\n",
       "    .dataframe thead th {\n",
       "        text-align: right;\n",
       "    }\n",
       "</style>\n",
       "<table border=\"1\" class=\"dataframe\">\n",
       "  <thead>\n",
       "    <tr style=\"text-align: right;\">\n",
       "      <th></th>\n",
       "      <th>task_id</th>\n",
       "      <th>Question</th>\n",
       "      <th>Level</th>\n",
       "      <th>Final answer</th>\n",
       "      <th>file_name</th>\n",
       "      <th>file_path</th>\n",
       "      <th>Annotator Metadata</th>\n",
       "    </tr>\n",
       "  </thead>\n",
       "  <tbody>\n",
       "    <tr>\n",
       "      <th>7</th>\n",
       "      <td>cffe0e32-c9a6-4c52-9877-78ceb4aaa9fb</td>\n",
       "      <td>An office held a Secret Santa gift exchange wh...</td>\n",
       "      <td>1</td>\n",
       "      <td>Fred</td>\n",
       "      <td>cffe0e32-c9a6-4c52-9877-78ceb4aaa9fb.docx</td>\n",
       "      <td>/home/santiagoal/.cache/huggingface/hub/datase...</td>\n",
       "      <td>{'Steps': '1. Open the document.\n",
       "2. Look at gi...</td>\n",
       "    </tr>\n",
       "  </tbody>\n",
       "</table>\n",
       "</div>"
      ],
      "text/plain": [
       "                                task_id  \\\n",
       "7  cffe0e32-c9a6-4c52-9877-78ceb4aaa9fb   \n",
       "\n",
       "                                            Question Level Final answer  \\\n",
       "7  An office held a Secret Santa gift exchange wh...     1         Fred   \n",
       "\n",
       "                                   file_name  \\\n",
       "7  cffe0e32-c9a6-4c52-9877-78ceb4aaa9fb.docx   \n",
       "\n",
       "                                           file_path  \\\n",
       "7  /home/santiagoal/.cache/huggingface/hub/datase...   \n",
       "\n",
       "                                  Annotator Metadata  \n",
       "7  {'Steps': '1. Open the document.\n",
       "2. Look at gi...  "
      ]
     },
     "execution_count": 29,
     "metadata": {},
     "output_type": "execute_result"
    }
   ],
   "source": [
    "temp_df\n"
   ]
  },
  {
   "cell_type": "code",
   "execution_count": null,
   "id": "5ffe154e",
   "metadata": {},
   "outputs": [],
   "source": []
  },
  {
   "cell_type": "code",
   "execution_count": null,
   "id": "7dcb7f4d",
   "metadata": {},
   "outputs": [],
   "source": []
  },
  {
   "cell_type": "code",
   "execution_count": null,
   "id": "2b48dcc8",
   "metadata": {},
   "outputs": [],
   "source": [
    "# Compute and save agent responses and their evaluation\n",
    "\n",
    "results_df[\"Agent response\"] = results_df.apply(func=gaia_eval.get_agent_response, axis=1)\n",
    "results_df[\"is_correct\"] = results_df.apply(func=gaia_eval.evaluate_response, axis=1)\n",
    "results_df"
   ]
  },
  {
   "cell_type": "code",
   "execution_count": null,
   "id": "89f8f584",
   "metadata": {},
   "outputs": [],
   "source": [
    "accuracy = results_df[\"is_correct\"].mean()\n",
    "print(f\" Experiment Accuracy: {(100 * accuracy):.2f} %\")"
   ]
  },
  {
   "cell_type": "code",
   "execution_count": null,
   "id": "a326127a",
   "metadata": {},
   "outputs": [],
   "source": [
    "results_df"
   ]
  },
  {
   "cell_type": "markdown",
   "id": "c826fde0",
   "metadata": {},
   "source": [
    "### Save Results"
   ]
  },
  {
   "cell_type": "code",
   "execution_count": null,
   "id": "06eb6132",
   "metadata": {},
   "outputs": [],
   "source": [
    "# Save current experiment\n",
    "results_df.to_csv(xp_path, index=False)\n",
    "\n",
    "# Update experimentation history\n",
    "\n",
    "xp_results = {\n",
    "    \"iteration\": current_iteration,\n",
    "    \"experiment\": xp_name,\n",
    "    \"agent\": agent_architecture,\n",
    "    \"tools\": new_tools_list,\n",
    "    \"accuracy\": round(results_df.copy()[\"is_correct\"].mean(), 2),\n",
    "}\n",
    "\n",
    "updated_experiments_data = pd.concat([old_experiments_data, pd.DataFrame([xp_results])], ignore_index=True)\n",
    "updated_experiments_data.drop_duplicates(inplace=True)\n",
    "updated_experiments_data.to_csv(summary_experiments_path, index=False)"
   ]
  },
  {
   "cell_type": "code",
   "execution_count": null,
   "id": "84074f8d",
   "metadata": {},
   "outputs": [],
   "source": [
    "updated_experiments_data"
   ]
  },
  {
   "cell_type": "markdown",
   "id": "f705469a",
   "metadata": {},
   "source": [
    "### Evaluation Summary\n",
    "\n"
   ]
  },
  {
   "cell_type": "code",
   "execution_count": null,
   "id": "71648634",
   "metadata": {},
   "outputs": [],
   "source": [
    "good_responses = results_df[results_df[\"is_correct\"] == 1].copy()\n",
    "good_extensions = (\n",
    "    good_responses[\"file_path\"]\n",
    "    .fillna(\"No files\")\n",
    "    .apply(lambda row: row.split(\".\")[-1] if \".\" in row else \"No files\")\n",
    "    .unique()\n",
    ")\n",
    "good_file_management = \", \".join(sorted(good_extensions))\n",
    "\n",
    "bad_responses = results_df[results_df[\"is_correct\"] == 0].copy()\n",
    "bad_extensions = (\n",
    "    bad_responses[\"file_path\"]\n",
    "    .fillna(\"No files\")\n",
    "    .apply(lambda row: row.split(\".\")[-1] if \".\" in row else \"No files\")\n",
    "    .unique()\n",
    ")\n",
    "bad_file_management = \", \".join(sorted(bad_extensions))\n",
    "\n",
    "performance_no_attached = results_df[results_df[\"file_path\"].apply(lambda row: len(row))==0][\"is_correct\"].mean()"
   ]
  },
  {
   "cell_type": "code",
   "execution_count": null,
   "id": "1d29a298",
   "metadata": {},
   "outputs": [],
   "source": [
    "print(\n",
    "    \"Insights\\n\\n\",\n",
    "    \"-\" * 50,\n",
    "    f\"\\n\\n1. The Agent has an overall accuracy of {100 * accuracy:.1f}%\"\n",
    "    f\"\\n2. The Agent succeded at questions with the following files types: {good_file_management} ({good_responses.is_correct.shape[0]}/{results_df.shape[0]})\",\n",
    "    f\"\\n3. The Agent failed at questions with the following files types: {bad_file_management} ({bad_responses.is_correct.shape[0]}/{results_df.shape[0]})\",\n",
    "    f\"\\n4. The Agent has an Accuracy of {100 * performance_no_attached:.1f}% at tasks with no attached files\"\n",
    ")"
   ]
  },
  {
   "cell_type": "markdown",
   "id": "c4c9f4ff",
   "metadata": {},
   "source": [
    "Conclusions\n",
    "\n",
    "1. The Agent has a 15% of accuracy\n",
    "2. The agent has good performance at tasks involving audio files\n",
    "3. The agent has poor performance when it has to deal with .png, .pptx, .py, .txt, .xlsx files\n",
    "4. Reasoning task has a big margin of improvement (15% of success on reasoning tasks). There are some questions that ask for watching internet videos, so it might be necessary to implement tools to adress this kind of tasks\n",
    "\n",
    "Next steps\n",
    "\n",
    "1. Build tools to deal with .png, .pptx, .py, .txt, .xlsx files\n",
    "2. Investigate improvements for pure-resoning tasks\n",
    "3. Build tools to enable the agent watch / process youtube videos"
   ]
  },
  {
   "cell_type": "markdown",
   "id": "9e69ee21",
   "metadata": {},
   "source": [
    "\n",
    "### Main Questions to solve\n",
    "\n",
    "$\\square$ Which are the core tools for each level of questions \n",
    "  - Level 1:\n",
    "  - Level 2:\n",
    "  - Level 3:\n",
    "\n"
   ]
  }
 ],
 "metadata": {
  "kernelspec": {
   "display_name": "chappie-CHLGiFC_-py3.12",
   "language": "python",
   "name": "python3"
  },
  "language_info": {
   "codemirror_mode": {
    "name": "ipython",
    "version": 3
   },
   "file_extension": ".py",
   "mimetype": "text/x-python",
   "name": "python",
   "nbconvert_exporter": "python",
   "pygments_lexer": "ipython3",
   "version": "3.12.3"
  }
 },
 "nbformat": 4,
 "nbformat_minor": 5
}
