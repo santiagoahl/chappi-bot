{
 "cells": [
  {
   "cell_type": "markdown",
   "id": "c545435f",
   "metadata": {},
   "source": [
    "This Notebook is made for experimentation purposes, so we can track the changes vs performance of our agent"
   ]
  },
  {
   "cell_type": "markdown",
   "id": "8a78bd29",
   "metadata": {},
   "source": [
    "### Setup"
   ]
  },
  {
   "cell_type": "code",
   "execution_count": 1,
   "id": "f7c489ed",
   "metadata": {},
   "outputs": [
    {
     "name": "stderr",
     "output_type": "stream",
     "text": [
      "/home/santiagoal/.cache/pypoetry/virtualenvs/chappie-CHLGiFC_-py3.12/lib/python3.12/site-packages/tqdm/auto.py:21: TqdmWarning: IProgress not found. Please update jupyter and ipywidgets. See https://ipywidgets.readthedocs.io/en/stable/user_install.html\n",
      "  from .autonotebook import tqdm as notebook_tqdm\n"
     ]
    }
   ],
   "source": [
    "# Libraries\n",
    "from typing import Literal\n",
    "from datasets import load_dataset\n",
    "import pandas as pd\n",
    "import os\n",
    "from random import sample\n",
    "from dotenv import load_dotenv\n",
    "from huggingface_hub import snapshot_download, login"
   ]
  },
  {
   "cell_type": "code",
   "execution_count": 2,
   "id": "585346bc",
   "metadata": {},
   "outputs": [
    {
     "name": "stderr",
     "output_type": "stream",
     "text": [
      "Fetching 114 files: 100%|██████████| 114/114 [00:00<00:00, 2483.91it/s]"
     ]
    },
    {
     "name": "stdout",
     "output_type": "stream",
     "text": [
      "/home/santiagoal/.cache/huggingface/hub/datasets--gaia-benchmark--GAIA/snapshots/897f2dfbb5c952b5c3c1509e648381f9c7b70316\n"
     ]
    },
    {
     "name": "stderr",
     "output_type": "stream",
     "text": [
      "\n"
     ]
    }
   ],
   "source": [
    "# Import tasks attached files \n",
    "load_dotenv()\n",
    "login(token=os.getenv(key=\"HF_TOKEN_CHAPPIE\"))\n",
    "gaia_repo_dir = snapshot_download(repo_id=\"gaia-benchmark/GAIA\", repo_type=\"dataset\")\n",
    "print(gaia_repo_dir)"
   ]
  },
  {
   "cell_type": "code",
   "execution_count": 3,
   "id": "2fbda084",
   "metadata": {},
   "outputs": [
    {
     "name": "stderr",
     "output_type": "stream",
     "text": [
      "Langfuse client is disabled since no public_key was provided as a parameter or environment variable 'LANGFUSE_PUBLIC_KEY'. See our docs: https://langfuse.com/docs/sdk/python/low-level-sdk#initialize-client\n"
     ]
    }
   ],
   "source": [
    "# Local Modules\n",
    "os.sys.path.append(\"../src/\")\n",
    "os.sys.path.append(\"../src/agents/\")\n",
    "os.sys.path.append(\"../src/utils/\")\n",
    "\n",
    "import react  # My AI assistant\n",
    "import gaia_eval"
   ]
  },
  {
   "cell_type": "code",
   "execution_count": 4,
   "id": "73bcdc75",
   "metadata": {},
   "outputs": [],
   "source": [
    "# Paths\n",
    "output_results_path = \"/home/santiagoal/current-projects/chappie/data/agent_experiments/\"\n",
    "experiment_iterations_path = os.path.join(output_results_path, \"iterations/\")\n",
    "summary_experiments_path = os.path.join(output_results_path, \"summary.csv\")"
   ]
  },
  {
   "cell_type": "code",
   "execution_count": 5,
   "id": "53df192e",
   "metadata": {},
   "outputs": [],
   "source": [
    "# GAIA dataset\n",
    "gaia_dataset = load_dataset(\"gaia-benchmark/GAIA\", \"2023_level1\")"
   ]
  },
  {
   "cell_type": "markdown",
   "id": "c4faa863",
   "metadata": {},
   "source": [
    "Docs suggest to focus on validation set for dev purposes, let's explore it"
   ]
  },
  {
   "cell_type": "code",
   "execution_count": 6,
   "id": "6fed73d9",
   "metadata": {},
   "outputs": [
    {
     "data": {
      "text/plain": [
       "Dataset({\n",
       "    features: ['task_id', 'Question', 'Level', 'Final answer', 'file_name', 'file_path', 'Annotator Metadata'],\n",
       "    num_rows: 53\n",
       "})"
      ]
     },
     "execution_count": 6,
     "metadata": {},
     "output_type": "execute_result"
    }
   ],
   "source": [
    "dev_set = gaia_dataset[\"validation\"]\n",
    "dev_set"
   ]
  },
  {
   "cell_type": "markdown",
   "id": "ce03df90",
   "metadata": {},
   "source": [
    "### Explore GAIA Lvl. 1 Questions"
   ]
  },
  {
   "cell_type": "code",
   "execution_count": 7,
   "id": "540838d8",
   "metadata": {},
   "outputs": [],
   "source": [
    "df_dev = pd.DataFrame(dev_set)"
   ]
  },
  {
   "cell_type": "code",
   "execution_count": 8,
   "id": "70dcbd6a",
   "metadata": {},
   "outputs": [
    {
     "data": {
      "application/vnd.microsoft.datawrangler.viewer.v0+json": {
       "columns": [
        {
         "name": "index",
         "rawType": "int64",
         "type": "integer"
        },
        {
         "name": "task_id",
         "rawType": "object",
         "type": "string"
        },
        {
         "name": "Question",
         "rawType": "object",
         "type": "string"
        },
        {
         "name": "Level",
         "rawType": "object",
         "type": "string"
        },
        {
         "name": "Final answer",
         "rawType": "object",
         "type": "string"
        },
        {
         "name": "file_name",
         "rawType": "object",
         "type": "string"
        },
        {
         "name": "file_path",
         "rawType": "object",
         "type": "string"
        },
        {
         "name": "Annotator Metadata",
         "rawType": "object",
         "type": "unknown"
        }
       ],
       "ref": "3d225c1c-ded5-478b-9b86-dc72eed15534",
       "rows": [
        [
         "0",
         "e1fc63a2-da7a-432f-be78-7c4a95598703",
         "If Eliud Kipchoge could maintain his record-making marathon pace indefinitely, how many thousand hours would it take him to run the distance between the Earth and the Moon its closest approach? Please use the minimum perigee value on the Wikipedia page for the Moon when carrying out your calculation. Round your result to the nearest 1000 hours and do not use any comma separators if necessary.",
         "1",
         "17",
         "",
         "",
         "{'Steps': '1. Googled Eliud Kipchoge marathon pace to find 4min 37sec/mile\\n2. Converted into fractions of hours.\\n3. Found moon periapsis in miles (225,623 miles).\\n4. Multiplied the two to find the number of hours and rounded to the nearest 100 hours.', 'Number of steps': '4', 'How long did this take?': '20 Minutes', 'Tools': '1. A web browser.\\n2. A search engine.\\n3. A calculator.', 'Number of tools': '3'}"
        ],
        [
         "1",
         "8e867cd7-cff9-4e6c-867a-ff5ddc2550be",
         "How many studio albums were published by Mercedes Sosa between 2000 and 2009 (included)? You can use the latest 2022 version of english wikipedia.",
         "1",
         "3",
         "",
         "",
         "{'Steps': '1. I did a search for Mercedes Sosa\\n2. I went to the Wikipedia page for her\\n3. I scrolled down to \"Studio albums\"\\n4. I counted the ones between 2000 and 2009', 'Number of steps': '4', 'How long did this take?': '5 minutes', 'Tools': '1. web browser\\n2. google search', 'Number of tools': '2'}"
        ],
        [
         "2",
         "ec09fa32-d03f-4bf8-84b0-1f16922c3ae4",
         "Here's a fun riddle that I think you'll enjoy.\n\nYou have been selected to play the final round of the hit new game show \"Pick That Ping-Pong\". In this round, you will be competing for a large cash prize. Your job will be to pick one of several different numbered ping-pong balls, and then the game will commence. The host describes how the game works.\n\nA device consisting of a winding clear ramp and a series of pistons controls the outcome of the game. The ramp feeds balls onto a platform. The platform has room for three ping-pong balls at a time. The three balls on the platform are each aligned with one of three pistons. At each stage of the game, one of the three pistons will randomly fire, ejecting the ball it strikes. If the piston ejects the ball in the first position on the platform the balls in the second and third position on the platform each advance one space, and the next ball on the ramp advances to the third position. If the piston ejects the ball in the second position, the ball in the first position is released and rolls away, the ball in the third position advances two spaces to occupy the first position, and the next two balls on the ramp advance to occupy the second and third positions on the platform. If the piston ejects the ball in the third position, the ball in the first position is released and rolls away, the ball in the second position advances one space to occupy the first position, and the next two balls on the ramp advance to occupy the second and third positions on the platform.\n\nThe ramp begins with 100 numbered ping-pong balls, arranged in ascending order from 1 to 100. The host activates the machine and the first three balls, numbered 1, 2, and 3, advance to the platform. Before the random firing of the pistons begins, you are asked which of the 100 balls you would like to pick. If your pick is ejected by one of the pistons, you win the grand prize, $10,000.\n\nWhich ball should you choose to maximize your odds of winning the big prize? Please provide your answer as the number of the ball selected.",
         "1",
         "3",
         "",
         "",
         "{'Steps': 'Step 1: Evaluate the problem statement provided in my user\\'s prompt\\nStep 2: Consider the probability of any ball on the platform earning the prize.\\nStep 3: Evaluate the ball in position one. The probability of it earning the prize, P1, is 1/3\\nStep 4: Using a calculator, evaluate the ball in position two. The probability of it earning the prize, P2, is the difference between 1 and the product of the complementary probabilities for each trial\\nP2 = 1 - (2/3)(2/3)\\nP2 = 5/9\\nStep 5: Using a calculator, evaluate the ball in position three. The probability of it earning the prize, P3, is the difference between 1 and the product of the complementary probabilities for each trial\\nP3 = 1 - (2/3)(2/3)(2/3)\\nP3 = 19/27\\nStep 6: Consider the possible outcomes of numbers higher than 3.\\nStep 7: For each trial, either 1 or 2 balls from the ramp will advance to the platform. For any given selection, there is a 50% chance that the ball advances to position 2 or position 3.\\nStep 8: As position three holds the highest chance of earning the prize, select the only ball known to occupy position three with certainty, ball 3.\\nStep 9: Report the correct answer to my user, \"3\"', 'Number of steps': '9', 'How long did this take?': '1 minute', 'Tools': 'None', 'Number of tools': '0'}"
        ],
        [
         "3",
         "5d0080cb-90d7-4712-bc33-848150e917d3",
         "What was the volume in m^3 of the fish bag that was calculated in the University of Leicester paper \"Can Hiccup Supply Enough Fish to Maintain a Dragon’s Diet?\"",
         "1",
         "0.1777",
         "",
         "",
         "{'Steps': '1. Searched \\'\"Can Hiccup Supply Enough Fish to Maintain a Dragon’s Diet?\"\\' on Google.\\n2. Opened \"Can Hiccup Supply Enough Fish to Maintain a Dragon’s Diet?\" at https://journals.le.ac.uk/ojs1/index.php/jist/article/view/733.\\n3. Clicked \"PDF\".\\n4. Found the calculations for the volume of the fish bag and noted them.', 'Number of steps': '4', 'How long did this take?': '5 minutes', 'Tools': '1. Web browser\\n2. Search engine\\n3. PDF access', 'Number of tools': '3'}"
        ],
        [
         "4",
         "a1e91b78-d3d8-4675-bb8d-62741b4b68a6",
         "In the video https://www.youtube.com/watch?v=L1vXCYZAYYM, what is the highest number of bird species to be on camera simultaneously?",
         "1",
         "3",
         "",
         "",
         "{'Steps': '1. Navigate to the YouTube link.\\n2. Watch the video to see the highest number of bird species.\\n3. Note the number.', 'Number of steps': '3', 'How long did this take?': '3 minutes', 'Tools': '1. Web browser\\n2. Video parsing', 'Number of tools': '2'}"
        ]
       ],
       "shape": {
        "columns": 7,
        "rows": 5
       }
      },
      "text/html": [
       "<div>\n",
       "<style scoped>\n",
       "    .dataframe tbody tr th:only-of-type {\n",
       "        vertical-align: middle;\n",
       "    }\n",
       "\n",
       "    .dataframe tbody tr th {\n",
       "        vertical-align: top;\n",
       "    }\n",
       "\n",
       "    .dataframe thead th {\n",
       "        text-align: right;\n",
       "    }\n",
       "</style>\n",
       "<table border=\"1\" class=\"dataframe\">\n",
       "  <thead>\n",
       "    <tr style=\"text-align: right;\">\n",
       "      <th></th>\n",
       "      <th>task_id</th>\n",
       "      <th>Question</th>\n",
       "      <th>Level</th>\n",
       "      <th>Final answer</th>\n",
       "      <th>file_name</th>\n",
       "      <th>file_path</th>\n",
       "      <th>Annotator Metadata</th>\n",
       "    </tr>\n",
       "  </thead>\n",
       "  <tbody>\n",
       "    <tr>\n",
       "      <th>0</th>\n",
       "      <td>e1fc63a2-da7a-432f-be78-7c4a95598703</td>\n",
       "      <td>If Eliud Kipchoge could maintain his record-ma...</td>\n",
       "      <td>1</td>\n",
       "      <td>17</td>\n",
       "      <td></td>\n",
       "      <td></td>\n",
       "      <td>{'Steps': '1. Googled Eliud Kipchoge marathon ...</td>\n",
       "    </tr>\n",
       "    <tr>\n",
       "      <th>1</th>\n",
       "      <td>8e867cd7-cff9-4e6c-867a-ff5ddc2550be</td>\n",
       "      <td>How many studio albums were published by Merce...</td>\n",
       "      <td>1</td>\n",
       "      <td>3</td>\n",
       "      <td></td>\n",
       "      <td></td>\n",
       "      <td>{'Steps': '1. I did a search for Mercedes Sosa...</td>\n",
       "    </tr>\n",
       "    <tr>\n",
       "      <th>2</th>\n",
       "      <td>ec09fa32-d03f-4bf8-84b0-1f16922c3ae4</td>\n",
       "      <td>Here's a fun riddle that I think you'll enjoy....</td>\n",
       "      <td>1</td>\n",
       "      <td>3</td>\n",
       "      <td></td>\n",
       "      <td></td>\n",
       "      <td>{'Steps': 'Step 1: Evaluate the problem statem...</td>\n",
       "    </tr>\n",
       "    <tr>\n",
       "      <th>3</th>\n",
       "      <td>5d0080cb-90d7-4712-bc33-848150e917d3</td>\n",
       "      <td>What was the volume in m^3 of the fish bag tha...</td>\n",
       "      <td>1</td>\n",
       "      <td>0.1777</td>\n",
       "      <td></td>\n",
       "      <td></td>\n",
       "      <td>{'Steps': '1. Searched '\"Can Hiccup Supply Eno...</td>\n",
       "    </tr>\n",
       "    <tr>\n",
       "      <th>4</th>\n",
       "      <td>a1e91b78-d3d8-4675-bb8d-62741b4b68a6</td>\n",
       "      <td>In the video https://www.youtube.com/watch?v=L...</td>\n",
       "      <td>1</td>\n",
       "      <td>3</td>\n",
       "      <td></td>\n",
       "      <td></td>\n",
       "      <td>{'Steps': '1. Navigate to the YouTube link.\n",
       "2....</td>\n",
       "    </tr>\n",
       "  </tbody>\n",
       "</table>\n",
       "</div>"
      ],
      "text/plain": [
       "                                task_id  \\\n",
       "0  e1fc63a2-da7a-432f-be78-7c4a95598703   \n",
       "1  8e867cd7-cff9-4e6c-867a-ff5ddc2550be   \n",
       "2  ec09fa32-d03f-4bf8-84b0-1f16922c3ae4   \n",
       "3  5d0080cb-90d7-4712-bc33-848150e917d3   \n",
       "4  a1e91b78-d3d8-4675-bb8d-62741b4b68a6   \n",
       "\n",
       "                                            Question Level Final answer  \\\n",
       "0  If Eliud Kipchoge could maintain his record-ma...     1           17   \n",
       "1  How many studio albums were published by Merce...     1            3   \n",
       "2  Here's a fun riddle that I think you'll enjoy....     1            3   \n",
       "3  What was the volume in m^3 of the fish bag tha...     1       0.1777   \n",
       "4  In the video https://www.youtube.com/watch?v=L...     1            3   \n",
       "\n",
       "  file_name file_path                                 Annotator Metadata  \n",
       "0                      {'Steps': '1. Googled Eliud Kipchoge marathon ...  \n",
       "1                      {'Steps': '1. I did a search for Mercedes Sosa...  \n",
       "2                      {'Steps': 'Step 1: Evaluate the problem statem...  \n",
       "3                      {'Steps': '1. Searched '\"Can Hiccup Supply Eno...  \n",
       "4                      {'Steps': '1. Navigate to the YouTube link.\n",
       "2....  "
      ]
     },
     "execution_count": 8,
     "metadata": {},
     "output_type": "execute_result"
    }
   ],
   "source": [
    "df_dev.head()"
   ]
  },
  {
   "cell_type": "markdown",
   "id": "5eef07a0",
   "metadata": {},
   "source": [
    "In order to start our dev phase, let's observe how does our React Agent perform of a single question"
   ]
  },
  {
   "cell_type": "code",
   "execution_count": 9,
   "id": "be110221",
   "metadata": {},
   "outputs": [],
   "source": [
    "# DEL\n",
    "# Experiment with only .txt like tasts\n",
    "# Temporal cell\n",
    "df_dev = df_dev[df_dev[\"file_path\"].apply(lambda row: row.endswith(\".txt\"))]"
   ]
  },
  {
   "cell_type": "code",
   "execution_count": 10,
   "id": "b3632592",
   "metadata": {},
   "outputs": [],
   "source": [
    "n_samples = min(20, df_dev.shape[0])\n",
    "sample_questions = df_dev.sample(n_samples)"
   ]
  },
  {
   "cell_type": "code",
   "execution_count": 11,
   "id": "0d10258b",
   "metadata": {},
   "outputs": [],
   "source": [
    "# Dataset copy just for eval\n",
    "\n",
    "results_df = sample_questions.copy()[[\"Question\", \"Final answer\", \"file_path\"]]\n",
    "results_df[\"Agent response\"] = None\n",
    "results_df[\"is_correct\"] = None  # 1 if it is correct, 0 otherwise\n",
    "\n",
    "results_df = results_df[[\"Question\", \"file_path\", \"Agent response\", \"Final answer\", \"is_correct\"]]"
   ]
  },
  {
   "cell_type": "markdown",
   "id": "ef5f9a65",
   "metadata": {},
   "source": [
    "### Experiment and Track performance on dev set"
   ]
  },
  {
   "cell_type": "code",
   "execution_count": 12,
   "id": "ef1a21ec",
   "metadata": {},
   "outputs": [],
   "source": [
    "# Get XP history\n",
    "old_experiments_data = pd.read_csv(summary_experiments_path)"
   ]
  },
  {
   "cell_type": "code",
   "execution_count": 13,
   "id": "58541f5c",
   "metadata": {},
   "outputs": [],
   "source": [
    "# Form\n",
    "\n",
    "# Get last information \n",
    "latest_experiment = old_experiments_data.iloc[-1]\n",
    "#latest_xp_name = latest_experiment[\"experiment\"]\n",
    "latest_agent = latest_experiment[\"agent\"]\n",
    "latest_tools = latest_experiment[\"tools\"]\n",
    "latest_iteration = latest_experiment[\"iteration\"]\n",
    "current_iteration = latest_iteration + 1\n",
    "\n",
    "# Get XP name\n",
    "msg = \"Type the experiment name (E.g. Integrate Whisper Transcriber)\"\n",
    "usr_response = \"\"\n",
    "while usr_response.lower() == \"\":\n",
    "    usr_response = input(msg + \": \")\n",
    "xp_name = usr_response\n",
    "\n",
    "\n",
    "# Get Agent Archictecure\n",
    "usr_response = \"\"\n",
    "msg = f\"Is your agent different from '{latest_agent}'? [y/N]\"\n",
    "usr_response = input(msg + \": \")\n",
    "warning_msg = f\"Oops! '{usr_response}' is not a valid response, pls try again. \"\n",
    "while usr_response.lower() not in (\"y\", \"n\"):\n",
    "    usr_response = input(warning_msg.format(usr_response) + msg + \": \")\n",
    "\n",
    "if usr_response.lower() == \"n\":\n",
    "    agent_architecture = latest_agent\n",
    "elif usr_response.lower() == \"y\":\n",
    "    agent_architecture = input(\"Please type the new agent architecture to track\" + \": \")\n",
    "\n",
    "# Get Tools\n",
    "usr_response = \"\"\n",
    "msg = \"Are there new tools to track? [y/N]\"\n",
    "usr_response = input(msg + \": \")\n",
    "while usr_response.lower() not in (\"y\", \"n\"):\n",
    "    usr_response = input(warning_msg.format(usr_response) + msg + \": \")\n",
    "\n",
    "if usr_response.lower() == \"n\":\n",
    "    new_tools = \"\"\n",
    "elif usr_response.lower() == \"y\":\n",
    "    new_tools = input(\"Please type the new tools list to track (comma separated)\" + \": \")\n",
    "\n",
    "new_tools_list = latest_tools + \", \" + new_tools\n",
    "\n",
    "# Format xp name and path\n",
    "xp_name_snake = str(current_iteration) + \"_\" + xp_name.replace(\" \", \"_\").replace(\",\", \"\").lower()\n",
    "xp_path = os.path.join(experiment_iterations_path, xp_name_snake + \".csv\")"
   ]
  },
  {
   "cell_type": "code",
   "execution_count": 14,
   "id": "7e4c15d8",
   "metadata": {},
   "outputs": [
    {
     "data": {
      "application/vnd.microsoft.datawrangler.viewer.v0+json": {
       "columns": [
        {
         "name": "index",
         "rawType": "int64",
         "type": "integer"
        },
        {
         "name": "Question",
         "rawType": "object",
         "type": "string"
        },
        {
         "name": "file_path",
         "rawType": "object",
         "type": "string"
        },
        {
         "name": "Agent response",
         "rawType": "object",
         "type": "unknown"
        },
        {
         "name": "Final answer",
         "rawType": "object",
         "type": "string"
        },
        {
         "name": "is_correct",
         "rawType": "object",
         "type": "unknown"
        }
       ],
       "ref": "8ca69d17-0092-4421-a86c-d63edb41dea2",
       "rows": [
        [
         "22",
         "You are a telecommunications engineer who wants to build cell phone towers on a stretch of road. In the reference file is a layout of the road and nearby houses. Each dash, \"-\", is a marker indicating a mile. Each capital H indicates a house located next to a mile marker, appearing above or below the stretch of road. Each cell phone tower can cover houses located next to the road within a 4-mile radius. Find the minimum number of cell phone towers needed to cover all houses next to the road. Your answer should be a positive numerical integer value.",
         "/home/santiagoal/.cache/huggingface/hub/datasets--gaia-benchmark--GAIA/snapshots/897f2dfbb5c952b5c3c1509e648381f9c7b70316/2023/validation/389793a7-ca17-4e82-81cb-2b3a2391b4b9.txt",
         null,
         "3",
         null
        ]
       ],
       "shape": {
        "columns": 5,
        "rows": 1
       }
      },
      "text/html": [
       "<div>\n",
       "<style scoped>\n",
       "    .dataframe tbody tr th:only-of-type {\n",
       "        vertical-align: middle;\n",
       "    }\n",
       "\n",
       "    .dataframe tbody tr th {\n",
       "        vertical-align: top;\n",
       "    }\n",
       "\n",
       "    .dataframe thead th {\n",
       "        text-align: right;\n",
       "    }\n",
       "</style>\n",
       "<table border=\"1\" class=\"dataframe\">\n",
       "  <thead>\n",
       "    <tr style=\"text-align: right;\">\n",
       "      <th></th>\n",
       "      <th>Question</th>\n",
       "      <th>file_path</th>\n",
       "      <th>Agent response</th>\n",
       "      <th>Final answer</th>\n",
       "      <th>is_correct</th>\n",
       "    </tr>\n",
       "  </thead>\n",
       "  <tbody>\n",
       "    <tr>\n",
       "      <th>22</th>\n",
       "      <td>You are a telecommunications engineer who want...</td>\n",
       "      <td>/home/santiagoal/.cache/huggingface/hub/datase...</td>\n",
       "      <td>None</td>\n",
       "      <td>3</td>\n",
       "      <td>None</td>\n",
       "    </tr>\n",
       "  </tbody>\n",
       "</table>\n",
       "</div>"
      ],
      "text/plain": [
       "                                             Question  \\\n",
       "22  You are a telecommunications engineer who want...   \n",
       "\n",
       "                                            file_path Agent response  \\\n",
       "22  /home/santiagoal/.cache/huggingface/hub/datase...           None   \n",
       "\n",
       "   Final answer is_correct  \n",
       "22            3       None  "
      ]
     },
     "execution_count": 14,
     "metadata": {},
     "output_type": "execute_result"
    }
   ],
   "source": [
    "results_df"
   ]
  },
  {
   "cell_type": "code",
   "execution_count": 15,
   "id": "2b48dcc8",
   "metadata": {},
   "outputs": [
    {
     "name": "stdout",
     "output_type": "stream",
     "text": [
      "attached_files: /home/santiagoal/.cache/huggingface/hub/datasets--gaia-benchmark--GAIA/snapshots/897f2dfbb5c952b5c3c1509e648381f9c7b70316/2023/validation/389793a7-ca17-4e82-81cb-2b3a2391b4b9.txt\n"
     ]
    },
    {
     "data": {
      "application/vnd.microsoft.datawrangler.viewer.v0+json": {
       "columns": [
        {
         "name": "index",
         "rawType": "int64",
         "type": "integer"
        },
        {
         "name": "Question",
         "rawType": "object",
         "type": "string"
        },
        {
         "name": "file_path",
         "rawType": "object",
         "type": "string"
        },
        {
         "name": "Agent response",
         "rawType": "object",
         "type": "string"
        },
        {
         "name": "Final answer",
         "rawType": "object",
         "type": "string"
        },
        {
         "name": "is_correct",
         "rawType": "int64",
         "type": "integer"
        }
       ],
       "ref": "cc4b4ed7-e0af-4c13-8682-95d79797ea08",
       "rows": [
        [
         "22",
         "You are a telecommunications engineer who wants to build cell phone towers on a stretch of road. In the reference file is a layout of the road and nearby houses. Each dash, \"-\", is a marker indicating a mile. Each capital H indicates a house located next to a mile marker, appearing above or below the stretch of road. Each cell phone tower can cover houses located next to the road within a 4-mile radius. Find the minimum number of cell phone towers needed to cover all houses next to the road. Your answer should be a positive numerical integer value.",
         "/home/santiagoal/.cache/huggingface/hub/datasets--gaia-benchmark--GAIA/snapshots/897f2dfbb5c952b5c3c1509e648381f9c7b70316/2023/validation/389793a7-ca17-4e82-81cb-2b3a2391b4b9.txt",
         "2",
         "3",
         "0"
        ]
       ],
       "shape": {
        "columns": 5,
        "rows": 1
       }
      },
      "text/html": [
       "<div>\n",
       "<style scoped>\n",
       "    .dataframe tbody tr th:only-of-type {\n",
       "        vertical-align: middle;\n",
       "    }\n",
       "\n",
       "    .dataframe tbody tr th {\n",
       "        vertical-align: top;\n",
       "    }\n",
       "\n",
       "    .dataframe thead th {\n",
       "        text-align: right;\n",
       "    }\n",
       "</style>\n",
       "<table border=\"1\" class=\"dataframe\">\n",
       "  <thead>\n",
       "    <tr style=\"text-align: right;\">\n",
       "      <th></th>\n",
       "      <th>Question</th>\n",
       "      <th>file_path</th>\n",
       "      <th>Agent response</th>\n",
       "      <th>Final answer</th>\n",
       "      <th>is_correct</th>\n",
       "    </tr>\n",
       "  </thead>\n",
       "  <tbody>\n",
       "    <tr>\n",
       "      <th>22</th>\n",
       "      <td>You are a telecommunications engineer who want...</td>\n",
       "      <td>/home/santiagoal/.cache/huggingface/hub/datase...</td>\n",
       "      <td>2</td>\n",
       "      <td>3</td>\n",
       "      <td>0</td>\n",
       "    </tr>\n",
       "  </tbody>\n",
       "</table>\n",
       "</div>"
      ],
      "text/plain": [
       "                                             Question  \\\n",
       "22  You are a telecommunications engineer who want...   \n",
       "\n",
       "                                            file_path Agent response  \\\n",
       "22  /home/santiagoal/.cache/huggingface/hub/datase...              2   \n",
       "\n",
       "   Final answer  is_correct  \n",
       "22            3           0  "
      ]
     },
     "execution_count": 15,
     "metadata": {},
     "output_type": "execute_result"
    }
   ],
   "source": [
    "# Compute and save agent responses and their evaluation\n",
    "\n",
    "results_df[\"Agent response\"] = results_df.apply(func=gaia_eval.get_agent_response, axis=1)\n",
    "results_df[\"is_correct\"] = results_df.apply(func=gaia_eval.evaluate_response, axis=1)\n",
    "results_df"
   ]
  },
  {
   "cell_type": "code",
   "execution_count": null,
   "id": "0bfdb7b8",
   "metadata": {},
   "outputs": [],
   "source": []
  },
  {
   "cell_type": "code",
   "execution_count": 16,
   "id": "89f8f584",
   "metadata": {},
   "outputs": [
    {
     "name": "stdout",
     "output_type": "stream",
     "text": [
      " Experiment Accuracy: 0.00 %\n"
     ]
    }
   ],
   "source": [
    "accuracy = results_df[\"is_correct\"].mean()\n",
    "print(f\" Experiment Accuracy: {(100 * accuracy):.2f} %\")"
   ]
  },
  {
   "cell_type": "code",
   "execution_count": 17,
   "id": "a326127a",
   "metadata": {},
   "outputs": [
    {
     "data": {
      "application/vnd.microsoft.datawrangler.viewer.v0+json": {
       "columns": [
        {
         "name": "index",
         "rawType": "int64",
         "type": "integer"
        },
        {
         "name": "Question",
         "rawType": "object",
         "type": "string"
        },
        {
         "name": "file_path",
         "rawType": "object",
         "type": "string"
        },
        {
         "name": "Agent response",
         "rawType": "object",
         "type": "string"
        },
        {
         "name": "Final answer",
         "rawType": "object",
         "type": "string"
        },
        {
         "name": "is_correct",
         "rawType": "int64",
         "type": "integer"
        }
       ],
       "ref": "74bb579d-4727-47ec-af34-50c669e56ee9",
       "rows": [
        [
         "22",
         "You are a telecommunications engineer who wants to build cell phone towers on a stretch of road. In the reference file is a layout of the road and nearby houses. Each dash, \"-\", is a marker indicating a mile. Each capital H indicates a house located next to a mile marker, appearing above or below the stretch of road. Each cell phone tower can cover houses located next to the road within a 4-mile radius. Find the minimum number of cell phone towers needed to cover all houses next to the road. Your answer should be a positive numerical integer value.",
         "/home/santiagoal/.cache/huggingface/hub/datasets--gaia-benchmark--GAIA/snapshots/897f2dfbb5c952b5c3c1509e648381f9c7b70316/2023/validation/389793a7-ca17-4e82-81cb-2b3a2391b4b9.txt",
         "2",
         "3",
         "0"
        ]
       ],
       "shape": {
        "columns": 5,
        "rows": 1
       }
      },
      "text/html": [
       "<div>\n",
       "<style scoped>\n",
       "    .dataframe tbody tr th:only-of-type {\n",
       "        vertical-align: middle;\n",
       "    }\n",
       "\n",
       "    .dataframe tbody tr th {\n",
       "        vertical-align: top;\n",
       "    }\n",
       "\n",
       "    .dataframe thead th {\n",
       "        text-align: right;\n",
       "    }\n",
       "</style>\n",
       "<table border=\"1\" class=\"dataframe\">\n",
       "  <thead>\n",
       "    <tr style=\"text-align: right;\">\n",
       "      <th></th>\n",
       "      <th>Question</th>\n",
       "      <th>file_path</th>\n",
       "      <th>Agent response</th>\n",
       "      <th>Final answer</th>\n",
       "      <th>is_correct</th>\n",
       "    </tr>\n",
       "  </thead>\n",
       "  <tbody>\n",
       "    <tr>\n",
       "      <th>22</th>\n",
       "      <td>You are a telecommunications engineer who want...</td>\n",
       "      <td>/home/santiagoal/.cache/huggingface/hub/datase...</td>\n",
       "      <td>2</td>\n",
       "      <td>3</td>\n",
       "      <td>0</td>\n",
       "    </tr>\n",
       "  </tbody>\n",
       "</table>\n",
       "</div>"
      ],
      "text/plain": [
       "                                             Question  \\\n",
       "22  You are a telecommunications engineer who want...   \n",
       "\n",
       "                                            file_path Agent response  \\\n",
       "22  /home/santiagoal/.cache/huggingface/hub/datase...              2   \n",
       "\n",
       "   Final answer  is_correct  \n",
       "22            3           0  "
      ]
     },
     "execution_count": 17,
     "metadata": {},
     "output_type": "execute_result"
    }
   ],
   "source": [
    "results_df"
   ]
  },
  {
   "cell_type": "markdown",
   "id": "c826fde0",
   "metadata": {},
   "source": [
    "### Save Results"
   ]
  },
  {
   "cell_type": "code",
   "execution_count": 18,
   "id": "06eb6132",
   "metadata": {},
   "outputs": [],
   "source": [
    "# Save current experiment\n",
    "results_df.to_csv(xp_path, index=False)\n",
    "\n",
    "# Update experimentation history\n",
    "\n",
    "xp_results = {\n",
    "    \"iteration\": current_iteration,\n",
    "    \"experiment\": xp_name,\n",
    "    \"agent\": agent_architecture,\n",
    "    \"tools\": new_tools_list,\n",
    "    \"accuracy\": round(results_df.copy()[\"is_correct\"].mean(), 2),\n",
    "}\n",
    "\n",
    "updated_experiments_data = pd.concat([old_experiments_data, pd.DataFrame([xp_results])], ignore_index=True)\n",
    "updated_experiments_data.drop_duplicates(inplace=True)\n",
    "updated_experiments_data.to_csv(summary_experiments_path, index=False)"
   ]
  },
  {
   "cell_type": "code",
   "execution_count": 19,
   "id": "84074f8d",
   "metadata": {},
   "outputs": [
    {
     "data": {
      "application/vnd.microsoft.datawrangler.viewer.v0+json": {
       "columns": [
        {
         "name": "index",
         "rawType": "int64",
         "type": "integer"
        },
        {
         "name": "iteration",
         "rawType": "int64",
         "type": "integer"
        },
        {
         "name": "experiment",
         "rawType": "object",
         "type": "string"
        },
        {
         "name": "agent",
         "rawType": "object",
         "type": "string"
        },
        {
         "name": "tools",
         "rawType": "object",
         "type": "string"
        },
        {
         "name": "accuracy",
         "rawType": "float64",
         "type": "float"
        }
       ],
       "ref": "42db43c4-0a26-4465-9ab4-0a3a9b103b8a",
       "rows": [
        [
         "0",
         "1",
         "Implement Calculator Tool",
         "React agent",
         "Aritmetic",
         "0.0"
        ],
        [
         "1",
         "2",
         "Implement Search and Code tools",
         "React agent",
         "Aritmetic, Search, Code",
         "0.17"
        ],
        [
         "2",
         "3",
         "Integrate Whisper Audio Transcriber",
         "React agent",
         "Aritmetic, Search, Code, Audio Transcriber",
         "0.15"
        ],
        [
         "3",
         "4",
         "Test Workflow",
         "React agent",
         "Aritmetic, Search, Code, Audio Transcriber, ",
         "0.2"
        ],
        [
         "4",
         "5",
         "Integrate Text processing tool",
         "React agent",
         "Aritmetic, Search, Code, Audio Transcriber, , Text Handler",
         "0.1"
        ],
        [
         "5",
         "6",
         "Integrate Text Handler tool",
         "React agent",
         "Aritmetic, Search, Code, Audio Transcriber, , Text Handler, Text Handler",
         "0.2"
        ],
        [
         "6",
         "7",
         "Evaluate Agent Performance against tasks with .txt files",
         "React agent",
         "Aritmetic, Search, Code, Audio Transcriber, , Text Handler, Text Handler, ",
         null
        ],
        [
         "7",
         "8",
         "Test Agent performance against tasks with attached .txt files",
         "React agent",
         "Aritmetic, Search, Code, Audio Transcriber, , Text Handler, Text Handler, , ",
         "0.0"
        ]
       ],
       "shape": {
        "columns": 5,
        "rows": 8
       }
      },
      "text/html": [
       "<div>\n",
       "<style scoped>\n",
       "    .dataframe tbody tr th:only-of-type {\n",
       "        vertical-align: middle;\n",
       "    }\n",
       "\n",
       "    .dataframe tbody tr th {\n",
       "        vertical-align: top;\n",
       "    }\n",
       "\n",
       "    .dataframe thead th {\n",
       "        text-align: right;\n",
       "    }\n",
       "</style>\n",
       "<table border=\"1\" class=\"dataframe\">\n",
       "  <thead>\n",
       "    <tr style=\"text-align: right;\">\n",
       "      <th></th>\n",
       "      <th>iteration</th>\n",
       "      <th>experiment</th>\n",
       "      <th>agent</th>\n",
       "      <th>tools</th>\n",
       "      <th>accuracy</th>\n",
       "    </tr>\n",
       "  </thead>\n",
       "  <tbody>\n",
       "    <tr>\n",
       "      <th>0</th>\n",
       "      <td>1</td>\n",
       "      <td>Implement Calculator Tool</td>\n",
       "      <td>React agent</td>\n",
       "      <td>Aritmetic</td>\n",
       "      <td>0.00</td>\n",
       "    </tr>\n",
       "    <tr>\n",
       "      <th>1</th>\n",
       "      <td>2</td>\n",
       "      <td>Implement Search and Code tools</td>\n",
       "      <td>React agent</td>\n",
       "      <td>Aritmetic, Search, Code</td>\n",
       "      <td>0.17</td>\n",
       "    </tr>\n",
       "    <tr>\n",
       "      <th>2</th>\n",
       "      <td>3</td>\n",
       "      <td>Integrate Whisper Audio Transcriber</td>\n",
       "      <td>React agent</td>\n",
       "      <td>Aritmetic, Search, Code, Audio Transcriber</td>\n",
       "      <td>0.15</td>\n",
       "    </tr>\n",
       "    <tr>\n",
       "      <th>3</th>\n",
       "      <td>4</td>\n",
       "      <td>Test Workflow</td>\n",
       "      <td>React agent</td>\n",
       "      <td>Aritmetic, Search, Code, Audio Transcriber,</td>\n",
       "      <td>0.20</td>\n",
       "    </tr>\n",
       "    <tr>\n",
       "      <th>4</th>\n",
       "      <td>5</td>\n",
       "      <td>Integrate Text processing tool</td>\n",
       "      <td>React agent</td>\n",
       "      <td>Aritmetic, Search, Code, Audio Transcriber, , ...</td>\n",
       "      <td>0.10</td>\n",
       "    </tr>\n",
       "    <tr>\n",
       "      <th>5</th>\n",
       "      <td>6</td>\n",
       "      <td>Integrate Text Handler tool</td>\n",
       "      <td>React agent</td>\n",
       "      <td>Aritmetic, Search, Code, Audio Transcriber, , ...</td>\n",
       "      <td>0.20</td>\n",
       "    </tr>\n",
       "    <tr>\n",
       "      <th>6</th>\n",
       "      <td>7</td>\n",
       "      <td>Evaluate Agent Performance against tasks with ...</td>\n",
       "      <td>React agent</td>\n",
       "      <td>Aritmetic, Search, Code, Audio Transcriber, , ...</td>\n",
       "      <td>NaN</td>\n",
       "    </tr>\n",
       "    <tr>\n",
       "      <th>7</th>\n",
       "      <td>8</td>\n",
       "      <td>Test Agent performance against tasks with atta...</td>\n",
       "      <td>React agent</td>\n",
       "      <td>Aritmetic, Search, Code, Audio Transcriber, , ...</td>\n",
       "      <td>0.00</td>\n",
       "    </tr>\n",
       "  </tbody>\n",
       "</table>\n",
       "</div>"
      ],
      "text/plain": [
       "   iteration                                         experiment        agent  \\\n",
       "0          1                          Implement Calculator Tool  React agent   \n",
       "1          2                    Implement Search and Code tools  React agent   \n",
       "2          3                Integrate Whisper Audio Transcriber  React agent   \n",
       "3          4                                      Test Workflow  React agent   \n",
       "4          5                     Integrate Text processing tool  React agent   \n",
       "5          6                        Integrate Text Handler tool  React agent   \n",
       "6          7  Evaluate Agent Performance against tasks with ...  React agent   \n",
       "7          8  Test Agent performance against tasks with atta...  React agent   \n",
       "\n",
       "                                               tools  accuracy  \n",
       "0                                          Aritmetic      0.00  \n",
       "1                            Aritmetic, Search, Code      0.17  \n",
       "2         Aritmetic, Search, Code, Audio Transcriber      0.15  \n",
       "3       Aritmetic, Search, Code, Audio Transcriber,       0.20  \n",
       "4  Aritmetic, Search, Code, Audio Transcriber, , ...      0.10  \n",
       "5  Aritmetic, Search, Code, Audio Transcriber, , ...      0.20  \n",
       "6  Aritmetic, Search, Code, Audio Transcriber, , ...       NaN  \n",
       "7  Aritmetic, Search, Code, Audio Transcriber, , ...      0.00  "
      ]
     },
     "execution_count": 19,
     "metadata": {},
     "output_type": "execute_result"
    }
   ],
   "source": [
    "updated_experiments_data"
   ]
  },
  {
   "cell_type": "markdown",
   "id": "f705469a",
   "metadata": {},
   "source": [
    "### Evaluation Summary\n",
    "\n"
   ]
  },
  {
   "cell_type": "code",
   "execution_count": 20,
   "id": "71648634",
   "metadata": {},
   "outputs": [],
   "source": [
    "good_responses = results_df[results_df[\"is_correct\"] == 1].copy()\n",
    "good_extensions = (\n",
    "    good_responses[\"file_path\"]\n",
    "    .fillna(\"No files\")\n",
    "    .apply(lambda row: row.split(\".\")[-1] if \".\" in row else \"No files\")\n",
    "    .unique()\n",
    ")\n",
    "good_file_management = \", \".join(sorted(good_extensions))\n",
    "\n",
    "bad_responses = results_df[results_df[\"is_correct\"] == 0].copy()\n",
    "bad_extensions = (\n",
    "    bad_responses[\"file_path\"]\n",
    "    .fillna(\"No files\")\n",
    "    .apply(lambda row: row.split(\".\")[-1] if \".\" in row else \"No files\")\n",
    "    .unique()\n",
    ")\n",
    "bad_file_management = \", \".join(sorted(bad_extensions))\n",
    "\n",
    "performance_no_attached = results_df[results_df[\"file_path\"].apply(lambda row: len(row))==0][\"is_correct\"].mean()"
   ]
  },
  {
   "cell_type": "code",
   "execution_count": 21,
   "id": "1d29a298",
   "metadata": {},
   "outputs": [
    {
     "name": "stdout",
     "output_type": "stream",
     "text": [
      "Insights\n",
      "\n",
      " -------------------------------------------------- \n",
      "\n",
      "1. The Agent has an overall accuracy of 0.0%\n",
      "2. The Agent succeded at questions with the following files types:  (0/1) \n",
      "3. The Agent failed at questions with the following files types: txt (1/1) \n",
      "4. The Agent has an Accuracy of nan% at tasks with no attached files\n"
     ]
    }
   ],
   "source": [
    "print(\n",
    "    \"Insights\\n\\n\",\n",
    "    \"-\" * 50,\n",
    "    f\"\\n\\n1. The Agent has an overall accuracy of {100 * accuracy:.1f}%\"\n",
    "    f\"\\n2. The Agent succeded at questions with the following files types: {good_file_management} ({good_responses.is_correct.shape[0]}/{results_df.shape[0]})\",\n",
    "    f\"\\n3. The Agent failed at questions with the following files types: {bad_file_management} ({bad_responses.is_correct.shape[0]}/{results_df.shape[0]})\",\n",
    "    f\"\\n4. The Agent has an Accuracy of {100 * performance_no_attached:.1f}% at tasks with no attached files\"\n",
    ")"
   ]
  },
  {
   "cell_type": "markdown",
   "id": "c4c9f4ff",
   "metadata": {},
   "source": [
    "Conclusions\n",
    "\n",
    "1. The Agent has a 0% of accuracy. Showing poor performance at tasks with attached .txt files\n",
    "4. Reasoning task has a big margin of improvement (0% of success on reasoning tasks). There are some questions that ask for watching internet videos, so it might be necessary to implement tools to adress this kind of tasks\n",
    "\n",
    "Next steps\n",
    "\n",
    "1. Build tools to deal with .png, .pptx, .py .xlsx files\n",
    "2. Investigate improvements for pure-resoning tasks\n",
    "3. Build tools to enable the agent watch / process youtube videos"
   ]
  },
  {
   "cell_type": "markdown",
   "id": "9e69ee21",
   "metadata": {},
   "source": [
    "\n",
    "### Main Questions to solve\n",
    "\n",
    "$\\square$ Which are the core tools for each level of questions \n",
    "  - Level 1:\n",
    "  - Level 2:\n",
    "  - Level 3:\n",
    "\n"
   ]
  }
 ],
 "metadata": {
  "kernelspec": {
   "display_name": "chappie-CHLGiFC_-py3.12",
   "language": "python",
   "name": "python3"
  },
  "language_info": {
   "codemirror_mode": {
    "name": "ipython",
    "version": 3
   },
   "file_extension": ".py",
   "mimetype": "text/x-python",
   "name": "python",
   "nbconvert_exporter": "python",
   "pygments_lexer": "ipython3",
   "version": "3.12.3"
  }
 },
 "nbformat": 4,
 "nbformat_minor": 5
}
