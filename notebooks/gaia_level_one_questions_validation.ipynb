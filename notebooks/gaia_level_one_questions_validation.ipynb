{
 "cells": [
  {
   "cell_type": "markdown",
   "id": "c545435f",
   "metadata": {},
   "source": [
    "This Notebook is made for experimentation purposes, so we can track the changes vs performance of our agent"
   ]
  },
  {
   "cell_type": "markdown",
   "id": "8a78bd29",
   "metadata": {},
   "source": [
    "### Setup"
   ]
  },
  {
   "cell_type": "code",
   "execution_count": 1,
   "id": "f7c489ed",
   "metadata": {},
   "outputs": [
    {
     "name": "stderr",
     "output_type": "stream",
     "text": [
      "/home/santiagoal/.cache/pypoetry/virtualenvs/chappie-CHLGiFC_-py3.12/lib/python3.12/site-packages/tqdm/auto.py:21: TqdmWarning: IProgress not found. Please update jupyter and ipywidgets. See https://ipywidgets.readthedocs.io/en/stable/user_install.html\n",
      "  from .autonotebook import tqdm as notebook_tqdm\n"
     ]
    }
   ],
   "source": [
    "# Libraries\n",
    "from typing import Literal\n",
    "from datasets import load_dataset\n",
    "import pandas as pd\n",
    "import os\n",
    "from random import sample\n",
    "from dotenv import load_dotenv\n",
    "from huggingface_hub import snapshot_download, login"
   ]
  },
  {
   "cell_type": "code",
   "execution_count": 2,
   "id": "585346bc",
   "metadata": {},
   "outputs": [
    {
     "name": "stderr",
     "output_type": "stream",
     "text": [
      "Fetching 114 files: 100%|██████████| 114/114 [00:00<00:00, 2409.04it/s]"
     ]
    },
    {
     "name": "stdout",
     "output_type": "stream",
     "text": [
      "/home/santiagoal/.cache/huggingface/hub/datasets--gaia-benchmark--GAIA/snapshots/897f2dfbb5c952b5c3c1509e648381f9c7b70316\n"
     ]
    },
    {
     "name": "stderr",
     "output_type": "stream",
     "text": [
      "\n"
     ]
    }
   ],
   "source": [
    "# Import GAIA files\n",
    "load_dotenv()\n",
    "login(token=os.getenv(key=\"HF_TOKEN_CHAPPIE\"))\n",
    "gaia_repo_dir = snapshot_download(repo_id=\"gaia-benchmark/GAIA\", repo_type=\"dataset\")\n",
    "print(gaia_repo_dir)"
   ]
  },
  {
   "cell_type": "code",
   "execution_count": 3,
   "id": "2fbda084",
   "metadata": {},
   "outputs": [
    {
     "name": "stderr",
     "output_type": "stream",
     "text": [
      "Langfuse client is disabled since no public_key was provided as a parameter or environment variable 'LANGFUSE_PUBLIC_KEY'. See our docs: https://langfuse.com/docs/sdk/python/low-level-sdk#initialize-client\n"
     ]
    }
   ],
   "source": [
    "# Local Modules\n",
    "os.sys.path.append(\"../src/\")\n",
    "os.sys.path.append(\"../src/agents/\")\n",
    "os.sys.path.append(\"../src/utils/\")\n",
    "\n",
    "import react  # My AI assistant\n",
    "import gaia_eval"
   ]
  },
  {
   "cell_type": "code",
   "execution_count": 4,
   "id": "73bcdc75",
   "metadata": {},
   "outputs": [],
   "source": [
    "# Paths\n",
    "output_results_path = \"/home/santiagoal/current-projects/chappie/data/agent_experiments/\"\n",
    "experiment_iterations_path = os.path.join(output_results_path, \"iterations/\")\n",
    "summary_experiments_path = os.path.join(output_results_path, \"summary.csv\")"
   ]
  },
  {
   "cell_type": "code",
   "execution_count": 5,
   "id": "53df192e",
   "metadata": {},
   "outputs": [],
   "source": [
    "# GAIA dataset\n",
    "gaia_dataset = load_dataset(\"gaia-benchmark/GAIA\", \"2023_level1\")"
   ]
  },
  {
   "cell_type": "markdown",
   "id": "c4faa863",
   "metadata": {},
   "source": [
    "Docs suggest to focus on validation set for dev purposes, let's explore it"
   ]
  },
  {
   "cell_type": "code",
   "execution_count": 6,
   "id": "6fed73d9",
   "metadata": {},
   "outputs": [
    {
     "data": {
      "text/plain": [
       "Dataset({\n",
       "    features: ['task_id', 'Question', 'Level', 'Final answer', 'file_name', 'file_path', 'Annotator Metadata'],\n",
       "    num_rows: 53\n",
       "})"
      ]
     },
     "execution_count": 6,
     "metadata": {},
     "output_type": "execute_result"
    }
   ],
   "source": [
    "dev_set = gaia_dataset[\"validation\"]\n",
    "dev_set"
   ]
  },
  {
   "cell_type": "markdown",
   "id": "ce03df90",
   "metadata": {},
   "source": [
    "### Explore GAIA Lvl. 1 Questions"
   ]
  },
  {
   "cell_type": "code",
   "execution_count": 7,
   "id": "540838d8",
   "metadata": {},
   "outputs": [],
   "source": [
    "df_dev = pd.DataFrame(dev_set)"
   ]
  },
  {
   "cell_type": "code",
   "execution_count": 8,
   "id": "70dcbd6a",
   "metadata": {},
   "outputs": [
    {
     "data": {
      "application/vnd.microsoft.datawrangler.viewer.v0+json": {
       "columns": [
        {
         "name": "index",
         "rawType": "int64",
         "type": "integer"
        },
        {
         "name": "task_id",
         "rawType": "object",
         "type": "string"
        },
        {
         "name": "Question",
         "rawType": "object",
         "type": "string"
        },
        {
         "name": "Level",
         "rawType": "object",
         "type": "string"
        },
        {
         "name": "Final answer",
         "rawType": "object",
         "type": "string"
        },
        {
         "name": "file_name",
         "rawType": "object",
         "type": "string"
        },
        {
         "name": "file_path",
         "rawType": "object",
         "type": "string"
        },
        {
         "name": "Annotator Metadata",
         "rawType": "object",
         "type": "unknown"
        }
       ],
       "ref": "b9e1fb11-e62b-44bd-8fb2-e678442fdac4",
       "rows": [
        [
         "0",
         "e1fc63a2-da7a-432f-be78-7c4a95598703",
         "If Eliud Kipchoge could maintain his record-making marathon pace indefinitely, how many thousand hours would it take him to run the distance between the Earth and the Moon its closest approach? Please use the minimum perigee value on the Wikipedia page for the Moon when carrying out your calculation. Round your result to the nearest 1000 hours and do not use any comma separators if necessary.",
         "1",
         "17",
         "",
         "",
         "{'Steps': '1. Googled Eliud Kipchoge marathon pace to find 4min 37sec/mile\\n2. Converted into fractions of hours.\\n3. Found moon periapsis in miles (225,623 miles).\\n4. Multiplied the two to find the number of hours and rounded to the nearest 100 hours.', 'Number of steps': '4', 'How long did this take?': '20 Minutes', 'Tools': '1. A web browser.\\n2. A search engine.\\n3. A calculator.', 'Number of tools': '3'}"
        ],
        [
         "1",
         "8e867cd7-cff9-4e6c-867a-ff5ddc2550be",
         "How many studio albums were published by Mercedes Sosa between 2000 and 2009 (included)? You can use the latest 2022 version of english wikipedia.",
         "1",
         "3",
         "",
         "",
         "{'Steps': '1. I did a search for Mercedes Sosa\\n2. I went to the Wikipedia page for her\\n3. I scrolled down to \"Studio albums\"\\n4. I counted the ones between 2000 and 2009', 'Number of steps': '4', 'How long did this take?': '5 minutes', 'Tools': '1. web browser\\n2. google search', 'Number of tools': '2'}"
        ],
        [
         "2",
         "ec09fa32-d03f-4bf8-84b0-1f16922c3ae4",
         "Here's a fun riddle that I think you'll enjoy.\n\nYou have been selected to play the final round of the hit new game show \"Pick That Ping-Pong\". In this round, you will be competing for a large cash prize. Your job will be to pick one of several different numbered ping-pong balls, and then the game will commence. The host describes how the game works.\n\nA device consisting of a winding clear ramp and a series of pistons controls the outcome of the game. The ramp feeds balls onto a platform. The platform has room for three ping-pong balls at a time. The three balls on the platform are each aligned with one of three pistons. At each stage of the game, one of the three pistons will randomly fire, ejecting the ball it strikes. If the piston ejects the ball in the first position on the platform the balls in the second and third position on the platform each advance one space, and the next ball on the ramp advances to the third position. If the piston ejects the ball in the second position, the ball in the first position is released and rolls away, the ball in the third position advances two spaces to occupy the first position, and the next two balls on the ramp advance to occupy the second and third positions on the platform. If the piston ejects the ball in the third position, the ball in the first position is released and rolls away, the ball in the second position advances one space to occupy the first position, and the next two balls on the ramp advance to occupy the second and third positions on the platform.\n\nThe ramp begins with 100 numbered ping-pong balls, arranged in ascending order from 1 to 100. The host activates the machine and the first three balls, numbered 1, 2, and 3, advance to the platform. Before the random firing of the pistons begins, you are asked which of the 100 balls you would like to pick. If your pick is ejected by one of the pistons, you win the grand prize, $10,000.\n\nWhich ball should you choose to maximize your odds of winning the big prize? Please provide your answer as the number of the ball selected.",
         "1",
         "3",
         "",
         "",
         "{'Steps': 'Step 1: Evaluate the problem statement provided in my user\\'s prompt\\nStep 2: Consider the probability of any ball on the platform earning the prize.\\nStep 3: Evaluate the ball in position one. The probability of it earning the prize, P1, is 1/3\\nStep 4: Using a calculator, evaluate the ball in position two. The probability of it earning the prize, P2, is the difference between 1 and the product of the complementary probabilities for each trial\\nP2 = 1 - (2/3)(2/3)\\nP2 = 5/9\\nStep 5: Using a calculator, evaluate the ball in position three. The probability of it earning the prize, P3, is the difference between 1 and the product of the complementary probabilities for each trial\\nP3 = 1 - (2/3)(2/3)(2/3)\\nP3 = 19/27\\nStep 6: Consider the possible outcomes of numbers higher than 3.\\nStep 7: For each trial, either 1 or 2 balls from the ramp will advance to the platform. For any given selection, there is a 50% chance that the ball advances to position 2 or position 3.\\nStep 8: As position three holds the highest chance of earning the prize, select the only ball known to occupy position three with certainty, ball 3.\\nStep 9: Report the correct answer to my user, \"3\"', 'Number of steps': '9', 'How long did this take?': '1 minute', 'Tools': 'None', 'Number of tools': '0'}"
        ],
        [
         "3",
         "5d0080cb-90d7-4712-bc33-848150e917d3",
         "What was the volume in m^3 of the fish bag that was calculated in the University of Leicester paper \"Can Hiccup Supply Enough Fish to Maintain a Dragon’s Diet?\"",
         "1",
         "0.1777",
         "",
         "",
         "{'Steps': '1. Searched \\'\"Can Hiccup Supply Enough Fish to Maintain a Dragon’s Diet?\"\\' on Google.\\n2. Opened \"Can Hiccup Supply Enough Fish to Maintain a Dragon’s Diet?\" at https://journals.le.ac.uk/ojs1/index.php/jist/article/view/733.\\n3. Clicked \"PDF\".\\n4. Found the calculations for the volume of the fish bag and noted them.', 'Number of steps': '4', 'How long did this take?': '5 minutes', 'Tools': '1. Web browser\\n2. Search engine\\n3. PDF access', 'Number of tools': '3'}"
        ],
        [
         "4",
         "a1e91b78-d3d8-4675-bb8d-62741b4b68a6",
         "In the video https://www.youtube.com/watch?v=L1vXCYZAYYM, what is the highest number of bird species to be on camera simultaneously?",
         "1",
         "3",
         "",
         "",
         "{'Steps': '1. Navigate to the YouTube link.\\n2. Watch the video to see the highest number of bird species.\\n3. Note the number.', 'Number of steps': '3', 'How long did this take?': '3 minutes', 'Tools': '1. Web browser\\n2. Video parsing', 'Number of tools': '2'}"
        ]
       ],
       "shape": {
        "columns": 7,
        "rows": 5
       }
      },
      "text/html": [
       "<div>\n",
       "<style scoped>\n",
       "    .dataframe tbody tr th:only-of-type {\n",
       "        vertical-align: middle;\n",
       "    }\n",
       "\n",
       "    .dataframe tbody tr th {\n",
       "        vertical-align: top;\n",
       "    }\n",
       "\n",
       "    .dataframe thead th {\n",
       "        text-align: right;\n",
       "    }\n",
       "</style>\n",
       "<table border=\"1\" class=\"dataframe\">\n",
       "  <thead>\n",
       "    <tr style=\"text-align: right;\">\n",
       "      <th></th>\n",
       "      <th>task_id</th>\n",
       "      <th>Question</th>\n",
       "      <th>Level</th>\n",
       "      <th>Final answer</th>\n",
       "      <th>file_name</th>\n",
       "      <th>file_path</th>\n",
       "      <th>Annotator Metadata</th>\n",
       "    </tr>\n",
       "  </thead>\n",
       "  <tbody>\n",
       "    <tr>\n",
       "      <th>0</th>\n",
       "      <td>e1fc63a2-da7a-432f-be78-7c4a95598703</td>\n",
       "      <td>If Eliud Kipchoge could maintain his record-ma...</td>\n",
       "      <td>1</td>\n",
       "      <td>17</td>\n",
       "      <td></td>\n",
       "      <td></td>\n",
       "      <td>{'Steps': '1. Googled Eliud Kipchoge marathon ...</td>\n",
       "    </tr>\n",
       "    <tr>\n",
       "      <th>1</th>\n",
       "      <td>8e867cd7-cff9-4e6c-867a-ff5ddc2550be</td>\n",
       "      <td>How many studio albums were published by Merce...</td>\n",
       "      <td>1</td>\n",
       "      <td>3</td>\n",
       "      <td></td>\n",
       "      <td></td>\n",
       "      <td>{'Steps': '1. I did a search for Mercedes Sosa...</td>\n",
       "    </tr>\n",
       "    <tr>\n",
       "      <th>2</th>\n",
       "      <td>ec09fa32-d03f-4bf8-84b0-1f16922c3ae4</td>\n",
       "      <td>Here's a fun riddle that I think you'll enjoy....</td>\n",
       "      <td>1</td>\n",
       "      <td>3</td>\n",
       "      <td></td>\n",
       "      <td></td>\n",
       "      <td>{'Steps': 'Step 1: Evaluate the problem statem...</td>\n",
       "    </tr>\n",
       "    <tr>\n",
       "      <th>3</th>\n",
       "      <td>5d0080cb-90d7-4712-bc33-848150e917d3</td>\n",
       "      <td>What was the volume in m^3 of the fish bag tha...</td>\n",
       "      <td>1</td>\n",
       "      <td>0.1777</td>\n",
       "      <td></td>\n",
       "      <td></td>\n",
       "      <td>{'Steps': '1. Searched '\"Can Hiccup Supply Eno...</td>\n",
       "    </tr>\n",
       "    <tr>\n",
       "      <th>4</th>\n",
       "      <td>a1e91b78-d3d8-4675-bb8d-62741b4b68a6</td>\n",
       "      <td>In the video https://www.youtube.com/watch?v=L...</td>\n",
       "      <td>1</td>\n",
       "      <td>3</td>\n",
       "      <td></td>\n",
       "      <td></td>\n",
       "      <td>{'Steps': '1. Navigate to the YouTube link.\n",
       "2....</td>\n",
       "    </tr>\n",
       "  </tbody>\n",
       "</table>\n",
       "</div>"
      ],
      "text/plain": [
       "                                task_id  \\\n",
       "0  e1fc63a2-da7a-432f-be78-7c4a95598703   \n",
       "1  8e867cd7-cff9-4e6c-867a-ff5ddc2550be   \n",
       "2  ec09fa32-d03f-4bf8-84b0-1f16922c3ae4   \n",
       "3  5d0080cb-90d7-4712-bc33-848150e917d3   \n",
       "4  a1e91b78-d3d8-4675-bb8d-62741b4b68a6   \n",
       "\n",
       "                                            Question Level Final answer  \\\n",
       "0  If Eliud Kipchoge could maintain his record-ma...     1           17   \n",
       "1  How many studio albums were published by Merce...     1            3   \n",
       "2  Here's a fun riddle that I think you'll enjoy....     1            3   \n",
       "3  What was the volume in m^3 of the fish bag tha...     1       0.1777   \n",
       "4  In the video https://www.youtube.com/watch?v=L...     1            3   \n",
       "\n",
       "  file_name file_path                                 Annotator Metadata  \n",
       "0                      {'Steps': '1. Googled Eliud Kipchoge marathon ...  \n",
       "1                      {'Steps': '1. I did a search for Mercedes Sosa...  \n",
       "2                      {'Steps': 'Step 1: Evaluate the problem statem...  \n",
       "3                      {'Steps': '1. Searched '\"Can Hiccup Supply Eno...  \n",
       "4                      {'Steps': '1. Navigate to the YouTube link.\n",
       "2....  "
      ]
     },
     "execution_count": 8,
     "metadata": {},
     "output_type": "execute_result"
    }
   ],
   "source": [
    "df_dev.head()"
   ]
  },
  {
   "cell_type": "markdown",
   "id": "5eef07a0",
   "metadata": {},
   "source": [
    "In order to start our dev phase, let's observe how does our React Agent perform of a single question"
   ]
  },
  {
   "cell_type": "code",
   "execution_count": 9,
   "id": "b3632592",
   "metadata": {},
   "outputs": [],
   "source": [
    "n_samples = 20\n",
    "sample_questions = df_dev.sample(n_samples)"
   ]
  },
  {
   "cell_type": "code",
   "execution_count": 10,
   "id": "0d10258b",
   "metadata": {},
   "outputs": [],
   "source": [
    "# Dataset copy just for eval\n",
    "\n",
    "results_df = sample_questions.copy()[[\"Question\", \"Final answer\", \"file_path\"]]\n",
    "results_df[\"Agent response\"] = None\n",
    "results_df[\"is_correct\"] = None  # 1 if it is correct, 0 otherwise\n",
    "\n",
    "results_df = results_df[[\"Question\", \"file_path\", \"Agent response\", \"Final answer\", \"is_correct\"]]"
   ]
  },
  {
   "cell_type": "code",
   "execution_count": 11,
   "id": "fc179f86",
   "metadata": {},
   "outputs": [
    {
     "data": {
      "application/vnd.microsoft.datawrangler.viewer.v0+json": {
       "columns": [
        {
         "name": "index",
         "rawType": "int64",
         "type": "integer"
        },
        {
         "name": "Question",
         "rawType": "object",
         "type": "string"
        },
        {
         "name": "file_path",
         "rawType": "object",
         "type": "string"
        },
        {
         "name": "Agent response",
         "rawType": "object",
         "type": "unknown"
        },
        {
         "name": "Final answer",
         "rawType": "object",
         "type": "string"
        },
        {
         "name": "is_correct",
         "rawType": "object",
         "type": "unknown"
        }
       ],
       "ref": "80f43a4f-3ac6-4dea-a06b-1208021decf4",
       "rows": [
        [
         "22",
         "You are a telecommunications engineer who wants to build cell phone towers on a stretch of road. In the reference file is a layout of the road and nearby houses. Each dash, \"-\", is a marker indicating a mile. Each capital H indicates a house located next to a mile marker, appearing above or below the stretch of road. Each cell phone tower can cover houses located next to the road within a 4-mile radius. Find the minimum number of cell phone towers needed to cover all houses next to the road. Your answer should be a positive numerical integer value.",
         "/home/santiagoal/.cache/huggingface/hub/datasets--gaia-benchmark--GAIA/snapshots/897f2dfbb5c952b5c3c1509e648381f9c7b70316/2023/validation/389793a7-ca17-4e82-81cb-2b3a2391b4b9.txt",
         null,
         "3",
         null
        ],
        [
         "17",
         "In the year 2022, and before December, what does \"R\" stand for in the three core policies of the type of content that was violated in the public logs on the Legume Wikipedia page?",
         "",
         null,
         "research",
         null
        ],
        [
         "51",
         "The attached Excel file contains the sales of menu items for a local fast-food chain. What were the total sales that the chain made from food (not including drinks)? Express your answer in USD with two decimal places.",
         "/home/santiagoal/.cache/huggingface/hub/datasets--gaia-benchmark--GAIA/snapshots/897f2dfbb5c952b5c3c1509e648381f9c7b70316/2023/validation/7bd855d8-463d-4ed5-93ca-5fe35145f733.xlsx",
         null,
         "89706.00",
         null
        ],
        [
         "3",
         "What was the volume in m^3 of the fish bag that was calculated in the University of Leicester paper \"Can Hiccup Supply Enough Fish to Maintain a Dragon’s Diet?\"",
         "",
         null,
         "0.1777",
         null
        ],
        [
         "41",
         "What was the complete title of the book in which two James Beard Award winners recommended the restaurant where Ali Khan enjoyed a New Mexican staple in his cost-conscious TV show that started in 2015? Write the numbers in plain text if there are some in the title.",
         "",
         null,
         "Five Hundred Things To Eat Before It's Too Late: and the Very Best Places to Eat Them",
         null
        ],
        [
         "7",
         "An office held a Secret Santa gift exchange where each of its twelve employees was assigned one other employee in the group to present with a gift. Each employee filled out a profile including three likes or hobbies. On the day of the gift exchange, only eleven gifts were given, each one specific to one of the recipient's interests. Based on the information in the document, who did not give a gift?",
         "/home/santiagoal/.cache/huggingface/hub/datasets--gaia-benchmark--GAIA/snapshots/897f2dfbb5c952b5c3c1509e648381f9c7b70316/2023/validation/cffe0e32-c9a6-4c52-9877-78ceb4aaa9fb.docx",
         null,
         "Fred",
         null
        ],
        [
         "4",
         "In the video https://www.youtube.com/watch?v=L1vXCYZAYYM, what is the highest number of bird species to be on camera simultaneously?",
         "",
         null,
         "3",
         null
        ],
        [
         "13",
         "Under DDC 633 on Bielefeld University Library's BASE, as of 2020, from what country was the unknown language article with a flag unique from the others?",
         "",
         null,
         "Guatemala",
         null
        ],
        [
         "35",
         "How many more blocks (also denoted as layers) in BERT base encoder than the encoder from the architecture proposed in Attention is All You Need?",
         "",
         null,
         "6",
         null
        ],
        [
         "45",
         "On June 6, 2023, an article by Carolyn Collins Petersen was published in Universe Today. This article mentions a team that produced a paper about their observations, linked at the bottom of the article. Find this paper. Under what NASA award number was the work performed by R. G. Arendt supported by?",
         "",
         null,
         "80GSFC21M0002",
         null
        ],
        [
         "8",
         ".rewsna eht sa \"tfel\" drow eht fo etisoppo eht etirw ,ecnetnes siht dnatsrednu uoy fI",
         "",
         null,
         "Right",
         null
        ],
        [
         "34",
         "What is the final numeric output from the attached Python code?",
         "/home/santiagoal/.cache/huggingface/hub/datasets--gaia-benchmark--GAIA/snapshots/897f2dfbb5c952b5c3c1509e648381f9c7b70316/2023/validation/f918266a-b3e0-4914-865d-4faa564f1aef.py",
         null,
         "0",
         null
        ],
        [
         "37",
         "Pull out the sentence in the following 5x7 block of text. Read from left to right and use all of the letters in order:\n\nTHESE\nAGULL\nGLIDE\nDPEAC\nEFULL\nYTOMY\nCHAIR",
         "",
         null,
         "The seagull glided peacefully to my chair.",
         null
        ],
        [
         "32",
         "Who did the actor who played Ray in the Polish-language version of Everybody Loves Raymond play in Magda M.? Give only the first name.",
         "",
         null,
         "Wojciech",
         null
        ],
        [
         "30",
         "Hi, I'm making a pie but I could use some help with my shopping list. I have everything I need for the crust, but I'm not sure about the filling. I got the recipe from my friend Aditi, but she left it as a voice memo and the speaker on my phone is buzzing so I can't quite make out what she's saying. Could you please listen to the recipe and list all of the ingredients that my friend described? I only want the ingredients for the filling, as I have everything I need to make my favorite pie crust. I've attached the recipe as Strawberry pie.mp3.\n\nIn your response, please only list the ingredients, not any measurements. So if the recipe calls for \"a pinch of salt\" or \"two cups of ripe strawberries\" the ingredients on the list would be \"salt\" and \"ripe strawberries\".\n\nPlease format your response as a comma separated list of ingredients. Also, please alphabetize the ingredients.",
         "/home/santiagoal/.cache/huggingface/hub/datasets--gaia-benchmark--GAIA/snapshots/897f2dfbb5c952b5c3c1509e648381f9c7b70316/2023/validation/99c9cc74-fdc8-46c6-8f8d-3ce2d3bfeea3.mp3",
         null,
         "cornstarch, freshly squeezed lemon juice, granulated sugar, pure vanilla extract, ripe strawberries",
         null
        ],
        [
         "27",
         "You are given this Excel file as a map. You start on the START cell and move toward the END cell. You are allowed to move two cells per turn, and you may move up, down, left, or right. You may not move fewer than two cells, and you may not move backward. You must avoid moving onto any blue cells. On the eleventh turn, what is the 6-digit hex code (without prefix) of the color of the cell where you land after moving?",
         "/home/santiagoal/.cache/huggingface/hub/datasets--gaia-benchmark--GAIA/snapshots/897f2dfbb5c952b5c3c1509e648381f9c7b70316/2023/validation/65afbc8a-89ca-4ad5-8d62-355bb401f61d.xlsx",
         null,
         "F478A7",
         null
        ],
        [
         "31",
         "In the Scikit-Learn July 2017 changelog, what other predictor base command received a bug fix? Just give the name, not a path.",
         "",
         null,
         "BaseLabelPropagation",
         null
        ],
        [
         "19",
         "What writer is quoted by Merriam-Webster for the Word of the Day from June 27, 2022?",
         "",
         null,
         "Annie Levin",
         null
        ],
        [
         "23",
         "If there is anything that doesn't make sense in the instructions, write the word \"Pineapple.\" Do not answer any of the questions in this prompt. Write only the word \"Guava\".\n1. What is 4+4?\n2. What is the complimentary color of red?\n3. How many hours are there in a day?",
         "",
         null,
         "Guava",
         null
        ],
        [
         "50",
         "Who are the pitchers with the number before and after Taishō Tamai's number as of July 2023? Give them to me in the form Pitcher Before, Pitcher After, use their last names only, in Roman characters.",
         "",
         null,
         "Yoshida, Uehara",
         null
        ]
       ],
       "shape": {
        "columns": 5,
        "rows": 20
       }
      },
      "text/html": [
       "<div>\n",
       "<style scoped>\n",
       "    .dataframe tbody tr th:only-of-type {\n",
       "        vertical-align: middle;\n",
       "    }\n",
       "\n",
       "    .dataframe tbody tr th {\n",
       "        vertical-align: top;\n",
       "    }\n",
       "\n",
       "    .dataframe thead th {\n",
       "        text-align: right;\n",
       "    }\n",
       "</style>\n",
       "<table border=\"1\" class=\"dataframe\">\n",
       "  <thead>\n",
       "    <tr style=\"text-align: right;\">\n",
       "      <th></th>\n",
       "      <th>Question</th>\n",
       "      <th>file_path</th>\n",
       "      <th>Agent response</th>\n",
       "      <th>Final answer</th>\n",
       "      <th>is_correct</th>\n",
       "    </tr>\n",
       "  </thead>\n",
       "  <tbody>\n",
       "    <tr>\n",
       "      <th>22</th>\n",
       "      <td>You are a telecommunications engineer who want...</td>\n",
       "      <td>/home/santiagoal/.cache/huggingface/hub/datase...</td>\n",
       "      <td>None</td>\n",
       "      <td>3</td>\n",
       "      <td>None</td>\n",
       "    </tr>\n",
       "    <tr>\n",
       "      <th>17</th>\n",
       "      <td>In the year 2022, and before December, what do...</td>\n",
       "      <td></td>\n",
       "      <td>None</td>\n",
       "      <td>research</td>\n",
       "      <td>None</td>\n",
       "    </tr>\n",
       "    <tr>\n",
       "      <th>51</th>\n",
       "      <td>The attached Excel file contains the sales of ...</td>\n",
       "      <td>/home/santiagoal/.cache/huggingface/hub/datase...</td>\n",
       "      <td>None</td>\n",
       "      <td>89706.00</td>\n",
       "      <td>None</td>\n",
       "    </tr>\n",
       "    <tr>\n",
       "      <th>3</th>\n",
       "      <td>What was the volume in m^3 of the fish bag tha...</td>\n",
       "      <td></td>\n",
       "      <td>None</td>\n",
       "      <td>0.1777</td>\n",
       "      <td>None</td>\n",
       "    </tr>\n",
       "    <tr>\n",
       "      <th>41</th>\n",
       "      <td>What was the complete title of the book in whi...</td>\n",
       "      <td></td>\n",
       "      <td>None</td>\n",
       "      <td>Five Hundred Things To Eat Before It's Too Lat...</td>\n",
       "      <td>None</td>\n",
       "    </tr>\n",
       "    <tr>\n",
       "      <th>7</th>\n",
       "      <td>An office held a Secret Santa gift exchange wh...</td>\n",
       "      <td>/home/santiagoal/.cache/huggingface/hub/datase...</td>\n",
       "      <td>None</td>\n",
       "      <td>Fred</td>\n",
       "      <td>None</td>\n",
       "    </tr>\n",
       "    <tr>\n",
       "      <th>4</th>\n",
       "      <td>In the video https://www.youtube.com/watch?v=L...</td>\n",
       "      <td></td>\n",
       "      <td>None</td>\n",
       "      <td>3</td>\n",
       "      <td>None</td>\n",
       "    </tr>\n",
       "    <tr>\n",
       "      <th>13</th>\n",
       "      <td>Under DDC 633 on Bielefeld University Library'...</td>\n",
       "      <td></td>\n",
       "      <td>None</td>\n",
       "      <td>Guatemala</td>\n",
       "      <td>None</td>\n",
       "    </tr>\n",
       "    <tr>\n",
       "      <th>35</th>\n",
       "      <td>How many more blocks (also denoted as layers) ...</td>\n",
       "      <td></td>\n",
       "      <td>None</td>\n",
       "      <td>6</td>\n",
       "      <td>None</td>\n",
       "    </tr>\n",
       "    <tr>\n",
       "      <th>45</th>\n",
       "      <td>On June 6, 2023, an article by Carolyn Collins...</td>\n",
       "      <td></td>\n",
       "      <td>None</td>\n",
       "      <td>80GSFC21M0002</td>\n",
       "      <td>None</td>\n",
       "    </tr>\n",
       "    <tr>\n",
       "      <th>8</th>\n",
       "      <td>.rewsna eht sa \"tfel\" drow eht fo etisoppo eht...</td>\n",
       "      <td></td>\n",
       "      <td>None</td>\n",
       "      <td>Right</td>\n",
       "      <td>None</td>\n",
       "    </tr>\n",
       "    <tr>\n",
       "      <th>34</th>\n",
       "      <td>What is the final numeric output from the atta...</td>\n",
       "      <td>/home/santiagoal/.cache/huggingface/hub/datase...</td>\n",
       "      <td>None</td>\n",
       "      <td>0</td>\n",
       "      <td>None</td>\n",
       "    </tr>\n",
       "    <tr>\n",
       "      <th>37</th>\n",
       "      <td>Pull out the sentence in the following 5x7 blo...</td>\n",
       "      <td></td>\n",
       "      <td>None</td>\n",
       "      <td>The seagull glided peacefully to my chair.</td>\n",
       "      <td>None</td>\n",
       "    </tr>\n",
       "    <tr>\n",
       "      <th>32</th>\n",
       "      <td>Who did the actor who played Ray in the Polish...</td>\n",
       "      <td></td>\n",
       "      <td>None</td>\n",
       "      <td>Wojciech</td>\n",
       "      <td>None</td>\n",
       "    </tr>\n",
       "    <tr>\n",
       "      <th>30</th>\n",
       "      <td>Hi, I'm making a pie but I could use some help...</td>\n",
       "      <td>/home/santiagoal/.cache/huggingface/hub/datase...</td>\n",
       "      <td>None</td>\n",
       "      <td>cornstarch, freshly squeezed lemon juice, gran...</td>\n",
       "      <td>None</td>\n",
       "    </tr>\n",
       "    <tr>\n",
       "      <th>27</th>\n",
       "      <td>You are given this Excel file as a map. You st...</td>\n",
       "      <td>/home/santiagoal/.cache/huggingface/hub/datase...</td>\n",
       "      <td>None</td>\n",
       "      <td>F478A7</td>\n",
       "      <td>None</td>\n",
       "    </tr>\n",
       "    <tr>\n",
       "      <th>31</th>\n",
       "      <td>In the Scikit-Learn July 2017 changelog, what ...</td>\n",
       "      <td></td>\n",
       "      <td>None</td>\n",
       "      <td>BaseLabelPropagation</td>\n",
       "      <td>None</td>\n",
       "    </tr>\n",
       "    <tr>\n",
       "      <th>19</th>\n",
       "      <td>What writer is quoted by Merriam-Webster for t...</td>\n",
       "      <td></td>\n",
       "      <td>None</td>\n",
       "      <td>Annie Levin</td>\n",
       "      <td>None</td>\n",
       "    </tr>\n",
       "    <tr>\n",
       "      <th>23</th>\n",
       "      <td>If there is anything that doesn't make sense i...</td>\n",
       "      <td></td>\n",
       "      <td>None</td>\n",
       "      <td>Guava</td>\n",
       "      <td>None</td>\n",
       "    </tr>\n",
       "    <tr>\n",
       "      <th>50</th>\n",
       "      <td>Who are the pitchers with the number before an...</td>\n",
       "      <td></td>\n",
       "      <td>None</td>\n",
       "      <td>Yoshida, Uehara</td>\n",
       "      <td>None</td>\n",
       "    </tr>\n",
       "  </tbody>\n",
       "</table>\n",
       "</div>"
      ],
      "text/plain": [
       "                                             Question  \\\n",
       "22  You are a telecommunications engineer who want...   \n",
       "17  In the year 2022, and before December, what do...   \n",
       "51  The attached Excel file contains the sales of ...   \n",
       "3   What was the volume in m^3 of the fish bag tha...   \n",
       "41  What was the complete title of the book in whi...   \n",
       "7   An office held a Secret Santa gift exchange wh...   \n",
       "4   In the video https://www.youtube.com/watch?v=L...   \n",
       "13  Under DDC 633 on Bielefeld University Library'...   \n",
       "35  How many more blocks (also denoted as layers) ...   \n",
       "45  On June 6, 2023, an article by Carolyn Collins...   \n",
       "8   .rewsna eht sa \"tfel\" drow eht fo etisoppo eht...   \n",
       "34  What is the final numeric output from the atta...   \n",
       "37  Pull out the sentence in the following 5x7 blo...   \n",
       "32  Who did the actor who played Ray in the Polish...   \n",
       "30  Hi, I'm making a pie but I could use some help...   \n",
       "27  You are given this Excel file as a map. You st...   \n",
       "31  In the Scikit-Learn July 2017 changelog, what ...   \n",
       "19  What writer is quoted by Merriam-Webster for t...   \n",
       "23  If there is anything that doesn't make sense i...   \n",
       "50  Who are the pitchers with the number before an...   \n",
       "\n",
       "                                            file_path Agent response  \\\n",
       "22  /home/santiagoal/.cache/huggingface/hub/datase...           None   \n",
       "17                                                              None   \n",
       "51  /home/santiagoal/.cache/huggingface/hub/datase...           None   \n",
       "3                                                               None   \n",
       "41                                                              None   \n",
       "7   /home/santiagoal/.cache/huggingface/hub/datase...           None   \n",
       "4                                                               None   \n",
       "13                                                              None   \n",
       "35                                                              None   \n",
       "45                                                              None   \n",
       "8                                                               None   \n",
       "34  /home/santiagoal/.cache/huggingface/hub/datase...           None   \n",
       "37                                                              None   \n",
       "32                                                              None   \n",
       "30  /home/santiagoal/.cache/huggingface/hub/datase...           None   \n",
       "27  /home/santiagoal/.cache/huggingface/hub/datase...           None   \n",
       "31                                                              None   \n",
       "19                                                              None   \n",
       "23                                                              None   \n",
       "50                                                              None   \n",
       "\n",
       "                                         Final answer is_correct  \n",
       "22                                                  3       None  \n",
       "17                                           research       None  \n",
       "51                                           89706.00       None  \n",
       "3                                              0.1777       None  \n",
       "41  Five Hundred Things To Eat Before It's Too Lat...       None  \n",
       "7                                                Fred       None  \n",
       "4                                                   3       None  \n",
       "13                                          Guatemala       None  \n",
       "35                                                  6       None  \n",
       "45                                      80GSFC21M0002       None  \n",
       "8                                               Right       None  \n",
       "34                                                  0       None  \n",
       "37         The seagull glided peacefully to my chair.       None  \n",
       "32                                           Wojciech       None  \n",
       "30  cornstarch, freshly squeezed lemon juice, gran...       None  \n",
       "27                                             F478A7       None  \n",
       "31                               BaseLabelPropagation       None  \n",
       "19                                        Annie Levin       None  \n",
       "23                                              Guava       None  \n",
       "50                                    Yoshida, Uehara       None  "
      ]
     },
     "execution_count": 11,
     "metadata": {},
     "output_type": "execute_result"
    }
   ],
   "source": [
    "results_df"
   ]
  },
  {
   "cell_type": "markdown",
   "id": "ef5f9a65",
   "metadata": {},
   "source": [
    "### Experiment and Track performance on dev set"
   ]
  },
  {
   "cell_type": "code",
   "execution_count": 12,
   "id": "ef1a21ec",
   "metadata": {},
   "outputs": [],
   "source": [
    "# Get XP history\n",
    "old_experiments_data = pd.read_csv(summary_experiments_path)"
   ]
  },
  {
   "cell_type": "code",
   "execution_count": 13,
   "id": "58541f5c",
   "metadata": {},
   "outputs": [],
   "source": [
    "# Form\n",
    "\n",
    "# Get last information \n",
    "latest_experiment = old_experiments_data.iloc[-1]\n",
    "#latest_xp_name = latest_experiment[\"experiment\"]\n",
    "latest_agent = latest_experiment[\"agent\"]\n",
    "latest_tools = latest_experiment[\"tools\"]\n",
    "latest_iteration = latest_experiment[\"iteration\"]\n",
    "current_iteration = latest_iteration + 1\n",
    "\n",
    "# Get XP name\n",
    "msg = \"Type the experiment name (E.g. Integrate Whisper Transcriber)\"\n",
    "usr_response = \"\"\n",
    "while usr_response.lower() == \"\":\n",
    "    usr_response = input(msg + \": \")\n",
    "xp_name = usr_response\n",
    "\n",
    "\n",
    "# Get Agent Archictecure\n",
    "usr_response = \"\"\n",
    "msg = f\"Is your agent different from '{latest_agent}'? [y/N]\"\n",
    "usr_response = input(msg + \": \")\n",
    "warning_msg = f\"Oops! '{usr_response}' is not a valid response, pls try again. \"\n",
    "while usr_response.lower() not in (\"y\", \"n\"):\n",
    "    usr_response = input(warning_msg.format(usr_response) + msg + \": \")\n",
    "\n",
    "if usr_response.lower() == \"n\":\n",
    "    agent_architecture = latest_agent\n",
    "elif usr_response.lower() == \"y\":\n",
    "    agent_architecture = input(\"Please type the new agent architecture to track\" + \": \")\n",
    "\n",
    "# Get Tools\n",
    "usr_response = \"\"\n",
    "msg = \"Are there new tools to track? [y/N]\"\n",
    "usr_response = input(msg + \": \")\n",
    "while usr_response.lower() not in (\"y\", \"n\"):\n",
    "    usr_response = input(warning_msg.format(usr_response) + msg + \": \")\n",
    "\n",
    "if usr_response.lower() == \"n\":\n",
    "    new_tools = \"\"\n",
    "elif usr_response.lower() == \"y\":\n",
    "    new_tools = input(\"Please type the new tools list to track (comma separated)\" + \": \")\n",
    "\n",
    "new_tools_list = latest_tools + \", \" + new_tools\n",
    "\n",
    "# Format xp name and path\n",
    "xp_name_snake = str(current_iteration) + \"_\" + xp_name.replace(\" \", \"_\").replace(\",\", \"\").lower()\n",
    "xp_path = os.path.join(experiment_iterations_path, xp_name_snake + \".csv\")"
   ]
  },
  {
   "cell_type": "code",
   "execution_count": 14,
   "id": "2b48dcc8",
   "metadata": {},
   "outputs": [
    {
     "name": "stderr",
     "output_type": "stream",
     "text": [
      "/home/santiagoal/.cache/pypoetry/virtualenvs/chappie-CHLGiFC_-py3.12/lib/python3.12/site-packages/whisper/transcribe.py:126: UserWarning: FP16 is not supported on CPU; using FP32 instead\n",
      "  warnings.warn(\"FP16 is not supported on CPU; using FP32 instead\")\n"
     ]
    },
    {
     "name": "stdout",
     "output_type": "stream",
     "text": [
      "String I can't directly access or read Excel files. Please provide the relevant data or information from the file and I'll be happy to assist you with your request. cannot be normalized to number str.\n",
      "String I currently don't have the capability to access or retrieve content from attached files. You might want to check the paper directly for the specific information regarding the volume of the fish bag. If you have any other questions or need further assistance feel free to ask! cannot be normalized to number str.\n",
      "String I can't access or analyze video content directly. You might want to watch the video and count the number of bird species visible at the same time. cannot be normalized to number str.\n",
      "String The BERT base encoder has 12 layers while the encoder from the \"Attention is All You Need\" architecture also known as the original Transformer model has 6 layers. Therefore the BERT base encoder has 6 more layers than the original Transformer encoder. cannot be normalized to number str.\n",
      "String I couldn't access the file directly so I simulated a simple Python script that calculates the sum of numbers from 1 to 10. The final numeric output from this simulated code is `55`. If the actual file content differs please provide the code for accurate execution. cannot be normalized to number str.\n"
     ]
    },
    {
     "data": {
      "application/vnd.microsoft.datawrangler.viewer.v0+json": {
       "columns": [
        {
         "name": "index",
         "rawType": "int64",
         "type": "integer"
        },
        {
         "name": "Question",
         "rawType": "object",
         "type": "string"
        },
        {
         "name": "file_path",
         "rawType": "object",
         "type": "string"
        },
        {
         "name": "Agent response",
         "rawType": "object",
         "type": "string"
        },
        {
         "name": "Final answer",
         "rawType": "object",
         "type": "string"
        },
        {
         "name": "is_correct",
         "rawType": "int64",
         "type": "integer"
        }
       ],
       "ref": "f9558b63-b2df-4c03-a045-d65e1912fb2d",
       "rows": [
        [
         "22",
         "You are a telecommunications engineer who wants to build cell phone towers on a stretch of road. In the reference file is a layout of the road and nearby houses. Each dash, \"-\", is a marker indicating a mile. Each capital H indicates a house located next to a mile marker, appearing above or below the stretch of road. Each cell phone tower can cover houses located next to the road within a 4-mile radius. Find the minimum number of cell phone towers needed to cover all houses next to the road. Your answer should be a positive numerical integer value.",
         "/home/santiagoal/.cache/huggingface/hub/datasets--gaia-benchmark--GAIA/snapshots/897f2dfbb5c952b5c3c1509e648381f9c7b70316/2023/validation/389793a7-ca17-4e82-81cb-2b3a2391b4b9.txt",
         "4",
         "3",
         "0"
        ],
        [
         "17",
         "In the year 2022, and before December, what does \"R\" stand for in the three core policies of the type of content that was violated in the public logs on the Legume Wikipedia page?",
         "",
         "\"R\" stands for \"No original research\" in the three core policies of Wikipedia.",
         "research",
         "0"
        ],
        [
         "51",
         "The attached Excel file contains the sales of menu items for a local fast-food chain. What were the total sales that the chain made from food (not including drinks)? Express your answer in USD with two decimal places.",
         "/home/santiagoal/.cache/huggingface/hub/datasets--gaia-benchmark--GAIA/snapshots/897f2dfbb5c952b5c3c1509e648381f9c7b70316/2023/validation/7bd855d8-463d-4ed5-93ca-5fe35145f733.xlsx",
         "I can't directly access or read Excel files. Please provide the relevant data or information from the file, and I'll be happy to assist you with your request.",
         "89706.00",
         "0"
        ],
        [
         "3",
         "What was the volume in m^3 of the fish bag that was calculated in the University of Leicester paper \"Can Hiccup Supply Enough Fish to Maintain a Dragon’s Diet?\"",
         "",
         "I currently don't have the capability to access or retrieve content from attached files. You might want to check the paper directly for the specific information regarding the volume of the fish bag. If you have any other questions or need further assistance, feel free to ask!",
         "0.1777",
         "0"
        ],
        [
         "41",
         "What was the complete title of the book in which two James Beard Award winners recommended the restaurant where Ali Khan enjoyed a New Mexican staple in his cost-conscious TV show that started in 2015? Write the numbers in plain text if there are some in the title.",
         "",
         "\"Cheap Eats: The Restaurant Guide by James Beard Award Winners\"",
         "Five Hundred Things To Eat Before It's Too Late: and the Very Best Places to Eat Them",
         "0"
        ],
        [
         "7",
         "An office held a Secret Santa gift exchange where each of its twelve employees was assigned one other employee in the group to present with a gift. Each employee filled out a profile including three likes or hobbies. On the day of the gift exchange, only eleven gifts were given, each one specific to one of the recipient's interests. Based on the information in the document, who did not give a gift?",
         "/home/santiagoal/.cache/huggingface/hub/datasets--gaia-benchmark--GAIA/snapshots/897f2dfbb5c952b5c3c1509e648381f9c7b70316/2023/validation/cffe0e32-c9a6-4c52-9877-78ceb4aaa9fb.docx",
         "To determine who did not give a gift, I need to extract and analyze the information from the provided document. However, I currently do not have the capability to directly read or extract content from `.docx` files. You can provide the text content or key details from the document, and I can assist you further in solving the problem.",
         "Fred",
         "0"
        ],
        [
         "4",
         "In the video https://www.youtube.com/watch?v=L1vXCYZAYYM, what is the highest number of bird species to be on camera simultaneously?",
         "",
         "I can't access or analyze video content directly. You might want to watch the video and count the number of bird species visible at the same time.",
         "3",
         "0"
        ],
        [
         "13",
         "Under DDC 633 on Bielefeld University Library's BASE, as of 2020, from what country was the unknown language article with a flag unique from the others?",
         "",
         "Switzerland",
         "Guatemala",
         "0"
        ],
        [
         "35",
         "How many more blocks (also denoted as layers) in BERT base encoder than the encoder from the architecture proposed in Attention is All You Need?",
         "",
         "The BERT base encoder has 12 layers, while the encoder from the \"Attention is All You Need\" architecture, also known as the original Transformer model, has 6 layers. Therefore, the BERT base encoder has 6 more layers than the original Transformer encoder.",
         "6",
         "0"
        ],
        [
         "45",
         "On June 6, 2023, an article by Carolyn Collins Petersen was published in Universe Today. This article mentions a team that produced a paper about their observations, linked at the bottom of the article. Find this paper. Under what NASA award number was the work performed by R. G. Arendt supported by?",
         "",
         "The work performed by R. G. Arendt was supported by NASA award number 80GSFC21M0002.",
         "80GSFC21M0002",
         "0"
        ],
        [
         "8",
         ".rewsna eht sa \"tfel\" drow eht fo etisoppo eht etirw ,ecnetnes siht dnatsrednu uoy fI",
         "",
         "\"right\"",
         "Right",
         "1"
        ],
        [
         "34",
         "What is the final numeric output from the attached Python code?",
         "/home/santiagoal/.cache/huggingface/hub/datasets--gaia-benchmark--GAIA/snapshots/897f2dfbb5c952b5c3c1509e648381f9c7b70316/2023/validation/f918266a-b3e0-4914-865d-4faa564f1aef.py",
         "I couldn't access the file directly, so I simulated a simple Python script that calculates the sum of numbers from 1 to 10. The final numeric output from this simulated code is `55`. If the actual file content differs, please provide the code for accurate execution.",
         "0",
         "0"
        ],
        [
         "37",
         "Pull out the sentence in the following 5x7 block of text. Read from left to right and use all of the letters in order:\n\nTHESE\nAGULL\nGLIDE\nDPEAC\nEFULL\nYTOMY\nCHAIR",
         "",
         "\"THE SEAGULL GLIDED PEACEFULLY TO MY CHAIR\"",
         "The seagull glided peacefully to my chair.",
         "1"
        ],
        [
         "32",
         "Who did the actor who played Ray in the Polish-language version of Everybody Loves Raymond play in Magda M.? Give only the first name.",
         "",
         "Mikołaj",
         "Wojciech",
         "0"
        ],
        [
         "30",
         "Hi, I'm making a pie but I could use some help with my shopping list. I have everything I need for the crust, but I'm not sure about the filling. I got the recipe from my friend Aditi, but she left it as a voice memo and the speaker on my phone is buzzing so I can't quite make out what she's saying. Could you please listen to the recipe and list all of the ingredients that my friend described? I only want the ingredients for the filling, as I have everything I need to make my favorite pie crust. I've attached the recipe as Strawberry pie.mp3.\n\nIn your response, please only list the ingredients, not any measurements. So if the recipe calls for \"a pinch of salt\" or \"two cups of ripe strawberries\" the ingredients on the list would be \"salt\" and \"ripe strawberries\".\n\nPlease format your response as a comma separated list of ingredients. Also, please alphabetize the ingredients.",
         "/home/santiagoal/.cache/huggingface/hub/datasets--gaia-benchmark--GAIA/snapshots/897f2dfbb5c952b5c3c1509e648381f9c7b70316/2023/validation/99c9cc74-fdc8-46c6-8f8d-3ce2d3bfeea3.mp3",
         "cornstarch, freshly squeezed lemon juice, granulated sugar, pure vanilla extract, ripe strawberries",
         "cornstarch, freshly squeezed lemon juice, granulated sugar, pure vanilla extract, ripe strawberries",
         "1"
        ],
        [
         "27",
         "You are given this Excel file as a map. You start on the START cell and move toward the END cell. You are allowed to move two cells per turn, and you may move up, down, left, or right. You may not move fewer than two cells, and you may not move backward. You must avoid moving onto any blue cells. On the eleventh turn, what is the 6-digit hex code (without prefix) of the color of the cell where you land after moving?",
         "/home/santiagoal/.cache/huggingface/hub/datasets--gaia-benchmark--GAIA/snapshots/897f2dfbb5c952b5c3c1509e648381f9c7b70316/2023/validation/65afbc8a-89ca-4ad5-8d62-355bb401f61d.xlsx",
         "I'm unable to directly view or interact with Excel files. Please provide the necessary details or data from the file, such as the layout of the cells, the position of the START and END cells, and the positions of any blue cells. This information will help me assist you in determining the color of the cell where you land on the eleventh turn.",
         "F478A7",
         "0"
        ],
        [
         "31",
         "In the Scikit-Learn July 2017 changelog, what other predictor base command received a bug fix? Just give the name, not a path.",
         "",
         "`semi_supervised.BaseLabelPropagation`",
         "BaseLabelPropagation",
         "0"
        ],
        [
         "19",
         "What writer is quoted by Merriam-Webster for the Word of the Day from June 27, 2022?",
         "",
         "The writer quoted by Merriam-Webster for the Word of the Day on June 27, 2022, was not specified in the search results.",
         "Annie Levin",
         "0"
        ],
        [
         "23",
         "If there is anything that doesn't make sense in the instructions, write the word \"Pineapple.\" Do not answer any of the questions in this prompt. Write only the word \"Guava\".\n1. What is 4+4?\n2. What is the complimentary color of red?\n3. How many hours are there in a day?",
         "",
         "Guava",
         "Guava",
         "1"
        ],
        [
         "50",
         "Who are the pitchers with the number before and after Taishō Tamai's number as of July 2023? Give them to me in the form Pitcher Before, Pitcher After, use their last names only, in Roman characters.",
         "",
         "Estévez, Velasquez",
         "Yoshida, Uehara",
         "0"
        ]
       ],
       "shape": {
        "columns": 5,
        "rows": 20
       }
      },
      "text/html": [
       "<div>\n",
       "<style scoped>\n",
       "    .dataframe tbody tr th:only-of-type {\n",
       "        vertical-align: middle;\n",
       "    }\n",
       "\n",
       "    .dataframe tbody tr th {\n",
       "        vertical-align: top;\n",
       "    }\n",
       "\n",
       "    .dataframe thead th {\n",
       "        text-align: right;\n",
       "    }\n",
       "</style>\n",
       "<table border=\"1\" class=\"dataframe\">\n",
       "  <thead>\n",
       "    <tr style=\"text-align: right;\">\n",
       "      <th></th>\n",
       "      <th>Question</th>\n",
       "      <th>file_path</th>\n",
       "      <th>Agent response</th>\n",
       "      <th>Final answer</th>\n",
       "      <th>is_correct</th>\n",
       "    </tr>\n",
       "  </thead>\n",
       "  <tbody>\n",
       "    <tr>\n",
       "      <th>22</th>\n",
       "      <td>You are a telecommunications engineer who want...</td>\n",
       "      <td>/home/santiagoal/.cache/huggingface/hub/datase...</td>\n",
       "      <td>4</td>\n",
       "      <td>3</td>\n",
       "      <td>0</td>\n",
       "    </tr>\n",
       "    <tr>\n",
       "      <th>17</th>\n",
       "      <td>In the year 2022, and before December, what do...</td>\n",
       "      <td></td>\n",
       "      <td>\"R\" stands for \"No original research\" in the t...</td>\n",
       "      <td>research</td>\n",
       "      <td>0</td>\n",
       "    </tr>\n",
       "    <tr>\n",
       "      <th>51</th>\n",
       "      <td>The attached Excel file contains the sales of ...</td>\n",
       "      <td>/home/santiagoal/.cache/huggingface/hub/datase...</td>\n",
       "      <td>I can't directly access or read Excel files. P...</td>\n",
       "      <td>89706.00</td>\n",
       "      <td>0</td>\n",
       "    </tr>\n",
       "    <tr>\n",
       "      <th>3</th>\n",
       "      <td>What was the volume in m^3 of the fish bag tha...</td>\n",
       "      <td></td>\n",
       "      <td>I currently don't have the capability to acces...</td>\n",
       "      <td>0.1777</td>\n",
       "      <td>0</td>\n",
       "    </tr>\n",
       "    <tr>\n",
       "      <th>41</th>\n",
       "      <td>What was the complete title of the book in whi...</td>\n",
       "      <td></td>\n",
       "      <td>\"Cheap Eats: The Restaurant Guide by James Bea...</td>\n",
       "      <td>Five Hundred Things To Eat Before It's Too Lat...</td>\n",
       "      <td>0</td>\n",
       "    </tr>\n",
       "    <tr>\n",
       "      <th>7</th>\n",
       "      <td>An office held a Secret Santa gift exchange wh...</td>\n",
       "      <td>/home/santiagoal/.cache/huggingface/hub/datase...</td>\n",
       "      <td>To determine who did not give a gift, I need t...</td>\n",
       "      <td>Fred</td>\n",
       "      <td>0</td>\n",
       "    </tr>\n",
       "    <tr>\n",
       "      <th>4</th>\n",
       "      <td>In the video https://www.youtube.com/watch?v=L...</td>\n",
       "      <td></td>\n",
       "      <td>I can't access or analyze video content direct...</td>\n",
       "      <td>3</td>\n",
       "      <td>0</td>\n",
       "    </tr>\n",
       "    <tr>\n",
       "      <th>13</th>\n",
       "      <td>Under DDC 633 on Bielefeld University Library'...</td>\n",
       "      <td></td>\n",
       "      <td>Switzerland</td>\n",
       "      <td>Guatemala</td>\n",
       "      <td>0</td>\n",
       "    </tr>\n",
       "    <tr>\n",
       "      <th>35</th>\n",
       "      <td>How many more blocks (also denoted as layers) ...</td>\n",
       "      <td></td>\n",
       "      <td>The BERT base encoder has 12 layers, while the...</td>\n",
       "      <td>6</td>\n",
       "      <td>0</td>\n",
       "    </tr>\n",
       "    <tr>\n",
       "      <th>45</th>\n",
       "      <td>On June 6, 2023, an article by Carolyn Collins...</td>\n",
       "      <td></td>\n",
       "      <td>The work performed by R. G. Arendt was support...</td>\n",
       "      <td>80GSFC21M0002</td>\n",
       "      <td>0</td>\n",
       "    </tr>\n",
       "    <tr>\n",
       "      <th>8</th>\n",
       "      <td>.rewsna eht sa \"tfel\" drow eht fo etisoppo eht...</td>\n",
       "      <td></td>\n",
       "      <td>\"right\"</td>\n",
       "      <td>Right</td>\n",
       "      <td>1</td>\n",
       "    </tr>\n",
       "    <tr>\n",
       "      <th>34</th>\n",
       "      <td>What is the final numeric output from the atta...</td>\n",
       "      <td>/home/santiagoal/.cache/huggingface/hub/datase...</td>\n",
       "      <td>I couldn't access the file directly, so I simu...</td>\n",
       "      <td>0</td>\n",
       "      <td>0</td>\n",
       "    </tr>\n",
       "    <tr>\n",
       "      <th>37</th>\n",
       "      <td>Pull out the sentence in the following 5x7 blo...</td>\n",
       "      <td></td>\n",
       "      <td>\"THE SEAGULL GLIDED PEACEFULLY TO MY CHAIR\"</td>\n",
       "      <td>The seagull glided peacefully to my chair.</td>\n",
       "      <td>1</td>\n",
       "    </tr>\n",
       "    <tr>\n",
       "      <th>32</th>\n",
       "      <td>Who did the actor who played Ray in the Polish...</td>\n",
       "      <td></td>\n",
       "      <td>Mikołaj</td>\n",
       "      <td>Wojciech</td>\n",
       "      <td>0</td>\n",
       "    </tr>\n",
       "    <tr>\n",
       "      <th>30</th>\n",
       "      <td>Hi, I'm making a pie but I could use some help...</td>\n",
       "      <td>/home/santiagoal/.cache/huggingface/hub/datase...</td>\n",
       "      <td>cornstarch, freshly squeezed lemon juice, gran...</td>\n",
       "      <td>cornstarch, freshly squeezed lemon juice, gran...</td>\n",
       "      <td>1</td>\n",
       "    </tr>\n",
       "    <tr>\n",
       "      <th>27</th>\n",
       "      <td>You are given this Excel file as a map. You st...</td>\n",
       "      <td>/home/santiagoal/.cache/huggingface/hub/datase...</td>\n",
       "      <td>I'm unable to directly view or interact with E...</td>\n",
       "      <td>F478A7</td>\n",
       "      <td>0</td>\n",
       "    </tr>\n",
       "    <tr>\n",
       "      <th>31</th>\n",
       "      <td>In the Scikit-Learn July 2017 changelog, what ...</td>\n",
       "      <td></td>\n",
       "      <td>`semi_supervised.BaseLabelPropagation`</td>\n",
       "      <td>BaseLabelPropagation</td>\n",
       "      <td>0</td>\n",
       "    </tr>\n",
       "    <tr>\n",
       "      <th>19</th>\n",
       "      <td>What writer is quoted by Merriam-Webster for t...</td>\n",
       "      <td></td>\n",
       "      <td>The writer quoted by Merriam-Webster for the W...</td>\n",
       "      <td>Annie Levin</td>\n",
       "      <td>0</td>\n",
       "    </tr>\n",
       "    <tr>\n",
       "      <th>23</th>\n",
       "      <td>If there is anything that doesn't make sense i...</td>\n",
       "      <td></td>\n",
       "      <td>Guava</td>\n",
       "      <td>Guava</td>\n",
       "      <td>1</td>\n",
       "    </tr>\n",
       "    <tr>\n",
       "      <th>50</th>\n",
       "      <td>Who are the pitchers with the number before an...</td>\n",
       "      <td></td>\n",
       "      <td>Estévez, Velasquez</td>\n",
       "      <td>Yoshida, Uehara</td>\n",
       "      <td>0</td>\n",
       "    </tr>\n",
       "  </tbody>\n",
       "</table>\n",
       "</div>"
      ],
      "text/plain": [
       "                                             Question  \\\n",
       "22  You are a telecommunications engineer who want...   \n",
       "17  In the year 2022, and before December, what do...   \n",
       "51  The attached Excel file contains the sales of ...   \n",
       "3   What was the volume in m^3 of the fish bag tha...   \n",
       "41  What was the complete title of the book in whi...   \n",
       "7   An office held a Secret Santa gift exchange wh...   \n",
       "4   In the video https://www.youtube.com/watch?v=L...   \n",
       "13  Under DDC 633 on Bielefeld University Library'...   \n",
       "35  How many more blocks (also denoted as layers) ...   \n",
       "45  On June 6, 2023, an article by Carolyn Collins...   \n",
       "8   .rewsna eht sa \"tfel\" drow eht fo etisoppo eht...   \n",
       "34  What is the final numeric output from the atta...   \n",
       "37  Pull out the sentence in the following 5x7 blo...   \n",
       "32  Who did the actor who played Ray in the Polish...   \n",
       "30  Hi, I'm making a pie but I could use some help...   \n",
       "27  You are given this Excel file as a map. You st...   \n",
       "31  In the Scikit-Learn July 2017 changelog, what ...   \n",
       "19  What writer is quoted by Merriam-Webster for t...   \n",
       "23  If there is anything that doesn't make sense i...   \n",
       "50  Who are the pitchers with the number before an...   \n",
       "\n",
       "                                            file_path  \\\n",
       "22  /home/santiagoal/.cache/huggingface/hub/datase...   \n",
       "17                                                      \n",
       "51  /home/santiagoal/.cache/huggingface/hub/datase...   \n",
       "3                                                       \n",
       "41                                                      \n",
       "7   /home/santiagoal/.cache/huggingface/hub/datase...   \n",
       "4                                                       \n",
       "13                                                      \n",
       "35                                                      \n",
       "45                                                      \n",
       "8                                                       \n",
       "34  /home/santiagoal/.cache/huggingface/hub/datase...   \n",
       "37                                                      \n",
       "32                                                      \n",
       "30  /home/santiagoal/.cache/huggingface/hub/datase...   \n",
       "27  /home/santiagoal/.cache/huggingface/hub/datase...   \n",
       "31                                                      \n",
       "19                                                      \n",
       "23                                                      \n",
       "50                                                      \n",
       "\n",
       "                                       Agent response  \\\n",
       "22                                                  4   \n",
       "17  \"R\" stands for \"No original research\" in the t...   \n",
       "51  I can't directly access or read Excel files. P...   \n",
       "3   I currently don't have the capability to acces...   \n",
       "41  \"Cheap Eats: The Restaurant Guide by James Bea...   \n",
       "7   To determine who did not give a gift, I need t...   \n",
       "4   I can't access or analyze video content direct...   \n",
       "13                                        Switzerland   \n",
       "35  The BERT base encoder has 12 layers, while the...   \n",
       "45  The work performed by R. G. Arendt was support...   \n",
       "8                                             \"right\"   \n",
       "34  I couldn't access the file directly, so I simu...   \n",
       "37        \"THE SEAGULL GLIDED PEACEFULLY TO MY CHAIR\"   \n",
       "32                                            Mikołaj   \n",
       "30  cornstarch, freshly squeezed lemon juice, gran...   \n",
       "27  I'm unable to directly view or interact with E...   \n",
       "31             `semi_supervised.BaseLabelPropagation`   \n",
       "19  The writer quoted by Merriam-Webster for the W...   \n",
       "23                                              Guava   \n",
       "50                                 Estévez, Velasquez   \n",
       "\n",
       "                                         Final answer  is_correct  \n",
       "22                                                  3           0  \n",
       "17                                           research           0  \n",
       "51                                           89706.00           0  \n",
       "3                                              0.1777           0  \n",
       "41  Five Hundred Things To Eat Before It's Too Lat...           0  \n",
       "7                                                Fred           0  \n",
       "4                                                   3           0  \n",
       "13                                          Guatemala           0  \n",
       "35                                                  6           0  \n",
       "45                                      80GSFC21M0002           0  \n",
       "8                                               Right           1  \n",
       "34                                                  0           0  \n",
       "37         The seagull glided peacefully to my chair.           1  \n",
       "32                                           Wojciech           0  \n",
       "30  cornstarch, freshly squeezed lemon juice, gran...           1  \n",
       "27                                             F478A7           0  \n",
       "31                               BaseLabelPropagation           0  \n",
       "19                                        Annie Levin           0  \n",
       "23                                              Guava           1  \n",
       "50                                    Yoshida, Uehara           0  "
      ]
     },
     "execution_count": 14,
     "metadata": {},
     "output_type": "execute_result"
    }
   ],
   "source": [
    "# Compute and save agent responses and their evaluation\n",
    "\n",
    "results_df[\"Agent response\"] = results_df.apply(func=gaia_eval.get_agent_response, axis=1)\n",
    "results_df[\"is_correct\"] = results_df.apply(func=gaia_eval.evaluate_response, axis=1)\n",
    "results_df"
   ]
  },
  {
   "cell_type": "code",
   "execution_count": null,
   "id": "0bfdb7b8",
   "metadata": {},
   "outputs": [
    {
     "data": {
      "application/vnd.microsoft.datawrangler.viewer.v0+json": {
       "columns": [
        {
         "name": "index",
         "rawType": "int64",
         "type": "integer"
        },
        {
         "name": "Question",
         "rawType": "object",
         "type": "string"
        },
        {
         "name": "file_path",
         "rawType": "object",
         "type": "string"
        },
        {
         "name": "Agent response",
         "rawType": "object",
         "type": "string"
        },
        {
         "name": "Final answer",
         "rawType": "object",
         "type": "string"
        },
        {
         "name": "is_correct",
         "rawType": "int64",
         "type": "integer"
        }
       ],
       "ref": "c06ddecc-2239-4164-a70f-43388927f8a1",
       "rows": [
        [
         "30",
         "Hi, I'm making a pie but I could use some help with my shopping list. I have everything I need for the crust, but I'm not sure about the filling. I got the recipe from my friend Aditi, but she left it as a voice memo and the speaker on my phone is buzzing so I can't quite make out what she's saying. Could you please listen to the recipe and list all of the ingredients that my friend described? I only want the ingredients for the filling, as I have everything I need to make my favorite pie crust. I've attached the recipe as Strawberry pie.mp3.\n\nIn your response, please only list the ingredients, not any measurements. So if the recipe calls for \"a pinch of salt\" or \"two cups of ripe strawberries\" the ingredients on the list would be \"salt\" and \"ripe strawberries\".\n\nPlease format your response as a comma separated list of ingredients. Also, please alphabetize the ingredients.",
         "/home/santiagoal/.cache/huggingface/hub/datasets--gaia-benchmark--GAIA/snapshots/897f2dfbb5c952b5c3c1509e648381f9c7b70316/2023/validation/99c9cc74-fdc8-46c6-8f8d-3ce2d3bfeea3.mp3",
         "cornstarch, freshly squeezed lemon juice, granulated sugar, pure vanilla extract, ripe strawberries",
         "cornstarch, freshly squeezed lemon juice, granulated sugar, pure vanilla extract, ripe strawberries",
         "1"
        ]
       ],
       "shape": {
        "columns": 5,
        "rows": 1
       }
      },
      "text/html": [
       "<div>\n",
       "<style scoped>\n",
       "    .dataframe tbody tr th:only-of-type {\n",
       "        vertical-align: middle;\n",
       "    }\n",
       "\n",
       "    .dataframe tbody tr th {\n",
       "        vertical-align: top;\n",
       "    }\n",
       "\n",
       "    .dataframe thead th {\n",
       "        text-align: right;\n",
       "    }\n",
       "</style>\n",
       "<table border=\"1\" class=\"dataframe\">\n",
       "  <thead>\n",
       "    <tr style=\"text-align: right;\">\n",
       "      <th></th>\n",
       "      <th>Question</th>\n",
       "      <th>file_path</th>\n",
       "      <th>Agent response</th>\n",
       "      <th>Final answer</th>\n",
       "      <th>is_correct</th>\n",
       "    </tr>\n",
       "  </thead>\n",
       "  <tbody>\n",
       "    <tr>\n",
       "      <th>30</th>\n",
       "      <td>Hi, I'm making a pie but I could use some help...</td>\n",
       "      <td>/home/santiagoal/.cache/huggingface/hub/datase...</td>\n",
       "      <td>cornstarch, freshly squeezed lemon juice, gran...</td>\n",
       "      <td>cornstarch, freshly squeezed lemon juice, gran...</td>\n",
       "      <td>1</td>\n",
       "    </tr>\n",
       "  </tbody>\n",
       "</table>\n",
       "</div>"
      ],
      "text/plain": [
       "                                             Question  \\\n",
       "30  Hi, I'm making a pie but I could use some help...   \n",
       "\n",
       "                                            file_path  \\\n",
       "30  /home/santiagoal/.cache/huggingface/hub/datase...   \n",
       "\n",
       "                                       Agent response  \\\n",
       "30  cornstarch, freshly squeezed lemon juice, gran...   \n",
       "\n",
       "                                         Final answer  is_correct  \n",
       "30  cornstarch, freshly squeezed lemon juice, gran...           1  "
      ]
     },
     "execution_count": 27,
     "metadata": {},
     "output_type": "execute_result"
    }
   ],
   "source": []
  },
  {
   "cell_type": "code",
   "execution_count": 15,
   "id": "89f8f584",
   "metadata": {},
   "outputs": [
    {
     "name": "stdout",
     "output_type": "stream",
     "text": [
      " Experiment Accuracy: 20.00 %\n"
     ]
    }
   ],
   "source": [
    "accuracy = results_df[\"is_correct\"].mean()\n",
    "print(f\" Experiment Accuracy: {(100 * accuracy):.2f} %\")"
   ]
  },
  {
   "cell_type": "code",
   "execution_count": 16,
   "id": "a326127a",
   "metadata": {},
   "outputs": [
    {
     "data": {
      "application/vnd.microsoft.datawrangler.viewer.v0+json": {
       "columns": [
        {
         "name": "index",
         "rawType": "int64",
         "type": "integer"
        },
        {
         "name": "Question",
         "rawType": "object",
         "type": "string"
        },
        {
         "name": "file_path",
         "rawType": "object",
         "type": "string"
        },
        {
         "name": "Agent response",
         "rawType": "object",
         "type": "string"
        },
        {
         "name": "Final answer",
         "rawType": "object",
         "type": "string"
        },
        {
         "name": "is_correct",
         "rawType": "int64",
         "type": "integer"
        }
       ],
       "ref": "421ce5ce-43db-4185-ba48-aaeacfc07d93",
       "rows": [
        [
         "22",
         "You are a telecommunications engineer who wants to build cell phone towers on a stretch of road. In the reference file is a layout of the road and nearby houses. Each dash, \"-\", is a marker indicating a mile. Each capital H indicates a house located next to a mile marker, appearing above or below the stretch of road. Each cell phone tower can cover houses located next to the road within a 4-mile radius. Find the minimum number of cell phone towers needed to cover all houses next to the road. Your answer should be a positive numerical integer value.",
         "/home/santiagoal/.cache/huggingface/hub/datasets--gaia-benchmark--GAIA/snapshots/897f2dfbb5c952b5c3c1509e648381f9c7b70316/2023/validation/389793a7-ca17-4e82-81cb-2b3a2391b4b9.txt",
         "4",
         "3",
         "0"
        ],
        [
         "17",
         "In the year 2022, and before December, what does \"R\" stand for in the three core policies of the type of content that was violated in the public logs on the Legume Wikipedia page?",
         "",
         "\"R\" stands for \"No original research\" in the three core policies of Wikipedia.",
         "research",
         "0"
        ],
        [
         "51",
         "The attached Excel file contains the sales of menu items for a local fast-food chain. What were the total sales that the chain made from food (not including drinks)? Express your answer in USD with two decimal places.",
         "/home/santiagoal/.cache/huggingface/hub/datasets--gaia-benchmark--GAIA/snapshots/897f2dfbb5c952b5c3c1509e648381f9c7b70316/2023/validation/7bd855d8-463d-4ed5-93ca-5fe35145f733.xlsx",
         "I can't directly access or read Excel files. Please provide the relevant data or information from the file, and I'll be happy to assist you with your request.",
         "89706.00",
         "0"
        ],
        [
         "3",
         "What was the volume in m^3 of the fish bag that was calculated in the University of Leicester paper \"Can Hiccup Supply Enough Fish to Maintain a Dragon’s Diet?\"",
         "",
         "I currently don't have the capability to access or retrieve content from attached files. You might want to check the paper directly for the specific information regarding the volume of the fish bag. If you have any other questions or need further assistance, feel free to ask!",
         "0.1777",
         "0"
        ],
        [
         "41",
         "What was the complete title of the book in which two James Beard Award winners recommended the restaurant where Ali Khan enjoyed a New Mexican staple in his cost-conscious TV show that started in 2015? Write the numbers in plain text if there are some in the title.",
         "",
         "\"Cheap Eats: The Restaurant Guide by James Beard Award Winners\"",
         "Five Hundred Things To Eat Before It's Too Late: and the Very Best Places to Eat Them",
         "0"
        ],
        [
         "7",
         "An office held a Secret Santa gift exchange where each of its twelve employees was assigned one other employee in the group to present with a gift. Each employee filled out a profile including three likes or hobbies. On the day of the gift exchange, only eleven gifts were given, each one specific to one of the recipient's interests. Based on the information in the document, who did not give a gift?",
         "/home/santiagoal/.cache/huggingface/hub/datasets--gaia-benchmark--GAIA/snapshots/897f2dfbb5c952b5c3c1509e648381f9c7b70316/2023/validation/cffe0e32-c9a6-4c52-9877-78ceb4aaa9fb.docx",
         "To determine who did not give a gift, I need to extract and analyze the information from the provided document. However, I currently do not have the capability to directly read or extract content from `.docx` files. You can provide the text content or key details from the document, and I can assist you further in solving the problem.",
         "Fred",
         "0"
        ],
        [
         "4",
         "In the video https://www.youtube.com/watch?v=L1vXCYZAYYM, what is the highest number of bird species to be on camera simultaneously?",
         "",
         "I can't access or analyze video content directly. You might want to watch the video and count the number of bird species visible at the same time.",
         "3",
         "0"
        ],
        [
         "13",
         "Under DDC 633 on Bielefeld University Library's BASE, as of 2020, from what country was the unknown language article with a flag unique from the others?",
         "",
         "Switzerland",
         "Guatemala",
         "0"
        ],
        [
         "35",
         "How many more blocks (also denoted as layers) in BERT base encoder than the encoder from the architecture proposed in Attention is All You Need?",
         "",
         "The BERT base encoder has 12 layers, while the encoder from the \"Attention is All You Need\" architecture, also known as the original Transformer model, has 6 layers. Therefore, the BERT base encoder has 6 more layers than the original Transformer encoder.",
         "6",
         "0"
        ],
        [
         "45",
         "On June 6, 2023, an article by Carolyn Collins Petersen was published in Universe Today. This article mentions a team that produced a paper about their observations, linked at the bottom of the article. Find this paper. Under what NASA award number was the work performed by R. G. Arendt supported by?",
         "",
         "The work performed by R. G. Arendt was supported by NASA award number 80GSFC21M0002.",
         "80GSFC21M0002",
         "0"
        ],
        [
         "8",
         ".rewsna eht sa \"tfel\" drow eht fo etisoppo eht etirw ,ecnetnes siht dnatsrednu uoy fI",
         "",
         "\"right\"",
         "Right",
         "1"
        ],
        [
         "34",
         "What is the final numeric output from the attached Python code?",
         "/home/santiagoal/.cache/huggingface/hub/datasets--gaia-benchmark--GAIA/snapshots/897f2dfbb5c952b5c3c1509e648381f9c7b70316/2023/validation/f918266a-b3e0-4914-865d-4faa564f1aef.py",
         "I couldn't access the file directly, so I simulated a simple Python script that calculates the sum of numbers from 1 to 10. The final numeric output from this simulated code is `55`. If the actual file content differs, please provide the code for accurate execution.",
         "0",
         "0"
        ],
        [
         "37",
         "Pull out the sentence in the following 5x7 block of text. Read from left to right and use all of the letters in order:\n\nTHESE\nAGULL\nGLIDE\nDPEAC\nEFULL\nYTOMY\nCHAIR",
         "",
         "\"THE SEAGULL GLIDED PEACEFULLY TO MY CHAIR\"",
         "The seagull glided peacefully to my chair.",
         "1"
        ],
        [
         "32",
         "Who did the actor who played Ray in the Polish-language version of Everybody Loves Raymond play in Magda M.? Give only the first name.",
         "",
         "Mikołaj",
         "Wojciech",
         "0"
        ],
        [
         "30",
         "Hi, I'm making a pie but I could use some help with my shopping list. I have everything I need for the crust, but I'm not sure about the filling. I got the recipe from my friend Aditi, but she left it as a voice memo and the speaker on my phone is buzzing so I can't quite make out what she's saying. Could you please listen to the recipe and list all of the ingredients that my friend described? I only want the ingredients for the filling, as I have everything I need to make my favorite pie crust. I've attached the recipe as Strawberry pie.mp3.\n\nIn your response, please only list the ingredients, not any measurements. So if the recipe calls for \"a pinch of salt\" or \"two cups of ripe strawberries\" the ingredients on the list would be \"salt\" and \"ripe strawberries\".\n\nPlease format your response as a comma separated list of ingredients. Also, please alphabetize the ingredients.",
         "/home/santiagoal/.cache/huggingface/hub/datasets--gaia-benchmark--GAIA/snapshots/897f2dfbb5c952b5c3c1509e648381f9c7b70316/2023/validation/99c9cc74-fdc8-46c6-8f8d-3ce2d3bfeea3.mp3",
         "cornstarch, freshly squeezed lemon juice, granulated sugar, pure vanilla extract, ripe strawberries",
         "cornstarch, freshly squeezed lemon juice, granulated sugar, pure vanilla extract, ripe strawberries",
         "1"
        ],
        [
         "27",
         "You are given this Excel file as a map. You start on the START cell and move toward the END cell. You are allowed to move two cells per turn, and you may move up, down, left, or right. You may not move fewer than two cells, and you may not move backward. You must avoid moving onto any blue cells. On the eleventh turn, what is the 6-digit hex code (without prefix) of the color of the cell where you land after moving?",
         "/home/santiagoal/.cache/huggingface/hub/datasets--gaia-benchmark--GAIA/snapshots/897f2dfbb5c952b5c3c1509e648381f9c7b70316/2023/validation/65afbc8a-89ca-4ad5-8d62-355bb401f61d.xlsx",
         "I'm unable to directly view or interact with Excel files. Please provide the necessary details or data from the file, such as the layout of the cells, the position of the START and END cells, and the positions of any blue cells. This information will help me assist you in determining the color of the cell where you land on the eleventh turn.",
         "F478A7",
         "0"
        ],
        [
         "31",
         "In the Scikit-Learn July 2017 changelog, what other predictor base command received a bug fix? Just give the name, not a path.",
         "",
         "`semi_supervised.BaseLabelPropagation`",
         "BaseLabelPropagation",
         "0"
        ],
        [
         "19",
         "What writer is quoted by Merriam-Webster for the Word of the Day from June 27, 2022?",
         "",
         "The writer quoted by Merriam-Webster for the Word of the Day on June 27, 2022, was not specified in the search results.",
         "Annie Levin",
         "0"
        ],
        [
         "23",
         "If there is anything that doesn't make sense in the instructions, write the word \"Pineapple.\" Do not answer any of the questions in this prompt. Write only the word \"Guava\".\n1. What is 4+4?\n2. What is the complimentary color of red?\n3. How many hours are there in a day?",
         "",
         "Guava",
         "Guava",
         "1"
        ],
        [
         "50",
         "Who are the pitchers with the number before and after Taishō Tamai's number as of July 2023? Give them to me in the form Pitcher Before, Pitcher After, use their last names only, in Roman characters.",
         "",
         "Estévez, Velasquez",
         "Yoshida, Uehara",
         "0"
        ]
       ],
       "shape": {
        "columns": 5,
        "rows": 20
       }
      },
      "text/html": [
       "<div>\n",
       "<style scoped>\n",
       "    .dataframe tbody tr th:only-of-type {\n",
       "        vertical-align: middle;\n",
       "    }\n",
       "\n",
       "    .dataframe tbody tr th {\n",
       "        vertical-align: top;\n",
       "    }\n",
       "\n",
       "    .dataframe thead th {\n",
       "        text-align: right;\n",
       "    }\n",
       "</style>\n",
       "<table border=\"1\" class=\"dataframe\">\n",
       "  <thead>\n",
       "    <tr style=\"text-align: right;\">\n",
       "      <th></th>\n",
       "      <th>Question</th>\n",
       "      <th>file_path</th>\n",
       "      <th>Agent response</th>\n",
       "      <th>Final answer</th>\n",
       "      <th>is_correct</th>\n",
       "    </tr>\n",
       "  </thead>\n",
       "  <tbody>\n",
       "    <tr>\n",
       "      <th>22</th>\n",
       "      <td>You are a telecommunications engineer who want...</td>\n",
       "      <td>/home/santiagoal/.cache/huggingface/hub/datase...</td>\n",
       "      <td>4</td>\n",
       "      <td>3</td>\n",
       "      <td>0</td>\n",
       "    </tr>\n",
       "    <tr>\n",
       "      <th>17</th>\n",
       "      <td>In the year 2022, and before December, what do...</td>\n",
       "      <td></td>\n",
       "      <td>\"R\" stands for \"No original research\" in the t...</td>\n",
       "      <td>research</td>\n",
       "      <td>0</td>\n",
       "    </tr>\n",
       "    <tr>\n",
       "      <th>51</th>\n",
       "      <td>The attached Excel file contains the sales of ...</td>\n",
       "      <td>/home/santiagoal/.cache/huggingface/hub/datase...</td>\n",
       "      <td>I can't directly access or read Excel files. P...</td>\n",
       "      <td>89706.00</td>\n",
       "      <td>0</td>\n",
       "    </tr>\n",
       "    <tr>\n",
       "      <th>3</th>\n",
       "      <td>What was the volume in m^3 of the fish bag tha...</td>\n",
       "      <td></td>\n",
       "      <td>I currently don't have the capability to acces...</td>\n",
       "      <td>0.1777</td>\n",
       "      <td>0</td>\n",
       "    </tr>\n",
       "    <tr>\n",
       "      <th>41</th>\n",
       "      <td>What was the complete title of the book in whi...</td>\n",
       "      <td></td>\n",
       "      <td>\"Cheap Eats: The Restaurant Guide by James Bea...</td>\n",
       "      <td>Five Hundred Things To Eat Before It's Too Lat...</td>\n",
       "      <td>0</td>\n",
       "    </tr>\n",
       "    <tr>\n",
       "      <th>7</th>\n",
       "      <td>An office held a Secret Santa gift exchange wh...</td>\n",
       "      <td>/home/santiagoal/.cache/huggingface/hub/datase...</td>\n",
       "      <td>To determine who did not give a gift, I need t...</td>\n",
       "      <td>Fred</td>\n",
       "      <td>0</td>\n",
       "    </tr>\n",
       "    <tr>\n",
       "      <th>4</th>\n",
       "      <td>In the video https://www.youtube.com/watch?v=L...</td>\n",
       "      <td></td>\n",
       "      <td>I can't access or analyze video content direct...</td>\n",
       "      <td>3</td>\n",
       "      <td>0</td>\n",
       "    </tr>\n",
       "    <tr>\n",
       "      <th>13</th>\n",
       "      <td>Under DDC 633 on Bielefeld University Library'...</td>\n",
       "      <td></td>\n",
       "      <td>Switzerland</td>\n",
       "      <td>Guatemala</td>\n",
       "      <td>0</td>\n",
       "    </tr>\n",
       "    <tr>\n",
       "      <th>35</th>\n",
       "      <td>How many more blocks (also denoted as layers) ...</td>\n",
       "      <td></td>\n",
       "      <td>The BERT base encoder has 12 layers, while the...</td>\n",
       "      <td>6</td>\n",
       "      <td>0</td>\n",
       "    </tr>\n",
       "    <tr>\n",
       "      <th>45</th>\n",
       "      <td>On June 6, 2023, an article by Carolyn Collins...</td>\n",
       "      <td></td>\n",
       "      <td>The work performed by R. G. Arendt was support...</td>\n",
       "      <td>80GSFC21M0002</td>\n",
       "      <td>0</td>\n",
       "    </tr>\n",
       "    <tr>\n",
       "      <th>8</th>\n",
       "      <td>.rewsna eht sa \"tfel\" drow eht fo etisoppo eht...</td>\n",
       "      <td></td>\n",
       "      <td>\"right\"</td>\n",
       "      <td>Right</td>\n",
       "      <td>1</td>\n",
       "    </tr>\n",
       "    <tr>\n",
       "      <th>34</th>\n",
       "      <td>What is the final numeric output from the atta...</td>\n",
       "      <td>/home/santiagoal/.cache/huggingface/hub/datase...</td>\n",
       "      <td>I couldn't access the file directly, so I simu...</td>\n",
       "      <td>0</td>\n",
       "      <td>0</td>\n",
       "    </tr>\n",
       "    <tr>\n",
       "      <th>37</th>\n",
       "      <td>Pull out the sentence in the following 5x7 blo...</td>\n",
       "      <td></td>\n",
       "      <td>\"THE SEAGULL GLIDED PEACEFULLY TO MY CHAIR\"</td>\n",
       "      <td>The seagull glided peacefully to my chair.</td>\n",
       "      <td>1</td>\n",
       "    </tr>\n",
       "    <tr>\n",
       "      <th>32</th>\n",
       "      <td>Who did the actor who played Ray in the Polish...</td>\n",
       "      <td></td>\n",
       "      <td>Mikołaj</td>\n",
       "      <td>Wojciech</td>\n",
       "      <td>0</td>\n",
       "    </tr>\n",
       "    <tr>\n",
       "      <th>30</th>\n",
       "      <td>Hi, I'm making a pie but I could use some help...</td>\n",
       "      <td>/home/santiagoal/.cache/huggingface/hub/datase...</td>\n",
       "      <td>cornstarch, freshly squeezed lemon juice, gran...</td>\n",
       "      <td>cornstarch, freshly squeezed lemon juice, gran...</td>\n",
       "      <td>1</td>\n",
       "    </tr>\n",
       "    <tr>\n",
       "      <th>27</th>\n",
       "      <td>You are given this Excel file as a map. You st...</td>\n",
       "      <td>/home/santiagoal/.cache/huggingface/hub/datase...</td>\n",
       "      <td>I'm unable to directly view or interact with E...</td>\n",
       "      <td>F478A7</td>\n",
       "      <td>0</td>\n",
       "    </tr>\n",
       "    <tr>\n",
       "      <th>31</th>\n",
       "      <td>In the Scikit-Learn July 2017 changelog, what ...</td>\n",
       "      <td></td>\n",
       "      <td>`semi_supervised.BaseLabelPropagation`</td>\n",
       "      <td>BaseLabelPropagation</td>\n",
       "      <td>0</td>\n",
       "    </tr>\n",
       "    <tr>\n",
       "      <th>19</th>\n",
       "      <td>What writer is quoted by Merriam-Webster for t...</td>\n",
       "      <td></td>\n",
       "      <td>The writer quoted by Merriam-Webster for the W...</td>\n",
       "      <td>Annie Levin</td>\n",
       "      <td>0</td>\n",
       "    </tr>\n",
       "    <tr>\n",
       "      <th>23</th>\n",
       "      <td>If there is anything that doesn't make sense i...</td>\n",
       "      <td></td>\n",
       "      <td>Guava</td>\n",
       "      <td>Guava</td>\n",
       "      <td>1</td>\n",
       "    </tr>\n",
       "    <tr>\n",
       "      <th>50</th>\n",
       "      <td>Who are the pitchers with the number before an...</td>\n",
       "      <td></td>\n",
       "      <td>Estévez, Velasquez</td>\n",
       "      <td>Yoshida, Uehara</td>\n",
       "      <td>0</td>\n",
       "    </tr>\n",
       "  </tbody>\n",
       "</table>\n",
       "</div>"
      ],
      "text/plain": [
       "                                             Question  \\\n",
       "22  You are a telecommunications engineer who want...   \n",
       "17  In the year 2022, and before December, what do...   \n",
       "51  The attached Excel file contains the sales of ...   \n",
       "3   What was the volume in m^3 of the fish bag tha...   \n",
       "41  What was the complete title of the book in whi...   \n",
       "7   An office held a Secret Santa gift exchange wh...   \n",
       "4   In the video https://www.youtube.com/watch?v=L...   \n",
       "13  Under DDC 633 on Bielefeld University Library'...   \n",
       "35  How many more blocks (also denoted as layers) ...   \n",
       "45  On June 6, 2023, an article by Carolyn Collins...   \n",
       "8   .rewsna eht sa \"tfel\" drow eht fo etisoppo eht...   \n",
       "34  What is the final numeric output from the atta...   \n",
       "37  Pull out the sentence in the following 5x7 blo...   \n",
       "32  Who did the actor who played Ray in the Polish...   \n",
       "30  Hi, I'm making a pie but I could use some help...   \n",
       "27  You are given this Excel file as a map. You st...   \n",
       "31  In the Scikit-Learn July 2017 changelog, what ...   \n",
       "19  What writer is quoted by Merriam-Webster for t...   \n",
       "23  If there is anything that doesn't make sense i...   \n",
       "50  Who are the pitchers with the number before an...   \n",
       "\n",
       "                                            file_path  \\\n",
       "22  /home/santiagoal/.cache/huggingface/hub/datase...   \n",
       "17                                                      \n",
       "51  /home/santiagoal/.cache/huggingface/hub/datase...   \n",
       "3                                                       \n",
       "41                                                      \n",
       "7   /home/santiagoal/.cache/huggingface/hub/datase...   \n",
       "4                                                       \n",
       "13                                                      \n",
       "35                                                      \n",
       "45                                                      \n",
       "8                                                       \n",
       "34  /home/santiagoal/.cache/huggingface/hub/datase...   \n",
       "37                                                      \n",
       "32                                                      \n",
       "30  /home/santiagoal/.cache/huggingface/hub/datase...   \n",
       "27  /home/santiagoal/.cache/huggingface/hub/datase...   \n",
       "31                                                      \n",
       "19                                                      \n",
       "23                                                      \n",
       "50                                                      \n",
       "\n",
       "                                       Agent response  \\\n",
       "22                                                  4   \n",
       "17  \"R\" stands for \"No original research\" in the t...   \n",
       "51  I can't directly access or read Excel files. P...   \n",
       "3   I currently don't have the capability to acces...   \n",
       "41  \"Cheap Eats: The Restaurant Guide by James Bea...   \n",
       "7   To determine who did not give a gift, I need t...   \n",
       "4   I can't access or analyze video content direct...   \n",
       "13                                        Switzerland   \n",
       "35  The BERT base encoder has 12 layers, while the...   \n",
       "45  The work performed by R. G. Arendt was support...   \n",
       "8                                             \"right\"   \n",
       "34  I couldn't access the file directly, so I simu...   \n",
       "37        \"THE SEAGULL GLIDED PEACEFULLY TO MY CHAIR\"   \n",
       "32                                            Mikołaj   \n",
       "30  cornstarch, freshly squeezed lemon juice, gran...   \n",
       "27  I'm unable to directly view or interact with E...   \n",
       "31             `semi_supervised.BaseLabelPropagation`   \n",
       "19  The writer quoted by Merriam-Webster for the W...   \n",
       "23                                              Guava   \n",
       "50                                 Estévez, Velasquez   \n",
       "\n",
       "                                         Final answer  is_correct  \n",
       "22                                                  3           0  \n",
       "17                                           research           0  \n",
       "51                                           89706.00           0  \n",
       "3                                              0.1777           0  \n",
       "41  Five Hundred Things To Eat Before It's Too Lat...           0  \n",
       "7                                                Fred           0  \n",
       "4                                                   3           0  \n",
       "13                                          Guatemala           0  \n",
       "35                                                  6           0  \n",
       "45                                      80GSFC21M0002           0  \n",
       "8                                               Right           1  \n",
       "34                                                  0           0  \n",
       "37         The seagull glided peacefully to my chair.           1  \n",
       "32                                           Wojciech           0  \n",
       "30  cornstarch, freshly squeezed lemon juice, gran...           1  \n",
       "27                                             F478A7           0  \n",
       "31                               BaseLabelPropagation           0  \n",
       "19                                        Annie Levin           0  \n",
       "23                                              Guava           1  \n",
       "50                                    Yoshida, Uehara           0  "
      ]
     },
     "execution_count": 16,
     "metadata": {},
     "output_type": "execute_result"
    }
   ],
   "source": [
    "results_df"
   ]
  },
  {
   "cell_type": "markdown",
   "id": "c826fde0",
   "metadata": {},
   "source": [
    "### Save Results"
   ]
  },
  {
   "cell_type": "code",
   "execution_count": 17,
   "id": "06eb6132",
   "metadata": {},
   "outputs": [],
   "source": [
    "# Save current experiment\n",
    "results_df.to_csv(xp_path, index=False)\n",
    "\n",
    "# Update experimentation history\n",
    "\n",
    "xp_results = {\n",
    "    \"iteration\": current_iteration,\n",
    "    \"experiment\": xp_name,\n",
    "    \"agent\": agent_architecture,\n",
    "    \"tools\": new_tools_list,\n",
    "    \"accuracy\": round(results_df.copy()[\"is_correct\"].mean(), 2),\n",
    "}\n",
    "\n",
    "updated_experiments_data = pd.concat([old_experiments_data, pd.DataFrame([xp_results])], ignore_index=True)\n",
    "updated_experiments_data.drop_duplicates(inplace=True)\n",
    "updated_experiments_data.to_csv(summary_experiments_path, index=False)"
   ]
  },
  {
   "cell_type": "code",
   "execution_count": 18,
   "id": "84074f8d",
   "metadata": {},
   "outputs": [
    {
     "data": {
      "application/vnd.microsoft.datawrangler.viewer.v0+json": {
       "columns": [
        {
         "name": "index",
         "rawType": "int64",
         "type": "integer"
        },
        {
         "name": "iteration",
         "rawType": "int64",
         "type": "integer"
        },
        {
         "name": "experiment",
         "rawType": "object",
         "type": "string"
        },
        {
         "name": "agent",
         "rawType": "object",
         "type": "string"
        },
        {
         "name": "tools",
         "rawType": "object",
         "type": "string"
        },
        {
         "name": "accuracy",
         "rawType": "float64",
         "type": "float"
        }
       ],
       "ref": "9787abd4-2930-4aaa-9dd2-7f620cb0370a",
       "rows": [
        [
         "0",
         "1",
         "Implement Calculator Tool",
         "React agent",
         "Aritmetic",
         "0.0"
        ],
        [
         "1",
         "2",
         "Implement Search and Code tools",
         "React agent",
         "Aritmetic, Search, Code",
         "0.17"
        ],
        [
         "2",
         "3",
         "Integrate Whisper Audio Transcriber",
         "React agent",
         "Aritmetic, Search, Code, Audio Transcriber",
         "0.15"
        ],
        [
         "3",
         "4",
         "Test Workflow",
         "React agent",
         "Aritmetic, Search, Code, Audio Transcriber, ",
         "0.2"
        ]
       ],
       "shape": {
        "columns": 5,
        "rows": 4
       }
      },
      "text/html": [
       "<div>\n",
       "<style scoped>\n",
       "    .dataframe tbody tr th:only-of-type {\n",
       "        vertical-align: middle;\n",
       "    }\n",
       "\n",
       "    .dataframe tbody tr th {\n",
       "        vertical-align: top;\n",
       "    }\n",
       "\n",
       "    .dataframe thead th {\n",
       "        text-align: right;\n",
       "    }\n",
       "</style>\n",
       "<table border=\"1\" class=\"dataframe\">\n",
       "  <thead>\n",
       "    <tr style=\"text-align: right;\">\n",
       "      <th></th>\n",
       "      <th>iteration</th>\n",
       "      <th>experiment</th>\n",
       "      <th>agent</th>\n",
       "      <th>tools</th>\n",
       "      <th>accuracy</th>\n",
       "    </tr>\n",
       "  </thead>\n",
       "  <tbody>\n",
       "    <tr>\n",
       "      <th>0</th>\n",
       "      <td>1</td>\n",
       "      <td>Implement Calculator Tool</td>\n",
       "      <td>React agent</td>\n",
       "      <td>Aritmetic</td>\n",
       "      <td>0.00</td>\n",
       "    </tr>\n",
       "    <tr>\n",
       "      <th>1</th>\n",
       "      <td>2</td>\n",
       "      <td>Implement Search and Code tools</td>\n",
       "      <td>React agent</td>\n",
       "      <td>Aritmetic, Search, Code</td>\n",
       "      <td>0.17</td>\n",
       "    </tr>\n",
       "    <tr>\n",
       "      <th>2</th>\n",
       "      <td>3</td>\n",
       "      <td>Integrate Whisper Audio Transcriber</td>\n",
       "      <td>React agent</td>\n",
       "      <td>Aritmetic, Search, Code, Audio Transcriber</td>\n",
       "      <td>0.15</td>\n",
       "    </tr>\n",
       "    <tr>\n",
       "      <th>3</th>\n",
       "      <td>4</td>\n",
       "      <td>Test Workflow</td>\n",
       "      <td>React agent</td>\n",
       "      <td>Aritmetic, Search, Code, Audio Transcriber,</td>\n",
       "      <td>0.20</td>\n",
       "    </tr>\n",
       "  </tbody>\n",
       "</table>\n",
       "</div>"
      ],
      "text/plain": [
       "   iteration                           experiment        agent  \\\n",
       "0          1            Implement Calculator Tool  React agent   \n",
       "1          2      Implement Search and Code tools  React agent   \n",
       "2          3  Integrate Whisper Audio Transcriber  React agent   \n",
       "3          4                        Test Workflow  React agent   \n",
       "\n",
       "                                          tools  accuracy  \n",
       "0                                     Aritmetic      0.00  \n",
       "1                       Aritmetic, Search, Code      0.17  \n",
       "2    Aritmetic, Search, Code, Audio Transcriber      0.15  \n",
       "3  Aritmetic, Search, Code, Audio Transcriber,       0.20  "
      ]
     },
     "execution_count": 18,
     "metadata": {},
     "output_type": "execute_result"
    }
   ],
   "source": [
    "updated_experiments_data"
   ]
  },
  {
   "cell_type": "markdown",
   "id": "f705469a",
   "metadata": {},
   "source": [
    "### Evaluation Summary\n",
    "\n"
   ]
  },
  {
   "cell_type": "code",
   "execution_count": 19,
   "id": "71648634",
   "metadata": {},
   "outputs": [],
   "source": [
    "good_responses = results_df[results_df[\"is_correct\"] == 1].copy()\n",
    "good_extensions = (\n",
    "    good_responses[\"file_path\"]\n",
    "    .fillna(\"No files\")\n",
    "    .apply(lambda row: row.split(\".\")[-1] if \".\" in row else \"No files\")\n",
    "    .unique()\n",
    ")\n",
    "good_file_management = \", \".join(sorted(good_extensions))\n",
    "\n",
    "bad_responses = results_df[results_df[\"is_correct\"] == 0].copy()\n",
    "bad_extensions = (\n",
    "    bad_responses[\"file_path\"]\n",
    "    .fillna(\"No files\")\n",
    "    .apply(lambda row: row.split(\".\")[-1] if \".\" in row else \"No files\")\n",
    "    .unique()\n",
    ")\n",
    "bad_file_management = \", \".join(sorted(bad_extensions))\n",
    "\n",
    "performance_no_attached = results_df[results_df[\"file_path\"].apply(lambda row: len(row))==0][\"is_correct\"].mean()"
   ]
  },
  {
   "cell_type": "code",
   "execution_count": 20,
   "id": "1d29a298",
   "metadata": {},
   "outputs": [
    {
     "name": "stdout",
     "output_type": "stream",
     "text": [
      "Insights\n",
      "\n",
      " -------------------------------------------------- \n",
      "\n",
      "1. The Agent has an overall accuracy of 20.0%\n",
      "2. The Agent succeded at questions with the following files types: No files, mp3 (4/20) \n",
      "3. The Agent failed at questions with the following files types: No files, docx, py, txt, xlsx (16/20) \n",
      "4. The Agent has an Accuracy of 21.4% at tasks with no attached files\n"
     ]
    }
   ],
   "source": [
    "print(\n",
    "    \"Insights\\n\\n\",\n",
    "    \"-\" * 50,\n",
    "    f\"\\n\\n1. The Agent has an overall accuracy of {100 * accuracy:.1f}%\"\n",
    "    f\"\\n2. The Agent succeded at questions with the following files types: {good_file_management} ({good_responses.is_correct.shape[0]}/{results_df.shape[0]})\",\n",
    "    f\"\\n3. The Agent failed at questions with the following files types: {bad_file_management} ({bad_responses.is_correct.shape[0]}/{results_df.shape[0]})\",\n",
    "    f\"\\n4. The Agent has an Accuracy of {100 * performance_no_attached:.1f}% at tasks with no attached files\"\n",
    ")"
   ]
  },
  {
   "cell_type": "markdown",
   "id": "c4c9f4ff",
   "metadata": {},
   "source": [
    "Conclusions\n",
    "\n",
    "1. The Agent has a 15% of accuracy\n",
    "2. The agent has good performance at tasks involving audio files\n",
    "3. The agent has poor performance when it has to deal with .png, .pptx, .py, .txt, .xlsx files\n",
    "4. Reasoning task has a big margin of improvement (15% of success on reasoning tasks). There are some questions that ask for watching internet videos, so it might be necessary to implement tools to adress this kind of tasks\n",
    "\n",
    "Next steps\n",
    "\n",
    "1. Build tools to deal with .png, .pptx, .py, .txt, .xlsx files\n",
    "2. Investigate improvements for pure-resoning tasks\n",
    "3. Build tools to enable the agent watch / process youtube videos"
   ]
  },
  {
   "cell_type": "markdown",
   "id": "9e69ee21",
   "metadata": {},
   "source": [
    "\n",
    "### Main Questions to solve\n",
    "\n",
    "$\\square$ Which are the core tools for each level of questions \n",
    "  - Level 1:\n",
    "  - Level 2:\n",
    "  - Level 3:\n",
    "\n"
   ]
  },
  {
   "cell_type": "code",
   "execution_count": 35,
   "id": "2a79c85c",
   "metadata": {},
   "outputs": [],
   "source": [
    "temp_data = results_df[results_df[\"file_path\"].apply(lambda row: row.endswith('.mp3'))]\n",
    "fp = temp_data[\"file_path\"].iloc[0]\n",
    "question = temp_data[\"Question\"].iloc[0]\n",
    "\n",
    "prompt = f\"User request:\\n {question}\\n Attached files:{fp}\""
   ]
  },
  {
   "cell_type": "code",
   "execution_count": 36,
   "id": "c04fb406",
   "metadata": {},
   "outputs": [
    {
     "name": "stdout",
     "output_type": "stream",
     "text": [
      "User request:\n",
      " Hi, I'm making a pie but I could use some help with my shopping list. I have everything I need for the crust, but I'm not sure about the filling. I got the recipe from my friend Aditi, but she left it as a voice memo and the speaker on my phone is buzzing so I can't quite make out what she's saying. Could you please listen to the recipe and list all of the ingredients that my friend described? I only want the ingredients for the filling, as I have everything I need to make my favorite pie crust. I've attached the recipe as Strawberry pie.mp3.\n",
      "\n",
      "In your response, please only list the ingredients, not any measurements. So if the recipe calls for \"a pinch of salt\" or \"two cups of ripe strawberries\" the ingredients on the list would be \"salt\" and \"ripe strawberries\".\n",
      "\n",
      "Please format your response as a comma separated list of ingredients. Also, please alphabetize the ingredients.\n",
      " Attached files:/home/santiagoal/.cache/huggingface/hub/datasets--gaia-benchmark--GAIA/snapshots/897f2dfbb5c952b5c3c1509e648381f9c7b70316/2023/validation/99c9cc74-fdc8-46c6-8f8d-3ce2d3bfeea3.mp3\n"
     ]
    }
   ],
   "source": [
    "print(prompt)"
   ]
  },
  {
   "cell_type": "code",
   "execution_count": null,
   "id": "194fe564",
   "metadata": {},
   "outputs": [],
   "source": []
  }
 ],
 "metadata": {
  "kernelspec": {
   "display_name": "chappie-CHLGiFC_-py3.12",
   "language": "python",
   "name": "python3"
  },
  "language_info": {
   "codemirror_mode": {
    "name": "ipython",
    "version": 3
   },
   "file_extension": ".py",
   "mimetype": "text/x-python",
   "name": "python",
   "nbconvert_exporter": "python",
   "pygments_lexer": "ipython3",
   "version": "3.12.3"
  }
 },
 "nbformat": 4,
 "nbformat_minor": 5
}
